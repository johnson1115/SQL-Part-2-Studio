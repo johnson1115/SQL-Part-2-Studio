{
    "metadata": {
        "kernelspec": {
            "name": "SQL",
            "display_name": "SQL",
            "language": "sql"
        },
        "language_info": {
            "name": "sql",
            "version": ""
        },
        "extensions": {
            "azuredatastudio": {
                "version": 1,
                "views": []
            }
        }
    },
    "nbformat_minor": 2,
    "nbformat": 4,
    "cells": [
        {
            "cell_type": "markdown",
            "source": [
                "# Lesson 11: SQL Part 2 Studio\n",
                "\n",
                "> This studio asks you to create queries using the functions from this lesson. As you work through the studio, you may need to create more than one query to return the desired answer.  For others, you may need to combine functions together in order to answer the original query.  The questions have been organized in a way to help you puzzle out the answers.\n",
                "> \n",
                "> Happy querying! \n",
                "\n",
                "**The Dataset:**   \n",
                "\n",
                "> We will be working with the **BooksDB dataset** from Lesson 10.  You should already have access to it."
            ],
            "metadata": {
                "azdata_cell_guid": "bbaa021d-dbcb-4f90-a05f-f280d524589a"
            },
            "attachments": {}
        },
        {
            "cell_type": "markdown",
            "source": [
                "## The Questions:"
            ],
            "metadata": {
                "azdata_cell_guid": "bfc33995-70d4-4403-a870-39244e5e9727"
            }
        },
        {
            "cell_type": "markdown",
            "source": [
                "1.  Create a query that returns the longest title in the dataset.  We can do this in two steps.\n",
                "\n",
                "> A. Create a query that returns the length of the longest title.\n",
                "> \n",
                "> B. Create a query that uses the length you found in step A to find the longest title."
            ],
            "metadata": {
                "azdata_cell_guid": "29e63840-f200-4b1b-9239-4dc60a402c1d"
            },
            "attachments": {}
        },
        {
            "cell_type": "code",
            "source": [
                "-- Code here:\r\n",
                "SELECT TOP 10 LEN(title) AS 'Longest Title', title\r\n",
                "FROM BooksDB.dbo.books\r\n",
                "ORDER BY 'Longest Title' DESC;\r\n",
                ""
            ],
            "metadata": {
                "azdata_cell_guid": "fc1a211d-ea4e-446a-bbf8-e31499c50aba",
                "language": "sql"
            },
            "outputs": [
                {
                    "output_type": "display_data",
                    "data": {
                        "text/html": "(10 rows affected)"
                    },
                    "metadata": {}
                },
                {
                    "output_type": "display_data",
                    "data": {
                        "text/html": "Total execution time: 00:00:00.067"
                    },
                    "metadata": {}
                },
                {
                    "output_type": "execute_result",
                    "metadata": {},
                    "execution_count": 15,
                    "data": {
                        "application/vnd.dataresource+json": {
                            "schema": {
                                "fields": [
                                    {
                                        "name": "Longest Title"
                                    },
                                    {
                                        "name": "title"
                                    }
                                ]
                            },
                            "data": [
                                {
                                    "0": "186",
                                    "1": "Soccernomics: Why England Loses, Why Germany and Brazil Win, and Why the U.S., Japan, Australia, Turkey--and Even Iraq--Are Destined to Become the Kings of the World's Most Popular Sport"
                                },
                                {
                                    "0": "174",
                                    "1": "Bright Lights, Big Ass: A Self-Indulgent, Surly, Ex-Sorority Girl's Guide to Why It Often Sucks in the City, or Who Are These Idiots and Why Do They All Live Next Door to Me?"
                                },
                                {
                                    "0": "167",
                                    "1": "The Unofficial Harry Potter Cookbook: From Cauldron Cakes to Knickerbocker Glory--More Than 150 Magical Recipes for Wizards and Non-Wizards Alike (Unofficial Cookbook)"
                                },
                                {
                                    "0": "165",
                                    "1": "The Art Spirit: Notes, Articles, Fragments of Letters and Talks to Students, Bearing on the Concept and Technique of Picture Making, the Study of Art (Icon Editions)"
                                },
                                {
                                    "0": "163",
                                    "1": "Bitter Is the New Black: Confessions of a Condescending, Egomaniacal, Self-Centered Smartass, Or, Why You Should Never Carry A Prada Bag to the Unemployment Office"
                                },
                                {
                                    "0": "151",
                                    "1": "Julie and Julia: 365 Days, 524 Recipes, 1 Tiny Apartment Kitchen: How One Girl Risked Her Marriage, Her Job, and Her Sanity to Master the Art of Living"
                                },
                                {
                                    "0": "150",
                                    "1": "The Happiness Project: Or Why I Spent a Year Trying to Sing in the Morning, Clean My Closets, Fight Right, Read Aristotle, and Generally Have More Fun"
                                },
                                {
                                    "0": "148",
                                    "1": "The China Study: The Most Comprehensive Study of Nutrition Ever Conducted And the Startling Implications for Diet, Weight Loss, And Long-term Health"
                                },
                                {
                                    "0": "146",
                                    "1": "The Twilight Saga Breaking Dawn Part 1: The Official Illustrated Movie Companion (The Twilight Saga: The Official Illustrated Movie Companion, #4)"
                                },
                                {
                                    "0": "146",
                                    "1": "The Belgariad Boxed Set: Pawn of Prophecy / Queen of Sorcery / Magician's Gambit / Castle of Wizardry / Enchanters' End Game (The Belgariad, #1-5)"
                                }
                            ]
                        },
                        "text/html": [
                            "<table>",
                            "<tr><th>Longest Title</th><th>title</th></tr>",
                            "<tr><td>186</td><td>Soccernomics: Why England Loses, Why Germany and Brazil Win, and Why the U.S., Japan, Australia, Turkey--and Even Iraq--Are Destined to Become the Kings of the World's Most Popular Sport</td></tr>",
                            "<tr><td>174</td><td>Bright Lights, Big Ass: A Self-Indulgent, Surly, Ex-Sorority Girl's Guide to Why It Often Sucks in the City, or Who Are These Idiots and Why Do They All Live Next Door to Me?</td></tr>",
                            "<tr><td>167</td><td>The Unofficial Harry Potter Cookbook: From Cauldron Cakes to Knickerbocker Glory--More Than 150 Magical Recipes for Wizards and Non-Wizards Alike (Unofficial Cookbook)</td></tr>",
                            "<tr><td>165</td><td>The Art Spirit: Notes, Articles, Fragments of Letters and Talks to Students, Bearing on the Concept and Technique of Picture Making, the Study of Art (Icon Editions)</td></tr>",
                            "<tr><td>163</td><td>Bitter Is the New Black: Confessions of a Condescending, Egomaniacal, Self-Centered Smartass, Or, Why You Should Never Carry A Prada Bag to the Unemployment Office</td></tr>",
                            "<tr><td>151</td><td>Julie and Julia: 365 Days, 524 Recipes, 1 Tiny Apartment Kitchen: How One Girl Risked Her Marriage, Her Job, and Her Sanity to Master the Art of Living</td></tr>",
                            "<tr><td>150</td><td>The Happiness Project: Or Why I Spent a Year Trying to Sing in the Morning, Clean My Closets, Fight Right, Read Aristotle, and Generally Have More Fun</td></tr>",
                            "<tr><td>148</td><td>The China Study: The Most Comprehensive Study of Nutrition Ever Conducted And the Startling Implications for Diet, Weight Loss, And Long-term Health</td></tr>",
                            "<tr><td>146</td><td>The Twilight Saga Breaking Dawn Part 1: The Official Illustrated Movie Companion (The Twilight Saga: The Official Illustrated Movie Companion, #4)</td></tr>",
                            "<tr><td>146</td><td>The Belgariad Boxed Set: Pawn of Prophecy / Queen of Sorcery / Magician's Gambit / Castle of Wizardry / Enchanters' End Game (The Belgariad, #1-5)</td></tr>",
                            "</table>"
                        ]
                    }
                }
            ],
            "execution_count": 15
        },
        {
            "cell_type": "code",
            "source": [
                "SELECT  title\r\n",
                "FROM BooksDB.dbo.books\r\n",
                "WHERE LEN(title) = 186;"
            ],
            "metadata": {
                "azdata_cell_guid": "7c2598c8-52ee-4c65-b7ba-22c60c66a8be",
                "language": "sql"
            },
            "outputs": [
                {
                    "output_type": "display_data",
                    "data": {
                        "text/html": "(1 row affected)"
                    },
                    "metadata": {}
                },
                {
                    "output_type": "display_data",
                    "data": {
                        "text/html": "Total execution time: 00:00:00.064"
                    },
                    "metadata": {}
                },
                {
                    "output_type": "execute_result",
                    "metadata": {},
                    "execution_count": 17,
                    "data": {
                        "application/vnd.dataresource+json": {
                            "schema": {
                                "fields": [
                                    {
                                        "name": "title"
                                    }
                                ]
                            },
                            "data": [
                                {
                                    "0": "Soccernomics: Why England Loses, Why Germany and Brazil Win, and Why the U.S., Japan, Australia, Turkey--and Even Iraq--Are Destined to Become the Kings of the World's Most Popular Sport"
                                }
                            ]
                        },
                        "text/html": [
                            "<table>",
                            "<tr><th>title</th></tr>",
                            "<tr><td>Soccernomics: Why England Loses, Why Germany and Brazil Win, and Why the U.S., Japan, Australia, Turkey--and Even Iraq--Are Destined to Become the Kings of the World's Most Popular Sport</td></tr>",
                            "</table>"
                        ]
                    }
                }
            ],
            "execution_count": 17
        },
        {
            "cell_type": "markdown",
            "source": [
                "2.  Use what you learned in question 1 to find the shortest author name.  \n",
                "\n",
                "> A. Create a query that returns the length of the shortest author.\n",
                "> \n",
                "> B. Create a query that returns the shortest author's name."
            ],
            "metadata": {
                "azdata_cell_guid": "5de64491-7324-44ce-bda4-e22b07229854"
            },
            "attachments": {}
        },
        {
            "cell_type": "code",
            "source": [
                "-- Code here:\r\n",
                "SELECT TOP 10 LEN(authors) AS 'Shortest Name', authors\r\n",
                "FROM  BooksDB.dbo.books\r\n",
                "ORDER BY 'Shortest Name' ASC;"
            ],
            "metadata": {
                "azdata_cell_guid": "61423c75-cb55-470f-b062-a1901d3da67c",
                "language": "sql"
            },
            "outputs": [
                {
                    "output_type": "display_data",
                    "data": {
                        "text/html": "(10 rows affected)"
                    },
                    "metadata": {}
                },
                {
                    "output_type": "display_data",
                    "data": {
                        "text/html": "Total execution time: 00:00:00.052"
                    },
                    "metadata": {}
                },
                {
                    "output_type": "execute_result",
                    "metadata": {},
                    "execution_count": 18,
                    "data": {
                        "application/vnd.dataresource+json": {
                            "schema": {
                                "fields": [
                                    {
                                        "name": "Shortest Name"
                                    },
                                    {
                                        "name": "authors"
                                    }
                                ]
                            },
                            "data": [
                                {
                                    "0": "3",
                                    "1": "Avi"
                                },
                                {
                                    "0": "3",
                                    "1": "Avi"
                                },
                                {
                                    "0": "4",
                                    "1": "Zane"
                                },
                                {
                                    "0": "5",
                                    "1": "Tijan"
                                },
                                {
                                    "0": "5",
                                    "1": "Tijan"
                                },
                                {
                                    "0": "5",
                                    "1": "Tijan"
                                },
                                {
                                    "0": "5",
                                    "1": "Hafez"
                                },
                                {
                                    "0": "5",
                                    "1": "Tijan"
                                },
                                {
                                    "0": "5",
                                    "1": "Tijan"
                                },
                                {
                                    "0": "5",
                                    "1": "Hergé"
                                }
                            ]
                        },
                        "text/html": [
                            "<table>",
                            "<tr><th>Shortest Name</th><th>authors</th></tr>",
                            "<tr><td>3</td><td>Avi</td></tr>",
                            "<tr><td>3</td><td>Avi</td></tr>",
                            "<tr><td>4</td><td>Zane</td></tr>",
                            "<tr><td>5</td><td>Tijan</td></tr>",
                            "<tr><td>5</td><td>Tijan</td></tr>",
                            "<tr><td>5</td><td>Tijan</td></tr>",
                            "<tr><td>5</td><td>Hafez</td></tr>",
                            "<tr><td>5</td><td>Tijan</td></tr>",
                            "<tr><td>5</td><td>Tijan</td></tr>",
                            "<tr><td>5</td><td>Hergé</td></tr>",
                            "</table>"
                        ]
                    }
                }
            ],
            "execution_count": 18
        },
        {
            "cell_type": "code",
            "source": [
                "SELECT TOP 10 authors\r\n",
                "FROM BooksDB.dbo.books\r\n",
                "WHERE LEN(authors) = 3;"
            ],
            "metadata": {
                "azdata_cell_guid": "ad24e1a0-aaf0-4cd8-a891-e1374b4f1579",
                "language": "sql"
            },
            "outputs": [
                {
                    "output_type": "display_data",
                    "data": {
                        "text/html": "(2 rows affected)"
                    },
                    "metadata": {}
                },
                {
                    "output_type": "display_data",
                    "data": {
                        "text/html": "Total execution time: 00:00:00.049"
                    },
                    "metadata": {}
                },
                {
                    "output_type": "execute_result",
                    "metadata": {},
                    "execution_count": 19,
                    "data": {
                        "application/vnd.dataresource+json": {
                            "schema": {
                                "fields": [
                                    {
                                        "name": "authors"
                                    }
                                ]
                            },
                            "data": [
                                {
                                    "0": "Avi"
                                },
                                {
                                    "0": "Avi"
                                }
                            ]
                        },
                        "text/html": [
                            "<table>",
                            "<tr><th>authors</th></tr>",
                            "<tr><td>Avi</td></tr>",
                            "<tr><td>Avi</td></tr>",
                            "</table>"
                        ]
                    }
                }
            ],
            "execution_count": 19
        },
        {
            "cell_type": "markdown",
            "source": [
                "3\\. How many titles contain the word \"The\"?  \n",
                "\n",
                "> A. Is there a difference between the number of titles that use \"The\" or \"the\"? I ran both \"The %\" and \"the %\" and it didn't change the results of the out put."
            ],
            "metadata": {
                "azdata_cell_guid": "97f50346-9729-4d1b-926c-e1b53c5c5e68"
            },
            "attachments": {}
        },
        {
            "cell_type": "code",
            "source": [
                "-- Code here:\r\n",
                "SELECT title\r\n",
                "FROM BooksDB.dbo.books\r\n",
                "WHERE title LIKE 'The %';"
            ],
            "metadata": {
                "azdata_cell_guid": "f58433db-eb3b-46e0-bb4d-85ca52d359b5",
                "language": "sql"
            },
            "outputs": [
                {
                    "output_type": "display_data",
                    "data": {
                        "text/html": "(2832 rows affected)"
                    },
                    "metadata": {}
                },
                {
                    "output_type": "display_data",
                    "data": {
                        "text/html": "Total execution time: 00:00:00.224"
                    },
                    "metadata": {}
                },
                {
                    "output_type": "execute_result",
                    "metadata": {},
                    "execution_count": 31,
                    "data": {
                        "application/vnd.dataresource+json": {
                            "schema": {
                                "fields": [
                                    {
                                        "name": "title"
                                    }
                                ]
                            },
                            "data": [
                                {
                                    "0": "The Hunger Games (The Hunger Games, #1)"
                                },
                                {
                                    "0": "The Great Gatsby"
                                },
                                {
                                    "0": "The Fault in Our Stars"
                                },
                                {
                                    "0": "The Hobbit"
                                },
                                {
                                    "0": "The Catcher in the Rye"
                                },
                                {
                                    "0": "The Kite Runner"
                                },
                                {
                                    "0": "The Diary of a Young Girl"
                                },
                                {
                                    "0": "The Girl with the Dragon Tattoo (Millennium, #1)"
                                },
                                {
                                    "0": "The Fellowship of the Ring (The Lord of the Rings, #1)"
                                },
                                {
                                    "0": "The Lovely Bones"
                                },
                                {
                                    "0": "The Da Vinci Code (Robert Langdon, #2)"
                                },
                                {
                                    "0": "The Help"
                                },
                                {
                                    "0": "The Alchemist"
                                },
                                {
                                    "0": "The Giver (The Giver, #1)"
                                },
                                {
                                    "0": "The Lion, the Witch, and the Wardrobe (Chronicles of Narnia, #1)"
                                },
                                {
                                    "0": "The Time Traveler's Wife"
                                },
                                {
                                    "0": "The Lightning Thief (Percy Jackson and the Olympians, #1)"
                                },
                                {
                                    "0": "The Notebook (The Notebook, #1)"
                                },
                                {
                                    "0": "The Book Thief"
                                },
                                {
                                    "0": "The Hitchhiker's Guide to the Galaxy (Hitchhiker's Guide to the Galaxy, #1)"
                                },
                                {
                                    "0": "The Secret Life of Bees"
                                },
                                {
                                    "0": "The Adventures of Huckleberry Finn"
                                },
                                {
                                    "0": "The Curious Incident of the Dog in the Night-Time"
                                },
                                {
                                    "0": "The Girl on the Train"
                                },
                                {
                                    "0": "The Golden Compass (His Dark Materials, #1)"
                                },
                                {
                                    "0": "The Perks of Being a Wallflower"
                                },
                                {
                                    "0": "The Shining (The Shining #1)"
                                },
                                {
                                    "0": "The Host (The Host, #1)"
                                },
                                {
                                    "0": "The Devil Wears Prada (The Devil Wears Prada, #1)"
                                },
                                {
                                    "0": "The Odyssey"
                                },
                                {
                                    "0": "The Little Prince"
                                },
                                {
                                    "0": "The Glass Castle"
                                },
                                {
                                    "0": "The Giving Tree"
                                },
                                {
                                    "0": "The Princess Bride "
                                },
                                {
                                    "0": "The Outsiders"
                                },
                                {
                                    "0": "The Maze Runner (Maze Runner, #1)"
                                },
                                {
                                    "0": "The Secret Garden"
                                },
                                {
                                    "0": "The Picture of Dorian Gray"
                                },
                                {
                                    "0": "The Girl Who Played with Fire (Millennium, #2)"
                                },
                                {
                                    "0": "The Poisonwood Bible"
                                },
                                {
                                    "0": "The Count of Monte Cristo"
                                },
                                {
                                    "0": "The Road"
                                },
                                {
                                    "0": "The Memory Keeper's Daughter"
                                },
                                {
                                    "0": "The Adventures of Tom Sawyer"
                                },
                                {
                                    "0": "The Joy Luck Club"
                                },
                                {
                                    "0": "The Handmaid's Tale"
                                },
                                {
                                    "0": "The Sisterhood of the Traveling Pants (Sisterhood, #1)"
                                },
                                {
                                    "0": "The Firm (Penguin Readers, Level 5)"
                                },
                                {
                                    "0": "The Tipping Point: How Little Things Can Make a Big Difference"
                                },
                                {
                                    "0": "The Old Man and the Sea"
                                },
                                {
                                    "0": "The Grapes of Wrath"
                                },
                                {
                                    "0": "The Five People You Meet in Heaven"
                                },
                                {
                                    "0": "The Scarlet Letter"
                                },
                                {
                                    "0": "The Girl Who Kicked the Hornet's Nest (Millennium, #3)"
                                },
                                {
                                    "0": "The Martian"
                                },
                                {
                                    "0": "The Pillars of the Earth (The Kingsbridge Series, #1)"
                                },
                                {
                                    "0": "The Goldfinch"
                                },
                                {
                                    "0": "The Red Tent"
                                },
                                {
                                    "0": "The Sea of Monsters (Percy Jackson and the Olympians, #2)"
                                },
                                {
                                    "0": "The Two Towers (The Lord of the Rings, #2)"
                                },
                                {
                                    "0": "The Battle of the Labyrinth (Percy Jackson and the Olympians, #4)"
                                },
                                {
                                    "0": "The Return of the King (The Lord of the Rings, #3)"
                                },
                                {
                                    "0": "The Stranger"
                                },
                                {
                                    "0": "The Lost Hero (The Heroes of Olympus, #1)"
                                },
                                {
                                    "0": "The Stand"
                                },
                                {
                                    "0": "The Last Song"
                                },
                                {
                                    "0": "The Shack"
                                },
                                {
                                    "0": "The Last Olympian (Percy Jackson and the Olympians, #5)"
                                },
                                {
                                    "0": "The Bell Jar"
                                },
                                {
                                    "0": "The Night Circus"
                                },
                                {
                                    "0": "The Other Boleyn Girl (The Plantagenet and Tudor Novels, #9)"
                                },
                                {
                                    "0": "The Lord of the Rings (The Lord of the Rings, #1-3)"
                                },
                                {
                                    "0": "The Name of the Wind (The Kingkiller Chronicle, #1)"
                                },
                                {
                                    "0": "The Guernsey Literary and Potato Peel Pie Society"
                                },
                                {
                                    "0": "The Color Purple"
                                },
                                {
                                    "0": "The Lost Symbol (Robert Langdon, #3)"
                                },
                                {
                                    "0": "The Selection (The Selection, #1)"
                                },
                                {
                                    "0": "The Immortal Life of Henrietta Lacks"
                                },
                                {
                                    "0": "The Silence of the Lambs  (Hannibal Lecter, #2)"
                                },
                                {
                                    "0": "The Metamorphosis"
                                },
                                {
                                    "0": "The Titan's Curse (Percy Jackson and the Olympians, #3)"
                                },
                                {
                                    "0": "The Art of Racing in the Rain"
                                },
                                {
                                    "0": "The Devil in the White City: Murder, Magic, and Madness at the Fair That Changed America"
                                },
                                {
                                    "0": "The Chronicles of Narnia (Chronicles of Narnia, #1-7)"
                                },
                                {
                                    "0": "The Bourne Identity (Jason Bourne, #1)"
                                },
                                {
                                    "0": "The Client"
                                },
                                {
                                    "0": "The Nanny Diaries (Nanny, #1)"
                                },
                                {
                                    "0": "The Gunslinger (The Dark Tower, #1)"
                                },
                                {
                                    "0": "The Husband's Secret"
                                },
                                {
                                    "0": "The 7 Habits of Highly Effective People: Powerful Lessons in Personal Change"
                                },
                                {
                                    "0": "The Cat in the Hat"
                                },
                                {
                                    "0": "The Cuckoo's Calling (Cormoran Strike, #1)"
                                },
                                {
                                    "0": "The Shadow of the Wind (The Cemetery of Forgotten Books,  #1)"
                                },
                                {
                                    "0": "The Scorch Trials (Maze Runner, #2)"
                                },
                                {
                                    "0": "The Sun Also Rises"
                                },
                                {
                                    "0": "The Nightingale"
                                },
                                {
                                    "0": "The Godfather"
                                },
                                {
                                    "0": "The Ocean at the End of the Lane"
                                },
                                {
                                    "0": "The Pelican Brief"
                                },
                                {
                                    "0": "The Rosie Project (Don Tillman, #1)"
                                },
                                {
                                    "0": "The Lucky One"
                                },
                                {
                                    "0": "The Fountainhead"
                                },
                                {
                                    "0": "The Hunt for Red October (Jack Ryan Universe, #4)"
                                },
                                {
                                    "0": "The Voyage of the Dawn Treader (Chronicles of Narnia, #3)"
                                },
                                {
                                    "0": "The Son of Neptune (The Heroes of Olympus, #2)"
                                },
                                {
                                    "0": "The Very Hungry Caterpillar Board Book"
                                },
                                {
                                    "0": "The Time Machine"
                                },
                                {
                                    "0": "The Boy in the Striped Pajamas"
                                },
                                {
                                    "0": "The Secret (The Secret, #1)"
                                },
                                {
                                    "0": "The Wise Man's Fear (The Kingkiller Chronicle, #2)"
                                },
                                {
                                    "0": "The Thorn Birds"
                                },
                                {
                                    "0": "The Graveyard Book"
                                },
                                {
                                    "0": "The Light Between Oceans"
                                },
                                {
                                    "0": "The Unbearable Lightness of Being"
                                },
                                {
                                    "0": "The Last Lecture"
                                },
                                {
                                    "0": "The Eye of the World (Wheel of Time, #1)"
                                },
                                {
                                    "0": "The Pact"
                                },
                                {
                                    "0": "The Magician's Nephew (Chronicles of Narnia, #6)"
                                },
                                {
                                    "0": "The Ultimate Hitchhiker's Guide to the Galaxy"
                                },
                                {
                                    "0": "The Iliad"
                                },
                                {
                                    "0": "The Casual Vacancy"
                                },
                                {
                                    "0": "The Runaway Jury"
                                },
                                {
                                    "0": "The Wonderful Wizard of Oz (Oz, #1)"
                                },
                                {
                                    "0": "The Bad Beginning (A Series of Unfortunate Events, #1)"
                                },
                                {
                                    "0": "The Screwtape Letters"
                                },
                                {
                                    "0": "The Subtle Knife (His Dark Materials, #2)"
                                },
                                {
                                    "0": "The Red Pyramid (Kane Chronicles, #1)"
                                },
                                {
                                    "0": "The BFG"
                                },
                                {
                                    "0": "The Call of the Wild"
                                },
                                {
                                    "0": "The Death Cure (Maze Runner, #3)"
                                },
                                {
                                    "0": "The Namesake"
                                },
                                {
                                    "0": "The Crucible"
                                },
                                {
                                    "0": "The Final Empire (Mistborn, #1)"
                                },
                                {
                                    "0": "The Strange Case of Dr. Jekyll and Mr. Hyde"
                                },
                                {
                                    "0": "The Lorax"
                                },
                                {
                                    "0": "The Tales of Beedle the Bard"
                                },
                                {
                                    "0": "The Tell-Tale Heart and Other Writings"
                                },
                                {
                                    "0": "The Art of War"
                                },
                                {
                                    "0": "The New Drawing on the Right Side of the Brain"
                                },
                                {
                                    "0": "The Undomestic Goddess"
                                },
                                {
                                    "0": "The Five Love Languages: How to Express Heartfelt Commitment to Your Mate"
                                },
                                {
                                    "0": "The Three Musketeers"
                                },
                                {
                                    "0": "The Witches"
                                },
                                {
                                    "0": "The Thirteenth Tale"
                                },
                                {
                                    "0": "The Paris Wife"
                                },
                                {
                                    "0": "The Elite (The Selection, #2)"
                                },
                                {
                                    "0": "The Name of the Rose"
                                },
                                {
                                    "0": "The Importance of Being Earnest"
                                },
                                {
                                    "0": "The Mark of Athena (The Heroes of Olympus, #3)"
                                },
                                {
                                    "0": "The Color of Magic (Discworld, #1; Rincewind #1)"
                                },
                                {
                                    "0": "The God of Small Things"
                                },
                                {
                                    "0": "The Invention of Wings"
                                },
                                {
                                    "0": "The Purpose Driven Life: What on Earth Am I Here for?"
                                },
                                {
                                    "0": "The 5th Wave (The 5th Wave, #1)"
                                },
                                {
                                    "0": "The Historian"
                                },
                                {
                                    "0": "The Good Earth (House of Earth, #1)"
                                },
                                {
                                    "0": "The Hobbit: Graphic Novel"
                                },
                                {
                                    "0": "The Brief Wondrous Life of Oscar Wao"
                                },
                                {
                                    "0": "The God Delusion"
                                },
                                {
                                    "0": "The World According to Garp"
                                },
                                {
                                    "0": "The Prince"
                                },
                                {
                                    "0": "The Amber Spyglass (His Dark Materials, #3)"
                                },
                                {
                                    "0": "The Kitchen House"
                                },
                                {
                                    "0": "The Brothers Karamazov"
                                },
                                {
                                    "0": "The City of Ember (Book of Ember, #1)"
                                },
                                {
                                    "0": "The Andromeda Strain"
                                },
                                {
                                    "0": "The Green Mile"
                                },
                                {
                                    "0": "The Prophet"
                                },
                                {
                                    "0": "The Secret History"
                                },
                                {
                                    "0": "The Clan of the Cave Bear (Earth's Children, #1)"
                                },
                                {
                                    "0": "The Princess Diaries (The Princess Diaries, #1)"
                                },
                                {
                                    "0": "The No. 1 Ladies' Detective Agency  (No. 1 Ladies' Detective Agency, #1)"
                                },
                                {
                                    "0": "The Walking Dead, Vol. 01: Days Gone Bye"
                                },
                                {
                                    "0": "The One (The Selection, #3)"
                                },
                                {
                                    "0": "The Hunger Games Trilogy Boxset (The Hunger Games, #1-3)"
                                },
                                {
                                    "0": "The Great Hunt (Wheel of Time, #2)"
                                },
                                {
                                    "0": "The Complete Stories and Poems"
                                },
                                {
                                    "0": "The Hiding Place: The Triumphant True Story of Corrie Ten Boom"
                                },
                                {
                                    "0": "The Adventures of Sherlock Holmes"
                                },
                                {
                                    "0": "The Prince of Tides"
                                },
                                {
                                    "0": "The Amazing Adventures of Kavalier & Clay"
                                },
                                {
                                    "0": "The Wind-Up Bird Chronicle"
                                },
                                {
                                    "0": "The Lincoln Lawyer (Mickey Haller, #1; Harry Bosch Universe, #16)"
                                },
                                {
                                    "0": "The Things They Carried"
                                },
                                {
                                    "0": "The Dragon Reborn (Wheel of Time, #3)"
                                },
                                {
                                    "0": "The Power of Habit: Why We Do What We Do in Life and Business"
                                },
                                {
                                    "0": "The Truth About Forever"
                                },
                                {
                                    "0": "The Horse and His Boy (Chronicles of Narnia, #5)"
                                },
                                {
                                    "0": "The Velveteen Rabbit"
                                },
                                {
                                    "0": "The War of the Worlds"
                                },
                                {
                                    "0": "The Omnivore's Dilemma: A Natural History of Four Meals"
                                },
                                {
                                    "0": "The Rescue"
                                },
                                {
                                    "0": "The Virgin Suicides"
                                },
                                {
                                    "0": "The Phantom Tollbooth"
                                },
                                {
                                    "0": "The Way of Kings (The Stormlight Archive, #1)"
                                },
                                {
                                    "0": "The Well of Ascension (Mistborn, #2)"
                                },
                                {
                                    "0": "The Language of Flowers"
                                },
                                {
                                    "0": "The Angel Experiment (Maximum Ride, #1)"
                                },
                                {
                                    "0": "The Guardian"
                                },
                                {
                                    "0": "The Story of Art"
                                },
                                {
                                    "0": "The Magicians (The Magicians #1)"
                                },
                                {
                                    "0": "The Bourne Supremacy (Jason Bourne, #2)"
                                },
                                {
                                    "0": "The Absolutely True Diary of a Part-Time Indian"
                                },
                                {
                                    "0": "The Master and Margarita"
                                },
                                {
                                    "0": "The Rainmaker"
                                },
                                {
                                    "0": "The Restaurant at the End of the Universe (Hitchhiker's Guide, #2)"
                                },
                                {
                                    "0": "The Tale of Peter Rabbit"
                                },
                                {
                                    "0": "The Silver Chair (Chronicles of Narnia, #4)"
                                },
                                {
                                    "0": "The Hero of Ages (Mistborn, #3)"
                                },
                                {
                                    "0": "The Boys in the Boat: Nine Americans and Their Epic Quest for Gold at the 1936 Berlin Olympics"
                                },
                                {
                                    "0": "The Silmarillion (Middle-Earth Universe)"
                                },
                                {
                                    "0": "The Drawing of the Three (The Dark Tower, #2)"
                                },
                                {
                                    "0": "The Forgotten Garden"
                                },
                                {
                                    "0": "The Trial"
                                },
                                {
                                    "0": "The Hound of the Baskervilles"
                                },
                                {
                                    "0": "The Mists of Avalon (Avalon, #1)"
                                },
                                {
                                    "0": "The Polar Express"
                                },
                                {
                                    "0": "The True Story of the 3 Little Pigs"
                                },
                                {
                                    "0": "The Twilight Saga Breaking Dawn Part 1: The Official Illustrated Movie Companion (The Twilight Saga: The Official Illustrated Movie Companion, #4)"
                                },
                                {
                                    "0": "The Martian Chronicles"
                                },
                                {
                                    "0": "The Last Battle (Chronicles of Narnia, #7)"
                                },
                                {
                                    "0": "The Canterbury Tales"
                                },
                                {
                                    "0": "The Phantom of the Opera"
                                },
                                {
                                    "0": "The White Tiger"
                                },
                                {
                                    "0": "The Corrections"
                                },
                                {
                                    "0": "The Passage (The Passage, #1)"
                                },
                                {
                                    "0": "The House of the Spirits"
                                },
                                {
                                    "0": "The Dead Zone"
                                },
                                {
                                    "0": "The Mysterious Affair at Styles (Hercule Poirot, #1)"
                                },
                                {
                                    "0": "The Storied Life of A.J. Fikry"
                                },
                                {
                                    "0": "The House of Hades (The Heroes of Olympus, #4)"
                                },
                                {
                                    "0": "The Wedding (The Notebook, #2)"
                                },
                                {
                                    "0": "The Audacity of Hope: Thoughts on Reclaiming the American Dream"
                                },
                                {
                                    "0": "The Silkworm (Cormoran Strike, #2)"
                                },
                                {
                                    "0": "The Vampire Lestat (The Vampire Chronicles, #2)"
                                },
                                {
                                    "0": "The Silver Linings Playbook"
                                },
                                {
                                    "0": "The Constant Princess (The Plantagenet and Tudor Novels, #6)"
                                },
                                {
                                    "0": "The Hundred-Year-Old Man Who Climbed Out of the Window and Disappeared"
                                },
                                {
                                    "0": "The Cider House Rules"
                                },
                                {
                                    "0": "The Choice"
                                },
                                {
                                    "0": "The Hunger Games: Official Illustrated Movie Companion"
                                },
                                {
                                    "0": "The Sound and the Fury"
                                },
                                {
                                    "0": "The Shadow Rising (Wheel of Time, #4)"
                                },
                                {
                                    "0": "The Waste Lands (The Dark Tower, #3)"
                                },
                                {
                                    "0": "The Bone Collector (Lincoln Rhyme, #1)"
                                },
                                {
                                    "0": "The Reader"
                                },
                                {
                                    "0": "The Pearl"
                                },
                                {
                                    "0": "The Exorcist"
                                },
                                {
                                    "0": "The Short Second Life of Bree Tanner: An Eclipse Novella (Twilight, #3.5)"
                                },
                                {
                                    "0": "The Little House Collection (Little House, #1-9)"
                                },
                                {
                                    "0": "The Girls' Guide to Hunting and Fishing"
                                },
                                {
                                    "0": "The Power of Now: A Guide to Spiritual Enlightenment"
                                },
                                {
                                    "0": "The Lies of Locke Lamora (Gentleman Bastard, #1)"
                                },
                                {
                                    "0": "The Storyteller"
                                },
                                {
                                    "0": "The Iron King (The Iron Fey, #1)"
                                },
                                {
                                    "0": "The Bluest Eye"
                                },
                                {
                                    "0": "The White Queen (The Plantagenet and Tudor Novels, #2)"
                                },
                                {
                                    "0": "The Autobiography of Malcolm X"
                                },
                                {
                                    "0": "The Complete Sherlock Holmes"
                                },
                                {
                                    "0": "The Republic"
                                },
                                {
                                    "0": "The Taming of the Shrew"
                                },
                                {
                                    "0": "The Art Book"
                                },
                                {
                                    "0": "The Hunchback of Notre-Dame"
                                },
                                {
                                    "0": "The Awakening"
                                },
                                {
                                    "0": "The Four Agreements: A Practical Guide to Personal Freedom"
                                },
                                {
                                    "0": "The Complete Grimm's Fairy Tales"
                                },
                                {
                                    "0": "The Story of My Life"
                                },
                                {
                                    "0": "The Tempest"
                                },
                                {
                                    "0": "The Circle"
                                },
                                {
                                    "0": "The Invention of Hugo Cabret"
                                },
                                {
                                    "0": "The Good Girl"
                                },
                                {
                                    "0": "The Remains of the Day"
                                },
                                {
                                    "0": "The Best of Me"
                                },
                                {
                                    "0": "The Sense of an Ending"
                                },
                                {
                                    "0": "The Wind in the Willows"
                                },
                                {
                                    "0": "The DUFF: Designated Ugly Fat Friend"
                                },
                                {
                                    "0": "The Chamber"
                                },
                                {
                                    "0": "The Unlikely Pilgrimage of Harold Fry (Harold Fry, #1)"
                                },
                                {
                                    "0": "The Merchant of Venice"
                                },
                                {
                                    "0": "The Deep End of the Ocean (Cappadora Family, #1)"
                                },
                                {
                                    "0": "The Bonesetter's Daughter"
                                },
                                {
                                    "0": "The Westing Game"
                                },
                                {
                                    "0": "The Way of Shadows (Night Angel, #1)"
                                },
                                {
                                    "0": "The Bean Trees (Greer Family, #1)"
                                },
                                {
                                    "0": "The Fiery Cross (Outlander, #5)"
                                },
                                {
                                    "0": "The History of Love"
                                },
                                {
                                    "0": "The Elegance of the Hedgehog"
                                },
                                {
                                    "0": "The Plague"
                                },
                                {
                                    "0": "The Reptile Room (A Series of Unfortunate Events, #2)"
                                },
                                {
                                    "0": "The Neverending Story"
                                },
                                {
                                    "0": "The Jungle"
                                },
                                {
                                    "0": "The Summoning (Darkest Powers, #1)"
                                },
                                {
                                    "0": "The Man Who Mistook His Wife for a Hat and Other Clinical Tales"
                                },
                                {
                                    "0": "The Blind Assassin"
                                },
                                {
                                    "0": "The Girl with All the Gifts"
                                },
                                {
                                    "0": "The Year of Magical Thinking"
                                },
                                {
                                    "0": "The Queen of the Damned (The Vampire Chronicles, #3)"
                                },
                                {
                                    "0": "The Age of Innocence"
                                },
                                {
                                    "0": "The Selfish Gene"
                                },
                                {
                                    "0": "The Black Echo (Harry Bosch, #1; Harry Bosch Universe, #1)"
                                },
                                {
                                    "0": "The Tenth Circle"
                                },
                                {
                                    "0": "The Throne of Fire (Kane Chronicles, #2)"
                                },
                                {
                                    "0": "The Joy of Cooking"
                                },
                                {
                                    "0": "The Forever War (The Forever War, #1)"
                                },
                                {
                                    "0": "The Blade Itself (The First Law, #1)"
                                },
                                {
                                    "0": "The Arctic Incident (Artemis Fowl, #2)"
                                },
                                {
                                    "0": "The Shipping News"
                                },
                                {
                                    "0": "The Life-Changing Magic of Tidying Up: The Japanese Art of Decluttering and Organizing"
                                },
                                {
                                    "0": "The Alchemyst (The Secrets of the Immortal Nicholas Flamel, #1)"
                                },
                                {
                                    "0": "The Marriage Plot"
                                },
                                {
                                    "0": "The Raven Boys (The Raven Cycle, #1)"
                                },
                                {
                                    "0": "The Edge of Never (The Edge of Never, #1)"
                                },
                                {
                                    "0": "The Hours"
                                },
                                {
                                    "0": "The Kill Order (Maze Runner, #0.5)"
                                },
                                {
                                    "0": "The Fires of Heaven (Wheel of Time, #5)"
                                },
                                {
                                    "0": "The Dark Tower (The Dark Tower, #7)"
                                },
                                {
                                    "0": "The Complete Anne of Green Gables Boxed Set (Anne of Green Gables, #1-8)"
                                },
                                {
                                    "0": "The Gathering Storm (Wheel of Time, #12)"
                                },
                                {
                                    "0": "The Partner"
                                },
                                {
                                    "0": "The Dark Half"
                                },
                                {
                                    "0": "The World Is Flat: A Brief History of the Twenty-first Century"
                                },
                                {
                                    "0": "The Rainbow Fish"
                                },
                                {
                                    "0": "The Happiness Project: Or Why I Spent a Year Trying to Sing in the Morning, Clean My Closets, Fight Right, Read Aristotle, and Generally Have More Fun"
                                },
                                {
                                    "0": "The Man in the High Castle"
                                },
                                {
                                    "0": "The Alienist (Dr. Laszlo Kreizler, #1)"
                                },
                                {
                                    "0": "The Big Short: Inside the Doomsday Machine"
                                },
                                {
                                    "0": "The Girl Who Loved Tom Gordon"
                                },
                                {
                                    "0": "The Day of the Jackal"
                                },
                                {
                                    "0": "The Twilight Saga (Twilight, #1-4)"
                                },
                                {
                                    "0": "The Unbecoming of Mara Dyer (Mara Dyer, #1)"
                                },
                                {
                                    "0": "The Scarlet Pimpernel"
                                },
                                {
                                    "0": "The Monster at the End of this Book"
                                },
                                {
                                    "0": "The Dinner"
                                },
                                {
                                    "0": "The Power of Six (Lorien Legacies, #2)"
                                },
                                {
                                    "0": "The Interestings"
                                },
                                {
                                    "0": "The Essential Calvin and Hobbes: A Calvin and Hobbes Treasury"
                                },
                                {
                                    "0": "The Secret Keeper"
                                },
                                {
                                    "0": "The Surgeon (Rizzoli & Isles, #1)"
                                },
                                {
                                    "0": "The Girl You Left Behind"
                                },
                                {
                                    "0": "The Tale of Despereaux"
                                },
                                {
                                    "0": "The Sweetness at the Bottom of the Pie (Flavia de Luce, #1)"
                                },
                                {
                                    "0": "The Blood of Olympus (The Heroes of Olympus, #5)"
                                },
                                {
                                    "0": "The Art of Fielding"
                                },
                                {
                                    "0": "The Wide Window (A Series of Unfortunate Events, #3)"
                                },
                                {
                                    "0": "The Street Lawyer"
                                },
                                {
                                    "0": "The Idiot"
                                },
                                {
                                    "0": "The One and Only Ivan"
                                },
                                {
                                    "0": "The Perfect Storm: A True Story of Men Against the Sea"
                                },
                                {
                                    "0": "The Knife of Never Letting Go (Chaos Walking, #1)"
                                },
                                {
                                    "0": "The Zombie Survival Guide: Complete Protection from the Living Dead"
                                },
                                {
                                    "0": "The Testament"
                                },
                                {
                                    "0": "The Witch of Blackbird Pond"
                                },
                                {
                                    "0": "The Heir (The Selection, #4)"
                                },
                                {
                                    "0": "The Woman in White"
                                },
                                {
                                    "0": "The Summer I Turned Pretty (Summer, #1)"
                                },
                                {
                                    "0": "The Color of Water: A Black Man's Tribute to His White Mother"
                                },
                                {
                                    "0": "The Sirens of Titan"
                                },
                                {
                                    "0": "The Nest"
                                },
                                {
                                    "0": "The Celestine Prophecy (Celestine Prophecy, #1)"
                                },
                                {
                                    "0": "The Longest Ride"
                                },
                                {
                                    "0": "The Great Divorce"
                                },
                                {
                                    "0": "The Complete Fairy Tales"
                                },
                                {
                                    "0": "The Immortals of Meluha (Shiva Trilogy, #1)"
                                },
                                {
                                    "0": "The Lost World (Jurassic Park, #2)"
                                },
                                {
                                    "0": "The History of the Hobbit, Part One: Mr. Baggins"
                                },
                                {
                                    "0": "The Amityville Horror"
                                },
                                {
                                    "0": "The English Patient"
                                },
                                {
                                    "0": "The Eternity Code (Artemis Fowl, #3)"
                                },
                                {
                                    "0": "The Tommyknockers"
                                },
                                {
                                    "0": "The Psychopath Test: A Journey Through the Madness Industry"
                                },
                                {
                                    "0": "The Time Keeper"
                                },
                                {
                                    "0": "The Amulet of Samarkand (Bartimaeus, #1)"
                                },
                                {
                                    "0": "The One Minute Manager"
                                },
                                {
                                    "0": "The Big Sleep (Philip Marlowe, #1)"
                                },
                                {
                                    "0": "The Miserable Mill (A Series of Unfortunate Events, #4)"
                                },
                                {
                                    "0": "The Snow Child"
                                },
                                {
                                    "0": "The Last Straw (Diary of a Wimpy Kid, #3)"
                                },
                                {
                                    "0": "The Divine Comedy"
                                },
                                {
                                    "0": "The Tao of Pooh"
                                },
                                {
                                    "0": "The Birth of Venus"
                                },
                                {
                                    "0": "The Opal Deception  (Artemis Fowl, #4)"
                                },
                                {
                                    "0": "The Girl in the Spider's Web (Millennium, #4)"
                                },
                                {
                                    "0": "The Girls"
                                },
                                {
                                    "0": "The Goose Girl (The Books of Bayern, #1)"
                                },
                                {
                                    "0": "The Prince and the Pauper"
                                },
                                {
                                    "0": "The Moon is a Harsh Mistress"
                                },
                                {
                                    "0": "The Forty Rules of Love"
                                },
                                {
                                    "0": "The Glass Menagerie"
                                },
                                {
                                    "0": "The 4-Hour Workweek"
                                },
                                {
                                    "0": "The Monk Who Sold His Ferrari: A Fable About Fulfilling Your Dreams  Reaching Your Destiny"
                                },
                                {
                                    "0": "The Round House"
                                },
                                {
                                    "0": "The Alloy of Law (Mistborn, #4)"
                                },
                                {
                                    "0": "The Accidental Tourist"
                                },
                                {
                                    "0": "The Invisible Man"
                                },
                                {
                                    "0": "The Swiss Family Robinson  "
                                },
                                {
                                    "0": "The Marriage Bargain (Marriage to a Billionaire, #1)"
                                },
                                {
                                    "0": "The Little Engine That Could"
                                },
                                {
                                    "0": "The Witching Hour (Lives of the Mayfair Witches, #1)"
                                },
                                {
                                    "0": "The Coincidence of Callie & Kayden (The Coincidence, #1)"
                                },
                                {
                                    "0": "The Foundation Trilogy (Foundation, #1-3)"
                                },
                                {
                                    "0": "The Elegant Universe: Superstrings, Hidden Dimensions, and the Quest for the Ultimate Theory"
                                },
                                {
                                    "0": "The Austere Academy (A Series of Unfortunate Events, #5)"
                                },
                                {
                                    "0": "The Awakening (Darkest Powers, #2)"
                                },
                                {
                                    "0": "The Vile Village (A Series of Unfortunate Events, #7)"
                                },
                                {
                                    "0": "The Shell Seekers"
                                },
                                {
                                    "0": "The Lowland"
                                },
                                {
                                    "0": "The Ruins of Gorlan (Ranger's Apprentice, #1)"
                                },
                                {
                                    "0": "The Brethren"
                                },
                                {
                                    "0": "The Talisman (The Talisman, #1)"
                                },
                                {
                                    "0": "The Path of Daggers (Wheel of Time, #8)"
                                },
                                {
                                    "0": "The Dharma Bums"
                                },
                                {
                                    "0": "The Reckoning (Darkest Powers, #3)"
                                },
                                {
                                    "0": "The House on Mango Street"
                                },
                                {
                                    "0": "The Twits"
                                },
                                {
                                    "0": "The Beach House"
                                },
                                {
                                    "0": "The Eyes of the Dragon"
                                },
                                {
                                    "0": "The Snowy Day"
                                },
                                {
                                    "0": "The Hot Zone: The Terrifying True Story of the Origins of the Ebola Virus"
                                },
                                {
                                    "0": "The Signature of All Things"
                                },
                                {
                                    "0": "The Night Before Christmas"
                                },
                                {
                                    "0": "The Case for Christ"
                                },
                                {
                                    "0": "The Aeneid"
                                },
                                {
                                    "0": "The Long Walk"
                                },
                                {
                                    "0": "The Ersatz Elevator (A Series of Unfortunate Events, #6)"
                                },
                                {
                                    "0": "The Mysterious Benedict Society (The Mysterious Benedict Society, #1)"
                                },
                                {
                                    "0": "The Statistical Probability of Love at First Sight"
                                },
                                {
                                    "0": "The Golem's Eye (Bartimaeus, #2)"
                                },
                                {
                                    "0": "The Broker"
                                },
                                {
                                    "0": "The Road Less Traveled: A New Psychology of Love, Traditional Values, and Spiritual Growth"
                                },
                                {
                                    "0": "The Boxcar Children (The Boxcar Children, #1)"
                                },
                                {
                                    "0": "The Silent Wife"
                                },
                                {
                                    "0": "The Pilot's Wife"
                                },
                                {
                                    "0": "The Origin of Species"
                                },
                                {
                                    "0": "The Story of Edgar Sawtelle"
                                },
                                {
                                    "0": "The Complete Sherlock Holmes, Vol 2"
                                },
                                {
                                    "0": "The Last Unicorn (The Last Unicorn, #1)"
                                },
                                {
                                    "0": "The Likeness (Dublin Murder Squad, #2)"
                                },
                                {
                                    "0": "The Jungle Book"
                                },
                                {
                                    "0": "The Tiger's Wife"
                                },
                                {
                                    "0": "The Book of Mormon: Another Testament of Jesus Christ"
                                },
                                {
                                    "0": "The Mist"
                                },
                                {
                                    "0": "The Light Fantastic (Discworld, #2; Rincewind #2)"
                                },
                                {
                                    "0": "The Blind Side: Evolution of a Game"
                                },
                                {
                                    "0": "The Strange Case of Dr. Jekyll and Mr. Hyde and Other Tales of Terror"
                                },
                                {
                                    "0": "The Hunger Games Tribute Guide"
                                },
                                {
                                    "0": "The Warded Man (Demon Cycle, #1)"
                                },
                                {
                                    "0": "The Pilgrim's Progress"
                                },
                                {
                                    "0": "The Serpent's Shadow (Kane Chronicles, #3)"
                                },
                                {
                                    "0": "The House at Riverton"
                                },
                                {
                                    "0": "The Heart is a Lonely Hunter"
                                },
                                {
                                    "0": "The Infinite Sea (The 5th Wave, #2)"
                                },
                                {
                                    "0": "The Once and Future King (The Once and Future King #1-4)"
                                },
                                {
                                    "0": "The Indian in the Cupboard (The Indian in the Cupboard, #1)"
                                },
                                {
                                    "0": "The Ugly Truth (Diary of a Wimpy Kid, #5)"
                                },
                                {
                                    "0": "The Professor and the Madman: A Tale of Murder, Insanity and the Making of the Oxford English Dictionary"
                                },
                                {
                                    "0": "The Complete Maus (Maus, #1-2)"
                                },
                                {
                                    "0": "The Eyre Affair (Thursday Next, #1)"
                                },
                                {
                                    "0": "The Art of Happiness"
                                },
                                {
                                    "0": "The Bone Clocks"
                                },
                                {
                                    "0": "The Last Juror"
                                },
                                {
                                    "0": "The Miniaturist"
                                },
                                {
                                    "0": "The Lost Colony (Artemis Fowl, #5)"
                                },
                                {
                                    "0": "The Burning Bridge (Ranger's Apprentice, #2)"
                                },
                                {
                                    "0": "The Book of Life (All Souls Trilogy, #3)"
                                },
                                {
                                    "0": "The Artist's Way: A Spiritual Path to Higher Creativity"
                                },
                                {
                                    "0": "The Stinky Cheese Man and Other Fairly Stupid Tales"
                                },
                                {
                                    "0": "The Year of the Flood  (MaddAddam, #2)"
                                },
                                {
                                    "0": "The King of Torts"
                                },
                                {
                                    "0": "The 3 Mistakes of My Life"
                                },
                                {
                                    "0": "The Murder of Roger Ackroyd (Hercule Poirot, #4)"
                                },
                                {
                                    "0": "The Lean Startup: How Today's Entrepreneurs Use Continuous Innovation to Create Radically Successful Businesses"
                                },
                                {
                                    "0": "The Golden Lily (Bloodlines, #2)"
                                },
                                {
                                    "0": "The Stand: Captain Trips"
                                },
                                {
                                    "0": "The Rise and Fall of the Third Reich: A History of Nazi Germany"
                                },
                                {
                                    "0": "The Communist Manifesto"
                                },
                                {
                                    "0": "The Woman in Cabin 10"
                                },
                                {
                                    "0": "The Last of the Mohicans (The Leatherstocking Tales #2)"
                                },
                                {
                                    "0": "The Iron Daughter"
                                },
                                {
                                    "0": "The Prayer of Jabez:  Breaking Through to the Blessed Life"
                                },
                                {
                                    "0": "The Age of Miracles"
                                },
                                {
                                    "0": "The Rosie Effect (Don Tillman, #2)"
                                },
                                {
                                    "0": "The Secret of the Nagas (Shiva Trilogy #2)"
                                },
                                {
                                    "0": "The Walking Dead, Compendium 1"
                                },
                                {
                                    "0": "The Memoirs of Sherlock Holmes"
                                },
                                {
                                    "0": "The Orphan Master's Son"
                                },
                                {
                                    "0": "The Complete Persepolis"
                                },
                                {
                                    "0": "The Chosen"
                                },
                                {
                                    "0": "The Agony and the Ecstasy"
                                },
                                {
                                    "0": "The Angel's Game (The Cemetery of Forgotten Books, #2)"
                                },
                                {
                                    "0": "The Golem and the Jinni (The Golem and the Jinni, #1)"
                                },
                                {
                                    "0": "The Slippery Slope (A Series of Unfortunate Events, #10)"
                                },
                                {
                                    "0": "The Boston Girl"
                                },
                                {
                                    "0": "The Fall of Hyperion (Hyperion Cantos, #2)"
                                },
                                {
                                    "0": "The Black Dahlia (L.A. Quartet, #1)"
                                },
                                {
                                    "0": "The Strain (The Strain Trilogy, #1)"
                                },
                                {
                                    "0": "The Complete Poems of Emily Dickinson"
                                },
                                {
                                    "0": "The Borrowers (The Borrowers, #1)"
                                },
                                {
                                    "0": "The Queen's Fool (The Plantagenet and Tudor Novels, #12)"
                                },
                                {
                                    "0": "The Battle for Skandia (Ranger's Apprentice, #4)"
                                },
                                {
                                    "0": "The Darkest Minds (The Darkest Minds, #1)"
                                },
                                {
                                    "0": "The Zahir"
                                },
                                {
                                    "0": "The Power of Positive Thinking"
                                },
                                {
                                    "0": "The House of Mirth"
                                },
                                {
                                    "0": "The Slow Regard of Silent Things (The Kingkiller Chronicle #2.5)"
                                },
                                {
                                    "0": "The Black Swan: The Impact of the Highly Improbable"
                                },
                                {
                                    "0": "The Twelve (The Passage, #2)"
                                },
                                {
                                    "0": "The Diamond Age: or, A Young Lady's Illustrated Primer"
                                },
                                {
                                    "0": "The Red Badge of Courage"
                                },
                                {
                                    "0": "The Witch Of Portobello"
                                },
                                {
                                    "0": "The Tale of the Body Thief (The Vampire Chronicles, #4)"
                                },
                                {
                                    "0": "The Camel Club (Camel Club, #1)"
                                },
                                {
                                    "0": "The Boleyn Inheritance (The Plantagenet and Tudor Novels, #10)"
                                },
                                {
                                    "0": "The Underground Railroad"
                                },
                                {
                                    "0": "The Iron Queen (The Iron Fey, #3)"
                                },
                                {
                                    "0": "The Racketeer"
                                },
                                {
                                    "0": "The House at Pooh Corner (Winnie-the-Pooh, #2)"
                                },
                                {
                                    "0": "The Black Prism (Lightbringer, #1)"
                                },
                                {
                                    "0": "The Mermaid Chair"
                                },
                                {
                                    "0": "The Carnivorous Carnival (A Series of Unfortunate Events, #9)"
                                },
                                {
                                    "0": "The Killer Angels (The Civil War Trilogy, #2)"
                                },
                                {
                                    "0": "The Island of Dr. Moreau"
                                },
                                {
                                    "0": "The Gift of the Magi"
                                },
                                {
                                    "0": "The Electric Kool-Aid Acid Test"
                                },
                                {
                                    "0": "The Left Hand of Darkness"
                                },
                                {
                                    "0": "The Beach"
                                },
                                {
                                    "0": "The Farthest Shore (Earthsea Cycle, #3)"
                                },
                                {
                                    "0": "The Power of One (The Power of One, #1)"
                                },
                                {
                                    "0": "The Maltese Falcon"
                                },
                                {
                                    "0": "The Story of Ferdinand"
                                },
                                {
                                    "0": "The Poet (Jack McEvoy, #1; Harry Bosch Universe, #5)"
                                },
                                {
                                    "0": "The Shoemaker's Wife"
                                },
                                {
                                    "0": "The Next Always (Inn BoonsBoro, #1)"
                                },
                                {
                                    "0": "The Twilight Saga Complete Collection  (Twilight, #1-4 + 3.5)"
                                },
                                {
                                    "0": "The Tombs of Atuan (Earthsea Cycle, #2)"
                                },
                                {
                                    "0": "The Sign of Four"
                                },
                                {
                                    "0": "The Mitten"
                                },
                                {
                                    "0": "The Magician (The Secrets of the Immortal Nicholas Flamel, #2)"
                                },
                                {
                                    "0": "The True Confessions of Charlotte Doyle"
                                },
                                {
                                    "0": "The Poky Little Puppy (A Little Golden Book)"
                                },
                                {
                                    "0": "The Call of the Wild/White Fang"
                                },
                                {
                                    "0": "The Friday Night Knitting Club (Friday Night Knitting Club, #1)"
                                },
                                {
                                    "0": "The Day of the Triffids"
                                },
                                {
                                    "0": "The Sisters Brothers"
                                },
                                {
                                    "0": "The Book of Ruth"
                                },
                                {
                                    "0": "The House of the Scorpion (Matteo Alacran, #1)"
                                },
                                {
                                    "0": "The Magician King (The Magicians, #2)"
                                },
                                {
                                    "0": "The Richest Man in Babylon"
                                },
                                {
                                    "0": "The Great Dune Trilogy  "
                                },
                                {
                                    "0": "The Jungle Books"
                                },
                                {
                                    "0": "The Dark Tower: The Gunslinger Born"
                                },
                                {
                                    "0": "The Lake House"
                                },
                                {
                                    "0": "The Fall of the House of Usher and Other Tales "
                                },
                                {
                                    "0": "The Paying Guests"
                                },
                                {
                                    "0": "The Kitchen God's Wife"
                                },
                                {
                                    "0": "The Rise of Nine (Lorien Legacies, #3)"
                                },
                                {
                                    "0": "The Second Summer of the Sisterhood (Sisterhood, #2)"
                                },
                                {
                                    "0": "The Wee Free Men (Discworld, #30; Tiffany Aching, #1)"
                                },
                                {
                                    "0": "The Long Dark Tea-Time of the Soul (Dirk Gently, #2)"
                                },
                                {
                                    "0": "The Desert Spear (Demon Cycle, #2)"
                                },
                                {
                                    "0": "The Man in the Brown Suit"
                                },
                                {
                                    "0": "The Summons"
                                },
                                {
                                    "0": "The Bonfire of the Vanities"
                                },
                                {
                                    "0": "The Redbreast (Harry Hole, #3)"
                                },
                                {
                                    "0": "The Love Dare"
                                },
                                {
                                    "0": "The Death and Life of Charlie St. Cloud"
                                },
                                {
                                    "0": "The Mortal Instruments Boxed Set: City of Bones; City of Ashes; City of Glass (The Mortal Instruments, #1-3)"
                                },
                                {
                                    "0": "The Time Paradox (Artemis Fowl, #6)"
                                },
                                {
                                    "0": "The Sky Is Everywhere"
                                },
                                {
                                    "0": "The Tenant of Wildfell Hall"
                                },
                                {
                                    "0": "The Black Stallion (The Black Stallion, #1)"
                                },
                                {
                                    "0": "The Grim Grotto (A Series of Unfortunate Events, #11)"
                                },
                                {
                                    "0": "The Dream Thieves (The Raven Cycle, #2)"
                                },
                                {
                                    "0": "The Portrait of a Lady"
                                },
                                {
                                    "0": "The Raven"
                                },
                                {
                                    "0": "The Yellow Wallpaper and Other Stories"
                                },
                                {
                                    "0": "The Calvin and Hobbes Tenth Anniversary Book"
                                },
                                {
                                    "0": "The Art Forger"
                                },
                                {
                                    "0": "The Running Man"
                                },
                                {
                                    "0": "The Crying of Lot 49"
                                },
                                {
                                    "0": "The Sword of Shannara (The Original Shannara Trilogy, #1)"
                                },
                                {
                                    "0": "The Awakening / The Struggle (The Vampire Diaries, #1-2)"
                                },
                                {
                                    "0": "The Scorpio Races"
                                },
                                {
                                    "0": "The Last Anniversary"
                                },
                                {
                                    "0": "The General's Daughter"
                                },
                                {
                                    "0": "The Hostile Hospital (A Series of Unfortunate Events, #8)"
                                },
                                {
                                    "0": "The Omen"
                                },
                                {
                                    "0": "The Innocent (Will Robie, #1)"
                                },
                                {
                                    "0": "The Hypnotist's Love Story"
                                },
                                {
                                    "0": "The Devil and Miss Prym (On the Seventh Day, #3)"
                                },
                                {
                                    "0": "The Kissing Hand"
                                },
                                {
                                    "0": "The Emperor of All Maladies: A Biography of Cancer"
                                },
                                {
                                    "0": "The Seven Spiritual Laws of Success: A Practical Guide to the Fulfillment of Your Dreams"
                                },
                                {
                                    "0": "The Vacationers"
                                },
                                {
                                    "0": "The Hangman's Daughter (The Hangman's Daughter, #1)"
                                },
                                {
                                    "0": "The Yiddish Policemen's Union"
                                },
                                {
                                    "0": "The Aviator's Wife"
                                },
                                {
                                    "0": "The Affair (Jack Reacher, #16)"
                                },
                                {
                                    "0": "The Elements of Style"
                                },
                                {
                                    "0": "The Turn of the Screw"
                                },
                                {
                                    "0": "The Mote in God's Eye"
                                },
                                {
                                    "0": "The Snowman (Harry Hole, #7)"
                                },
                                {
                                    "0": "The Spirit Catches You and You Fall Down: A Hmong Child, Her American Doctors, and the Collision of Two Cultures"
                                },
                                {
                                    "0": "The Indigo Spell (Bloodlines, #3)"
                                },
                                {
                                    "0": "The Doll's House (The Sandman #2)"
                                },
                                {
                                    "0": "The Lost Boy (Dave Pelzer #2)"
                                },
                                {
                                    "0": "The Associate"
                                },
                                {
                                    "0": "The Sandman: Overture"
                                },
                                {
                                    "0": "The Merry Adventures of Robin Hood"
                                },
                                {
                                    "0": "The Arabian Nights"
                                },
                                {
                                    "0": "The Caves of Steel (Robot #1)"
                                },
                                {
                                    "0": "The Mouse and the Motorcycle (Ralph S. Mouse, #1)"
                                },
                                {
                                    "0": "The Forest of Hands and Teeth (The Forest of Hands and Teeth, #1)"
                                },
                                {
                                    "0": "The Elfstones of Shannara  (The Original Shannara Trilogy, #2)"
                                },
                                {
                                    "0": "The Luminaries"
                                },
                                {
                                    "0": "The Wasp Factory"
                                },
                                {
                                    "0": "The Evolution of Mara Dyer (Mara Dyer, #2)"
                                },
                                {
                                    "0": "The Sword of Summer (Magnus Chase and the Gods of Asgard, #1)"
                                },
                                {
                                    "0": "The Man in the Iron Mask (The D'Artagnan Romances, #3.3)"
                                },
                                {
                                    "0": "The Haunting of Hill House"
                                },
                                {
                                    "0": "The Rum Diary"
                                },
                                {
                                    "0": "The Bourne Ultimatum (Jason Bourne, #3)"
                                },
                                {
                                    "0": "The Young Elites (The Young Elites, #1)"
                                },
                                {
                                    "0": "The Interpretation of Dreams"
                                },
                                {
                                    "0": "The Penultimate Peril (A Series of Unfortunate Events, #12)"
                                },
                                {
                                    "0": "The End (A Series of Unfortunate Events, #13)"
                                },
                                {
                                    "0": "The Liars' Club"
                                },
                                {
                                    "0": "The Illustrated Man"
                                },
                                {
                                    "0": "The Runaway Bunny"
                                },
                                {
                                    "0": "The Grand Design"
                                },
                                {
                                    "0": "The Innocent Man: Murder and Injustice in a Small Town"
                                },
                                {
                                    "0": "The Bachman Books"
                                },
                                {
                                    "0": "The Art of Hearing Heartbeats"
                                },
                                {
                                    "0": "The Magic of Thinking Big"
                                },
                                {
                                    "0": "The Vampire Armand (The Vampire Chronicles, #6)"
                                },
                                {
                                    "0": "The Power of a Praying Wife"
                                },
                                {
                                    "0": "The Hour I First Believed"
                                },
                                {
                                    "0": "The Death of Ivan Ilych"
                                },
                                {
                                    "0": "The Dovekeepers"
                                },
                                {
                                    "0": "The Republic of Thieves (Gentleman Bastard, #3)"
                                },
                                {
                                    "0": "The Thief Lord"
                                },
                                {
                                    "0": "The Bridges of Madison County"
                                },
                                {
                                    "0": "The Sorceress (The Secrets of the Immortal Nicholas Flamel, #3)"
                                },
                                {
                                    "0": "The Maze of Bones  (The 39 Clues, #1)"
                                },
                                {
                                    "0": "The Twilight Collection (Twilight, #1-3)"
                                },
                                {
                                    "0": "The Fall"
                                },
                                {
                                    "0": "The Moonstone"
                                },
                                {
                                    "0": "The Gifts of Imperfection: Let Go of Who You Think You're Supposed to Be and Embrace Who You Are"
                                },
                                {
                                    "0": "The Van Alen Legacy (Blue Bloods, #4)"
                                },
                                {
                                    "0": "The Year of Living Biblically: One Man's Humble Quest to Follow the Bible as Literally as Possible"
                                },
                                {
                                    "0": "The One & Only"
                                },
                                {
                                    "0": "The Valley of Horses (Earth's Children, #2)"
                                },
                                {
                                    "0": "The Oedipus Cycle: Oedipus Rex/Oedipus at Colonus/Antigone (The Theban Plays, #1–3)"
                                },
                                {
                                    "0": "The Woods"
                                },
                                {
                                    "0": "The Litigators"
                                },
                                {
                                    "0": "The Miraculous Journey of Edward Tulane"
                                },
                                {
                                    "0": "The Last Letter from Your Lover"
                                },
                                {
                                    "0": "The House Girl"
                                },
                                {
                                    "0": "The Third Wheel (Diary of a Wimpy Kid, #7)"
                                },
                                {
                                    "0": "The Body Farm (Kay Scarpetta, #5)"
                                },
                                {
                                    "0": "The Boy Next Door (Boy, #1)"
                                },
                                {
                                    "0": "The Epic of Gilgamesh"
                                },
                                {
                                    "0": "The Luxe (Luxe, #1)"
                                },
                                {
                                    "0": "The Complete Tales"
                                },
                                {
                                    "0": "The Qur'an / القرآن الكريم"
                                },
                                {
                                    "0": "The Darkest Night (Lords of the Underworld #1)"
                                },
                                {
                                    "0": "The Lacuna"
                                },
                                {
                                    "0": "The Silver Star"
                                },
                                {
                                    "0": "The Hotel New Hampshire"
                                },
                                {
                                    "0": "The Laughing Corpse (Anita Blake, Vampire Hunter, #2)"
                                },
                                {
                                    "0": "The Stand: Soul Survivors"
                                },
                                {
                                    "0": "The Sneetches and Other Stories"
                                },
                                {
                                    "0": "The Harry Potter Collection 1-4 (Harry Potter, #1-4)"
                                },
                                {
                                    "0": "The Windup Girl"
                                },
                                {
                                    "0": "The Importance of Being Earnest and Other Plays"
                                },
                                {
                                    "0": "The Letters of Vincent van Gogh"
                                },
                                {
                                    "0": "The Lost City of Z: A Tale of Deadly Obsession in the Amazon"
                                },
                                {
                                    "0": "The Magicians' Guild (Black Magician Trilogy, #1)"
                                },
                                {
                                    "0": "The Necromancer  (The Secrets of the Immortal Nicholas Flamel, #4)"
                                },
                                {
                                    "0": "The Book of Three (The Chronicles of Prydain, #1)"
                                },
                                {
                                    "0": "The Goal: A Process of Ongoing Improvement"
                                },
                                {
                                    "0": "The Jane Austen Book Club"
                                },
                                {
                                    "0": "The Children Act"
                                },
                                {
                                    "0": "The Iliad/The Odyssey"
                                },
                                {
                                    "0": "The Wishing Spell (The Land of Stories, #1)"
                                },
                                {
                                    "0": "The 19th Wife"
                                },
                                {
                                    "0": "The Secret of Ella and Micha (The Secret, #1)"
                                },
                                {
                                    "0": "The Yellow Wall-Paper"
                                },
                                {
                                    "0": "The Time Machine/The Invisible Man"
                                },
                                {
                                    "0": "The Blinding Knife (Lightbringer, #2)"
                                },
                                {
                                    "0": "The Icebound Land (Ranger's Apprentice, #3)"
                                },
                                {
                                    "0": "The Grownup"
                                },
                                {
                                    "0": "The Oath of the Vayuputras (Shiva Trilogy, #3)"
                                },
                                {
                                    "0": "The Cat in the Hat and Other Dr. Seuss Favorites"
                                },
                                {
                                    "0": "The Deal (Off-Campus, #1)"
                                },
                                {
                                    "0": "The Crown (The Selection, #5)"
                                },
                                {
                                    "0": "The Six Wives of Henry VIII"
                                },
                                {
                                    "0": "The Ghost Brigades (Old Man's War, #2)"
                                },
                                {
                                    "0": "The Lottery and Other Stories"
                                },
                                {
                                    "0": "The Odessa File"
                                },
                                {
                                    "0": "The Burgess Boys"
                                },
                                {
                                    "0": "The Complete Works"
                                },
                                {
                                    "0": "The Dispossessed"
                                },
                                {
                                    "0": "The Confession"
                                },
                                {
                                    "0": "The Couple Next Door"
                                },
                                {
                                    "0": "The Pillars of Creation (Sword of Truth, #7)"
                                },
                                {
                                    "0": "The Life We Bury"
                                },
                                {
                                    "0": "The Eagle Has Landed (Liam Devlin, #1)"
                                },
                                {
                                    "0": "The Lunatic Cafe (Anita Blake, Vampire Hunter #4)"
                                },
                                {
                                    "0": "The Demon-Haunted World: Science as a Candle in the Dark"
                                },
                                {
                                    "0": "The Black Cauldron (The Chronicles of Prydain #2)"
                                },
                                {
                                    "0": "The First Phone Call from Heaven"
                                },
                                {
                                    "0": "The A.B.C. Murders (Hercule Poirot, #13)"
                                },
                                {
                                    "0": "The Duke and I (Bridgertons, #1)"
                                },
                                {
                                    "0": "The Sum of All Fears (Jack Ryan Universe, #7)"
                                },
                                {
                                    "0": "The Good Neighbor"
                                },
                                {
                                    "0": "The Enemy (Jack Reacher, #8)"
                                },
                                {
                                    "0": "The Diving Bell and the Butterfly"
                                },
                                {
                                    "0": "The Life and Times of the Thunderbolt Kid"
                                },
                                {
                                    "0": "The Last Wish (The Witcher, #1)"
                                },
                                {
                                    "0": "The 5th Horseman (Women's Murder Club, #5)"
                                },
                                {
                                    "0": "The Pursuit of God"
                                },
                                {
                                    "0": "The Iron Knight (The Iron Fey, #4)"
                                },
                                {
                                    "0": "The Millennium Trilogy (Millennium Trilogy, #1-3)"
                                },
                                {
                                    "0": "The Butterfly Garden (The Collector #1)"
                                },
                                {
                                    "0": "The Inheritance of Loss"
                                },
                                {
                                    "0": "The Sorrows of Young Werther"
                                },
                                {
                                    "0": "The Girl of Fire and Thorns (Fire and Thorns, #1)"
                                },
                                {
                                    "0": "The Ask and the Answer (Chaos Walking, #2)"
                                },
                                {
                                    "0": "The Children of Húrin"
                                },
                                {
                                    "0": "The Total Money Makeover: A Proven Plan for Financial Fitness"
                                },
                                {
                                    "0": "The Magician's Land (The Magicians, #3)"
                                },
                                {
                                    "0": "The Trumpet of the Swan"
                                },
                                {
                                    "0": "The Millionaire Next Door: The Surprising Secrets of Americas Wealthy"
                                },
                                {
                                    "0": "The Lost Continent: Travels in Small Town America"
                                },
                                {
                                    "0": "The Player of Games (Culture, #2)"
                                },
                                {
                                    "0": "The Cricket in Times Square"
                                },
                                {
                                    "0": "The Five Dysfunctions of a Team: A Leadership Fable"
                                },
                                {
                                    "0": "The Mighty Storm (The Storm, #1)"
                                },
                                {
                                    "0": "The Song of Achilles"
                                },
                                {
                                    "0": "The Girl with the Lower Back Tattoo"
                                },
                                {
                                    "0": "The Bhagavad Gita"
                                },
                                {
                                    "0": "The New York Trilogy"
                                },
                                {
                                    "0": "The Killing Dance (Anita Blake, Vampire Hunter, #6)"
                                },
                                {
                                    "0": "The Watsons Go to Birmingham - 1963"
                                },
                                {
                                    "0": "The Immortal Rules (Blood of Eden, #1)"
                                },
                                {
                                    "0": "The Chaperone"
                                },
                                {
                                    "0": "The Regulators"
                                },
                                {
                                    "0": "The Botany of Desire: A Plant's-Eye View of the World"
                                },
                                {
                                    "0": "The Distant Hours"
                                },
                                {
                                    "0": "The Vincent Boys (The Vincent Boys, #1)"
                                },
                                {
                                    "0": "The Cask of Amontillado"
                                },
                                {
                                    "0": "The Legend of Sleepy Hollow (Graphic Novel)"
                                },
                                {
                                    "0": "The Witness"
                                },
                                {
                                    "0": "The Final Warning (Maximum Ride, #4)"
                                },
                                {
                                    "0": "The Fifth Witness (Mickey Haller, #5; Harry Bosch Universe, #20)"
                                },
                                {
                                    "0": "The Dragonbone Chair (Memory, Sorrow, and Thorn, #1)"
                                },
                                {
                                    "0": "The Queen of the Tearling (The Queen of the Tearling, #1)"
                                },
                                {
                                    "0": "The Fury / Dark Reunion (The Vampire Diaries, #3-4)"
                                },
                                {
                                    "0": "The Further Adventures of Sherlock Holmes: After Sir Arthur Conan Doyle (Classic Crime)"
                                },
                                {
                                    "0": "The Stranger"
                                },
                                {
                                    "0": "The Mammoth Hunters (Earth's Children, #3)"
                                },
                                {
                                    "0": "The Winds of War (The Henry Family, #1)"
                                },
                                {
                                    "0": "The Wind Through the Keyhole (The Dark Tower, #4.5)"
                                },
                                {
                                    "0": "The Last Kingdom (The Saxon Stories, #1)"
                                },
                                {
                                    "0": "The E-Myth Revisited: Why Most Small Businesses Don't Work and What to Do About It"
                                },
                                {
                                    "0": "The Keeper of Lost Causes (Department Q, #1)"
                                },
                                {
                                    "0": "The Demigod Files (Percy Jackson and the Olympians)"
                                },
                                {
                                    "0": "The Book of Lost Things"
                                },
                                {
                                    "0": "The Satanic Verses"
                                },
                                {
                                    "0": "The Beekeeper's Apprentice (Mary Russell, #1)"
                                },
                                {
                                    "0": "The Story of Babar"
                                },
                                {
                                    "0": "The Warlock (The Secrets of the Immortal Nicholas Flamel, #5)"
                                },
                                {
                                    "0": "The Imperfectionists"
                                },
                                {
                                    "0": "The Sea of Tranquility"
                                },
                                {
                                    "0": "The Transfer (Divergent, #0.1)"
                                },
                                {
                                    "0": "The Reluctant Fundamentalist"
                                },
                                {
                                    "0": "The False Prince (The Ascendance Trilogy #1)"
                                },
                                {
                                    "0": "The Waste Land and Other Poems"
                                },
                                {
                                    "0": "The Pit and the Pendulum"
                                },
                                {
                                    "0": "The Field Guide (The Spiderwick Chronicles, #1)"
                                },
                                {
                                    "0": "The 48 Laws of Power"
                                },
                                {
                                    "0": "The Winter Sea (Slains, #1)"
                                },
                                {
                                    "0": "The Sword Thief (The 39 Clues, #3)"
                                },
                                {
                                    "0": "The Pianist: The Extraordinary Story of One Man's Survival in Warsaw, 1939–45"
                                },
                                {
                                    "0": "The Picture of Dorian Gray: A Graphic Novel"
                                },
                                {
                                    "0": "The Buried Giant"
                                },
                                {
                                    "0": "The Legend of Sleepy Hollow and Other Stories"
                                },
                                {
                                    "0": "The Cross and the Switchblade"
                                },
                                {
                                    "0": "The Last Coyote (Harry Bosch, #4; Harry Bosch Universe, #4)"
                                },
                                {
                                    "0": "The Greatest Show on Earth: The Evidence for Evolution"
                                },
                                {
                                    "0": "The Greatest Salesman in the World"
                                },
                                {
                                    "0": "The Bronze Horseman (The Bronze Horseman, #1)"
                                },
                                {
                                    "0": "The Atlantis Gene (The Origin Mystery, #1)"
                                },
                                {
                                    "0": "The Red Queen (The Plantagenet and Tudor Novels, #3)"
                                },
                                {
                                    "0": "The Dog Stars"
                                },
                                {
                                    "0": "The Spy Who Came In from the Cold"
                                },
                                {
                                    "0": "The Pilgrimage"
                                },
                                {
                                    "0": "The Hard Way (Jack Reacher, #10)"
                                },
                                {
                                    "0": "The Incredible Journey"
                                },
                                {
                                    "0": "The Widow"
                                },
                                {
                                    "0": "The Black Circle (The 39 Clues, #5)"
                                },
                                {
                                    "0": "The Prince (The Selection, #0.5)"
                                },
                                {
                                    "0": "The Winner's Curse (The Winner's Trilogy, #1)"
                                },
                                {
                                    "0": "The Story of a New Name (The Neapolitan Novels #2)"
                                },
                                {
                                    "0": "The Thousand Autumns of Jacob de Zoet"
                                },
                                {
                                    "0": "The Silent Sister (Riley MacPherson, #1)"
                                },
                                {
                                    "0": "The Lost World (Professor Challenger, #1)"
                                },
                                {
                                    "0": "The Long Winter (Little House, #6)"
                                },
                                {
                                    "0": "The 21 Irrefutable Laws of Leadership: Follow Them and People Will Follow You"
                                },
                                {
                                    "0": "The Perfect Game (The Perfect Game, #1)"
                                },
                                {
                                    "0": "The 6th Target (Women's Murder Club, #6)"
                                },
                                {
                                    "0": "The Black Ice (Harry Bosch, #2; Harry Bosch Universe, #2)"
                                },
                                {
                                    "0": "The Sweet Far Thing (Gemma Doyle, #3)"
                                },
                                {
                                    "0": "The Stranger Beside Me: Ted Bundy The Shocking Inside Story"
                                },
                                {
                                    "0": "The Other Side of Midnight (Midnight #1)"
                                },
                                {
                                    "0": "The Reversal (Harry Bosch, #16; Mickey Haller, #4; Harry Bosch Universe, #19)"
                                },
                                {
                                    "0": "The Invisible Bridge"
                                },
                                {
                                    "0": "The Fall of Five (Lorien Legacies, #4)"
                                },
                                {
                                    "0": "The Mayor of Casterbridge"
                                },
                                {
                                    "0": "The Red Pony"
                                },
                                {
                                    "0": "The Devil's Star (Harry Hole, #5)"
                                },
                                {
                                    "0": "The Daylight War (Demon Cycle, #3)"
                                },
                                {
                                    "0": "The Appeal"
                                },
                                {
                                    "0": "The Woman Who Rides Like a Man (Song of the Lioness, #3)"
                                },
                                {
                                    "0": "The Kind Worth Killing"
                                },
                                {
                                    "0": "The Wrath and the Dawn (The Wrath and the Dawn, #1)"
                                },
                                {
                                    "0": "The Assassin's Blade (Throne of Glass, #0.1-0.5)"
                                },
                                {
                                    "0": "The Sparrow (The Sparrow, #1)"
                                },
                                {
                                    "0": "The Paper Magician (The Paper Magician Trilogy, #1)"
                                },
                                {
                                    "0": "The Brass Verdict (Harry Bosch, #14; Mickey Haller, #2; Harry Bosch Universe, #17)"
                                },
                                {
                                    "0": "The Two Princesses of Bamarre"
                                },
                                {
                                    "0": "The World of Winnie-the-Pooh (Winnie-the-Pooh, #1-2)"
                                },
                                {
                                    "0": "The Story of My Experiments With Truth"
                                },
                                {
                                    "0": "The Little Paris Bookshop"
                                },
                                {
                                    "0": "The Three-Body Problem (Remembrance of Earth’s Past, #1)"
                                },
                                {
                                    "0": "The Autobiography of Benjamin Franklin"
                                },
                                {
                                    "0": "The Reason for God: Belief in an Age of Skepticism"
                                },
                                {
                                    "0": "The Sins of the Father (The Clifton Chronicles, #2)"
                                },
                                {
                                    "0": "The Peach Keeper"
                                },
                                {
                                    "0": "The Napping House"
                                },
                                {
                                    "0": "The Short Drop (Gibson Vaughn, #1)"
                                },
                                {
                                    "0": "The Face on the Milk Carton (Janie Johnson, #1)"
                                },
                                {
                                    "0": "The Narrow Road to the Deep North"
                                },
                                {
                                    "0": "The Claiming of Sleeping Beauty (Sleeping Beauty, #1)"
                                },
                                {
                                    "0": "The Midwife: A Memoir of Birth, Joy, and Hard Times"
                                },
                                {
                                    "0": "The Awakening (The Vampire Diaries, #1)"
                                },
                                {
                                    "0": "The Red and the Black"
                                },
                                {
                                    "0": "The Virgin's Lover (The Plantagenet and Tudor Novels, #13)"
                                },
                                {
                                    "0": "The Road to the Dark Tower: Exploring Stephen King's Magnum Opus"
                                },
                                {
                                    "0": "The Fifth Elephant (Discworld, #24; City Watch, #5)"
                                },
                                {
                                    "0": "The Sorcerer in the North (Ranger's Apprentice, #5)"
                                },
                                {
                                    "0": "The Distance Between Us"
                                },
                                {
                                    "0": "The Cardinal of the Kremlin (Jack Ryan Universe, #5)"
                                },
                                {
                                    "0": "The Name of This Book Is Secret (Secret, #1)"
                                },
                                {
                                    "0": "The Husband"
                                },
                                {
                                    "0": "The Particular Sadness of Lemon Cake"
                                },
                                {
                                    "0": "The Big Bad Wolf  (Alex Cross, #9)"
                                },
                                {
                                    "0": "The Gods Themselves"
                                },
                                {
                                    "0": "The Viper's Nest (39 Clues, #7)"
                                },
                                {
                                    "0": "The League of Extraordinary Gentlemen, Vol. 1"
                                },
                                {
                                    "0": "The Demon King (Seven Realms, #1)"
                                },
                                {
                                    "0": "The End of Your Life Book Club"
                                },
                                {
                                    "0": "The Siege of Macindaw (Ranger's Apprentice, #6)"
                                },
                                {
                                    "0": "The Wright Brothers"
                                },
                                {
                                    "0": "The Matarese Circle (Matarese #1)"
                                },
                                {
                                    "0": "The Forgotten (John Puller, #2)"
                                },
                                {
                                    "0": "The Four Loves"
                                },
                                {
                                    "0": "The Lost Wife"
                                },
                                {
                                    "0": "The Testing (The Testing, #1)"
                                },
                                {
                                    "0": "The Boy Who Sneaks in My Bedroom Window"
                                },
                                {
                                    "0": "The Rules of Attraction"
                                },
                                {
                                    "0": "The Good, the Bad, and the Undead (The Hollows, #2)"
                                },
                                {
                                    "0": "The Crystal Shard (Forgotten Realms: Icewind Dale, #1; Legend of Drizzt, #4)"
                                },
                                {
                                    "0": "The Magus"
                                },
                                {
                                    "0": "The Templar Legacy (Cotton Malone, #1)"
                                },
                                {
                                    "0": "The Physick Book of Deliverance Dane"
                                },
                                {
                                    "0": "The Warmth of Other Suns: The Epic Story of America's Great Migration"
                                },
                                {
                                    "0": "The First Fifteen Lives of Harry August"
                                },
                                {
                                    "0": "The Prisoner of Heaven (The Cemetery of Forgotten Books, #3)"
                                },
                                {
                                    "0": "The Guns of August"
                                },
                                {
                                    "0": "The Monuments Men: Allied Heroes, Nazi Thieves, and the Greatest Treasure Hunt in History"
                                },
                                {
                                    "0": "The Girl Who Chased the Moon"
                                },
                                {
                                    "0": "The Secret Life of CeeCee Wilkes"
                                },
                                {
                                    "0": "The Kill Artist (Gabriel Allon, #1)"
                                },
                                {
                                    "0": "The Gashlycrumb Tinies (The Vinegar Works, #1)"
                                },
                                {
                                    "0": "The Long Earth (The Long Earth, #1)"
                                },
                                {
                                    "0": "The War of Art: Break Through the Blocks & Win Your Inner Creative Battles"
                                },
                                {
                                    "0": "The Complete Tales and Poems of Winnie-the-Pooh (Winnie-the-Pooh, #1-4)"
                                },
                                {
                                    "0": "The School for Good and Evil (The School for Good and Evil, #1)"
                                },
                                {
                                    "0": "The Secret Place (Dublin Murder Squad, #5)"
                                },
                                {
                                    "0": "The Coffin Dancer (Lincoln Rhyme, #2)"
                                },
                                {
                                    "0": "The Emperor's Code (The 39 Clues, #8)"
                                },
                                {
                                    "0": "The Complete Adventures of Curious George"
                                },
                                {
                                    "0": "The Drop (Harry Bosch, #17; Harry Bosch Universe, #21)"
                                },
                                {
                                    "0": "The Museum of Extraordinary Things"
                                },
                                {
                                    "0": "The Fifth Mountain"
                                },
                                {
                                    "0": "The Power of Myth"
                                },
                                {
                                    "0": "The Beginning of Everything"
                                },
                                {
                                    "0": "The Seat of the Soul"
                                },
                                {
                                    "0": "The Worst Hard Time: The Untold Story of Those Who Survived the Great American Dust Bowl"
                                },
                                {
                                    "0": "The Last Templar (Templar, #1)"
                                },
                                {
                                    "0": "The Book of Laughter and Forgetting"
                                },
                                {
                                    "0": "The Horse Whisperer"
                                },
                                {
                                    "0": "The Outlaw Demon Wails (The Hollows, #6)"
                                },
                                {
                                    "0": "The Diviners (The Diviners, #1)"
                                },
                                {
                                    "0": "The Spectacular Now"
                                },
                                {
                                    "0": "The Art of Loving"
                                },
                                {
                                    "0": "The Other Side of the Story"
                                },
                                {
                                    "0": "The Kiss of Deception (The Remnant Chronicles, #1)"
                                },
                                {
                                    "0": "The Weird Sisters"
                                },
                                {
                                    "0": "The Truth (Discworld, #25; Industrial Revolution, #2)"
                                },
                                {
                                    "0": "The Leftovers"
                                },
                                {
                                    "0": "The Mill on the Floss"
                                },
                                {
                                    "0": "The Blue Sword (Damar, #1)"
                                },
                                {
                                    "0": "The Poetry of Robert Frost (Collected Poems, Complete & Unabridged)"
                                },
                                {
                                    "0": "The Plains of Passage (Earth's Children, #4)"
                                },
                                {
                                    "0": "The Bookseller of Kabul"
                                },
                                {
                                    "0": "The Merchant of Death (Pendragon, #1)"
                                },
                                {
                                    "0": "The City & the City"
                                },
                                {
                                    "0": "The Last Command"
                                },
                                {
                                    "0": "The Emperor's Soul"
                                },
                                {
                                    "0": "The View from Saturday"
                                },
                                {
                                    "0": "The Secret of the Old Clock (Nancy Drew, #1)"
                                },
                                {
                                    "0": "The Story of Doctor Dolittle (Doctor Dolittle, #1)"
                                },
                                {
                                    "0": "The Lottery"
                                },
                                {
                                    "0": "The Alexandria Link (Cotton Malone, #2)"
                                },
                                {
                                    "0": "The Gathering (Darkness Rising, #1)"
                                },
                                {
                                    "0": "The Fiery Heart (Bloodlines, #4)"
                                },
                                {
                                    "0": "The Japanese Lover"
                                },
                                {
                                    "0": "The Hit (Will Robie, #2)"
                                },
                                {
                                    "0": "The Ice Princess (Patrik Hedström, #1)"
                                },
                                {
                                    "0": "The Last Colony (Old Man's War #3)"
                                },
                                {
                                    "0": "The Hero and the Crown (Damar, #2)"
                                },
                                {
                                    "0": "The Metamorphosis and Other Stories"
                                },
                                {
                                    "0": "The Space Between Us"
                                },
                                {
                                    "0": "The Right Stuff"
                                },
                                {
                                    "0": "The Tell-Tale Heart"
                                },
                                {
                                    "0": "The Moosewood Cookbook: Recipes from Moosewood Restaurant, Ithaca, New York"
                                },
                                {
                                    "0": "The Teachings of Don Juan: A Yaqui Way of Knowledge "
                                },
                                {
                                    "0": "The Sixth Man (Sean King & Michelle Maxwell, #5)"
                                },
                                {
                                    "0": "The Warrior Heir (The Heir Chronicles, #1)"
                                },
                                {
                                    "0": "The Problem of Pain"
                                },
                                {
                                    "0": "The Dark Is Rising (The Dark is Rising, #2)"
                                },
                                {
                                    "0": "The Door to December"
                                },
                                {
                                    "0": "The French Lieutenant's Woman"
                                },
                                {
                                    "0": "The Rime of the Ancient Mariner"
                                },
                                {
                                    "0": "The Paper Bag Princess"
                                },
                                {
                                    "0": "The People of Sparks (Book of Ember, #2)"
                                },
                                {
                                    "0": "The Bone Season (The Bone Season, #1)"
                                },
                                {
                                    "0": "The Source"
                                },
                                {
                                    "0": "The Search"
                                },
                                {
                                    "0": "The Raven and other poems"
                                },
                                {
                                    "0": "The Weight of Silence"
                                },
                                {
                                    "0": "The Quiet American"
                                },
                                {
                                    "0": "The Proposition (The Proposition, #1)"
                                },
                                {
                                    "0": "The High Lord (Black Magician Trilogy, #3)"
                                },
                                {
                                    "0": "The Valley of Amazement"
                                },
                                {
                                    "0": "The High King (The Chronicles of Prydain #5)"
                                },
                                {
                                    "0": "The Complete Short Stories"
                                },
                                {
                                    "0": "The Mummy (Ramses the Damned #1)"
                                },
                                {
                                    "0": "The Collector"
                                },
                                {
                                    "0": "The Orchardist"
                                },
                                {
                                    "0": "The Talismans of Shannara (Heritage of Shannara, #4)"
                                },
                                {
                                    "0": "The Atonement Child"
                                },
                                {
                                    "0": "The Far Pavilions"
                                },
                                {
                                    "0": "The Rithmatist (The Rithmatist, #1)"
                                },
                                {
                                    "0": "The Christmas Shoes (Christmas Hope #1)"
                                },
                                {
                                    "0": "The Snowball: Warren Buffett and the Business of Life"
                                },
                                {
                                    "0": "The Bride (Lairds' Fiancées, #1)"
                                },
                                {
                                    "0": "The Apprentice (Rizzoli & Isles, #2)"
                                },
                                {
                                    "0": "The Quickie"
                                },
                                {
                                    "0": "The Most Dangerous Game"
                                },
                                {
                                    "0": "The Essential Rumi"
                                },
                                {
                                    "0": "The Dead Girls' Dance (The Morganville Vampires, #2)"
                                },
                                {
                                    "0": "The Realms of the Gods (Immortals, #4)"
                                },
                                {
                                    "0": "The Lover's Dictionary"
                                },
                                {
                                    "0": "The Wishsong of Shannara (The Original Shannara Trilogy, #3)"
                                },
                                {
                                    "0": "The Darkest Kiss (Lords of the Underworld #2)"
                                },
                                {
                                    "0": "The Sugar Queen"
                                },
                                {
                                    "0": "The Concrete Blonde (Harry Bosch, #3; Harry Bosch Universe, #3)"
                                },
                                {
                                    "0": "The Warlord Wants Forever (Immortals After Dark #1)"
                                },
                                {
                                    "0": "The Island"
                                },
                                {
                                    "0": "The Devil's Arithmetic"
                                },
                                {
                                    "0": "The World Without Us"
                                },
                                {
                                    "0": "The Rumor"
                                },
                                {
                                    "0": "The Birth House"
                                },
                                {
                                    "0": "The Little Friend"
                                },
                                {
                                    "0": "The Book of Basketball: The NBA According to The Sports Guy"
                                },
                                {
                                    "0": "The Ripper (The Vampire Diaries: Stefan's Diaries, #4)"
                                },
                                {
                                    "0": "The Signal and the Noise: Why So Many Predictions Fail - But Some Don't"
                                },
                                {
                                    "0": "The Body in the Library (Miss Marple, #3)"
                                },
                                {
                                    "0": "The Lord of the Rings: The Art of The Fellowship of the Ring"
                                },
                                {
                                    "0": "The Story About Ping"
                                },
                                {
                                    "0": "The All-Girl Filling Station's Last Reunion"
                                },
                                {
                                    "0": "The Burden of Proof"
                                },
                                {
                                    "0": "The Stars My Destination"
                                },
                                {
                                    "0": "The Rise of Endymion (Hyperion Cantos, #4)"
                                },
                                {
                                    "0": "The Arrival"
                                },
                                {
                                    "0": "The Adventures of Tom Sawyer & Adventures of Huckleberry Finn"
                                },
                                {
                                    "0": "The Woman Upstairs"
                                },
                                {
                                    "0": "The Stupidest Angel: A Heartwarming Tale of Christmas Terror (Pine Cove, #3)"
                                },
                                {
                                    "0": "The Beautiful and Damned"
                                },
                                {
                                    "0": "The Painted Girls"
                                },
                                {
                                    "0": "The Bedwetter: Stories of Courage, Redemption, and Pee"
                                },
                                {
                                    "0": "The Talented Mr. Ripley (Ripley, #1)"
                                },
                                {
                                    "0": "The Shining Girls"
                                },
                                {
                                    "0": "The Zookeeper's Wife"
                                },
                                {
                                    "0": "The Mad Ship (Liveship Traders, #2)"
                                },
                                {
                                    "0": "The Iron Trial (Magisterium, #1)"
                                },
                                {
                                    "0": "The Carrie Diaries (The Carrie Diaries, #1)"
                                },
                                {
                                    "0": "The World of Divergent: The Path to Allegiant (Divergent, #2.5)"
                                },
                                {
                                    "0": "The Exploits of Sherlock Holmes"
                                },
                                {
                                    "0": "The Novice (Black Magician Trilogy, #2)"
                                },
                                {
                                    "0": "The Very Busy Spider"
                                },
                                {
                                    "0": "The River of Doubt: Theodore Roosevelt's Darkest Journey"
                                },
                                {
                                    "0": "The Hundred Secret Senses"
                                },
                                {
                                    "0": "The Gargoyle"
                                },
                                {
                                    "0": "The Fairy-Tale Detectives (The Sisters Grimm, #1)"
                                },
                                {
                                    "0": "The Philosophy of Andy Warhol (From A to B and Back Again)"
                                },
                                {
                                    "0": "The Lady and the Unicorn"
                                },
                                {
                                    "0": "The Shock of the Fall"
                                },
                                {
                                    "0": "The Heart Goes Last"
                                },
                                {
                                    "0": "The Coldest Girl in Coldtown"
                                },
                                {
                                    "0": "The Marriage of Opposites"
                                },
                                {
                                    "0": "The Atlantis Complex (Artemis Fowl, #7)"
                                },
                                {
                                    "0": "The Bands of Mourning (Mistborn, #6)"
                                },
                                {
                                    "0": "The Myth of Sisyphus and Other Essays"
                                },
                                {
                                    "0": "The Road Not Taken and Other Poems"
                                },
                                {
                                    "0": "The Little House"
                                },
                                {
                                    "0": "The Wizard Heir (The Heir Chronicles, #2)"
                                },
                                {
                                    "0": "The Mysterious Island (Extraordinary Voyages, #12)"
                                },
                                {
                                    "0": "The Lady of the Rivers (The Plantagenet and Tudor Novels, #1)"
                                },
                                {
                                    "0": "The Collectors (Camel Club, #2)"
                                },
                                {
                                    "0": "The Hitchhiker's Guide to the Galaxy: A Trilogy in Four Parts"
                                },
                                {
                                    "0": "The Last Continent (Discworld, #22; Rincewind #6)"
                                },
                                {
                                    "0": "The Winner"
                                },
                                {
                                    "0": "The Last Town (Wayward Pines, #3)"
                                },
                                {
                                    "0": "The Twelve Tribes of Hattie"
                                },
                                {
                                    "0": "The Taking"
                                },
                                {
                                    "0": "The Gambler"
                                },
                                {
                                    "0": "The Collected Poems"
                                },
                                {
                                    "0": "The Winter of Our Discontent"
                                },
                                {
                                    "0": "The Halfling's Gem (Forgotten Realms: Icewind Dale, #3; Legend of Drizzt, #6)"
                                },
                                {
                                    "0": "The Kindly Ones (The Sandman #9)"
                                },
                                {
                                    "0": "The Chrysalids"
                                },
                                {
                                    "0": "The Ugly Duckling"
                                },
                                {
                                    "0": "The Mastery of Love: A Practical Guide to the Art of Relationship --Toltec Wisdom Book"
                                },
                                {
                                    "0": "The End of the Affair"
                                },
                                {
                                    "0": "The Lathe of Heaven"
                                },
                                {
                                    "0": "The Histories"
                                },
                                {
                                    "0": "The Dante Club"
                                },
                                {
                                    "0": "The Shelters of Stone (Earth's Children, #5)"
                                },
                                {
                                    "0": "The Winner Stands Alone"
                                },
                                {
                                    "0": "The Body Finder (The Body Finder, #1)"
                                },
                                {
                                    "0": "The Enchantress (The Secrets of the Immortal Nicholas Flamel, #6)"
                                },
                                {
                                    "0": "The Buddha in the Attic"
                                },
                                {
                                    "0": "The Winter People"
                                },
                                {
                                    "0": "The Lying Game (The Lying Game, #1)"
                                },
                                {
                                    "0": "The Opposite of Loneliness: Essays and Stories"
                                },
                                {
                                    "0": "The Solitude of Prime Numbers"
                                },
                                {
                                    "0": "The Fall (The Strain Trilogy, #2)"
                                },
                                {
                                    "0": "The Raven King (The Raven Cycle, #4)"
                                },
                                {
                                    "0": "The Thief (The Queen's Thief, #1)"
                                },
                                {
                                    "0": "The Lake House (When the Wind Blows, #2)"
                                },
                                {
                                    "0": "The Heist (Fox and O'Hare, #1)"
                                },
                                {
                                    "0": "The Railway Children"
                                },
                                {
                                    "0": "The Last Mile (Amos Decker, #2)"
                                },
                                {
                                    "0": "The Doors of Perception & Heaven and Hell"
                                },
                                {
                                    "0": "The Black Box (Harry Bosch, #18; Harry Bosch Universe, #22)"
                                },
                                {
                                    "0": "The Rapture of Canaan"
                                },
                                {
                                    "0": "The Third Option (Mitch Rapp, #4)"
                                },
                                {
                                    "0": "The Stonekeeper (Amulet, #1)"
                                },
                                {
                                    "0": "The Complete Stories"
                                },
                                {
                                    "0": "The Coldest Winter Ever"
                                },
                                {
                                    "0": "The Vegetarian"
                                },
                                {
                                    "0": "The Castle"
                                },
                                {
                                    "0": "The Rise of Theodore Roosevelt"
                                },
                                {
                                    "0": "The Escape (John Puller, #3)"
                                },
                                {
                                    "0": "The Seeress of Kell (The Malloreon, #5)"
                                },
                                {
                                    "0": "The Burning Room (Harry Bosch, #19; Harry Bosch Universe, #24)"
                                },
                                {
                                    "0": "The Natural Way to Draw"
                                },
                                {
                                    "0": "The Known World"
                                },
                                {
                                    "0": "The Gods of Guilt (Mickey Haller, #6; Harry Bosch Universe, #23)"
                                },
                                {
                                    "0": "The Little Mouse, the Red Ripe Strawberry, and the Big Hungry Bear"
                                },
                                {
                                    "0": "The 8th Confession (Women's Murder Club, #8)"
                                },
                                {
                                    "0": "The Secret Diary of Adrian Mole, Aged 13 3/4  (Adrian Mole, #1)"
                                },
                                {
                                    "0": "The Razor's Edge"
                                },
                                {
                                    "0": "The Reason I Jump: The Inner Voice of a Thirteen-Year-Old Boy with Autism"
                                },
                                {
                                    "0": "The Hidden Oracle (The Trials of Apollo, #1)"
                                },
                                {
                                    "0": "The End of Eternity"
                                },
                                {
                                    "0": "The Prodigal Daughter (Kane & Abel, #2)"
                                },
                                {
                                    "0": "The Broken Eye (Lightbringer, #3)"
                                },
                                {
                                    "0": "The Collected Poems of W.B. Yeats"
                                },
                                {
                                    "0": "The Elephant Vanishes"
                                },
                                {
                                    "0": "The Walking Dead, Book One (The Walking Dead #1-12)"
                                },
                                {
                                    "0": "The Miracle Worker"
                                },
                                {
                                    "0": "The Almost Moon"
                                },
                                {
                                    "0": "The Children of Men"
                                },
                                {
                                    "0": "The Thousand-Dollar Tan Line (Veronica Mars, #1)"
                                },
                                {
                                    "0": "The Plot Against America"
                                },
                                {
                                    "0": "The Tender Bar"
                                },
                                {
                                    "0": "The Exiled Queen (Seven Realms, #2)"
                                },
                                {
                                    "0": "The Other Woman"
                                },
                                {
                                    "0": "The Vampire's Assistant (Cirque Du Freak, #2)"
                                },
                                {
                                    "0": "The Ragamuffin Gospel: Good News for the Bedraggled, Beat-Up, and Burnt Out"
                                },
                                {
                                    "0": "The Shock Doctrine: The Rise of Disaster Capitalism"
                                },
                                {
                                    "0": "The Girl Who Saved the King of Sweden"
                                },
                                {
                                    "0": "The Vincent Brothers (The Vincent Boys, #2)"
                                },
                                {
                                    "0": "The Tin Drum"
                                },
                                {
                                    "0": "The Case for Faith: A Journalist Investigates the Toughest Objections to Christianity"
                                },
                                {
                                    "0": "The Return of Sherlock Holmes"
                                },
                                {
                                    "0": "The Checklist Manifesto: How to Get Things Right"
                                },
                                {
                                    "0": "The Nazi Officer's Wife: How One Jewish Woman Survived the Holocaust"
                                },
                                {
                                    "0": "The Pioneer Woman Cooks: Recipes from an Accidental Country Girl"
                                },
                                {
                                    "0": "The Fabric of the Cosmos: Space, Time, and the Texture of Reality"
                                },
                                {
                                    "0": "The 9th Judgment  (Women's Murder Club, #9)"
                                },
                                {
                                    "0": "The End of Faith: Religion, Terror, and the Future of Reason"
                                },
                                {
                                    "0": "The Adoration of Jenna Fox (Jenna Fox Chronicles, #1)"
                                },
                                {
                                    "0": "The Emperor of Nihon-Ja (Ranger's Apprentice, #10)"
                                },
                                {
                                    "0": "The Complete Calvin and Hobbes"
                                },
                                {
                                    "0": "The 101 Dalmatians (The Hundred and One Dalmatians, #1)"
                                },
                                {
                                    "0": "The Curious Case of Benjamin Button"
                                },
                                {
                                    "0": "The Sinner (Rizzoli & Isles, #3)"
                                },
                                {
                                    "0": "The Chocolate War (Chocolate War, #1)"
                                },
                                {
                                    "0": "The Revenant"
                                },
                                {
                                    "0": "The Wake (The Sandman #10)"
                                },
                                {
                                    "0": "The Innovator's Dilemma: The Revolutionary Book that Will Change the Way You Do Business (Collins Business Essentials)"
                                },
                                {
                                    "0": "The Charm School"
                                },
                                {
                                    "0": "The Power of Intention: Learning to Co-create Your World Your Way"
                                },
                                {
                                    "0": "The Gray Wolf Throne (Seven Realms, #3)"
                                },
                                {
                                    "0": "The Disappearing Spoon: And Other True Tales of Madness, Love, and the History of the World from the Periodic Table of the Elements"
                                },
                                {
                                    "0": "The Hellbound Heart"
                                },
                                {
                                    "0": "The Cabinet of Curiosities (Pendergast, #3)"
                                },
                                {
                                    "0": "The Practice of the Presence of God"
                                },
                                {
                                    "0": "The Intelligent Investor (Collins Business Essentials)"
                                },
                                {
                                    "0": "The Universe in a Nutshell"
                                },
                                {
                                    "0": "The Heroes (First Law World, #5)"
                                },
                                {
                                    "0": "The Real Mother Goose"
                                },
                                {
                                    "0": "The Human Stain (The American Trilogy, #3)"
                                },
                                {
                                    "0": "The Bane Chronicles"
                                },
                                {
                                    "0": "The Narrows (Harry Bosch, #10; Harry Bosch Universe, #12)"
                                },
                                {
                                    "0": "The Opportunist (Love Me with Lies, #1)"
                                },
                                {
                                    "0": "The Bourne Legacy (Jason Bourne, #4)"
                                },
                                {
                                    "0": "The Name of the Star (Shades of London, #1)"
                                },
                                {
                                    "0": "The Social Contract"
                                },
                                {
                                    "0": "The Federalist Papers"
                                },
                                {
                                    "0": "The Story of the Lost Child (The Neapolitan Novels, #4)"
                                },
                                {
                                    "0": "The Disreputable History of Frankie Landau-Banks"
                                },
                                {
                                    "0": "The Postmistress"
                                },
                                {
                                    "0": "The Rook (The Checquy Files, #1)"
                                },
                                {
                                    "0": "The Looking Glass Wars (The Looking Glass Wars, #1)"
                                },
                                {
                                    "0": "The Other Queen (The Plantagenet and Tudor Novels, #15)"
                                },
                                {
                                    "0": "The Diary of Frida Kahlo: An Intimate Self-Portrait"
                                },
                                {
                                    "0": "The Darkest Pleasure (Lords of the Underworld #3)"
                                },
                                {
                                    "0": "The Grouchy Ladybug"
                                },
                                {
                                    "0": "The Perfume Collector"
                                },
                                {
                                    "0": "The Naked Sun (Robot #2)"
                                },
                                {
                                    "0": "The Bazaar of Bad Dreams"
                                },
                                {
                                    "0": "The Hypnotist (Joona Linna, #1)"
                                },
                                {
                                    "0": "The Dirt: Confessions of the World's Most Notorious Rock Band"
                                },
                                {
                                    "0": "The Snows of Kilimanjaro and Other Stories"
                                },
                                {
                                    "0": "The Black Company (The Chronicles of the Black Company, #1)"
                                },
                                {
                                    "0": "The Woman in Black"
                                },
                                {
                                    "0": "The Best Christmas Pageant Ever (The Herdmans #1)"
                                },
                                {
                                    "0": "The Fourth Protocol"
                                },
                                {
                                    "0": "The Goddess Test (Goddess Test, #1)"
                                },
                                {
                                    "0": "The Ghost Map: The Story of London's Most Terrifying Epidemic - and How It Changed Science, Cities, and the Modern World"
                                },
                                {
                                    "0": "The Target (Will Robie, #3)"
                                },
                                {
                                    "0": "The Midwife's Apprentice"
                                },
                                {
                                    "0": "The Crimson Petal and the White"
                                },
                                {
                                    "0": "The Legend of Sleepy Hollow"
                                },
                                {
                                    "0": "The Island"
                                },
                                {
                                    "0": "The Good Guy"
                                },
                                {
                                    "0": "The Weed That Strings the Hangman's Bag (Flavia de Luce, #2)"
                                },
                                {
                                    "0": "The Walking Dead, Vol. 02: Miles Behind Us"
                                },
                                {
                                    "0": "The Best of H.P. Lovecraft: Bloodcurdling Tales of Horror and the Macabre"
                                },
                                {
                                    "0": "The Crystal Cave (Arthurian Saga, #1)"
                                },
                                {
                                    "0": "The Call of Cthulhu and Other Weird Stories"
                                },
                                {
                                    "0": "The White Dragon (Pern, #3)"
                                },
                                {
                                    "0": "The Magic Faraway Tree (The Faraway Tree, #2)"
                                },
                                {
                                    "0": "The Robber Bride"
                                },
                                {
                                    "0": "The Shock of the New"
                                },
                                {
                                    "0": "The Midwife's Confession"
                                },
                                {
                                    "0": "The House of Silk (Sherlock Holmes, #1)"
                                },
                                {
                                    "0": "The Lion's Game (John Corey, #2)"
                                },
                                {
                                    "0": "The Boys from Brazil"
                                },
                                {
                                    "0": "The Sandcastle Girls"
                                },
                                {
                                    "0": "The Last Boyfriend (Inn BoonsBoro, #2)"
                                },
                                {
                                    "0": "The Boy in the Suitcase (Nina Borg, #1)"
                                },
                                {
                                    "0": "The Symposium"
                                },
                                {
                                    "0": "The Obsession"
                                },
                                {
                                    "0": "The Last Precinct (Kay Scarpetta, #11)"
                                },
                                {
                                    "0": "The $100 Startup: Reinvent the Way You Make a Living, Do What You Love, and Create a New Future"
                                },
                                {
                                    "0": "The Lust Lizard of Melancholy Cove (Pine Cove, #2)"
                                },
                                {
                                    "0": "The Cay (The Cay, #1)"
                                },
                                {
                                    "0": "The Secret (Highlands' Lairds #1)"
                                },
                                {
                                    "0": "The Stone Diaries"
                                },
                                {
                                    "0": "The Power of a Praying Woman"
                                },
                                {
                                    "0": "The Smoke Jumper"
                                },
                                {
                                    "0": "The Hare With Amber Eyes: A Family's Century of Art and Loss"
                                },
                                {
                                    "0": "The Middle Place"
                                },
                                {
                                    "0": "The Waste Land"
                                },
                                {
                                    "0": "The Royal We"
                                },
                                {
                                    "0": "The Viscount Who Loved Me (Bridgertons, #2)"
                                },
                                {
                                    "0": "The Beach House"
                                },
                                {
                                    "0": "The Physician (Cole Family Trilogy, #1)"
                                },
                                {
                                    "0": "The Icarus Agenda"
                                },
                                {
                                    "0": "The King (Black Dagger Brotherhood, #12)"
                                },
                                {
                                    "0": "The Crossing (The Border Trilogy, #2)"
                                },
                                {
                                    "0": "The Nicomachean Ethics"
                                },
                                {
                                    "0": "The Berenstain Bears and the Messy Room"
                                },
                                {
                                    "0": "The Winter King (The Warlord Chronicles, #1)"
                                },
                                {
                                    "0": "The Mysterious Benedict Society and the Perilous Journey (The Mysterious Benedict Society, #2)"
                                },
                                {
                                    "0": "The Wolf of Wall Street"
                                },
                                {
                                    "0": "The Cost of Discipleship"
                                },
                                {
                                    "0": "The New Jim Crow: Mass Incarceration in the Age of Colorblindness"
                                },
                                {
                                    "0": "The Book of Unknown Americans"
                                },
                                {
                                    "0": "The Joker"
                                },
                                {
                                    "0": "The Great Santini"
                                },
                                {
                                    "0": "The Last Guardian (Artemis Fowl, #8)"
                                },
                                {
                                    "0": "The Whistler"
                                },
                                {
                                    "0": "The Robots of Dawn (Robot #3)"
                                },
                                {
                                    "0": "The Rule of Four"
                                },
                                {
                                    "0": "The Redemption of Callie & Kayden (The Coincidence, #2)"
                                },
                                {
                                    "0": "The Closers (Harry Bosch, #11; Harry Bosch Universe, #13)"
                                },
                                {
                                    "0": "The Darkest Whisper (Lords of the Underworld #4)"
                                },
                                {
                                    "0": "The Things We Wish Were True"
                                },
                                {
                                    "0": "The Dark Elf Trilogy Collector's Edition (Forgotten Realms: Dark Elf Trilogy, #1-3; Legend of Drizzt, #1-3)"
                                },
                                {
                                    "0": "The Harlequin (Anita Blake, Vampire Hunter #15)"
                                },
                                {
                                    "0": "The Basketball Diaries"
                                },
                                {
                                    "0": "The Kings of Clonmel (Ranger's Apprentice, #8)"
                                },
                                {
                                    "0": "The Fireman"
                                },
                                {
                                    "0": "The Revenge of Seven (Lorien Legacies, #5)"
                                },
                                {
                                    "0": "The Girl In The Ice (Detective Erika Foster, #1)"
                                },
                                {
                                    "0": "The Pale Horseman (The Saxon Stories, #2)"
                                },
                                {
                                    "0": "The Future of Us"
                                },
                                {
                                    "0": "The Program (The Program, #1)"
                                },
                                {
                                    "0": "The Son"
                                },
                                {
                                    "0": "The Dream Hunter (Dark-Hunter #10, Dream-Hunter #1)"
                                },
                                {
                                    "0": "The Moon and More"
                                },
                                {
                                    "0": "The Barefoot Contessa Cookbook"
                                },
                                {
                                    "0": "The Simple Truth"
                                },
                                {
                                    "0": "The City of Mirrors (The Passage, #3)"
                                },
                                {
                                    "0": "The Far Side Gallery 3"
                                },
                                {
                                    "0": "The American Heiress"
                                },
                                {
                                    "0": "The Three Little Pigs (Disney Classic)"
                                },
                                {
                                    "0": "The Last Man (Mitch Rapp, #13)"
                                },
                                {
                                    "0": "The Last Star (The 5th Wave, #3)"
                                },
                                {
                                    "0": "The Aeronaut's Windlass (The Cinder Spires, #1)"
                                },
                                {
                                    "0": "The Perfect Husband (Quincy & Rainie, #1)"
                                },
                                {
                                    "0": "The Eight (The Eight #1)"
                                },
                                {
                                    "0": "The Gamble (Colorado Mountain, #1)"
                                },
                                {
                                    "0": "The Great and Secret Show (Book of the Art #1)"
                                },
                                {
                                    "0": "The Mother Tongue: English and How It Got That Way"
                                },
                                {
                                    "0": "The Geography of Bliss: One Grump's Search for the Happiest Places in the World"
                                },
                                {
                                    "0": "The Mistake (Off-Campus, #2)"
                                },
                                {
                                    "0": "The Bad Place"
                                },
                                {
                                    "0": "The Twilight Saga: The Official Illustrated Guide (Twilight, #4.5)"
                                },
                                {
                                    "0": "The Prime of Miss Jean Brodie"
                                },
                                {
                                    "0": "The Next Best Thing"
                                },
                                {
                                    "0": "The Heroin Diaries: A Year In The Life Of A Shattered Rock Star"
                                },
                                {
                                    "0": "The Druid of Shannara (Heritage of Shannara, #2)"
                                },
                                {
                                    "0": "The Trespasser (Dublin Murder Squad #6)"
                                },
                                {
                                    "0": "The Clique (The Clique, #1)"
                                },
                                {
                                    "0": "The Sixth Extinction: An Unnatural History"
                                },
                                {
                                    "0": "The Blind Watchmaker: Why the Evidence of Evolution Reveals a Universe Without Design"
                                },
                                {
                                    "0": "The Dragon Heir (The Heir Chronicles, #3)"
                                },
                                {
                                    "0": "The Wonder"
                                },
                                {
                                    "0": "The Fourth Hand"
                                },
                                {
                                    "0": "The Killing Game (Eve Duncan, #2)"
                                },
                                {
                                    "0": "The Retribution of Mara Dyer (Mara Dyer, #3)"
                                },
                                {
                                    "0": "The Mysteries of Pittsburgh"
                                },
                                {
                                    "0": "The Book of Tomorrow"
                                },
                                {
                                    "0": "The Oresteia  (Ορέστεια, #1-3)"
                                },
                                {
                                    "0": "The Life of Elizabeth I"
                                },
                                {
                                    "0": "The Fill-In Boyfriend"
                                },
                                {
                                    "0": "The Vow: The Kim & Krickitt Carpenter Story"
                                },
                                {
                                    "0": "The Puppet Masters"
                                },
                                {
                                    "0": "The Canterville Ghost"
                                },
                                {
                                    "0": "The Power of Your Subconscious Mind"
                                },
                                {
                                    "0": "The Crown of Embers (Fire and Thorns, #2)"
                                },
                                {
                                    "0": "The Guard (The Selection, #2.5)"
                                },
                                {
                                    "0": "The Motorcycle Diaries: Notes on a Latin American Journey"
                                },
                                {
                                    "0": "The Hundred Thousand Kingdoms (Inheritance Trilogy, #1)"
                                },
                                {
                                    "0": "The Savage Detectives"
                                },
                                {
                                    "0": "The Lion King: A little Golden Book"
                                },
                                {
                                    "0": "The Medusa Plot (39 Clues: Cahills vs. Vespers, #1)"
                                },
                                {
                                    "0": "The Penderwicks: A Summer Tale of Four Sisters, Two Rabbits, and a Very Interesting Boy (The Penderwicks #1)"
                                },
                                {
                                    "0": "The Lion (John Corey, #5)"
                                },
                                {
                                    "0": "The Son"
                                },
                                {
                                    "0": "The Art of Asking; or, How I Learned to Stop Worrying and Let People Help"
                                },
                                {
                                    "0": "The Last Summer (of You and Me)"
                                },
                                {
                                    "0": "The Lord of the Rings: Weapons and Warfare"
                                },
                                {
                                    "0": "The Lost City of Faar (Pendragon, #2)"
                                },
                                {
                                    "0": "The Club Dumas"
                                },
                                {
                                    "0": "The Magician's Assistant"
                                },
                                {
                                    "0": "The Sympathizer"
                                },
                                {
                                    "0": "The Kingmaker's Daughter (The Plantagenet and Tudor Novels, #4)"
                                },
                                {
                                    "0": "The Invasion of the Tearling (The Queen of the Tearling, #2)"
                                },
                                {
                                    "0": "The Painted Veil"
                                },
                                {
                                    "0": "The Kalahari Typing School for Men (No. 1 Ladies' Detective Agency, #4)"
                                },
                                {
                                    "0": "The Wednesday Wars"
                                },
                                {
                                    "0": "The Legacy (Forgotten Realms: Legacy of the Drow, #1; Legend of Drizzt, #7)"
                                },
                                {
                                    "0": "The Science of Getting Rich"
                                },
                                {
                                    "0": "The Last Oracle (Sigma Force, #5)"
                                },
                                {
                                    "0": "The Guilty (Will Robie, #4)"
                                },
                                {
                                    "0": "The Complete Stories and Poems"
                                },
                                {
                                    "0": "The Dead and the Gone (Last Survivors, #2)"
                                },
                                {
                                    "0": "The Darkest Passion (Lords of the Underworld #5)"
                                },
                                {
                                    "0": "The Cruelest Month (Chief Inspector Armand Gamache, #3)"
                                },
                                {
                                    "0": "The Winner's Crime (The Winner's Trilogy, #2)"
                                },
                                {
                                    "0": "The Ladies' Room"
                                },
                                {
                                    "0": "The Little Stranger"
                                },
                                {
                                    "0": "The Walking Dead, Vol. 03: Safety Behind Bars"
                                },
                                {
                                    "0": "The Last Sin Eater"
                                },
                                {
                                    "0": "The Trial and Death of Socrates"
                                },
                                {
                                    "0": "The Red Badge of Courage and Selected Short Fiction  "
                                },
                                {
                                    "0": "The Last Child"
                                },
                                {
                                    "0": "The Price of Salt"
                                },
                                {
                                    "0": "The Undercover Economist"
                                },
                                {
                                    "0": "The Oath"
                                },
                                {
                                    "0": "The Day the Crayons Quit"
                                },
                                {
                                    "0": "The Heretic's Daughter"
                                },
                                {
                                    "0": "The Magic Mountain"
                                },
                                {
                                    "0": "The Reality Dysfunction (Night's Dawn, #1)"
                                },
                                {
                                    "0": "The Sands of Time"
                                },
                                {
                                    "0": "The Paradox of Choice: Why More Is Less"
                                },
                                {
                                    "0": "The Postman"
                                },
                                {
                                    "0": "The Patron Saint of Liars"
                                },
                                {
                                    "0": "The Success Principles: How to Get from Where You Are to Where You Want to Be"
                                },
                                {
                                    "0": "The Swerve: How the World Became Modern"
                                },
                                {
                                    "0": "The Autobiography of Henry VIII: With Notes by His Fool, Will Somers"
                                },
                                {
                                    "0": "The Brain That Changes Itself: Stories of Personal Triumph from the Frontiers of Brain Science"
                                },
                                {
                                    "0": "The Ringworld Engineers (Ringworld #2)"
                                },
                                {
                                    "0": "The Sun Is Also a Star"
                                },
                                {
                                    "0": "The Murder House"
                                },
                                {
                                    "0": "The Dark Divine (The Dark Divine, #1)"
                                },
                                {
                                    "0": "The Long Tail: Why the Future of Business is Selling Less of More"
                                },
                                {
                                    "0": "The Perfect Hope (Inn Boonsboro, #3)"
                                },
                                {
                                    "0": "The 7 Habits of Highly Effective Teens: The Ultimate Teenage Success Guide"
                                },
                                {
                                    "0": "The Strange Case of Origami Yoda (Origami Yoda, #1)"
                                },
                                {
                                    "0": "The Lord of the Rings: The Return of the King: Visual Companion"
                                },
                                {
                                    "0": "The Art of the Start: The Time-Tested, Battle-Hardened Guide for Anyone Starting Anything"
                                },
                                {
                                    "0": "The Other Wes Moore: One Name, Two Fates"
                                },
                                {
                                    "0": "The Upside of Irrationality: The Unexpected Benefits of Defying Logic at Work and at Home"
                                },
                                {
                                    "0": "The Partly Cloudy Patriot"
                                },
                                {
                                    "0": "The Night Eternal (The Strain Trilogy, #3)"
                                },
                                {
                                    "0": "The Guy Not Taken: Stories"
                                },
                                {
                                    "0": "The Walking Dead, Vol. 08: Made to Suffer"
                                },
                                {
                                    "0": "The Decameron"
                                },
                                {
                                    "0": "The Crossing (Harry Bosch, #20; Mickey Haller, #7; Harry Bosch Universe, #25)"
                                },
                                {
                                    "0": "The Aleph and Other Stories "
                                },
                                {
                                    "0": "The Long Goodbye (Philip Marlowe, #6)"
                                },
                                {
                                    "0": "The Castle of Llyr (The Chronicles of Prydain #3)"
                                },
                                {
                                    "0": "The Cat Who Could Read Backwards (Cat Who..., #1)"
                                },
                                {
                                    "0": "The Demigod Diaries"
                                },
                                {
                                    "0": "The Never War (Pendragon, #3)"
                                },
                                {
                                    "0": "The Elf Queen of Shannara (Heritage of Shannara, #3)"
                                },
                                {
                                    "0": "The Emperor's Blades (Chronicle of the Unhewn Throne, #1)"
                                },
                                {
                                    "0": "The Mephisto Club (Rizzoli & Isles, #6)"
                                },
                                {
                                    "0": "The Scarlet Thread "
                                },
                                {
                                    "0": "The Pearl That Broke Its Shell"
                                },
                                {
                                    "0": "The Sociopath Next Door"
                                },
                                {
                                    "0": "The Tea Rose (The Tea Rose, #1)"
                                },
                                {
                                    "0": "The Paris Architect"
                                },
                                {
                                    "0": "The History of Tom Jones, a Foundling"
                                },
                                {
                                    "0": "The Three Stigmata of Palmer Eldritch"
                                },
                                {
                                    "0": "The Strange Library"
                                },
                                {
                                    "0": "The Power (The Secret, #2)"
                                },
                                {
                                    "0": "The Lions of Lucerne (Scot Harvath, #1)"
                                },
                                {
                                    "0": "The Sign of the Beaver"
                                },
                                {
                                    "0": "The Key to Midnight"
                                },
                                {
                                    "0": "The Joke"
                                },
                                {
                                    "0": "The White Princess (The Plantagenet and Tudor Novels, #5)"
                                },
                                {
                                    "0": "The Swan Thieves"
                                },
                                {
                                    "0": "The Lords of Discipline"
                                },
                                {
                                    "0": "The Matchmaker"
                                },
                                {
                                    "0": "The Mark (Left Behind, #8)"
                                },
                                {
                                    "0": "The Darkest Hour (Warriors, #6)"
                                },
                                {
                                    "0": "The Beautiful Mystery (Chief Inspector Armand Gamache, #8)"
                                },
                                {
                                    "0": "The Diamond Throne (The Elenium, #1)"
                                },
                                {
                                    "0": "The Wedding Girl"
                                },
                                {
                                    "0": "The Tortilla Curtain"
                                },
                                {
                                    "0": "The Amazing Maurice and His Educated Rodents (Discworld, #28)"
                                },
                                {
                                    "0": "The Hundred Dresses"
                                },
                                {
                                    "0": "The Last Runaway"
                                },
                                {
                                    "0": "The 100 (The 100, #1)"
                                },
                                {
                                    "0": "The Return of the Native  "
                                },
                                {
                                    "0": "The Overlook (Harry Bosch, #13; Harry Bosch Universe, #15)"
                                },
                                {
                                    "0": "The House of the Seven Gables"
                                },
                                {
                                    "0": "The Brutal Telling (Chief Inspector Armand Gamache, #5)"
                                },
                                {
                                    "0": "The Prisoner of Cell 25 (Michael Vey, #1)"
                                },
                                {
                                    "0": "The Souls of Black Folk"
                                },
                                {
                                    "0": "The Crimson Crown (Seven Realms, #4)"
                                },
                                {
                                    "0": "The Castaways"
                                },
                                {
                                    "0": "The Lover"
                                },
                                {
                                    "0": "The Power and the Glory"
                                },
                                {
                                    "0": "The Scions of Shannara (Heritage of Shannara, #1)"
                                },
                                {
                                    "0": "The Emperor's Children"
                                },
                                {
                                    "0": "The Liar"
                                },
                                {
                                    "0": "The Third Victim (Quincy & Rainie, #2)"
                                },
                                {
                                    "0": "The Wrong Side of Goodbye (Harry Bosch, #21; Harry Bosch Universe, #26)"
                                },
                                {
                                    "0": "The Girl Who Circumnavigated Fairyland in a Ship of Her Own Making (Fairyland, #1)"
                                },
                                {
                                    "0": "The Book of the Dead (Pendergast, #7; Diogenes, #3)"
                                },
                                {
                                    "0": "The Expats"
                                },
                                {
                                    "0": "The Indwelling (Left Behind, #7)"
                                },
                                {
                                    "0": "The Glass Bead Game"
                                },
                                {
                                    "0": "The Yellow Birds"
                                },
                                {
                                    "0": "The Proposal (The Proposition, #2)"
                                },
                                {
                                    "0": "The Body"
                                },
                                {
                                    "0": "The Grey King (The Dark Is Rising, #4)"
                                },
                                {
                                    "0": "The Complete Novels"
                                },
                                {
                                    "0": "The Book of Strange New Things"
                                },
                                {
                                    "0": "The Manchurian Candidate (Movie Tie-In Edition)"
                                },
                                {
                                    "0": "The Irresistible Revolution: Living as an Ordinary Radical"
                                },
                                {
                                    "0": "The Pilgrims of Rayne (Pendragon, #8)"
                                },
                                {
                                    "0": "The Hundred-Foot Journey"
                                },
                                {
                                    "0": "The Melancholy Death of Oyster Boy and Other Stories"
                                },
                                {
                                    "0": "The Scarecrow (Jack McEvoy, #2)"
                                },
                                {
                                    "0": "The Humans"
                                },
                                {
                                    "0": "The Well of Lost Plots (Thursday Next #3)"
                                },
                                {
                                    "0": "The Wealth of Nations"
                                },
                                {
                                    "0": "The Big Over Easy (Nursery Crime, #1)"
                                },
                                {
                                    "0": "The Seeing Stone (The Spiderwick Chronicles, #2)"
                                },
                                {
                                    "0": "The Cellist of Sarajevo"
                                },
                                {
                                    "0": "The Defector (Gabriel Allon, #9)"
                                },
                                {
                                    "0": "The Wisdom of Crowds"
                                },
                                {
                                    "0": "The Fog"
                                },
                                {
                                    "0": "The Long Hard Road Out of Hell"
                                },
                                {
                                    "0": "The Shunning (The Heritage of Lancaster County, #1)"
                                },
                                {
                                    "0": "The Seven-Percent Solution"
                                },
                                {
                                    "0": "The Prodigal God: Recovering the Heart of the Christian Faith"
                                },
                                {
                                    "0": "The Lost Painting"
                                },
                                {
                                    "0": "The Light in the Ruins"
                                },
                                {
                                    "0": "The Little Lady Agency (The Little Lady Agency, #1)"
                                },
                                {
                                    "0": "The Dead Key"
                                },
                                {
                                    "0": "The Wedding Dress"
                                },
                                {
                                    "0": "The Doomsday Conspiracy"
                                },
                                {
                                    "0": "The 4-Hour Body: An Uncommon Guide to Rapid Fat-Loss, Incredible Sex, and Becoming Superhuman"
                                },
                                {
                                    "0": "The Elementary Particles"
                                },
                                {
                                    "0": "The Adventures of Captain Underpants (Captain Underpants, #1)"
                                },
                                {
                                    "0": "The Fountains of Paradise"
                                },
                                {
                                    "0": "The Bastard of Istanbul"
                                },
                                {
                                    "0": "The Doomsday Key (Sigma Force, #6)"
                                },
                                {
                                    "0": "The Ruins"
                                },
                                {
                                    "0": "The Night Angel Trilogy (Night Angel, #1-3)"
                                },
                                {
                                    "0": "The Holy Bible: English Standard Version"
                                },
                                {
                                    "0": "The Lives of the Artists"
                                },
                                {
                                    "0": "The Slap"
                                },
                                {
                                    "0": "The Art Spirit: Notes, Articles, Fragments of Letters and Talks to Students, Bearing on the Concept and Technique of Picture Making, the Study of Art (Icon Editions)"
                                },
                                {
                                    "0": "The Fortress of Solitude"
                                },
                                {
                                    "0": "The Darkest Evening of the Year"
                                },
                                {
                                    "0": "The Wrath of Mulgarath (The Spiderwick Chronicles, #5)"
                                },
                                {
                                    "0": "The Scrapbook of Frankie Pratt"
                                },
                                {
                                    "0": "The Ruby Knight (The Elenium, #2)"
                                },
                                {
                                    "0": "The Thief of Always"
                                },
                                {
                                    "0": "The Keepsake (Rizzoli & Isles, #7)"
                                },
                                {
                                    "0": "The Everything Store: Jeff Bezos and the Age of Amazon"
                                },
                                {
                                    "0": "The Air He Breathes (Elements, #1)"
                                },
                                {
                                    "0": "The Bonehunters (Malazan Book of the Fallen, #6)"
                                },
                                {
                                    "0": "The Glass Magician (The Paper Magician Trilogy, #2)"
                                },
                                {
                                    "0": "The Naked and the Dead"
                                },
                                {
                                    "0": "The Little Mermaid"
                                },
                                {
                                    "0": "The Rembrandt Affair (Gabriel Allon, #10)"
                                },
                                {
                                    "0": "The Call of Cthulhu"
                                },
                                {
                                    "0": "The One That Got Away"
                                },
                                {
                                    "0": "The Ruby Circle (Bloodlines, #6)"
                                },
                                {
                                    "0": "The Know-It-All: One Man's Humble Quest to Become the Smartest Person in the World"
                                },
                                {
                                    "0": "The Double Bind"
                                },
                                {
                                    "0": "The Ice Twins"
                                },
                                {
                                    "0": "The Edge of Always (The Edge of Never, #2)"
                                },
                                {
                                    "0": "The Virgin Blue"
                                },
                                {
                                    "0": "The Einstein Prophecy"
                                },
                                {
                                    "0": "The Spellman Files (The Spellmans, #1)"
                                },
                                {
                                    "0": "The Judas Strain (Sigma Force, #4)"
                                },
                                {
                                    "0": "The Missing Piece"
                                },
                                {
                                    "0": "The Bridge of San Luis Rey"
                                },
                                {
                                    "0": "The Sellout"
                                },
                                {
                                    "0": "The Silent Girl (Rizzoli & Isles, #9)"
                                },
                                {
                                    "0": "The Wolf Gift (The Wolf Gift Chronicles, #1)"
                                },
                                {
                                    "0": "The Little Red Hen (Little Golden Book)"
                                },
                                {
                                    "0": "The Terror"
                                },
                                {
                                    "0": "The Atlantis Plague (The Origin Mystery, #2)"
                                },
                                {
                                    "0": "The Game: Penetrating the Secret Society of Pickup Artists"
                                },
                                {
                                    "0": "The Shop on Blossom Street (Blossom Street, #1)"
                                },
                                {
                                    "0": "The Bourne Objective (Jason Bourne, #8)"
                                },
                                {
                                    "0": "The Score (Off-Campus, #3)"
                                },
                                {
                                    "0": "The Best Laid Plans"
                                },
                                {
                                    "0": "The Egypt Game (Game, #1)"
                                },
                                {
                                    "0": "The Complete Stories"
                                },
                                {
                                    "0": "The Whole Truth (A. Shaw, #1)"
                                },
                                {
                                    "0": "The Hard Thing About Hard Things: Building a Business When There Are No Easy Answers"
                                },
                                {
                                    "0": "The Fallen Star (Fallen Star, #1)"
                                },
                                {
                                    "0": "The Illearth War (The Chronicles of Thomas Covenant the Unbeliever, #2)"
                                },
                                {
                                    "0": "The Fifth Season (The Broken Earth, #1)"
                                },
                                {
                                    "0": "The Zombie Room"
                                },
                                {
                                    "0": "The Analyst"
                                },
                                {
                                    "0": "The Mysterious Benedict Society and the Prisoner's Dilemma (The Mysterious Benedict Society, #3)"
                                },
                                {
                                    "0": "The Family Fang"
                                },
                                {
                                    "0": "The Pursuit of Happyness"
                                },
                                {
                                    "0": "The Moviegoer"
                                },
                                {
                                    "0": "The Cherry Orchard"
                                },
                                {
                                    "0": "The Heart of the Matter"
                                },
                                {
                                    "0": "The Long Haul (Diary of a Wimpy Kid, #9)"
                                },
                                {
                                    "0": "The Sleeper and the Spindle"
                                },
                                {
                                    "0": "The Negotiator (O'Malley, #1)"
                                },
                                {
                                    "0": "The Son of Sobek (Percy Jackson & Kane Chronicles Crossover, #1)"
                                },
                                {
                                    "0": "The Going-To-Bed Book"
                                },
                                {
                                    "0": "The Postman Always Rings Twice"
                                },
                                {
                                    "0": "The Dead-Tossed Waves (The Forest of Hands and Teeth, #2)"
                                },
                                {
                                    "0": "The Glass Palace"
                                },
                                {
                                    "0": "The Eye of Minds (The Mortality Doctrine, #1)"
                                },
                                {
                                    "0": "The Scar (Bas-Lag, #2)"
                                },
                                {
                                    "0": "The Story of Beautiful Girl"
                                },
                                {
                                    "0": "The Monkey Wrench Gang (Monkey Wrench Gang, #1)"
                                },
                                {
                                    "0": "The Dragon Keeper (Rain Wild Chronicles, #1)"
                                },
                                {
                                    "0": "The China Study: The Most Comprehensive Study of Nutrition Ever Conducted And the Startling Implications for Diet, Weight Loss, And Long-term Health"
                                },
                                {
                                    "0": "The Gruffalo"
                                },
                                {
                                    "0": "The Salmon of Doubt (Dirk Gently, #3)"
                                },
                                {
                                    "0": "The City and the Stars"
                                },
                                {
                                    "0": "The Siren"
                                },
                                {
                                    "0": "The Quiet Game"
                                },
                                {
                                    "0": "The Messenger (Gabriel Allon, #6)"
                                },
                                {
                                    "0": "The Sheltering Sky"
                                },
                                {
                                    "0": "The Rest of Us Just Live Here"
                                },
                                {
                                    "0": "The Lady Elizabeth"
                                },
                                {
                                    "0": "The Astronaut Wives Club"
                                },
                                {
                                    "0": "The Man Who Was Thursday: A Nightmare"
                                },
                                {
                                    "0": "The Monster of Florence"
                                },
                                {
                                    "0": "The Weight of Water"
                                },
                                {
                                    "0": "The Last Hero (Discworld, #27; Rincewind #7)"
                                },
                                {
                                    "0": "The Harbinger: The Ancient Mystery that Holds the Secret of America's Future"
                                },
                                {
                                    "0": "The English Girl (Gabriel Allon, #13)"
                                },
                                {
                                    "0": "The Geography of You and Me"
                                },
                                {
                                    "0": "The Black Dagger Brotherhood: An Insider's Guide"
                                },
                                {
                                    "0": "The Secret Adversary (Tommy and Tuppence #1)"
                                },
                                {
                                    "0": "The Girl Who Fell from the Sky"
                                },
                                {
                                    "0": "The Rivers of Zadaa (Pendragon, #6)"
                                },
                                {
                                    "0": "The Brooklyn Follies"
                                },
                                {
                                    "0": "The Ironwood Tree (The Spiderwick Chronicles, #4)"
                                },
                                {
                                    "0": "The Yearling"
                                },
                                {
                                    "0": "The Sex Lives of Cannibals: Adrift in the Equatorial Pacific"
                                },
                                {
                                    "0": "The Vampire Prince (Cirque Du Freak, #6)"
                                },
                                {
                                    "0": "The Sapphire Rose (The Elenium, #3)"
                                },
                                {
                                    "0": "The Gold Coast"
                                },
                                {
                                    "0": "The Collector"
                                },
                                {
                                    "0": "The Hook Up (Game On, #1)"
                                },
                                {
                                    "0": "The Cat's Table"
                                },
                                {
                                    "0": "The Demolished Man"
                                },
                                {
                                    "0": "The Evolution of Calpurnia Tate (Calpurnia Tate, #1)"
                                },
                                {
                                    "0": "The Walking Dead, Vol. 04: The Heart's Desire"
                                },
                                {
                                    "0": "The Stonekeeper's Curse (Amulet, #2)"
                                },
                                {
                                    "0": "The Days Are Just Packed: A Calvin and Hobbes Collection"
                                },
                                {
                                    "0": "The Creative License: Giving Yourself Permission to Be The Artist You Truly Are"
                                },
                                {
                                    "0": "The Archer's Tale (The Grail Quest, #1)"
                                },
                                {
                                    "0": "The Skull Throne (Demon Cycle, #4)"
                                },
                                {
                                    "0": "The Bees"
                                },
                                {
                                    "0": "The Good House"
                                },
                                {
                                    "0": "The Redeemer (Harry Hole, #6)"
                                },
                                {
                                    "0": "The Remnant (Left Behind, #10)"
                                },
                                {
                                    "0": "The Baron in the Trees"
                                },
                                {
                                    "0": "The Great Book of Amber (The Chronicles of Amber, #1-10)"
                                },
                                {
                                    "0": "The Darkest Lie (Lords of the Underworld #6)"
                                },
                                {
                                    "0": "The Dressmaker"
                                },
                                {
                                    "0": "The Edible Woman"
                                },
                                {
                                    "0": "The Ancestor's Tale: A Pilgrimage to the Dawn of Evolution"
                                },
                                {
                                    "0": "The Pigman (The Pigman, #1)"
                                },
                                {
                                    "0": "The Full Cupboard of Life (No. 1 Ladies' Detective Agency, #5)"
                                },
                                {
                                    "0": "The Foot Book: Dr. Seuss's Wacky Book of Opposites (Bright and Early Board Books)"
                                },
                                {
                                    "0": "The Recruit (Cherub, #1)"
                                },
                                {
                                    "0": "The Christmas Box (The Christmas Box, #1)"
                                },
                                {
                                    "0": "The Bloody Chamber and Other Stories"
                                },
                                {
                                    "0": "The Power of Art"
                                },
                                {
                                    "0": "The Hero With a Thousand Faces"
                                },
                                {
                                    "0": "The Lost Gate (Mither Mages, #1)"
                                },
                                {
                                    "0": "The Lace Reader (The Lace Reader, #1)"
                                },
                                {
                                    "0": "The Lone Ranger and Tonto Fistfight in Heaven"
                                },
                                {
                                    "0": "The Chemist"
                                },
                                {
                                    "0": "The Princess and the Goblin  (Princess Irene and Curdie, #1)"
                                },
                                {
                                    "0": "The Preacher (Patrik Hedström, #2)"
                                },
                                {
                                    "0": "The Gatecrasher"
                                },
                                {
                                    "0": "The Confusion (The Baroque Cycle, #2)"
                                },
                                {
                                    "0": "The Valkyries"
                                },
                                {
                                    "0": "The Long Way Home (Chief Inspector Armand Gamache, #10)"
                                },
                                {
                                    "0": "The Struggle (The Vampire Diaries, #2)"
                                },
                                {
                                    "0": "The Dark Highlander (Highlander, #5)"
                                },
                                {
                                    "0": "The Immortal Highlander (Highlander, #6)"
                                },
                                {
                                    "0": "The Second Sex"
                                },
                                {
                                    "0": "The Runaway King (The Ascendance Trilogy, #2)"
                                },
                                {
                                    "0": "The Highly Sensitive Person: How to Thrive When the World Overwhelms You"
                                },
                                {
                                    "0": "The Palace of Illusions"
                                },
                                {
                                    "0": "The First American: The Life and Times of Benjamin Franklin"
                                },
                                {
                                    "0": "The Gift (Witch & Wizard, #2)"
                                },
                                {
                                    "0": "The Terminal Man"
                                },
                                {
                                    "0": "The Land of Painted Caves (Earth's Children, #6)"
                                },
                                {
                                    "0": "The Wimpy Kid Movie Diary (Diary of a Wimpy Kid)"
                                },
                                {
                                    "0": "The Thin Man"
                                },
                                {
                                    "0": "The Uplift War (The Uplift Saga, #3)"
                                },
                                {
                                    "0": "The Rose Society (The Young Elites, #2)"
                                },
                                {
                                    "0": "The Short and Tragic Life of Robert Peace: A Brilliant Young Man Who Left Newark for the Ivy League"
                                },
                                {
                                    "0": "The Neighbor (Detective D.D. Warren, #3)"
                                },
                                {
                                    "0": "The Summer Before the War"
                                },
                                {
                                    "0": "The Scottish Prisoner (Lord John Grey, #3)"
                                },
                                {
                                    "0": "The Secret Diaries of Miss Miranda Cheever (Bevelstoke, #1)"
                                },
                                {
                                    "0": "The Constitution of the United States of America"
                                },
                                {
                                    "0": "The Sea Wolf"
                                },
                                {
                                    "0": "The Dive From Clausen's Pier"
                                },
                                {
                                    "0": "The Tibetan Book of Living and Dying"
                                },
                                {
                                    "0": "The Fall of the House of Usher"
                                },
                                {
                                    "0": "The Soldiers of Halla (Pendragon, #10)"
                                },
                                {
                                    "0": "The Boyfriend List: 15 Guys, 11 Shrink Appointments, 4 Ceramic Frogs and Me, Ruby Oliver (Ruby Oliver, #1)"
                                },
                                {
                                    "0": "The Initiate (Divergent, #0.2)"
                                },
                                {
                                    "0": "The Penelopiad"
                                },
                                {
                                    "0": "The Improbable Adventures of Sherlock Holmes"
                                },
                                {
                                    "0": "The Starter Wife"
                                },
                                {
                                    "0": "The Fire Next Time"
                                },
                                {
                                    "0": "The Coffin Club (Vampire Kisses, #5)"
                                },
                                {
                                    "0": "The Book of Speculation"
                                },
                                {
                                    "0": "The Dragonriders of Pern (Dragonriders of Pern, #1-3)"
                                },
                                {
                                    "0": "The Social Animal: The Hidden Sources of Love, Character, and Achievement"
                                },
                                {
                                    "0": "The Structure of Scientific Revolutions"
                                },
                                {
                                    "0": "The Sky is Falling"
                                },
                                {
                                    "0": "The Fifth Discipline: The Art & Practice of The Learning Organization"
                                },
                                {
                                    "0": "The Perfect Play (Play by Play, #1)"
                                },
                                {
                                    "0": "The Curse of Chalion (World of the Five Gods, #1)"
                                },
                                {
                                    "0": "The Burning Land (The Saxon Stories, #5)"
                                },
                                {
                                    "0": "The Earth, My Butt, and Other Big Round Things"
                                },
                                {
                                    "0": "The Supernaturalist"
                                },
                                {
                                    "0": "The Rent Collector"
                                },
                                {
                                    "0": "The Happiest Baby on the Block: The New Way to Calm Crying and Help Your Newborn Baby Sleep Longer"
                                },
                                {
                                    "0": "The Absent One (Department Q, #2)"
                                },
                                {
                                    "0": "The Good Lord Bird"
                                },
                                {
                                    "0": "The Walking Dead, Vol. 05: The Best Defense"
                                },
                                {
                                    "0": "The Walk (The Walk, #1)"
                                },
                                {
                                    "0": "The Crossover"
                                },
                                {
                                    "0": "The Line of Beauty"
                                },
                                {
                                    "0": "The Rose Garden"
                                },
                                {
                                    "0": "The English Assassin (Gabriel Allon, #2)"
                                },
                                {
                                    "0": "The Effective Executive: The Definitive Guide to Getting the Right Things Done (Harperbusiness Essentials)"
                                },
                                {
                                    "0": "The Wicked + The Divine, Vol. 1: The Faust Act"
                                },
                                {
                                    "0": "The Law of Attraction: The Basics of the Teachings of Abraham"
                                },
                                {
                                    "0": "The Postcard Killers"
                                },
                                {
                                    "0": "The Far Side Gallery"
                                },
                                {
                                    "0": "The Eternity Cure (Blood of Eden, #2)"
                                },
                                {
                                    "0": "The Guest Room"
                                },
                                {
                                    "0": "The Six Sacred Stones (Jack West Jr, #2)"
                                },
                                {
                                    "0": "The Watchman (Elvis Cole, #11; Joe Pike, #1)"
                                },
                                {
                                    "0": "The Blank Slate: The Modern Denial of Human Nature"
                                },
                                {
                                    "0": "The Dreaming Void"
                                },
                                {
                                    "0": "The Feast of the Goat"
                                },
                                {
                                    "0": "The First Bad Man"
                                },
                                {
                                    "0": "The Sea"
                                },
                                {
                                    "0": "The Magic of Recluce (The Saga of Recluce #1)"
                                },
                                {
                                    "0": "The Bastard (Kent Family Chronicles, #1)"
                                },
                                {
                                    "0": "The Last Policeman (The Last Policeman, #1)"
                                },
                                {
                                    "0": "The Colorado Kid (Hard Case Crime #13)"
                                },
                                {
                                    "0": "The Monkey's Paw (Oxford Bookworms)"
                                },
                                {
                                    "0": "The Pursuit of Holiness"
                                },
                                {
                                    "0": "The Nix"
                                },
                                {
                                    "0": "The Calvin and Hobbes Lazy Sunday Book"
                                },
                                {
                                    "0": "The Lifeboat"
                                },
                                {
                                    "0": "The Jewel (The Lone City, #1)"
                                },
                                {
                                    "0": "The Fire Within (The Last Dragon Chronicles, #1)"
                                },
                                {
                                    "0": "The Hollow (Sign of Seven, #2)"
                                },
                                {
                                    "0": "The 8th Habit: From Effectiveness to Greatness"
                                },
                                {
                                    "0": "The Girls"
                                },
                                {
                                    "0": "The Alibi"
                                },
                                {
                                    "0": "The Fifth Woman (Kurt Wallander, #6)"
                                },
                                {
                                    "0": "The Wordy Shipmates"
                                },
                                {
                                    "0": "The Time in Between"
                                },
                                {
                                    "0": "The Best Man (Blue Heron, #1)"
                                },
                                {
                                    "0": "The Poisoner's Handbook: Murder and the Birth of Forensic Medicine in Jazz Age New York"
                                },
                                {
                                    "0": "The Dhammapada"
                                },
                                {
                                    "0": "The Darkest Part of the Forest"
                                },
                                {
                                    "0": "The Samurai's Garden"
                                },
                                {
                                    "0": "The Hating Game"
                                },
                                {
                                    "0": "The Bear and the Dragon (Jack Ryan Universe, #11)"
                                },
                                {
                                    "0": "The Magician's Apprentice (Black Magician, #0.5)"
                                },
                                {
                                    "0": "The Visitation"
                                },
                                {
                                    "0": "The Garden of Rama (Rama, #3)"
                                },
                                {
                                    "0": "The Abyss"
                                },
                                {
                                    "0": "The Witch's Daughter (The Witch's Daughter, #1)"
                                },
                                {
                                    "0": "The Readers of Broken Wheel Recommend"
                                },
                                {
                                    "0": "The Magic of Reality: How We Know What's Really True"
                                },
                                {
                                    "0": "The Power That Preserves (The Chronicles of Thomas Covenant the Unbeliever, #3)"
                                },
                                {
                                    "0": "The Brightest Star in the Sky"
                                },
                                {
                                    "0": "The Last Seven Months of Anne Frank"
                                },
                                {
                                    "0": "The Innovators: How a Group of  Hackers, Geniuses and Geeks Created the Digital Revolution"
                                },
                                {
                                    "0": "The System of the World (The Baroque Cycle, #3)"
                                },
                                {
                                    "0": "The Flamethrowers"
                                },
                                {
                                    "0": "The Selection Stories: The Prince & The Guard (The Selection, #0.5, 2.5)"
                                },
                                {
                                    "0": "The Venetian Betrayal (Cotton Malone, #3)"
                                },
                                {
                                    "0": "The Robe"
                                },
                                {
                                    "0": "The Yonahlossee Riding Camp for Girls"
                                },
                                {
                                    "0": "The Gift of Fear: Survival Signals That Protect Us from Violence"
                                },
                                {
                                    "0": "The Blind Owl"
                                },
                                {
                                    "0": "The Ring of Solomon (Bartimaeus, #0.5)"
                                },
                                {
                                    "0": "The Master Butchers Singing Club"
                                },
                                {
                                    "0": "The Great Train Robbery"
                                },
                                {
                                    "0": "The Things We Do for Love"
                                },
                                {
                                    "0": "The Key to Rebecca"
                                },
                                {
                                    "0": "The Long Way to a Small, Angry Planet (Wayfarers, #1)"
                                },
                                {
                                    "0": "The Russia House"
                                },
                                {
                                    "0": "The Third Chimpanzee: The Evolution and Future of the Human Animal"
                                },
                                {
                                    "0": "The Given Day (Coughlin #1)"
                                },
                                {
                                    "0": "The Walking Dead, Vol. 06: This Sorrowful Life"
                                },
                                {
                                    "0": "The Innocent"
                                },
                                {
                                    "0": "The Dip: A Little Book That Teaches You When to Quit (and When to Stick)"
                                },
                                {
                                    "0": "The Farseer Trilogy (Farseer Trilogy #1-3)"
                                },
                                {
                                    "0": "The Blue Bistro"
                                },
                                {
                                    "0": "The Heart of Betrayal (The Remnant Chronicles, #2)"
                                },
                                {
                                    "0": "The Funhouse"
                                },
                                {
                                    "0": "The Speed of Trust: The One Thing that Changes Everything"
                                },
                                {
                                    "0": "The Killing Hour (Quincy & Rainie, #4)"
                                },
                                {
                                    "0": "The Moral Landscape: How Science Can Determine Human Values"
                                },
                                {
                                    "0": "The Mill River Recluse"
                                },
                                {
                                    "0": "The Secret Hour (Midnighters, #1)"
                                },
                                {
                                    "0": "The Candy Shop War (The Candy Shop War, #1)"
                                },
                                {
                                    "0": "The Farm"
                                },
                                {
                                    "0": "The Prince of Mist (Niebla, #1)"
                                },
                                {
                                    "0": "The First Four Years  (Little House, #9)"
                                },
                                {
                                    "0": "The Elephant Tree"
                                },
                                {
                                    "0": "The Definitive Book of Body Language"
                                },
                                {
                                    "0": "The First Commandment (Scot Harvath, #6)"
                                },
                                {
                                    "0": "The New Best Recipe"
                                },
                                {
                                    "0": "The Rose & the Dagger (The Wrath & the Dawn, #2)"
                                },
                                {
                                    "0": "The Fold"
                                },
                                {
                                    "0": "The Nature of the Beast (Chief Inspector Armand Gamache #11)"
                                },
                                {
                                    "0": "The Proper Care and Feeding of Husbands"
                                },
                                {
                                    "0": "The Crown Tower (The Riyria Chronicles, #1)"
                                },
                                {
                                    "0": "The Museum of Innocence"
                                },
                                {
                                    "0": "The Mothers"
                                },
                                {
                                    "0": "The Woman Warrior"
                                },
                                {
                                    "0": "The Sword of Shannara Trilogy (Shannara, #1-3)"
                                },
                                {
                                    "0": "The Valley of Fear"
                                },
                                {
                                    "0": "The Pagan Stone (Sign of Seven, #3)"
                                },
                                {
                                    "0": "The Bitter Kingdom (Fire and Thorns, #3)"
                                },
                                {
                                    "0": "The Teeth of the Tiger (Jack Ryan Universe, #12)"
                                },
                                {
                                    "0": "The Queen of Attolia (The Queen's Thief, #2)"
                                },
                                {
                                    "0": "The Prophet of Yonwood (Book of Ember, #3)"
                                },
                                {
                                    "0": "The Darkest Surrender  (Lords of the Underworld #8)"
                                },
                                {
                                    "0": "The Vagina Monologues"
                                },
                                {
                                    "0": "The Book of Illusions"
                                },
                                {
                                    "0": "The Debutante Divorcee"
                                },
                                {
                                    "0": "The Wheel of Darkness (Pendergast, #8)"
                                },
                                {
                                    "0": "The Sandman: Endless Nights"
                                },
                                {
                                    "0": "The First Wives Club"
                                },
                                {
                                    "0": "The Vanishing Act of Esme Lennox"
                                },
                                {
                                    "0": "The Night Watch"
                                },
                                {
                                    "0": "The Housekeeper and the Professor"
                                },
                                {
                                    "0": "The Face"
                                },
                                {
                                    "0": "The Ascent of Money: A Financial History of the World"
                                },
                                {
                                    "0": "The Impossible Knife of Memory"
                                },
                                {
                                    "0": "The Girls of Atomic City: The Untold Story of the Women Who Helped Win World War II"
                                },
                                {
                                    "0": "The Quillan Games (Pendragon, #7)"
                                },
                                {
                                    "0": "The Green Mile, Part 1: The Two Dead Girls"
                                },
                                {
                                    "0": "The Bone Garden "
                                },
                                {
                                    "0": "The King's Buccaneer (Krondor's Sons, #2)"
                                },
                                {
                                    "0": "The Wednesday Letters"
                                },
                                {
                                    "0": "The Jesus I Never Knew"
                                },
                                {
                                    "0": "The Unidentified Redhead (Redhead, #1)"
                                },
                                {
                                    "0": "The Adventures of Ook and Gluk, Kung-Fu Cavemen from the Future"
                                },
                                {
                                    "0": "The Informers"
                                },
                                {
                                    "0": "The Queen (The Selection, #0.4)"
                                },
                                {
                                    "0": "The Devil Colony (Sigma Force, #7)"
                                },
                                {
                                    "0": "The Walking Dead, Vol. 12: Life Among Them"
                                },
                                {
                                    "0": "The Gospel According to Jesus Christ"
                                },
                                {
                                    "0": "The Calling (Darkness Rising, #2)"
                                },
                                {
                                    "0": "The Dance Of Anger: A Woman's Guide to Changing the Patterns of Intimate Relationships"
                                },
                                {
                                    "0": "The Apothecary's Daughter"
                                },
                                {
                                    "0": "The Five Chinese Brothers"
                                },
                                {
                                    "0": "The Source of Magic (Xanth, #2)"
                                },
                                {
                                    "0": "The King of Attolia (The Queen's Thief, #3)"
                                },
                                {
                                    "0": "The Honor of the Queen (Honor Harrington, #2)"
                                },
                                {
                                    "0": "The Atlantis World (The Origin Mystery, #3)"
                                },
                                {
                                    "0": "The Complete Poems"
                                },
                                {
                                    "0": "The Untethered Soul: The Journey Beyond Yourself"
                                },
                                {
                                    "0": "The Prize"
                                },
                                {
                                    "0": "The Middlesteins"
                                },
                                {
                                    "0": "The Screaming Staircase (Lockwood & Co., #1)"
                                },
                                {
                                    "0": "The Day of the Locust"
                                },
                                {
                                    "0": "The Morganville Vampires, Volume 1 (The Morganville Vampires, #1-2)"
                                },
                                {
                                    "0": "The Heart of a Woman"
                                },
                                {
                                    "0": "The Call of the Wild, White Fang and Other Stories"
                                },
                                {
                                    "0": "The Rape of Nanking"
                                },
                                {
                                    "0": "The Solitaire Mystery: A Novel About Family and Destiny"
                                },
                                {
                                    "0": "The Mating  (Law of the Lycans, #2)"
                                },
                                {
                                    "0": "The Gates of Rome (Emperor, #1)"
                                },
                                {
                                    "0": "The Fixed Trilogy (Fixed, #1-3)"
                                },
                                {
                                    "0": "The Pigeon Finds a Hot Dog!"
                                },
                                {
                                    "0": "The Baker's Daughter"
                                },
                                {
                                    "0": "The Shadows (Black Dagger Brotherhood, #13)"
                                },
                                {
                                    "0": "The Magic Finger (Young Puffin Developing Reader)"
                                },
                                {
                                    "0": "The Enchanted Wood (The Faraway Tree, #1)"
                                },
                                {
                                    "0": "The Swans of Fifth Avenue"
                                },
                                {
                                    "0": "The Pioneer Woman Cooks: Food from My Frontier "
                                },
                                {
                                    "0": "The Love Affairs of Nathaniel P."
                                },
                                {
                                    "0": "The Seagull"
                                },
                                {
                                    "0": "The Door Into Summer"
                                },
                                {
                                    "0": "The Stepford Wives"
                                },
                                {
                                    "0": "The Longest Day"
                                },
                                {
                                    "0": "The Reality Bug (Pendragon, #4)"
                                },
                                {
                                    "0": "The Hidden Staircase (Nancy Drew #2)"
                                },
                                {
                                    "0": "The Fallen Angel (Gabriel Allon, #12)"
                                },
                                {
                                    "0": "The Wall of Winnipeg and Me"
                                },
                                {
                                    "0": "The Onion Field"
                                },
                                {
                                    "0": "The Willpower Instinct: How Self-Control Works, Why It Matters, and What You Can Do to Get More of It"
                                },
                                {
                                    "0": "The Art of Travel"
                                },
                                {
                                    "0": "The Summer Garden (The Bronze Horseman, #3)"
                                },
                                {
                                    "0": "The Weight of Blood"
                                },
                                {
                                    "0": "The I Ching or Book of Changes"
                                },
                                {
                                    "0": "The 39 Steps (Richard Hannay, #1)"
                                },
                                {
                                    "0": "The Lake of Souls (Cirque Du Freak, #10)"
                                },
                                {
                                    "0": "The School of Essential Ingredients"
                                },
                                {
                                    "0": "The Complete Clive Barker's The Great And Secret Show"
                                },
                                {
                                    "0": "The Pickwick Papers"
                                },
                                {
                                    "0": "The Romanov Prophecy"
                                },
                                {
                                    "0": "The Uncommon Reader"
                                },
                                {
                                    "0": "The Naked Face"
                                },
                                {
                                    "0": "The Divergent Series 2-Book Collection (Divergent, #1-2)"
                                },
                                {
                                    "0": "The Prague Cemetery"
                                },
                                {
                                    "0": "The Portable Atheist: Essential Readings for the Nonbeliever"
                                },
                                {
                                    "0": "The Tao of Physics: An Exploration of the Parallels between Modern Physics and Eastern Mysticism"
                                },
                                {
                                    "0": "The Girl With No Past"
                                },
                                {
                                    "0": "The Lonely Hearts Club (The Lonely Hearts Club, #1)"
                                },
                                {
                                    "0": "The Big Four (Hercule Poirot, #5)"
                                },
                                {
                                    "0": "The World of the Hunger Games (Hunger Games Trilogy)"
                                },
                                {
                                    "0": "The Magic Strings of Frankie Presto"
                                },
                                {
                                    "0": "The Devotion of Suspect X"
                                },
                                {
                                    "0": "The Unlikely Spy"
                                },
                                {
                                    "0": "The Inner Circle (Culper Ring, #1)"
                                },
                                {
                                    "0": "The Princess Diarist"
                                },
                                {
                                    "0": "The Crippled God (The Malazan Book of the Fallen, #10)"
                                },
                                {
                                    "0": "The Sicilian"
                                },
                                {
                                    "0": "The Copper Beech"
                                },
                                {
                                    "0": "The Compound (The Compound, #1)"
                                },
                                {
                                    "0": "The Covenant"
                                },
                                {
                                    "0": "The Pledge (The Pledge, #1)"
                                },
                                {
                                    "0": "The Villa"
                                },
                                {
                                    "0": "The Enemy (The Enemy, #1)"
                                },
                                {
                                    "0": "The Empty Chair (Lincoln Rhyme, #3)"
                                },
                                {
                                    "0": "The Other"
                                },
                                {
                                    "0": "The English Spy (Gabriel Allon, #15)"
                                },
                                {
                                    "0": "The Cement Garden"
                                },
                                {
                                    "0": "The Bet (The Bet, #1)"
                                },
                                {
                                    "0": "The Descendants"
                                },
                                {
                                    "0": "The Cold Dish (Walt Longmire, #1)"
                                },
                                {
                                    "0": "The Poetry of Pablo Neruda"
                                },
                                {
                                    "0": "The Silver Palate Cookbook"
                                },
                                {
                                    "0": "The Bone People"
                                },
                                {
                                    "0": "The Crimson Campaign (Powder Mage, #2)"
                                },
                                {
                                    "0": "The Universe Versus Alex Woods"
                                },
                                {
                                    "0": "The Murder on the Links (Hercule Poirot, #2)"
                                },
                                {
                                    "0": "The Anti-Christ"
                                },
                                {
                                    "0": "The Looming Tower: Al-Qaeda and the Road to 9/11"
                                },
                                {
                                    "0": "The Cat Who Walks Through Walls (The World As Myth)"
                                },
                                {
                                    "0": "The Waves"
                                },
                                {
                                    "0": "The Nine: Inside the Secret World of the Supreme Court"
                                },
                                {
                                    "0": "The Violets of March"
                                },
                                {
                                    "0": "The Shining Ones (The Tamuli, #2)"
                                },
                                {
                                    "0": "The Cat in the Hat Comes Back"
                                },
                                {
                                    "0": "The Good Husband of Zebra Drive (No. 1 Ladies' Detective Agency, #8)"
                                },
                                {
                                    "0": "The Secret Servant (Gabriel Allon, #7)"
                                },
                                {
                                    "0": "The Forever of Ella and Micha (The Secret, #2)"
                                },
                                {
                                    "0": "The Wall"
                                },
                                {
                                    "0": "The House We Grew Up In"
                                },
                                {
                                    "0": "The Sisterhood"
                                },
                                {
                                    "0": "The Last Nude"
                                },
                                {
                                    "0": "The First Man in Rome (Masters of Rome, #1)"
                                },
                                {
                                    "0": "The Confessor (Gabriel Allon, #3)"
                                },
                                {
                                    "0": "The Wallflower, Vol. 1 (The Wallflower, #1)"
                                },
                                {
                                    "0": "The Thousand Orcs (Forgotten Realms: Hunter's Blades, #1; Legend of Drizzt, #14)"
                                },
                                {
                                    "0": "The Painted Bird"
                                },
                                {
                                    "0": "The Glass Lake"
                                },
                                {
                                    "0": "The Happiness Hypothesis: Finding Modern Truth in Ancient Wisdom"
                                },
                                {
                                    "0": "The Masque of the Red Death"
                                },
                                {
                                    "0": "The Evolutionary Void"
                                },
                                {
                                    "0": "The Forbidden Game (The Forbidden Game, #1-3)"
                                },
                                {
                                    "0": "The Te of Piglet"
                                },
                                {
                                    "0": "The Twelve Chairs"
                                },
                                {
                                    "0": "The Fever"
                                },
                                {
                                    "0": "The Very Quiet Cricket"
                                },
                                {
                                    "0": "The Naming (The Books of Pellinor, #1)"
                                },
                                {
                                    "0": "The Millionaire Mind"
                                },
                                {
                                    "0": "The Stars Shine Down"
                                },
                                {
                                    "0": "The Beatles Anthology"
                                },
                                {
                                    "0": "The Crow Road"
                                },
                                {
                                    "0": "The Book of Joe"
                                },
                                {
                                    "0": "The Game Changer (The Perfect Game, #2)"
                                },
                                {
                                    "0": "The Winter's Tale"
                                },
                                {
                                    "0": "The Temporal Void"
                                },
                                {
                                    "0": "The Rising: Antichrist is Born  (Before They Were Left Behind, #1)"
                                },
                                {
                                    "0": "The Scarpetta Factor (Kay Scarpetta, #17)"
                                },
                                {
                                    "0": "The Winner's Kiss (The Winner's Trilogy, #3)"
                                },
                                {
                                    "0": "The Whipping Boy"
                                },
                                {
                                    "0": "The Last Little Blue Envelope (Little Blue Envelope, #2)"
                                },
                                {
                                    "0": "The Making of the Atomic Bomb"
                                },
                                {
                                    "0": "The Third Twin"
                                },
                                {
                                    "0": "The Butlerian Jihad (Legends of Dune, #1)"
                                },
                                {
                                    "0": "The 80/20 Principle: The Secret to Achieving More with Less"
                                },
                                {
                                    "0": "The Complete Poetry and Prose"
                                },
                                {
                                    "0": "The Sportswriter"
                                },
                                {
                                    "0": "The Road to Little Dribbling: Adventures of an American in Britain"
                                },
                                {
                                    "0": "The Firebird (Slains, #2)"
                                },
                                {
                                    "0": "The Strange Case of Dr. Jekyll and Mr. Hyde and Other Stories "
                                },
                                {
                                    "0": "The Miracle of Forgiveness"
                                },
                                {
                                    "0": "The Darkest Secret (Lords of the Underworld #7)"
                                },
                                {
                                    "0": "The Umbrella Academy, Vol. 1: The Apocalypse Suite"
                                },
                                {
                                    "0": "The Women of Brewster Place"
                                },
                                {
                                    "0": "The Greater Journey: Americans in Paris"
                                },
                                {
                                    "0": "The Hidden City (The Tamuli, #3)"
                                },
                                {
                                    "0": "The Glassblower"
                                },
                                {
                                    "0": "The Broom of the System"
                                },
                                {
                                    "0": "The Dark Hills Divide (The Land of Elyon, #1)"
                                },
                                {
                                    "0": "The Sunne in Splendour"
                                },
                                {
                                    "0": "The Masterharper of Pern (Pern, #15)"
                                },
                                {
                                    "0": "The Drunkard's Walk: How Randomness Rules Our Lives"
                                },
                                {
                                    "0": "The Angel of Darkness (Dr. Laszlo Kreizler, #2)"
                                },
                                {
                                    "0": "The Sword in the Stone (The Once and Future King, #1)"
                                },
                                {
                                    "0": "The Year of Secret Assignments (Ashbury/Brookfield, #2)"
                                },
                                {
                                    "0": "The Blue Castle "
                                },
                                {
                                    "0": "The Gift"
                                },
                                {
                                    "0": "The Immortals Boxed Set (The Immortals, #1-3)"
                                },
                                {
                                    "0": "The Mirror Crack'd from Side to Side (Miss Marple, #9)"
                                },
                                {
                                    "0": "The Hat"
                                },
                                {
                                    "0": "The Dogs of Riga (Kurt Wallander, #2)"
                                },
                                {
                                    "0": "The Water Knife"
                                },
                                {
                                    "0": "The Cove  (FBI Thriller #1)"
                                },
                                {
                                    "0": "The Monkey's Raincoat (Elvis Cole, #1)"
                                },
                                {
                                    "0": "The Caine Mutiny"
                                },
                                {
                                    "0": "The Neon Rain (Dave Robicheaux, #1)"
                                },
                                {
                                    "0": "The Imitation of Christ"
                                },
                                {
                                    "0": "The Initiation / The Captive Part I (The Secret Circle, #1-2)"
                                },
                                {
                                    "0": "The Enchantress Returns (The Land of Stories, #2)"
                                },
                                {
                                    "0": "The Master Magician (The Paper Magician Trilogy, #3)"
                                },
                                {
                                    "0": "The Marriage Trap (Marriage to a Billionaire, #2)"
                                },
                                {
                                    "0": "The Jordan Rules"
                                },
                                {
                                    "0": "The Heretic Queen"
                                },
                                {
                                    "0": "The Piano Teacher"
                                },
                                {
                                    "0": "The Good Soldier"
                                },
                                {
                                    "0": "The Berenstain Bears' Trouble at School"
                                },
                                {
                                    "0": "The Talisman (Volume 1): The Road of Trials"
                                },
                                {
                                    "0": "The Dead of Night (The 39 Clues: Cahills vs. Vespers, #3)"
                                },
                                {
                                    "0": "The League of Extraordinary Gentlemen, Vol. 2"
                                },
                                {
                                    "0": "The Outcasts (Brotherband Chronicles, #1)"
                                },
                                {
                                    "0": "The Abolition of Man"
                                },
                                {
                                    "0": "The King's Curse (The Plantagenet and Tudor Novels, #7)"
                                },
                                {
                                    "0": "The One You Love (Emma Holden Suspense Mystery, #1)"
                                },
                                {
                                    "0": "The Water is Wide: A Memoir"
                                },
                                {
                                    "0": "The Authoritative Calvin and Hobbes: A Calvin and Hobbes Treasury"
                                },
                                {
                                    "0": "The Girl Next Door"
                                },
                                {
                                    "0": "The Courts of Chaos (The Chronicles of Amber #5)"
                                },
                                {
                                    "0": "The Introvert Advantage: How to Thrive in an Extrovert World"
                                },
                                {
                                    "0": "The Rainbow"
                                },
                                {
                                    "0": "The Capture (Guardians of Ga'Hoole, #1)"
                                },
                                {
                                    "0": "The Great Influenza: The Story of the Deadliest Pandemic in History"
                                },
                                {
                                    "0": "The Heavenly Man: The Remarkable True Story of Chinese Christian Brother Yun"
                                },
                                {
                                    "0": "The Miracle of Mindfulness: An Introduction to the Practice of Meditation"
                                },
                                {
                                    "0": "The Face Of Deception (Eve Duncan, #1)"
                                },
                                {
                                    "0": "The Language Instinct: How the Mind Creates Language"
                                },
                                {
                                    "0": "The Yacoubian Building"
                                },
                                {
                                    "0": "The Frog Princess (Tales of the Frog Princess, #1)"
                                },
                                {
                                    "0": "The Pioneer Woman: Black Heels to Tractor Wheels"
                                },
                                {
                                    "0": "The Gathering"
                                },
                                {
                                    "0": "The Righteous Mind: Why Good People are Divided by Politics and Religion"
                                },
                                {
                                    "0": "The Lion and the Mouse"
                                },
                                {
                                    "0": "The Collected Poems"
                                },
                                {
                                    "0": "The Endurance: Shackleton's Legendary Antarctic Expedition"
                                },
                                {
                                    "0": "The Candymakers (The Candymakers, #1)"
                                },
                                {
                                    "0": "The Fury (The Vampire Diaries, #3)"
                                },
                                {
                                    "0": "The Taste of Home Cookbook"
                                },
                                {
                                    "0": "The Metamorphosis, In the Penal Colony, and Other Stories: The Great Short Works of Franz Kafka"
                                },
                                {
                                    "0": "The Dogs of War"
                                },
                                {
                                    "0": "The Wheel of Time: Boxed Set #1 (Wheel of Time, #1-3)"
                                },
                                {
                                    "0": "The Amber Room"
                                },
                                {
                                    "0": "The Omen Machine (Sword of Truth, #12; Richard and Kahlan, #1)"
                                },
                                {
                                    "0": "The Comedy of Errors"
                                },
                                {
                                    "0": "The Constant Gardener"
                                },
                                {
                                    "0": "The Passenger"
                                },
                                {
                                    "0": "The Running Dream"
                                },
                                {
                                    "0": "The Morganville Vampires, Volume 3 (The Morganville Vampires, #5-6)"
                                },
                                {
                                    "0": "The Mixed-Up Chameleon"
                                },
                                {
                                    "0": "The Jester"
                                },
                                {
                                    "0": "The Riddle (The Books of Pellinor, #2)"
                                },
                                {
                                    "0": "The Hedge Knight (The Hedge Knight Graphic Novels, #1)"
                                },
                                {
                                    "0": "The Blackhouse (Lewis Trilogy, #1)"
                                },
                                {
                                    "0": "The Silent Blade (Forgotten Realms: Paths of Darkness, #1; Legend of Drizzt, #11)"
                                },
                                {
                                    "0": "The Dark and Hollow Places (The Forest of Hands and Teeth, #3)"
                                },
                                {
                                    "0": "The Declaration of Independence and The Constitution of the United States"
                                },
                                {
                                    "0": "The River (Brian's Saga, #2)"
                                },
                                {
                                    "0": "The Man From St. Petersburg"
                                },
                                {
                                    "0": "The Wedding (Lairds' Fiancées, #2)"
                                },
                                {
                                    "0": "The Dead in Their Vaulted Arches (Flavia de Luce, #6)"
                                },
                                {
                                    "0": "The Legend of Huma (Dragonlance: Heroes, #1)"
                                },
                                {
                                    "0": "The Dogs of Babel"
                                },
                                {
                                    "0": "The Krishna Key"
                                },
                                {
                                    "0": "The Sweet Gum Tree"
                                },
                                {
                                    "0": "The Honk and Holler Opening Soon"
                                },
                                {
                                    "0": "The Passion"
                                },
                                {
                                    "0": "The Power of the Dog"
                                },
                                {
                                    "0": "The Undead Pool (The Hollows, #12)"
                                },
                                {
                                    "0": "The Human Division (Old Man's War, #5)"
                                },
                                {
                                    "0": "The Fate of Ten (Lorien Legacies, #6)"
                                },
                                {
                                    "0": "The Fourth Bear (Nursery Crime, #2)"
                                },
                                {
                                    "0": "The Unwritten, Vol. 1: Tommy Taylor and the Bogus Identity"
                                },
                                {
                                    "0": "The Enchantress of Florence"
                                },
                                {
                                    "0": "The History of Sexuality, Volume 1: An Introduction"
                                },
                                {
                                    "0": "The Idiot Girls' Action-Adventure Club: True Tales from a Magnificent and Clumsy Life"
                                },
                                {
                                    "0": "The Heist (Gabriel Allon, #14)"
                                },
                                {
                                    "0": "The Judgment of Paris: The Revolutionary Decade That Gave the World Impressionism"
                                },
                                {
                                    "0": "The Three Little Pigs"
                                },
                                {
                                    "0": "The Seventh Gate (The Death Gate Cycle, #7)"
                                },
                                {
                                    "0": "The Unwanteds (Unwanteds, #1)"
                                },
                                {
                                    "0": "The Day Jimmy's Boa Ate the Wash"
                                },
                                {
                                    "0": "The Panther  (John Corey, #6)"
                                },
                                {
                                    "0": "The Unexpected Mrs. Pollifax  (Mrs. Pollifax #1)"
                                },
                                {
                                    "0": "The Innocent Mage (Kingmaker, Kingbreaker, #1)"
                                },
                                {
                                    "0": "The Gun Seller"
                                },
                                {
                                    "0": "The Subtle Art of Not Giving a F*ck: A Counterintuitive Approach to Living a Good Life"
                                },
                                {
                                    "0": "The Dark Monk (The Hangman's Daughter, #2)"
                                },
                                {
                                    "0": "The Bellmaker (Redwall, #7)"
                                },
                                {
                                    "0": "The Code of the Woosters (Jeeves, #7)"
                                },
                                {
                                    "0": "The Bone Bed (Kay Scarpetta, #20)"
                                },
                                {
                                    "0": "The Fry Chronicles (Memoir #2)"
                                },
                                {
                                    "0": "The Shallows: What the Internet is Doing to Our Brains"
                                },
                                {
                                    "0": "The House at Tyneford"
                                },
                                {
                                    "0": "The Autobiography of Martin Luther King, Jr."
                                },
                                {
                                    "0": "The Knowledge of the Holy"
                                },
                                {
                                    "0": "The Codex"
                                },
                                {
                                    "0": "The Happy Prince"
                                },
                                {
                                    "0": "The Line (Witching Savannah, #1)"
                                },
                                {
                                    "0": "The Diamond of Darkhold (Book of Ember, #4)"
                                },
                                {
                                    "0": "The Aquitaine Progression"
                                },
                                {
                                    "0": "The Forsyte Saga (The Forsyte Chronicles, #1-3)"
                                },
                                {
                                    "0": "The Chase (Fox and O'Hare, #2)"
                                },
                                {
                                    "0": "The Orange Girl"
                                },
                                {
                                    "0": "The House of Thunder"
                                },
                                {
                                    "0": "The Dead of Night (Tomorrow, #2)"
                                },
                                {
                                    "0": "The Indispensable Calvin and Hobbes"
                                },
                                {
                                    "0": "The Shadow of the Torturer (The Book of the New Sun #1)"
                                },
                                {
                                    "0": "The Grand Sophy"
                                },
                                {
                                    "0": "The Road to Serfdom"
                                },
                                {
                                    "0": "The Executioner's Song"
                                },
                                {
                                    "0": "The Twenty-One Balloons"
                                },
                                {
                                    "0": "The Design of Everyday Things"
                                },
                                {
                                    "0": "The Strange and Beautiful Sorrows of Ava Lavender"
                                },
                                {
                                    "0": "The Declaration (The Declaration, #1)"
                                },
                                {
                                    "0": "The Last Patriot (Scot Harvath, #7)"
                                },
                                {
                                    "0": "The Engagements"
                                },
                                {
                                    "0": "The Black Widow (Gabriel Allon, #16)"
                                },
                                {
                                    "0": "The Code Book: The Science of Secrecy from Ancient Egypt to Quantum Cryptography"
                                },
                                {
                                    "0": "The Mind Readers (Mind Readers, #1)"
                                },
                                {
                                    "0": "The Highlander's Touch (Highlander, #3)"
                                },
                                {
                                    "0": "The Smitten Kitchen Cookbook"
                                },
                                {
                                    "0": "The Cross of Lead (Crispin, #1)"
                                },
                                {
                                    "0": "The Mortal Instruments (The Mortal Instruments #1-4)"
                                },
                                {
                                    "0": "The Peacegiver: How Christ Offers to Heal Our Hearts and Homes"
                                },
                                {
                                    "0": "The Hidden Reality: Parallel Universes and the Deep Laws of the Cosmos"
                                },
                                {
                                    "0": "The Feminine Mystique"
                                },
                                {
                                    "0": "The Mystery of the Blue Train (Hercule Poirot, #6)"
                                },
                                {
                                    "0": "The Defining Decade: Why Your Twenties Matter--And How to Make the Most of Them Now"
                                },
                                {
                                    "0": "The Walking Dead, Vol. 07: The Calm Before"
                                },
                                {
                                    "0": "The Little Sisters of Eluria (The Dark Tower, #0.5)"
                                },
                                {
                                    "0": "The First Rule (Elvis Cole, #13; Joe Pike, #2)"
                                },
                                {
                                    "0": "The Magical Worlds of Harry Potter: A Treasury of Myths, Legends, and Fascinating Facts"
                                },
                                {
                                    "0": "The Dot"
                                },
                                {
                                    "0": "The Damnation Game"
                                },
                                {
                                    "0": "The Difference Engine "
                                },
                                {
                                    "0": "The Lone Drow (Forgotten Realms: Hunter's Blades, #2; Legend of Drizzt, #15)"
                                },
                                {
                                    "0": "The Black Cat"
                                },
                                {
                                    "0": "The Brothers Lionheart"
                                },
                                {
                                    "0": "The Ship of Brides"
                                },
                                {
                                    "0": "The Story of Tracy Beaker"
                                },
                                {
                                    "0": "The Servants of Twilight"
                                },
                                {
                                    "0": "The Saving Graces"
                                },
                                {
                                    "0": "The Icewind Dale Trilogy Collector's Edition (Forgotten Realms: Icewind Dale, #1-3; Legend of Drizzt, #4-6)"
                                },
                                {
                                    "0": "The Black Lyon (Montgomery/Taggert, #1)"
                                },
                                {
                                    "0": "The Bloodletter's Daughter: A Novel of Old Bohemia"
                                },
                                {
                                    "0": "The Lives of Christopher Chant (Chrestomanci, #2)"
                                },
                                {
                                    "0": "The Good Luck of Right Now"
                                },
                                {
                                    "0": "The Miracle at Speedy Motors (No.1 Ladies' Detective Agency, #9)"
                                },
                                {
                                    "0": "The Abstinence Teacher"
                                },
                                {
                                    "0": "The Runelords (Runelords #1)"
                                },
                                {
                                    "0": "The Other Typist"
                                },
                                {
                                    "0": "The Sentry (Elvis Cole, #14; Joe Pike, #3)"
                                },
                                {
                                    "0": "The Dragon's Path (The Dagger and the Coin, #1)"
                                },
                                {
                                    "0": "The Taming of the Queen (The Plantagenet and Tudor Novels, #11)"
                                },
                                {
                                    "0": "The Pecan Man"
                                },
                                {
                                    "0": "The Man Who Smiled (Kurt Wallander, #4)"
                                },
                                {
                                    "0": "The Warrior's Apprentice (Vorkosigan Saga, #2)"
                                },
                                {
                                    "0": "The Complete Phantom of the Opera"
                                },
                                {
                                    "0": "The Unusual Suspects (The Sisters Grimm, #2)"
                                },
                                {
                                    "0": "The Ship Who Sang (Brainship, #1)"
                                },
                                {
                                    "0": "The Dark Forest (Remembrance of Earth’s Past, #2)"
                                },
                                {
                                    "0": "The Eyes of Darkness"
                                },
                                {
                                    "0": "The Lost Child of Philomena Lee: A Mother, Her Son and a 50 Year Search"
                                },
                                {
                                    "0": "The Adventures of Augie March"
                                },
                                {
                                    "0": "The Memoirs of Cleopatra"
                                },
                                {
                                    "0": "The Jefferson Key (Cotton Malone, #7)"
                                },
                                {
                                    "0": "The Keep (Adversary Cycle, #1)"
                                },
                                {
                                    "0": "The Google Story: Inside the Hottest Business, Media, and Technology Success of Our Time"
                                },
                                {
                                    "0": "The Cloud Searchers (Amulet, #3)"
                                },
                                {
                                    "0": "The Ice Limit (Ice Limit #1)"
                                },
                                {
                                    "0": "The Inkheart Trilogy: Inkheart, Inkspell, Inkdeath (Inkworld, #1-3)"
                                },
                                {
                                    "0": "The Overcoat"
                                },
                                {
                                    "0": "The Monk"
                                },
                                {
                                    "0": "The Vanished Man (Lincoln Rhyme, #5)"
                                },
                                {
                                    "0": "The Madman’s Daughter (The Madman’s Daughter, #1)"
                                },
                                {
                                    "0": "The Secret Life of Violet Grant"
                                },
                                {
                                    "0": "The Baller: A Down and Dirty Football Novel"
                                },
                                {
                                    "0": "The Providence of Fire (Chronicle of the Unhewn Throne, #2)"
                                },
                                {
                                    "0": "The Little Match Girl"
                                },
                                {
                                    "0": "The Places in Between"
                                },
                                {
                                    "0": "The Necklace and Other Short Stories"
                                },
                                {
                                    "0": "The Forgetting Time"
                                },
                                {
                                    "0": "The Lost Stories (Ranger's Apprentice, #11)"
                                },
                                {
                                    "0": "The Wounded Land (The Second Chronicles of Thomas Covenant, #1)"
                                },
                                {
                                    "0": "The Dry (Aaron Falk, #1)"
                                },
                                {
                                    "0": "The Broken Wings"
                                },
                                {
                                    "0": "The Garden of Eden"
                                },
                                {
                                    "0": "The One Tree (The Second Chronicles of Thomas Covenant, #2)"
                                },
                                {
                                    "0": "The Feast of All Saints"
                                },
                                {
                                    "0": "The Past Through Tomorrow (Future History, #1-21)"
                                },
                                {
                                    "0": "The Wonderful Story of Henry Sugar and Six More"
                                },
                                {
                                    "0": "The Death of Superman"
                                },
                                {
                                    "0": "The Raw Shark Texts"
                                },
                                {
                                    "0": "The Hammer of Thor (Magnus Chase and the Gods of Asgard, #2)"
                                },
                                {
                                    "0": "The Autumn of the Patriarch"
                                },
                                {
                                    "0": "The Murders in the Rue Morgue"
                                },
                                {
                                    "0": "The Summer Tree (The Fionavar Tapestry #1)"
                                },
                                {
                                    "0": "The Monsters of Templeton"
                                },
                                {
                                    "0": "The Lost Prince (The Iron Fey: Call of the Forgotten, #1)"
                                },
                                {
                                    "0": "The Last Don"
                                },
                                {
                                    "0": "The World of Ice & Fire: The Untold History of Westeros and the Game of Thrones"
                                },
                                {
                                    "0": "The War that Saved My Life (The War That Saved My Life #1)"
                                },
                                {
                                    "0": "The Beast (Black Dagger Brotherhood, #14)"
                                },
                                {
                                    "0": "The Soulkeepers (The Soulkeepers, #1)"
                                },
                                {
                                    "0": "The Marriage Mistake (Marriage to a Billionaire, #3)"
                                },
                                {
                                    "0": "The Little Red Caboose (Little Golden Book)"
                                },
                                {
                                    "0": "The Three Pigs"
                                },
                                {
                                    "0": "The Littles"
                                },
                                {
                                    "0": "The Hand of Chaos (The Death Gate Cycle, #5)"
                                },
                                {
                                    "0": "The Guns of Avalon (The Chronicles of Amber #2)"
                                },
                                {
                                    "0": "The Great Gilly Hopkins"
                                },
                                {
                                    "0": "The Mask"
                                },
                                {
                                    "0": "The Emerald Atlas (The Books of Beginning, #1)"
                                },
                                {
                                    "0": "The Peripheral"
                                },
                                {
                                    "0": "The Siren (The Original Sinners, #1)"
                                },
                                {
                                    "0": "The Faceless Ones (Skulduggery Pleasant, #3)"
                                },
                                {
                                    "0": "The Great Railway Bazaar"
                                },
                                {
                                    "0": "The Atrocity Archives (Laundry Files, #1)"
                                },
                                {
                                    "0": "The Pleasure of My Company"
                                },
                                {
                                    "0": "The Assassin and the Pirate Lord (Throne of Glass, #0.1)"
                                },
                                {
                                    "0": "The Naked God (Night's Dawn, #3)"
                                },
                                {
                                    "0": "The List"
                                },
                                {
                                    "0": "The Brothers K"
                                },
                                {
                                    "0": "The Happiness Advantage: The Seven Principles of Positive Psychology That Fuel Success and Performance at Work"
                                },
                                {
                                    "0": "The Meaning of Marriage: Facing the Complexities of Commitment with the Wisdom of God"
                                },
                                {
                                    "0": "The Flanders Panel"
                                },
                                {
                                    "0": "The Princess and the Pea"
                                },
                                {
                                    "0": "The Short Stories"
                                },
                                {
                                    "0": "The Life and Opinions of Tristram Shandy, Gentleman"
                                },
                                {
                                    "0": "The Passion of Artemisia"
                                },
                                {
                                    "0": "The Miseducation of Cameron Post"
                                },
                                {
                                    "0": "The Cartel"
                                },
                                {
                                    "0": "The Perfect Son"
                                },
                                {
                                    "0": "The Seventh Scroll (Ancient Egypt, #2)"
                                },
                                {
                                    "0": "The Troop"
                                },
                                {
                                    "0": "The Neutronium Alchemist (Night's Dawn, #2)"
                                },
                                {
                                    "0": "The Darkest Seduction (Lords of the Underworld #9)"
                                },
                                {
                                    "0": "The Last Time They Met"
                                },
                                {
                                    "0": "The Prisoner of Zenda"
                                },
                                {
                                    "0": "The Spine of the World (Forgotten Realms: Paths of Darkness, #2; Legend of Drizzt, #12)"
                                },
                                {
                                    "0": "The Haunted Mask (Goosebumps, #11)"
                                },
                                {
                                    "0": "The Girl Before"
                                },
                                {
                                    "0": "The Dresden Files:  Storm Front, Volume 1-  The Gathering Storm"
                                },
                                {
                                    "0": "The Long Patrol (Redwall, #10)"
                                },
                                {
                                    "0": "The Better Angels of Our Nature: Why Violence Has Declined"
                                },
                                {
                                    "0": "The Truth Seeker (O'Malley #3)"
                                },
                                {
                                    "0": "The Kept Woman (Will Trent, #8)"
                                },
                                {
                                    "0": "The Magpies"
                                },
                                {
                                    "0": "The Golden Notebook"
                                },
                                {
                                    "0": "The Winter Rose (The Tea Rose, #2)"
                                },
                                {
                                    "0": "The Last Full Measure (The Civil War Trilogy, #3)"
                                },
                                {
                                    "0": "The Belgariad, Vol. 1: Pawn of Prophecy / Queen of Sorcery / Magician's Gambit (The Belgariad, #1-3)"
                                },
                                {
                                    "0": "The Lucifer Effect: Understanding How Good People Turn Evil"
                                },
                                {
                                    "0": "The Scent of Rain and Lightning"
                                },
                                {
                                    "0": "The Hollow Hills (Arthurian Saga, #2)"
                                },
                                {
                                    "0": "The Art of Simple Food: Notes, Lessons, and Recipes from a Delicious Revolution"
                                },
                                {
                                    "0": "The Year of Fog"
                                },
                                {
                                    "0": "The Areas of My Expertise: An Almanac of Complete World Knowledge Compiled with Instructive Annotation and Arranged in Useful Order"
                                },
                                {
                                    "0": "The Garden of Evening Mists"
                                },
                                {
                                    "0": "The Cellar (The Cellar, #1)"
                                },
                                {
                                    "0": "The Gentlemen's Alliance †, Vol. 1"
                                },
                                {
                                    "0": "The Wicked Will Rise (Dorothy Must Die, #2)"
                                },
                                {
                                    "0": "The Magic Thief (Magic Thief, #1)"
                                },
                                {
                                    "0": "The Woman Who Stole My Life"
                                },
                                {
                                    "0": "The Darkness That Comes Before (The Prince of Nothing, #1)"
                                },
                                {
                                    "0": "The Dirty Life: On Farming, Food, and Love"
                                },
                                {
                                    "0": "The Thing Around Your Neck"
                                },
                                {
                                    "0": "The Story of an Hour"
                                },
                                {
                                    "0": "The Fixer Upper"
                                },
                                {
                                    "0": "The Personal MBA: Master the Art of Business"
                                },
                                {
                                    "0": "The Last Original Wife"
                                },
                                {
                                    "0": "The Library at Mount Char"
                                },
                                {
                                    "0": "The Vor Game (Vorkosigan Saga, #6)"
                                },
                                {
                                    "0": "The Unabridged Journals of Sylvia Plath"
                                },
                                {
                                    "0": "The Sweet Potato Queens' Book of Love"
                                },
                                {
                                    "0": "The Madonnas of Leningrad"
                                },
                                {
                                    "0": "The Quantum Thief (Jean le Flambeur, #1)"
                                },
                                {
                                    "0": "The Bully Pulpit: Theodore Roosevelt, William Howard Taft, and the Golden Age of Journalism"
                                },
                                {
                                    "0": "The Short Victorious War (Honor Harrington, #3)"
                                },
                                {
                                    "0": "The Assassin and the Desert (Throne of Glass, #0.3)"
                                },
                                {
                                    "0": "The Long Walk: The True Story of a Trek to Freedom"
                                },
                                {
                                    "0": "The Algebraist"
                                },
                                {
                                    "0": "The Whistling Season"
                                },
                                {
                                    "0": "The List"
                                },
                                {
                                    "0": "The Killer Inside Me"
                                },
                                {
                                    "0": "The Ruby in the Smoke (Sally Lockhart, #1)"
                                },
                                {
                                    "0": "The Weekenders"
                                },
                                {
                                    "0": "The Illuminatus! Trilogy"
                                },
                                {
                                    "0": "The Final Solution"
                                },
                                {
                                    "0": "The Secret Agent"
                                },
                                {
                                    "0": "The Way of Zen"
                                },
                                {
                                    "0": "The Wolf and the Dove"
                                },
                                {
                                    "0": "The Traitor (Divergent, #0.4)"
                                },
                                {
                                    "0": "The Emperor's Tomb (Cotton Malone, #6)"
                                },
                                {
                                    "0": "The Gift"
                                },
                                {
                                    "0": "The Lions of Little Rock"
                                },
                                {
                                    "0": "The Time of My Life"
                                },
                                {
                                    "0": "The Captive Part II / The Power (The Secret Circle, #2-3)"
                                },
                                {
                                    "0": "The Law of Moses (The Law of Moses, #1)"
                                },
                                {
                                    "0": "The Bronze Bow"
                                },
                                {
                                    "0": "The House by the Lake"
                                },
                                {
                                    "0": "The Earthsea Trilogy"
                                },
                                {
                                    "0": "The Suspicions of Mr. Whicher: A Shocking Murder and the Undoing of a Great Victorian Detective"
                                },
                                {
                                    "0": "The Johnstown Flood"
                                },
                                {
                                    "0": "The Christmas Sweater"
                                },
                                {
                                    "0": "The Gate House"
                                },
                                {
                                    "0": "The Two Swords (Forgotten Realms: Hunter's Blades, #3; Legend of Drizzt, #16)"
                                },
                                {
                                    "0": "The Blessing Way (Leaphorn & Chee, #1)"
                                },
                                {
                                    "0": "The Pigeon Wants a Puppy!"
                                },
                                {
                                    "0": "The Road to Character"
                                },
                                {
                                    "0": "The General in His Labyrinth"
                                },
                                {
                                    "0": "The Witness"
                                },
                                {
                                    "0": "The Nanny"
                                },
                                {
                                    "0": "The Faraway Tree Stories (The Faraway Tree #1-3)"
                                },
                                {
                                    "0": "The Pale King"
                                },
                                {
                                    "0": "The Analects"
                                },
                                {
                                    "0": "The Walking Dead, Vol. 09: Here We Remain"
                                },
                                {
                                    "0": "The Leopard"
                                },
                                {
                                    "0": "The Wayfarer Redemption (Wayfarer Redemption, #1)"
                                },
                                {
                                    "0": "The Many Lives & Secret Sorrows of Josephine B. (Josephine Bonaparte, #1)"
                                },
                                {
                                    "0": "The Ambassador's Mission (Traitor Spy Trilogy, #1)"
                                },
                                {
                                    "0": "The Dirty Girls Social Club (Dirty Girls, #1)"
                                },
                                {
                                    "0": "The Dice Man"
                                },
                                {
                                    "0": "The Fire (Witch & Wizard, #3)"
                                },
                                {
                                    "0": "The Daughter of Time (Inspector Alan Grant, #5)"
                                },
                                {
                                    "0": "The Autumn Republic (Powder Mage, #3)"
                                },
                                {
                                    "0": "The Walking Dead, Vol. 11: Fear the Hunters"
                                },
                                {
                                    "0": "The Friend Zone (Game On, #2)"
                                },
                                {
                                    "0": "The Rose and the Thorn (The Riyria Chronicles, #2)"
                                },
                                {
                                    "0": "The Charlemagne Pursuit (Cotton Malone, #4)"
                                },
                                {
                                    "0": "The Moon Is Down"
                                },
                                {
                                    "0": "The Beginner's Goodbye"
                                },
                                {
                                    "0": "The Love Song of J. Alfred Prufrock and Other Poems"
                                },
                                {
                                    "0": "The Witch With No Name (The Hollows, #13)"
                                },
                                {
                                    "0": "The Wings of the Dove"
                                },
                                {
                                    "0": "The Hidden Messages in Water"
                                },
                                {
                                    "0": "The Returned"
                                },
                                {
                                    "0": "The Obstacle Is the Way: The Timeless Art of Turning Trials into Triumph"
                                },
                                {
                                    "0": "The Sight (Warriors: Power of Three, #1)"
                                },
                                {
                                    "0": "The Secret River"
                                },
                                {
                                    "0": "The Little Old Lady Who Was Not Afraid of Anything"
                                },
                                {
                                    "0": "The Apostle (Scot Harvath, #8)"
                                },
                                {
                                    "0": "The Holiness of God"
                                },
                                {
                                    "0": "The Kreutzer Sonata"
                                },
                                {
                                    "0": "The Way to Cook"
                                },
                                {
                                    "0": "The 20th Century Art Book"
                                },
                                {
                                    "0": "The Magic Mirror of M.C. Escher"
                                },
                                {
                                    "0": "The Walking Dead, Compendium 2"
                                },
                                {
                                    "0": "The 22 Immutable Laws of Marketing: Violate Them at Your Own Risk"
                                },
                                {
                                    "0": "The Firm"
                                },
                                {
                                    "0": "The Consolations of Philosophy"
                                },
                                {
                                    "0": "The Acid House"
                                },
                                {
                                    "0": "The Girl Who Came Home"
                                },
                                {
                                    "0": "The One Thing: The Surprisingly Simple Truth Behind Extraordinary Results"
                                },
                                {
                                    "0": "The Little Coffee Shop of Kabul"
                                },
                                {
                                    "0": "The Sandman: King of Dreams"
                                },
                                {
                                    "0": "The Light of the Fireflies"
                                },
                                {
                                    "0": "The Long War (The Long Earth, #2)"
                                },
                                {
                                    "0": "The America's Test Kitchen Family Cookbook"
                                },
                                {
                                    "0": "The Curious Charms of Arthur Pepper"
                                },
                                {
                                    "0": "The Boy Who Harnessed the Wind: Creating Currents of Electricity and Hope"
                                },
                                {
                                    "0": "The Goblin Emperor"
                                },
                                {
                                    "0": "The Sandman: The Dream Hunters"
                                },
                                {
                                    "0": "The Stories of John Cheever"
                                },
                                {
                                    "0": "The Odd Couple"
                                },
                                {
                                    "0": "The Hollow (The Hollow, #1)"
                                },
                                {
                                    "0": "The Akhenaten Adventure (Children of the Lamp, #1)"
                                },
                                {
                                    "0": "The Walking Dead, Vol. 10: What We Become"
                                },
                                {
                                    "0": "The Last Detective (Elvis Cole, #9)"
                                },
                                {
                                    "0": "The Beauty Myth"
                                },
                                {
                                    "0": "The Saggy Baggy Elephant (A Little Golden Book)"
                                },
                                {
                                    "0": "The Submissive (Submissive, #1)"
                                },
                                {
                                    "0": "The Secret History of the Pink Carnation (Pink Carnation, #1)"
                                },
                                {
                                    "0": "The Mapping of Love and Death (Maisie Dobbs, #7)"
                                },
                                {
                                    "0": "The Art of Seduction"
                                },
                                {
                                    "0": "The Hydrogen Sonata (Culture #10)"
                                },
                                {
                                    "0": "The Orenda"
                                },
                                {
                                    "0": "The Julian Chapter (Wonder Story)"
                                },
                                {
                                    "0": "The Five Love Languages of Children"
                                },
                                {
                                    "0": "The Sunday Philosophy Club (Isabel Dalhousie, #1)"
                                },
                                {
                                    "0": "The Red Queen: Sex and the Evolution of Human Nature"
                                },
                                {
                                    "0": "The Finkler Question"
                                },
                                {
                                    "0": "The Book with No Pictures"
                                },
                                {
                                    "0": "The Hungry Tide"
                                },
                                {
                                    "0": "The Breadwinner (The Breadwinner, #1)"
                                },
                                {
                                    "0": "The Wanderer (Thunder Point, #1)"
                                },
                                {
                                    "0": "The Hurricane Sisters"
                                },
                                {
                                    "0": "The Wretched of the Earth"
                                },
                                {
                                    "0": "The Cradle Will Fall"
                                },
                                {
                                    "0": "The Gift of Therapy: An Open Letter to a New Generation of Therapists and Their Patients"
                                },
                                {
                                    "0": "The Misanthrope"
                                },
                                {
                                    "0": "The Belgariad Boxed Set: Pawn of Prophecy / Queen of Sorcery / Magician's Gambit / Castle of Wizardry / Enchanters' End Game (The Belgariad, #1-5)"
                                },
                                {
                                    "0": "The Temple of My Familiar"
                                },
                                {
                                    "0": "The Son (Divergent, #0.3)"
                                },
                                {
                                    "0": "The Problem with Forever"
                                },
                                {
                                    "0": "The Double Helix"
                                },
                                {
                                    "0": "The Lord God Made Them All"
                                },
                                {
                                    "0": "The Frog and Toad Treasury: Frog and Toad are Friends/Frog and Toad Together/Frog and Toad All Year  (Frog and Toad #1-3)"
                                },
                                {
                                    "0": "The Inn at Rose Harbor (Rose Harbor #1)"
                                },
                                {
                                    "0": "The Smartest Guys in the Room: The Amazing Rise and Scandalous Fall of Enron"
                                },
                                {
                                    "0": "The Face of Fear"
                                },
                                {
                                    "0": "The Walking Dead, Vol. 14: No Way Out"
                                },
                                {
                                    "0": "The Walking Dead, Book Two (The Walking Dead #13-24)"
                                },
                                {
                                    "0": "The Return of the Prodigal Son: A Story of Homecoming"
                                },
                                {
                                    "0": "The Lions of Al-Rassan"
                                },
                                {
                                    "0": "The Awakened Mage (Kingmaker, Kingbreaker, #2)"
                                },
                                {
                                    "0": "The 5 Greatest Warriors (Jack West Jr, #3)"
                                },
                                {
                                    "0": "The Tail of Emily Windsnap (Emily Windsnap, #1)"
                                },
                                {
                                    "0": "The Invaders (Brotherband Chronicles, #2)"
                                },
                                {
                                    "0": "The Moon and Sixpence"
                                },
                                {
                                    "0": "The Last Girl (The Dominion Trilogy, #1)"
                                },
                                {
                                    "0": "The Absolute Sandman, Volume One"
                                },
                                {
                                    "0": "The Walking Dead, Book Three (The Walking Dead #25-36)"
                                },
                                {
                                    "0": "The Woman in the Dunes"
                                },
                                {
                                    "0": "The Prettiest One"
                                },
                                {
                                    "0": "The Dry Grass of August"
                                },
                                {
                                    "0": "The Madness of Lord Ian Mackenzie (Mackenzies & McBrides, #1)"
                                },
                                {
                                    "0": "The Mediterranean Caper (Dirk Pitt, #2)"
                                },
                                {
                                    "0": "The Forest House (Avalon, #2)"
                                },
                                {
                                    "0": "The Danish Girl"
                                },
                                {
                                    "0": "The Tiger Rising"
                                },
                                {
                                    "0": "The Hedge Knight (The Tales of Dunk and Egg, #1)"
                                },
                                {
                                    "0": "The Castle of Otranto"
                                },
                                {
                                    "0": "The Great Shark Hunt: Strange Tales from a Strange Time (The Gonzo Papers, #1)"
                                },
                                {
                                    "0": "The Complete Poems"
                                },
                                {
                                    "0": "The Problem Child (The Sisters Grimm, #3)"
                                },
                                {
                                    "0": "The Batman Chronicles, Vol. 1"
                                },
                                {
                                    "0": "The Love Song of Miss Queenie Hennessy (Harold Fry, #2)"
                                },
                                {
                                    "0": "The Last Question"
                                },
                                {
                                    "0": "The Giraffe and the Pelly and Me"
                                },
                                {
                                    "0": "The Death of Kings (Emperor, #2)"
                                },
                                {
                                    "0": "The Uglies Trilogy (Uglies, #1-3)"
                                },
                                {
                                    "0": "The Bone Tree"
                                },
                                {
                                    "0": "The Unwanted Wife (Unwanted, #1)"
                                },
                                {
                                    "0": "The Professor"
                                },
                                {
                                    "0": "The Little Mermaid"
                                },
                                {
                                    "0": "The Subterraneans"
                                },
                                {
                                    "0": "The Tale of Three Trees"
                                },
                                {
                                    "0": "The Moving Finger (Miss Marple, #4)"
                                },
                                {
                                    "0": "The Sacred Romance Drawing Closer To The Heart Of God"
                                },
                                {
                                    "0": "The Woodlanders"
                                },
                                {
                                    "0": "The Book of Disquiet"
                                },
                                {
                                    "0": "The Ipcress File (Secret File, #1)"
                                },
                                {
                                    "0": "The Fannie Farmer Cookbook: Anniversary"
                                },
                                {
                                    "0": "The Third Policeman"
                                },
                                {
                                    "0": "The Blood of Flowers"
                                },
                                {
                                    "0": "The Unexpected Everything"
                                },
                                {
                                    "0": "The Complete Guide to Middle-Earth"
                                },
                                {
                                    "0": "The Orchid House"
                                },
                                {
                                    "0": "The Bird and the Sword (The Bird and the Sword Chronicles, #1)"
                                },
                                {
                                    "0": "The Black Unicorn (Magic Kingdom of Landover, #2)"
                                },
                                {
                                    "0": "The Awakening and Selected Stories"
                                },
                                {
                                    "0": "The Crossing Places (Ruth Galloway, #1)"
                                },
                                {
                                    "0": "The Devil's Alternative"
                                },
                                {
                                    "0": "The Confessions of Nat Turner"
                                },
                                {
                                    "0": "The Android's Dream"
                                },
                                {
                                    "0": "The Stories of Eva Luna"
                                },
                                {
                                    "0": "The Two-Family House"
                                },
                                {
                                    "0": "The Talent Code: Unlocking the Secret of Skill in Sports, Art, Music, Math, and Just About Everything Else"
                                },
                                {
                                    "0": "The Mermaid's Sister"
                                },
                                {
                                    "0": "The Inimitable Jeeves (Jeeves, #2)"
                                },
                                {
                                    "0": "The Secret Speech (Leo Demidov, #2)"
                                },
                                {
                                    "0": "The Enchanted"
                                },
                                {
                                    "0": "The Left Hand of God (The Left Hand of God, #1)"
                                },
                                {
                                    "0": "The Will of the Empress (Circle Reforged, #1)"
                                },
                                {
                                    "0": "The Secret Race: Inside the Hidden World of the Tour de France: Doping, Cover-ups, and Winning at All Costs"
                                },
                                {
                                    "0": "The New Bedside, Bathtub and Armchair Companion to Agatha Christie"
                                },
                                {
                                    "0": "The Lonely Polygamist"
                                },
                                {
                                    "0": "The Darkest Hour (KGI, #1)"
                                },
                                {
                                    "0": "The Devil All the Time"
                                },
                                {
                                    "0": "The Second Assistant: A Tale from the Bottom of the Hollywood Ladder"
                                },
                                {
                                    "0": "The Assassin and the Empire (Throne of Glass, #0.5)"
                                },
                                {
                                    "0": "The Invisible Library (The Invisible Library, #1)"
                                },
                                {
                                    "0": "The Green Mile, Part 4: The Bad Death of Eduard Delacroix"
                                },
                                {
                                    "0": "The White Lioness (Kurt Wallander, #3)"
                                },
                                {
                                    "0": "The Chronicles of Thomas Covenant, the Unbeliever (The Chronicles of Thomas Covenant the Unbeliever, #1-3)"
                                },
                                {
                                    "0": "The Story of Philosophy: The Lives and Opinions of the World's Greatest Philosophers"
                                },
                                {
                                    "0": "The Gnostic Gospels"
                                },
                                {
                                    "0": "The Gods of Mars (Barsoom, #2)"
                                },
                                {
                                    "0": "The Survivor (Mitch Rapp, #14)"
                                },
                                {
                                    "0": "The Accidental Billionaires: The Founding of Facebook, a Tale of Sex, Money, Genius and Betrayal"
                                },
                                {
                                    "0": "The Sleeping Doll (Kathryn Dance, #1)"
                                },
                                {
                                    "0": "The Devil's Punchbowl"
                                },
                                {
                                    "0": "The Red Garden"
                                },
                                {
                                    "0": "The Final Detail (Myron Bolitar #6)"
                                },
                                {
                                    "0": "The Sound of Glass"
                                },
                                {
                                    "0": "The Widow of the South"
                                },
                                {
                                    "0": "The Magician's Elephant"
                                },
                                {
                                    "0": "The Dead"
                                },
                                {
                                    "0": "The Lost Saint (The Dark Divine, #2)"
                                },
                                {
                                    "0": "The Memory of Earth (Homecoming, #1)"
                                },
                                {
                                    "0": "The Missing Piece Meets the Big O "
                                },
                                {
                                    "0": "The Ghost Road (Regeneration, #3)"
                                },
                                {
                                    "0": "The Persian Pickle Club"
                                },
                                {
                                    "0": "The Worst Witch (Worst Witch, #1)"
                                },
                                {
                                    "0": "The Relatives Came"
                                },
                                {
                                    "0": "The Element: How Finding Your Passion Changes Everything"
                                },
                                {
                                    "0": "The Secret Chord"
                                },
                                {
                                    "0": "The Staff of Serapis (Percy Jackson & Kane Chronicles Crossover #2)"
                                },
                                {
                                    "0": "The Residence: Inside the Private World of the White House"
                                },
                                {
                                    "0": "The Life List"
                                },
                                {
                                    "0": "The Rising (Darkness Rising, #3)"
                                },
                                {
                                    "0": "The Christmas Wedding"
                                },
                                {
                                    "0": "The Lost Years (The Lost Years of Merlin, #1)"
                                },
                                {
                                    "0": "The Sea, the Sea"
                                },
                                {
                                    "0": "The House of God"
                                },
                                {
                                    "0": "The Gulag Archipelago 1918-1956"
                                },
                                {
                                    "0": "The Bar Code Tattoo (Bar Code, #1)"
                                },
                                {
                                    "0": "The Fallen and Leviathan (The Fallen, #1-2)"
                                },
                                {
                                    "0": "The Renegades of Pern (Pern, #10)"
                                },
                                {
                                    "0": "The Cake Bible"
                                },
                                {
                                    "0": "The Stone Monkey (Lincoln Rhyme, #4)"
                                },
                                {
                                    "0": "The First Part Last (Heaven, #2)"
                                },
                                {
                                    "0": "The Invisible Gorilla: And Other Ways Our Intuitions Deceive Us"
                                },
                                {
                                    "0": "The Queen's Poisoner (Kingfountain, #1)"
                                },
                                {
                                    "0": "The Naturals (The Naturals, #1)"
                                },
                                {
                                    "0": "The Wretched of Muirwood (Legends of Muirwood, #1)"
                                },
                                {
                                    "0": "The Shepherd's Crown (Discworld, #41; Tiffany Aching, #5)"
                                },
                                {
                                    "0": "The Plum Tree"
                                },
                                {
                                    "0": "The Crown Conspiracy (The Riyria Revelations, #1)"
                                },
                                {
                                    "0": "The Catastrophic History of You and Me"
                                },
                                {
                                    "0": "The Girl Who Was on Fire: Your Favorite Authors on Suzanne Collins' Hunger Games Trilogy"
                                },
                                {
                                    "0": "The Argonauts"
                                },
                                {
                                    "0": "The Last Painting of Sara de Vos"
                                },
                                {
                                    "0": "The Sister"
                                },
                                {
                                    "0": "The Soldier's Wife"
                                },
                                {
                                    "0": "The Shadow Throne (The Ascendance Trilogy, #3)"
                                },
                                {
                                    "0": "The Art of Thinking Clearly"
                                },
                                {
                                    "0": "The Killing (Cherub, #4)"
                                },
                                {
                                    "0": "The Lady of Shalott"
                                },
                                {
                                    "0": "The 13½ Lives of Captain Bluebear (Zamonia, #1)"
                                },
                                {
                                    "0": "The Wives of Henry VIII"
                                },
                                {
                                    "0": "The Snowman"
                                },
                                {
                                    "0": "The Look of Love (San Francisco Sullivans, #1; The Sullivans, #1)"
                                },
                                {
                                    "0": "The Matlock Paper"
                                },
                                {
                                    "0": "The Twelve Caesars"
                                },
                                {
                                    "0": "The Lady in the Lake (Philip Marlowe, #4)"
                                },
                                {
                                    "0": "The Wind Singer (Wind on Fire, #1)"
                                },
                                {
                                    "0": "The End of Mr. Y"
                                },
                                {
                                    "0": "The Death of Bees"
                                },
                                {
                                    "0": "The Country Mouse and the City Mouse; The Fox and the Crow; The Dog and His Bone"
                                },
                                {
                                    "0": "The Assassin and the Underworld (Throne of Glass, #0.4)"
                                },
                                {
                                    "0": "The Rainbow Comes and Goes: A Mother and Son On Life, Love, and Loss"
                                },
                                {
                                    "0": "The Truth According to Us"
                                },
                                {
                                    "0": "The Night Strangers"
                                },
                                {
                                    "0": "The Billionaire's Obsession ~ Simon (The Billionaire's Obsession, #1)"
                                },
                                {
                                    "0": "The King in Yellow and Other Horror Stories"
                                },
                                {
                                    "0": "The Virtue of Selfishness: A New Concept of Egoism"
                                },
                                {
                                    "0": "The Murderer's Daughters"
                                },
                                {
                                    "0": "The Archived (The Archived, #1)"
                                },
                                {
                                    "0": "The Island of the Day Before"
                                },
                                {
                                    "0": "The Sound of Gravel"
                                },
                                {
                                    "0": "The Complete Adventures of Peter Rabbit"
                                },
                                {
                                    "0": "The Case for a Creator: A Journalist Investigates Scientific Evidence That Points Toward God"
                                },
                                {
                                    "0": "The Job (Fox and O'Hare, #3)"
                                },
                                {
                                    "0": "The Skin I'm In"
                                },
                                {
                                    "0": "The Eye of God (Sigma Force #9)"
                                },
                                {
                                    "0": "The Man With a Load of Mischief (Richard Jury, #1)"
                                },
                                {
                                    "0": "The Underworld (Fallen Star, #2)"
                                },
                                {
                                    "0": "The Path Between the Seas: The Creation of the Panama Canal, 1870-1914"
                                },
                                {
                                    "0": "The Black Arrow"
                                },
                                {
                                    "0": "The Burning Wire (Lincoln Rhyme, #9)"
                                },
                                {
                                    "0": "The 158-Pound Marriage"
                                },
                                {
                                    "0": "The Ghost Bride"
                                },
                                {
                                    "0": "The Pact"
                                },
                                {
                                    "0": "The Creative Habit: Learn It and Use It for Life"
                                },
                                {
                                    "0": "The Castle in the Attic (The Castle in the Attic, #1)"
                                },
                                {
                                    "0": "The Sworn Sword (The Tales of Dunk and Egg, #2)"
                                },
                                {
                                    "0": "The Broken Window (Lincoln Rhyme, #8)"
                                },
                                {
                                    "0": "The Complete Works of H.P. Lovecraft"
                                },
                                {
                                    "0": "The Three Sisters"
                                },
                                {
                                    "0": "The Machine Crusade (Legends of Dune, #2)"
                                },
                                {
                                    "0": "The Annotated Sherlock Holmes: The Four Novels and the Fifty-Six Short Stories Complete (2 Volume Set)"
                                },
                                {
                                    "0": "The Keeping (Law of the Lycans, #3)"
                                },
                                {
                                    "0": "The Dangerous Days of Daniel X (Daniel X, #1)"
                                },
                                {
                                    "0": "The Hidden Child (Patrik Hedström, #5)"
                                },
                                {
                                    "0": "The House of the Dead"
                                },
                                {
                                    "0": "The Howling"
                                },
                                {
                                    "0": "The City of Falling Angels"
                                },
                                {
                                    "0": "The Testament of Mary"
                                },
                                {
                                    "0": "The Misremembered Man (Tailorstown #1)"
                                },
                                {
                                    "0": "The Selected Poetry of Rainer Maria Rilke"
                                },
                                {
                                    "0": "The Story of a Shipwrecked Sailor"
                                },
                                {
                                    "0": "The Color of Secrets"
                                },
                                {
                                    "0": "The Green Mile, Part 2: The Mouse on the Mile"
                                },
                                {
                                    "0": "The Three Billy Goats Gruff"
                                },
                                {
                                    "0": "The Moonlit Garden"
                                },
                                {
                                    "0": "The Realm of Possibility"
                                },
                                {
                                    "0": "The Invisible Wall: A Love Story That Broke Barriers"
                                },
                                {
                                    "0": "The Replacement"
                                },
                                {
                                    "0": "The Information: A History, a Theory, a Flood"
                                },
                                {
                                    "0": "The High Window (Philip Marlowe, #3)"
                                },
                                {
                                    "0": "The Mermaids Singing (Tony Hill & Carol Jordan, #1)"
                                },
                                {
                                    "0": "The Weight of Glory"
                                },
                                {
                                    "0": "The Bourbon Kings (The Bourbon Kings, #1)"
                                },
                                {
                                    "0": "The Guns of Navarone"
                                },
                                {
                                    "0": "The Great Brain (Great Brain #1)"
                                },
                                {
                                    "0": "The Fire Eternal (The Last Dragon Chronicles, #4)"
                                },
                                {
                                    "0": "The Commitments"
                                },
                                {
                                    "0": "The Lady & Sons Savannah Country Cookbook"
                                },
                                {
                                    "0": "The Bookseller"
                                },
                                {
                                    "0": "The Climb: Tragic Ambitions on Everest"
                                },
                                {
                                    "0": "The Thousand Names (The Shadow Campaigns, #1)"
                                },
                                {
                                    "0": "The Other Wind (Earthsea Cycle, #6)"
                                },
                                {
                                    "0": "The Paris Vendetta (Cotton Malone, #5)"
                                },
                                {
                                    "0": "The Book on the Taboo Against Knowing Who You Are"
                                },
                                {
                                    "0": "The Blood Mirror (Lightbringer, #4)"
                                },
                                {
                                    "0": "The Faerie Queene "
                                },
                                {
                                    "0": "The Fuck-Up"
                                },
                                {
                                    "0": "The Phoenix Project: A Novel About IT, DevOps, and Helping Your Business Win"
                                },
                                {
                                    "0": "The Chronicles of Harris Burdick: 14 Amazing Authors Tell the Tales"
                                },
                                {
                                    "0": "The Freedom Writers Diary"
                                },
                                {
                                    "0": "The Post-American World"
                                },
                                {
                                    "0": "The Ladies of Grace Adieu and Other Stories"
                                },
                                {
                                    "0": "The Unofficial Harry Potter Cookbook: From Cauldron Cakes to Knickerbocker Glory--More Than 150 Magical Recipes for Wizards and Non-Wizards Alike (Unofficial Cookbook)"
                                },
                                {
                                    "0": "The Automatic Millionaire: A Powerful One-Step Plan to Live and Finish Rich"
                                },
                                {
                                    "0": "The Rest Is Noise: Listening to the Twentieth Century"
                                },
                                {
                                    "0": "The Next Accident (Quincy & Rainie, #3)"
                                },
                                {
                                    "0": "The Divan"
                                },
                                {
                                    "0": "The Ear, the Eye, and the Arm"
                                },
                                {
                                    "0": "The Girl You Lost"
                                },
                                {
                                    "0": "The Sweet Life in Paris: Delicious Adventures in the World's Most Glorious - and Perplexing - City"
                                },
                                {
                                    "0": "The Red House"
                                },
                                {
                                    "0": "The Cold Moon (Lincoln Rhyme, #7)"
                                },
                                {
                                    "0": "The Moor's Last Sigh"
                                },
                                {
                                    "0": "The Dressmaker of Khair Khana: Five Sisters, One Remarkable Family, and the Woman Who Risked Everything to Keep Them Safe"
                                },
                                {
                                    "0": "The Revenge of the Baby-Sat"
                                },
                                {
                                    "0": "The Case-Book of Sherlock Holmes"
                                },
                                {
                                    "0": "The Secret Between Us"
                                },
                                {
                                    "0": "The Blood Gospel (The Order of the Sanguines, #1)"
                                },
                                {
                                    "0": "The Troubled Man (Kurt Wallander, #10)"
                                },
                                {
                                    "0": "The Work of Art in the Age of Its Technological Reproducibility, and Other Writings on Media"
                                },
                                {
                                    "0": "The Cake Mix Doctor"
                                },
                                {
                                    "0": "The Monstrumologist (The Monstrumologist, #1)"
                                },
                                {
                                    "0": "The Path to Power (The Years of Lyndon Johnson, #1)"
                                },
                                {
                                    "0": "The Education of Little Tree"
                                },
                                {
                                    "0": "The Husband's Secret Free Preview"
                                },
                                {
                                    "0": "The Prestige"
                                },
                                {
                                    "0": "The Will (Magdalene, #1)"
                                },
                                {
                                    "0": "The Billionaire Wins the Game (Billionaire Bachelors, #1)"
                                },
                                {
                                    "0": "The Pragmatic Programmer: From Journeyman to Master"
                                },
                                {
                                    "0": "The Painter"
                                },
                                {
                                    "0": "The Berenstain Bears Forget Their Manners"
                                },
                                {
                                    "0": "The Search (Eve Duncan, #3)"
                                },
                                {
                                    "0": "The Infernal Devices: Clockwork Angel (The Infernal Devices: Manga, #1)"
                                },
                                {
                                    "0": "The Royal Ranger (Ranger's Apprentice, #12)"
                                },
                                {
                                    "0": "The Submission"
                                },
                                {
                                    "0": "The Lord of the Rings Sketchbook"
                                },
                                {
                                    "0": "The Tin Roof Blowdown (Dave Robicheaux, #16)"
                                },
                                {
                                    "0": "The Death of Bunny Munro"
                                },
                                {
                                    "0": "The Golden Dynasty (Fantasyland, #2)"
                                },
                                {
                                    "0": "The Ice Queen"
                                },
                                {
                                    "0": "The Folk of the Faraway Tree (The Faraway Tree, #3)"
                                },
                                {
                                    "0": "The Flame and the Flower"
                                },
                                {
                                    "0": "The Last Dragonslayer (The Chronicles of Kazam, #1)"
                                },
                                {
                                    "0": "The Greatest Generation"
                                },
                                {
                                    "0": "The Minority Report"
                                },
                                {
                                    "0": "The Lemonade War (The Lemonade War, #1)"
                                },
                                {
                                    "0": "The Knight at Dawn (Magic Tree House, #2)"
                                },
                                {
                                    "0": "The Arrangement: The Ferro Family (The Arrangement, #1)"
                                },
                                {
                                    "0": "The Lightning Thief: The Graphic Novel (Percy Jackson and the Olympians, #1)"
                                },
                                {
                                    "0": "The Bad Seed"
                                },
                                {
                                    "0": "The Last Wife of Henry VIII"
                                },
                                {
                                    "0": "The Complete Tales and Poems"
                                },
                                {
                                    "0": "The Complete Short Novels"
                                },
                                {
                                    "0": "The Berenstain Bears Go to School"
                                },
                                {
                                    "0": "The Shadowhunter's Codex"
                                },
                                {
                                    "0": "The Way of Kings, Part 1 (The Stormlight Archive #1.1)"
                                },
                                {
                                    "0": "The Christmas List"
                                },
                                {
                                    "0": "The Tenth Justice"
                                },
                                {
                                    "0": "The Green Mile, Part 3: Coffey's Hands"
                                },
                                {
                                    "0": "The Other Daughter"
                                },
                                {
                                    "0": "The Redemption of Althalus"
                                },
                                {
                                    "0": "The Twentieth Wife (Taj Mahal Trilogy, #1)"
                                },
                                {
                                    "0": "The Buddha of Suburbia"
                                },
                                {
                                    "0": "The Voice of the Night"
                                },
                                {
                                    "0": "The Girl from Krakow"
                                },
                                {
                                    "0": "The Post-Birthday World"
                                },
                                {
                                    "0": "The Man Who Walked Between the Towers"
                                },
                                {
                                    "0": "The Double"
                                },
                                {
                                    "0": "The Tale of Mrs. Tiggy-Winkle"
                                },
                                {
                                    "0": "The Third Secret"
                                },
                                {
                                    "0": "The End of Poverty"
                                },
                                {
                                    "0": "The Kindness of Strangers"
                                },
                                {
                                    "0": "The Sculptor"
                                },
                                {
                                    "0": "The Best Nest"
                                },
                                {
                                    "0": "The Cobra Event"
                                },
                                {
                                    "0": "The Hole in Our Gospel: What does God expect of Us? The Answer that Changed my Life and Might Just Change the World"
                                },
                                {
                                    "0": "The Midwich Cuckoos"
                                },
                                {
                                    "0": "The Fourteenth Goldfish"
                                },
                                {
                                    "0": "The Honourable Schoolboy"
                                },
                                {
                                    "0": "The Tenth Insight: Holding the Vision (Celestine Prophecy, #2)"
                                },
                                {
                                    "0": "The Interpretation of Murder (Freud, #1)"
                                },
                                {
                                    "0": "The Mystery Knight (The Tales of Dunk and Egg, #3)"
                                },
                                {
                                    "0": "The Magic (The Secret, #3)"
                                },
                                {
                                    "0": "The Fifth Dominion (Imajica Part #1/2)"
                                },
                                {
                                    "0": "The Pagan Lord (The Saxon Stories, #7)"
                                },
                                {
                                    "0": "The North Water"
                                },
                                {
                                    "0": "The Forge of God (Forge of God, #1)"
                                },
                                {
                                    "0": "The Christmas Train"
                                },
                                {
                                    "0": "The Now Habit: A Strategic Program for Overcoming Procrastination and Enjoying Guilt-Free Play"
                                },
                                {
                                    "0": "The Auschwitz Escape"
                                },
                                {
                                    "0": "The Drama of the Gifted Child: The Search for the True Self"
                                },
                                {
                                    "0": "The Case of Charles Dexter Ward"
                                },
                                {
                                    "0": "The Dark Is Rising Sequence  (The Dark Is Rising #1-5)"
                                },
                                {
                                    "0": "The Flight of Gemma Hardy"
                                },
                                {
                                    "0": "The King's Agent"
                                },
                                {
                                    "0": "The Healer (O'Malley #5)"
                                },
                                {
                                    "0": "The Guardian (O'Malley #2)"
                                },
                                {
                                    "0": "The Noticer: Sometimes, All a Person Needs Is a Little Perspective"
                                },
                                {
                                    "0": "The Goal (Off-Campus, #4)"
                                },
                                {
                                    "0": "The Boyfriend Thief (Stolen Kiss, #1)"
                                },
                                {
                                    "0": "The Lewis Man (The Lewis Trilogy, #2)"
                                },
                                {
                                    "0": "The Elves of Cintra (Genesis of Shannara, #2)"
                                },
                                {
                                    "0": "The Vision (Fallen Star, #3)"
                                },
                                {
                                    "0": "The Gemini Contenders"
                                },
                                {
                                    "0": "The Field of Swords (Emperor, #3)"
                                },
                                {
                                    "0": "The Haunted (The Hollow, #2)"
                                },
                                {
                                    "0": "The Protector (O'Malley #4)"
                                },
                                {
                                    "0": "The It Girl (It Girl, #1)"
                                },
                                {
                                    "0": "The Wheel of Time: Boxed Set  (Wheel of Time, #1-8)"
                                },
                                {
                                    "0": "The Traveler's Gift: Seven Decisions that Determine Personal Success"
                                },
                                {
                                    "0": "The Girl in the Steel Corset (Steampunk Chronicles, #1)"
                                },
                                {
                                    "0": "The Green Mile, Part 6: Coffey on the Mile"
                                },
                                {
                                    "0": "The Gift (Crown's Spies, #3)"
                                },
                                {
                                    "0": "The Lion's Lady (Crown's Spies, #1)"
                                },
                                {
                                    "0": "The Legend of Luke (Redwall, #12)"
                                },
                                {
                                    "0": "The Hand of Oberon (The Chronicles of Amber #4)"
                                },
                                {
                                    "0": "The Dragonslayer (Bone, #4)"
                                },
                                {
                                    "0": "The Secret Scripture"
                                },
                                {
                                    "0": "The Nasty Bits: Collected Varietal Cuts, Usable Trim, Scraps, and Bones"
                                },
                                {
                                    "0": "The Wicked Girls"
                                },
                                {
                                    "0": "The Promise"
                                },
                                {
                                    "0": "The Haj"
                                },
                                {
                                    "0": "The Darkest Road (The Fionavar Tapestry, #3)"
                                },
                                {
                                    "0": "The Midwife's Revolt (The Midwife Series, #1)"
                                },
                                {
                                    "0": "The Boy Who Came Back from Heaven: A Remarkable Account of Miracles, Angels, and Life beyond This World"
                                },
                                {
                                    "0": "The Night Sister"
                                },
                                {
                                    "0": "The Sound of Things Falling"
                                },
                                {
                                    "0": "The Chase (Isaac Bell, #1)"
                                },
                                {
                                    "0": "The Obituary Writer"
                                },
                                {
                                    "0": "The Beatles: The Biography"
                                },
                                {
                                    "0": "The Incredible Hulk: Planet Hulk"
                                },
                                {
                                    "0": "The Single Girl's To-Do List"
                                },
                                {
                                    "0": "The Redhead Revealed (Redhead, #2)"
                                },
                                {
                                    "0": "The Big Nowhere (L.A. Quartet, #2)"
                                },
                                {
                                    "0": "The Old Curiosity Shop"
                                },
                                {
                                    "0": "The Clocks (Hercule Poirot, #34)"
                                },
                                {
                                    "0": "The One I Left Behind"
                                },
                                {
                                    "0": "The Orc King (Forgotten Realms: Transitions, #1; Legend of Drizzt, #17)"
                                },
                                {
                                    "0": "The Dolphins of Pern (Pern, #13)"
                                },
                                {
                                    "0": "The Abduction (Theodore Boone, #2)"
                                },
                                {
                                    "0": "The Beggar King (The Hangman's Daughter, #3)"
                                },
                                {
                                    "0": "The Penderwicks on Gardam Street (The Penderwicks, #2)"
                                },
                                {
                                    "0": "The Nightmare (Joona Linna, #2)"
                                },
                                {
                                    "0": "The Reef"
                                },
                                {
                                    "0": "The Gods of War (Emperor, #4)"
                                },
                                {
                                    "0": "The Last Time We Say Goodbye"
                                },
                                {
                                    "0": "The Secret Art of Dr. Seuss"
                                },
                                {
                                    "0": "The Obelisk Gate (The Broken Earth, #2)"
                                },
                                {
                                    "0": "The Children's Book"
                                },
                                {
                                    "0": "The Shadowy Horses"
                                },
                                {
                                    "0": "The Way the Crow Flies"
                                },
                                {
                                    "0": "The Locket (The Locket, #1)"
                                },
                                {
                                    "0": "The Quiche of Death (Agatha Raisin, #1)"
                                },
                                {
                                    "0": "The Marvelous Land of Oz (Oz, #2)"
                                },
                                {
                                    "0": "The First Confessor (The Legend of Magda Searus, #1)"
                                },
                                {
                                    "0": "The Second Ship (The Rho Agenda, #1)"
                                },
                                {
                                    "0": "The Beet Queen"
                                },
                                {
                                    "0": "The Wave"
                                },
                                {
                                    "0": "The Cinderella Murder (Under Suspicion, #2)"
                                },
                                {
                                    "0": "The Marvels"
                                },
                                {
                                    "0": "The Last Werewolf (The Last Werewolf, #1)"
                                },
                                {
                                    "0": "The Carrot Seed"
                                },
                                {
                                    "0": "The Nose"
                                },
                                {
                                    "0": "The Society of the Spectacle"
                                },
                                {
                                    "0": "The Hate U Give"
                                },
                                {
                                    "0": "The Private Patient (Adam Dalgliesh #14)"
                                },
                                {
                                    "0": "The Medium is the Massage"
                                },
                                {
                                    "0": "The Chronicles of Pern: First Fall (Pern, #12)"
                                },
                                {
                                    "0": "The Autograph Man"
                                },
                                {
                                    "0": "The Rogue (Traitor Spy Trilogy, #2)"
                                },
                                {
                                    "0": "The Seven Storey Mountain"
                                },
                                {
                                    "0": "The Keep"
                                },
                                {
                                    "0": "The Survivors Club"
                                },
                                {
                                    "0": "The Force Awakens (Star Wars)"
                                },
                                {
                                    "0": "The Mane Event (Pride, #1)"
                                },
                                {
                                    "0": "The White Rose (The Chronicles of the Black Company, #3)"
                                },
                                {
                                    "0": "The Charterhouse of Parma"
                                },
                                {
                                    "0": "The Faithful Spy (John Wells, #1)"
                                },
                                {
                                    "0": "The Book of Luke"
                                },
                                {
                                    "0": "The Complete Poems 1927-1979"
                                },
                                {
                                    "0": "The Hand That First Held Mine"
                                },
                                {
                                    "0": "The Fourth Estate"
                                },
                                {
                                    "0": "The Man Who Listens to Horses"
                                },
                                {
                                    "0": "The Calling (Endgame, #1)"
                                },
                                {
                                    "0": "The Sea of Trolls (Sea of Trolls, #1)"
                                },
                                {
                                    "0": "The Man from Beijing"
                                },
                                {
                                    "0": "The Girl in the Red Coat"
                                },
                                {
                                    "0": "The Gate Thief (Mither Mages, #2)"
                                },
                                {
                                    "0": "The Elvenbane (Halfblood Chronicles, #1)"
                                },
                                {
                                    "0": "The Midnight Palace (Niebla, #2)"
                                },
                                {
                                    "0": "The Prefect (Prefect Dreyfus Emergency, #1)"
                                },
                                {
                                    "0": "The Secret of the Unicorn (Tintin, #11)"
                                },
                                {
                                    "0": "The Gay Science"
                                },
                                {
                                    "0": "The Broken Kingdoms (Inheritance, #2)"
                                },
                                {
                                    "0": "The Three (The Three, #1)"
                                },
                                {
                                    "0": "The Night Is for Hunting (Tomorrow, #6)"
                                },
                                {
                                    "0": "The Devil You Know (Felix Castor, #1)"
                                },
                                {
                                    "0": "The Upanishads: Translations from the Sanskrit"
                                },
                                {
                                    "0": "The Law of Nines"
                                },
                                {
                                    "0": "The Places That Scare You: A Guide to Fearlessness in Difficult Times"
                                },
                                {
                                    "0": "The Mistress of Spices"
                                },
                                {
                                    "0": "The House on Tradd Street (Tradd Street, #1)"
                                },
                                {
                                    "0": "The Finding (Law of the Lycans, #5)"
                                },
                                {
                                    "0": "The First 90 Days, Updated and Expanded: Critical Success Strategies for New Leaders at All Levels"
                                },
                                {
                                    "0": "The Pretty Committee Strikes Back (The Clique, #5)"
                                },
                                {
                                    "0": "The Lake (The Lake Trilogy #1)"
                                },
                                {
                                    "0": "The Hunger Pains: A Parody"
                                },
                                {
                                    "0": "The Rats (Rats, #1)"
                                },
                                {
                                    "0": "The Wandering Fire (The Fionavar Tapestry, #2)"
                                },
                                {
                                    "0": "The Wild Ones (The Wild Ones, #1)"
                                },
                                {
                                    "0": "The River Why"
                                },
                                {
                                    "0": "The Invention of Morel"
                                },
                                {
                                    "0": "The Fall of Berlin 1945"
                                },
                                {
                                    "0": "The Water-Method Man"
                                },
                                {
                                    "0": "The Empathy Exams: Essays"
                                },
                                {
                                    "0": "The Duchess War (Brothers Sinister, #1)"
                                },
                                {
                                    "0": "The Walking Dead, Vol. 13: Too Far Gone"
                                },
                                {
                                    "0": "The Story of Ruby Bridges"
                                },
                                {
                                    "0": "The Midwife of Hope River"
                                },
                                {
                                    "0": "The Complete Robot (Robot #0.3)"
                                },
                                {
                                    "0": "The Covenant (Abram's Daughters, #1)"
                                },
                                {
                                    "0": "The Chosen One"
                                },
                                {
                                    "0": "The Negotiator"
                                },
                                {
                                    "0": "The Power of Full Engagement: Managing Energy, Not Time, Is the Key to High Performance and Personal Renewal"
                                },
                                {
                                    "0": "The Decline and Fall of the Roman Empire"
                                },
                                {
                                    "0": "The Summer I Turned Pretty Trilogy: The Summer I Turned Pretty; It's Not Summer Without You; We'll Always Have Summer"
                                },
                                {
                                    "0": "The Amateur Marriage"
                                },
                                {
                                    "0": "The Voyages of Doctor Dolittle (Doctor Dolittle, #2)"
                                },
                                {
                                    "0": "The Remaining (The Remaining, #1)"
                                },
                                {
                                    "0": "The Good Father"
                                },
                                {
                                    "0": "The Story of B: An Adventure of the Mind and Spirit"
                                },
                                {
                                    "0": "The Knockoff"
                                },
                                {
                                    "0": "The Space Between (Outlander, #7.5)"
                                },
                                {
                                    "0": "The Berenstain Bears and Too Much TV"
                                },
                                {
                                    "0": "The Center Cannot Hold: My Journey Through Madness"
                                },
                                {
                                    "0": "The Afghan"
                                },
                                {
                                    "0": "The Bite Before Christmas (Argeneau, #15.5; Night Huntress, #6.5)"
                                },
                                {
                                    "0": "The Lion King (Disney's Wonderful World of Reading)"
                                },
                                {
                                    "0": "The Art of Amy Brown"
                                },
                                {
                                    "0": "The Turner House"
                                },
                                {
                                    "0": "The Map That Changed the World"
                                },
                                {
                                    "0": "The Chronicles of Narnia - The Lion, the Witch, and the Wardrobe Official Illustrated Movie Companion"
                                },
                                {
                                    "0": "The Other Side of Dawn (Tomorrow, #7)"
                                },
                                {
                                    "0": "The Tiger Who Came to Tea"
                                },
                                {
                                    "0": "The Wolves of Willoughby Chase (The Wolves Chronicles, #1)"
                                },
                                {
                                    "0": "The Egg"
                                },
                                {
                                    "0": "The Scarlatti Inheritance"
                                },
                                {
                                    "0": "The Last Days of Dogtown"
                                },
                                {
                                    "0": "The Last Picture Show"
                                },
                                {
                                    "0": "The Stainless Steel Rat (Stainless Steel Rat, #4)"
                                },
                                {
                                    "0": "The Rowan (The Tower and the Hive, #1)"
                                },
                                {
                                    "0": "The Versions of Us"
                                },
                                {
                                    "0": "The Last Council (Amulet, #4)"
                                },
                                {
                                    "0": "The Next Big Thing"
                                },
                                {
                                    "0": "The Honest Truth About Dishonesty: How We Lie to Everyone - Especially Ourselves"
                                },
                                {
                                    "0": "The Illustrated Mum"
                                },
                                {
                                    "0": "The Bookman’s Tale"
                                },
                                {
                                    "0": "The Last Boleyn"
                                },
                                {
                                    "0": "The Vision"
                                },
                                {
                                    "0": "The Discoverers: A History of Man's Search to Know His World and Himself"
                                },
                                {
                                    "0": "The Accident"
                                },
                                {
                                    "0": "The Green Mile, Part 5: Night Journey"
                                },
                                {
                                    "0": "The Bridge Across Forever: A True Love Story"
                                },
                                {
                                    "0": "The Serpent of Venice (The Fool, #2)"
                                },
                                {
                                    "0": "The Men Who Stare at Goats"
                                },
                                {
                                    "0": "The Girl with No Shadow (Chocolat, #2)"
                                },
                                {
                                    "0": "The Pacific"
                                },
                                {
                                    "0": "The Prize Winner of Defiance, Ohio: How My Mother Raised 10 Kids on 25 Words or Less"
                                },
                                {
                                    "0": "The Comfort of Strangers"
                                },
                                {
                                    "0": "The Mime Order (The Bone Season, #2)"
                                },
                                {
                                    "0": "The Ground Beneath Her Feet"
                                },
                                {
                                    "0": "The Story of the Trapp Family Singers"
                                },
                                {
                                    "0": "The Virgin Cure"
                                },
                                {
                                    "0": "The Tycoon's Revenge (Baby for the Billionaire, #1)"
                                },
                                {
                                    "0": "The Seven Principles for Making Marriage Work: A Practical Guide from the Country's Foremost Relationship Expert"
                                },
                                {
                                    "0": "The King Beyond the Gate (The Drenai Saga, #2)"
                                },
                                {
                                    "0": "The Sailor Who Fell from Grace with the Sea"
                                },
                                {
                                    "0": "The Measure of a Lady"
                                },
                                {
                                    "0": "The Twelfth Card (Lincoln Rhyme, #6)"
                                },
                                {
                                    "0": "The Snow Leopard"
                                },
                                {
                                    "0": "The Mambo Kings Play Songs of Love"
                                },
                                {
                                    "0": "The Famished Road"
                                },
                                {
                                    "0": "The Red Knight (The Traitor Son Cycle, #1)"
                                },
                                {
                                    "0": "The Time Traveller's Guide to Medieval England: A Handbook for Visitors to the Fourteenth Century"
                                },
                                {
                                    "0": "The Everafter War (The Sisters Grimm, #7)"
                                },
                                {
                                    "0": "The Mauritius Command"
                                },
                                {
                                    "0": "The First World War"
                                }
                            ]
                        },
                        "text/html": [
                            "<table>",
                            "<tr><th>title</th></tr>",
                            "<tr><td>The Hunger Games (The Hunger Games, #1)</td></tr>",
                            "<tr><td>The Great Gatsby</td></tr>",
                            "<tr><td>The Fault in Our Stars</td></tr>",
                            "<tr><td>The Hobbit</td></tr>",
                            "<tr><td>The Catcher in the Rye</td></tr>",
                            "<tr><td>The Kite Runner</td></tr>",
                            "<tr><td>The Diary of a Young Girl</td></tr>",
                            "<tr><td>The Girl with the Dragon Tattoo (Millennium, #1)</td></tr>",
                            "<tr><td>The Fellowship of the Ring (The Lord of the Rings, #1)</td></tr>",
                            "<tr><td>The Lovely Bones</td></tr>",
                            "<tr><td>The Da Vinci Code (Robert Langdon, #2)</td></tr>",
                            "<tr><td>The Help</td></tr>",
                            "<tr><td>The Alchemist</td></tr>",
                            "<tr><td>The Giver (The Giver, #1)</td></tr>",
                            "<tr><td>The Lion, the Witch, and the Wardrobe (Chronicles of Narnia, #1)</td></tr>",
                            "<tr><td>The Time Traveler's Wife</td></tr>",
                            "<tr><td>The Lightning Thief (Percy Jackson and the Olympians, #1)</td></tr>",
                            "<tr><td>The Notebook (The Notebook, #1)</td></tr>",
                            "<tr><td>The Book Thief</td></tr>",
                            "<tr><td>The Hitchhiker's Guide to the Galaxy (Hitchhiker's Guide to the Galaxy, #1)</td></tr>",
                            "<tr><td>The Secret Life of Bees</td></tr>",
                            "<tr><td>The Adventures of Huckleberry Finn</td></tr>",
                            "<tr><td>The Curious Incident of the Dog in the Night-Time</td></tr>",
                            "<tr><td>The Girl on the Train</td></tr>",
                            "<tr><td>The Golden Compass (His Dark Materials, #1)</td></tr>",
                            "<tr><td>The Perks of Being a Wallflower</td></tr>",
                            "<tr><td>The Shining (The Shining #1)</td></tr>",
                            "<tr><td>The Host (The Host, #1)</td></tr>",
                            "<tr><td>The Devil Wears Prada (The Devil Wears Prada, #1)</td></tr>",
                            "<tr><td>The Odyssey</td></tr>",
                            "<tr><td>The Little Prince</td></tr>",
                            "<tr><td>The Glass Castle</td></tr>",
                            "<tr><td>The Giving Tree</td></tr>",
                            "<tr><td>The Princess Bride </td></tr>",
                            "<tr><td>The Outsiders</td></tr>",
                            "<tr><td>The Maze Runner (Maze Runner, #1)</td></tr>",
                            "<tr><td>The Secret Garden</td></tr>",
                            "<tr><td>The Picture of Dorian Gray</td></tr>",
                            "<tr><td>The Girl Who Played with Fire (Millennium, #2)</td></tr>",
                            "<tr><td>The Poisonwood Bible</td></tr>",
                            "<tr><td>The Count of Monte Cristo</td></tr>",
                            "<tr><td>The Road</td></tr>",
                            "<tr><td>The Memory Keeper's Daughter</td></tr>",
                            "<tr><td>The Adventures of Tom Sawyer</td></tr>",
                            "<tr><td>The Joy Luck Club</td></tr>",
                            "<tr><td>The Handmaid's Tale</td></tr>",
                            "<tr><td>The Sisterhood of the Traveling Pants (Sisterhood, #1)</td></tr>",
                            "<tr><td>The Firm (Penguin Readers, Level 5)</td></tr>",
                            "<tr><td>The Tipping Point: How Little Things Can Make a Big Difference</td></tr>",
                            "<tr><td>The Old Man and the Sea</td></tr>",
                            "<tr><td>The Grapes of Wrath</td></tr>",
                            "<tr><td>The Five People You Meet in Heaven</td></tr>",
                            "<tr><td>The Scarlet Letter</td></tr>",
                            "<tr><td>The Girl Who Kicked the Hornet's Nest (Millennium, #3)</td></tr>",
                            "<tr><td>The Martian</td></tr>",
                            "<tr><td>The Pillars of the Earth (The Kingsbridge Series, #1)</td></tr>",
                            "<tr><td>The Goldfinch</td></tr>",
                            "<tr><td>The Red Tent</td></tr>",
                            "<tr><td>The Sea of Monsters (Percy Jackson and the Olympians, #2)</td></tr>",
                            "<tr><td>The Two Towers (The Lord of the Rings, #2)</td></tr>",
                            "<tr><td>The Battle of the Labyrinth (Percy Jackson and the Olympians, #4)</td></tr>",
                            "<tr><td>The Return of the King (The Lord of the Rings, #3)</td></tr>",
                            "<tr><td>The Stranger</td></tr>",
                            "<tr><td>The Lost Hero (The Heroes of Olympus, #1)</td></tr>",
                            "<tr><td>The Stand</td></tr>",
                            "<tr><td>The Last Song</td></tr>",
                            "<tr><td>The Shack</td></tr>",
                            "<tr><td>The Last Olympian (Percy Jackson and the Olympians, #5)</td></tr>",
                            "<tr><td>The Bell Jar</td></tr>",
                            "<tr><td>The Night Circus</td></tr>",
                            "<tr><td>The Other Boleyn Girl (The Plantagenet and Tudor Novels, #9)</td></tr>",
                            "<tr><td>The Lord of the Rings (The Lord of the Rings, #1-3)</td></tr>",
                            "<tr><td>The Name of the Wind (The Kingkiller Chronicle, #1)</td></tr>",
                            "<tr><td>The Guernsey Literary and Potato Peel Pie Society</td></tr>",
                            "<tr><td>The Color Purple</td></tr>",
                            "<tr><td>The Lost Symbol (Robert Langdon, #3)</td></tr>",
                            "<tr><td>The Selection (The Selection, #1)</td></tr>",
                            "<tr><td>The Immortal Life of Henrietta Lacks</td></tr>",
                            "<tr><td>The Silence of the Lambs  (Hannibal Lecter, #2)</td></tr>",
                            "<tr><td>The Metamorphosis</td></tr>",
                            "<tr><td>The Titan's Curse (Percy Jackson and the Olympians, #3)</td></tr>",
                            "<tr><td>The Art of Racing in the Rain</td></tr>",
                            "<tr><td>The Devil in the White City: Murder, Magic, and Madness at the Fair That Changed America</td></tr>",
                            "<tr><td>The Chronicles of Narnia (Chronicles of Narnia, #1-7)</td></tr>",
                            "<tr><td>The Bourne Identity (Jason Bourne, #1)</td></tr>",
                            "<tr><td>The Client</td></tr>",
                            "<tr><td>The Nanny Diaries (Nanny, #1)</td></tr>",
                            "<tr><td>The Gunslinger (The Dark Tower, #1)</td></tr>",
                            "<tr><td>The Husband's Secret</td></tr>",
                            "<tr><td>The 7 Habits of Highly Effective People: Powerful Lessons in Personal Change</td></tr>",
                            "<tr><td>The Cat in the Hat</td></tr>",
                            "<tr><td>The Cuckoo's Calling (Cormoran Strike, #1)</td></tr>",
                            "<tr><td>The Shadow of the Wind (The Cemetery of Forgotten Books,  #1)</td></tr>",
                            "<tr><td>The Scorch Trials (Maze Runner, #2)</td></tr>",
                            "<tr><td>The Sun Also Rises</td></tr>",
                            "<tr><td>The Nightingale</td></tr>",
                            "<tr><td>The Godfather</td></tr>",
                            "<tr><td>The Ocean at the End of the Lane</td></tr>",
                            "<tr><td>The Pelican Brief</td></tr>",
                            "<tr><td>The Rosie Project (Don Tillman, #1)</td></tr>",
                            "<tr><td>The Lucky One</td></tr>",
                            "<tr><td>The Fountainhead</td></tr>",
                            "<tr><td>The Hunt for Red October (Jack Ryan Universe, #4)</td></tr>",
                            "<tr><td>The Voyage of the Dawn Treader (Chronicles of Narnia, #3)</td></tr>",
                            "<tr><td>The Son of Neptune (The Heroes of Olympus, #2)</td></tr>",
                            "<tr><td>The Very Hungry Caterpillar Board Book</td></tr>",
                            "<tr><td>The Time Machine</td></tr>",
                            "<tr><td>The Boy in the Striped Pajamas</td></tr>",
                            "<tr><td>The Secret (The Secret, #1)</td></tr>",
                            "<tr><td>The Wise Man's Fear (The Kingkiller Chronicle, #2)</td></tr>",
                            "<tr><td>The Thorn Birds</td></tr>",
                            "<tr><td>The Graveyard Book</td></tr>",
                            "<tr><td>The Light Between Oceans</td></tr>",
                            "<tr><td>The Unbearable Lightness of Being</td></tr>",
                            "<tr><td>The Last Lecture</td></tr>",
                            "<tr><td>The Eye of the World (Wheel of Time, #1)</td></tr>",
                            "<tr><td>The Pact</td></tr>",
                            "<tr><td>The Magician's Nephew (Chronicles of Narnia, #6)</td></tr>",
                            "<tr><td>The Ultimate Hitchhiker's Guide to the Galaxy</td></tr>",
                            "<tr><td>The Iliad</td></tr>",
                            "<tr><td>The Casual Vacancy</td></tr>",
                            "<tr><td>The Runaway Jury</td></tr>",
                            "<tr><td>The Wonderful Wizard of Oz (Oz, #1)</td></tr>",
                            "<tr><td>The Bad Beginning (A Series of Unfortunate Events, #1)</td></tr>",
                            "<tr><td>The Screwtape Letters</td></tr>",
                            "<tr><td>The Subtle Knife (His Dark Materials, #2)</td></tr>",
                            "<tr><td>The Red Pyramid (Kane Chronicles, #1)</td></tr>",
                            "<tr><td>The BFG</td></tr>",
                            "<tr><td>The Call of the Wild</td></tr>",
                            "<tr><td>The Death Cure (Maze Runner, #3)</td></tr>",
                            "<tr><td>The Namesake</td></tr>",
                            "<tr><td>The Crucible</td></tr>",
                            "<tr><td>The Final Empire (Mistborn, #1)</td></tr>",
                            "<tr><td>The Strange Case of Dr. Jekyll and Mr. Hyde</td></tr>",
                            "<tr><td>The Lorax</td></tr>",
                            "<tr><td>The Tales of Beedle the Bard</td></tr>",
                            "<tr><td>The Tell-Tale Heart and Other Writings</td></tr>",
                            "<tr><td>The Art of War</td></tr>",
                            "<tr><td>The New Drawing on the Right Side of the Brain</td></tr>",
                            "<tr><td>The Undomestic Goddess</td></tr>",
                            "<tr><td>The Five Love Languages: How to Express Heartfelt Commitment to Your Mate</td></tr>",
                            "<tr><td>The Three Musketeers</td></tr>",
                            "<tr><td>The Witches</td></tr>",
                            "<tr><td>The Thirteenth Tale</td></tr>",
                            "<tr><td>The Paris Wife</td></tr>",
                            "<tr><td>The Elite (The Selection, #2)</td></tr>",
                            "<tr><td>The Name of the Rose</td></tr>",
                            "<tr><td>The Importance of Being Earnest</td></tr>",
                            "<tr><td>The Mark of Athena (The Heroes of Olympus, #3)</td></tr>",
                            "<tr><td>The Color of Magic (Discworld, #1; Rincewind #1)</td></tr>",
                            "<tr><td>The God of Small Things</td></tr>",
                            "<tr><td>The Invention of Wings</td></tr>",
                            "<tr><td>The Purpose Driven Life: What on Earth Am I Here for?</td></tr>",
                            "<tr><td>The 5th Wave (The 5th Wave, #1)</td></tr>",
                            "<tr><td>The Historian</td></tr>",
                            "<tr><td>The Good Earth (House of Earth, #1)</td></tr>",
                            "<tr><td>The Hobbit: Graphic Novel</td></tr>",
                            "<tr><td>The Brief Wondrous Life of Oscar Wao</td></tr>",
                            "<tr><td>The God Delusion</td></tr>",
                            "<tr><td>The World According to Garp</td></tr>",
                            "<tr><td>The Prince</td></tr>",
                            "<tr><td>The Amber Spyglass (His Dark Materials, #3)</td></tr>",
                            "<tr><td>The Kitchen House</td></tr>",
                            "<tr><td>The Brothers Karamazov</td></tr>",
                            "<tr><td>The City of Ember (Book of Ember, #1)</td></tr>",
                            "<tr><td>The Andromeda Strain</td></tr>",
                            "<tr><td>The Green Mile</td></tr>",
                            "<tr><td>The Prophet</td></tr>",
                            "<tr><td>The Secret History</td></tr>",
                            "<tr><td>The Clan of the Cave Bear (Earth's Children, #1)</td></tr>",
                            "<tr><td>The Princess Diaries (The Princess Diaries, #1)</td></tr>",
                            "<tr><td>The No. 1 Ladies' Detective Agency  (No. 1 Ladies' Detective Agency, #1)</td></tr>",
                            "<tr><td>The Walking Dead, Vol. 01: Days Gone Bye</td></tr>",
                            "<tr><td>The One (The Selection, #3)</td></tr>",
                            "<tr><td>The Hunger Games Trilogy Boxset (The Hunger Games, #1-3)</td></tr>",
                            "<tr><td>The Great Hunt (Wheel of Time, #2)</td></tr>",
                            "<tr><td>The Complete Stories and Poems</td></tr>",
                            "<tr><td>The Hiding Place: The Triumphant True Story of Corrie Ten Boom</td></tr>",
                            "<tr><td>The Adventures of Sherlock Holmes</td></tr>",
                            "<tr><td>The Prince of Tides</td></tr>",
                            "<tr><td>The Amazing Adventures of Kavalier &amp; Clay</td></tr>",
                            "<tr><td>The Wind-Up Bird Chronicle</td></tr>",
                            "<tr><td>The Lincoln Lawyer (Mickey Haller, #1; Harry Bosch Universe, #16)</td></tr>",
                            "<tr><td>The Things They Carried</td></tr>",
                            "<tr><td>The Dragon Reborn (Wheel of Time, #3)</td></tr>",
                            "<tr><td>The Power of Habit: Why We Do What We Do in Life and Business</td></tr>",
                            "<tr><td>The Truth About Forever</td></tr>",
                            "<tr><td>The Horse and His Boy (Chronicles of Narnia, #5)</td></tr>",
                            "<tr><td>The Velveteen Rabbit</td></tr>",
                            "<tr><td>The War of the Worlds</td></tr>",
                            "<tr><td>The Omnivore's Dilemma: A Natural History of Four Meals</td></tr>",
                            "<tr><td>The Rescue</td></tr>",
                            "<tr><td>The Virgin Suicides</td></tr>",
                            "<tr><td>The Phantom Tollbooth</td></tr>",
                            "<tr><td>The Way of Kings (The Stormlight Archive, #1)</td></tr>",
                            "<tr><td>The Well of Ascension (Mistborn, #2)</td></tr>",
                            "<tr><td>The Language of Flowers</td></tr>",
                            "<tr><td>The Angel Experiment (Maximum Ride, #1)</td></tr>",
                            "<tr><td>The Guardian</td></tr>",
                            "<tr><td>The Story of Art</td></tr>",
                            "<tr><td>The Magicians (The Magicians #1)</td></tr>",
                            "<tr><td>The Bourne Supremacy (Jason Bourne, #2)</td></tr>",
                            "<tr><td>The Absolutely True Diary of a Part-Time Indian</td></tr>",
                            "<tr><td>The Master and Margarita</td></tr>",
                            "<tr><td>The Rainmaker</td></tr>",
                            "<tr><td>The Restaurant at the End of the Universe (Hitchhiker's Guide, #2)</td></tr>",
                            "<tr><td>The Tale of Peter Rabbit</td></tr>",
                            "<tr><td>The Silver Chair (Chronicles of Narnia, #4)</td></tr>",
                            "<tr><td>The Hero of Ages (Mistborn, #3)</td></tr>",
                            "<tr><td>The Boys in the Boat: Nine Americans and Their Epic Quest for Gold at the 1936 Berlin Olympics</td></tr>",
                            "<tr><td>The Silmarillion (Middle-Earth Universe)</td></tr>",
                            "<tr><td>The Drawing of the Three (The Dark Tower, #2)</td></tr>",
                            "<tr><td>The Forgotten Garden</td></tr>",
                            "<tr><td>The Trial</td></tr>",
                            "<tr><td>The Hound of the Baskervilles</td></tr>",
                            "<tr><td>The Mists of Avalon (Avalon, #1)</td></tr>",
                            "<tr><td>The Polar Express</td></tr>",
                            "<tr><td>The True Story of the 3 Little Pigs</td></tr>",
                            "<tr><td>The Twilight Saga Breaking Dawn Part 1: The Official Illustrated Movie Companion (The Twilight Saga: The Official Illustrated Movie Companion, #4)</td></tr>",
                            "<tr><td>The Martian Chronicles</td></tr>",
                            "<tr><td>The Last Battle (Chronicles of Narnia, #7)</td></tr>",
                            "<tr><td>The Canterbury Tales</td></tr>",
                            "<tr><td>The Phantom of the Opera</td></tr>",
                            "<tr><td>The White Tiger</td></tr>",
                            "<tr><td>The Corrections</td></tr>",
                            "<tr><td>The Passage (The Passage, #1)</td></tr>",
                            "<tr><td>The House of the Spirits</td></tr>",
                            "<tr><td>The Dead Zone</td></tr>",
                            "<tr><td>The Mysterious Affair at Styles (Hercule Poirot, #1)</td></tr>",
                            "<tr><td>The Storied Life of A.J. Fikry</td></tr>",
                            "<tr><td>The House of Hades (The Heroes of Olympus, #4)</td></tr>",
                            "<tr><td>The Wedding (The Notebook, #2)</td></tr>",
                            "<tr><td>The Audacity of Hope: Thoughts on Reclaiming the American Dream</td></tr>",
                            "<tr><td>The Silkworm (Cormoran Strike, #2)</td></tr>",
                            "<tr><td>The Vampire Lestat (The Vampire Chronicles, #2)</td></tr>",
                            "<tr><td>The Silver Linings Playbook</td></tr>",
                            "<tr><td>The Constant Princess (The Plantagenet and Tudor Novels, #6)</td></tr>",
                            "<tr><td>The Hundred-Year-Old Man Who Climbed Out of the Window and Disappeared</td></tr>",
                            "<tr><td>The Cider House Rules</td></tr>",
                            "<tr><td>The Choice</td></tr>",
                            "<tr><td>The Hunger Games: Official Illustrated Movie Companion</td></tr>",
                            "<tr><td>The Sound and the Fury</td></tr>",
                            "<tr><td>The Shadow Rising (Wheel of Time, #4)</td></tr>",
                            "<tr><td>The Waste Lands (The Dark Tower, #3)</td></tr>",
                            "<tr><td>The Bone Collector (Lincoln Rhyme, #1)</td></tr>",
                            "<tr><td>The Reader</td></tr>",
                            "<tr><td>The Pearl</td></tr>",
                            "<tr><td>The Exorcist</td></tr>",
                            "<tr><td>The Short Second Life of Bree Tanner: An Eclipse Novella (Twilight, #3.5)</td></tr>",
                            "<tr><td>The Little House Collection (Little House, #1-9)</td></tr>",
                            "<tr><td>The Girls' Guide to Hunting and Fishing</td></tr>",
                            "<tr><td>The Power of Now: A Guide to Spiritual Enlightenment</td></tr>",
                            "<tr><td>The Lies of Locke Lamora (Gentleman Bastard, #1)</td></tr>",
                            "<tr><td>The Storyteller</td></tr>",
                            "<tr><td>The Iron King (The Iron Fey, #1)</td></tr>",
                            "<tr><td>The Bluest Eye</td></tr>",
                            "<tr><td>The White Queen (The Plantagenet and Tudor Novels, #2)</td></tr>",
                            "<tr><td>The Autobiography of Malcolm X</td></tr>",
                            "<tr><td>The Complete Sherlock Holmes</td></tr>",
                            "<tr><td>The Republic</td></tr>",
                            "<tr><td>The Taming of the Shrew</td></tr>",
                            "<tr><td>The Art Book</td></tr>",
                            "<tr><td>The Hunchback of Notre-Dame</td></tr>",
                            "<tr><td>The Awakening</td></tr>",
                            "<tr><td>The Four Agreements: A Practical Guide to Personal Freedom</td></tr>",
                            "<tr><td>The Complete Grimm's Fairy Tales</td></tr>",
                            "<tr><td>The Story of My Life</td></tr>",
                            "<tr><td>The Tempest</td></tr>",
                            "<tr><td>The Circle</td></tr>",
                            "<tr><td>The Invention of Hugo Cabret</td></tr>",
                            "<tr><td>The Good Girl</td></tr>",
                            "<tr><td>The Remains of the Day</td></tr>",
                            "<tr><td>The Best of Me</td></tr>",
                            "<tr><td>The Sense of an Ending</td></tr>",
                            "<tr><td>The Wind in the Willows</td></tr>",
                            "<tr><td>The DUFF: Designated Ugly Fat Friend</td></tr>",
                            "<tr><td>The Chamber</td></tr>",
                            "<tr><td>The Unlikely Pilgrimage of Harold Fry (Harold Fry, #1)</td></tr>",
                            "<tr><td>The Merchant of Venice</td></tr>",
                            "<tr><td>The Deep End of the Ocean (Cappadora Family, #1)</td></tr>",
                            "<tr><td>The Bonesetter's Daughter</td></tr>",
                            "<tr><td>The Westing Game</td></tr>",
                            "<tr><td>The Way of Shadows (Night Angel, #1)</td></tr>",
                            "<tr><td>The Bean Trees (Greer Family, #1)</td></tr>",
                            "<tr><td>The Fiery Cross (Outlander, #5)</td></tr>",
                            "<tr><td>The History of Love</td></tr>",
                            "<tr><td>The Elegance of the Hedgehog</td></tr>",
                            "<tr><td>The Plague</td></tr>",
                            "<tr><td>The Reptile Room (A Series of Unfortunate Events, #2)</td></tr>",
                            "<tr><td>The Neverending Story</td></tr>",
                            "<tr><td>The Jungle</td></tr>",
                            "<tr><td>The Summoning (Darkest Powers, #1)</td></tr>",
                            "<tr><td>The Man Who Mistook His Wife for a Hat and Other Clinical Tales</td></tr>",
                            "<tr><td>The Blind Assassin</td></tr>",
                            "<tr><td>The Girl with All the Gifts</td></tr>",
                            "<tr><td>The Year of Magical Thinking</td></tr>",
                            "<tr><td>The Queen of the Damned (The Vampire Chronicles, #3)</td></tr>",
                            "<tr><td>The Age of Innocence</td></tr>",
                            "<tr><td>The Selfish Gene</td></tr>",
                            "<tr><td>The Black Echo (Harry Bosch, #1; Harry Bosch Universe, #1)</td></tr>",
                            "<tr><td>The Tenth Circle</td></tr>",
                            "<tr><td>The Throne of Fire (Kane Chronicles, #2)</td></tr>",
                            "<tr><td>The Joy of Cooking</td></tr>",
                            "<tr><td>The Forever War (The Forever War, #1)</td></tr>",
                            "<tr><td>The Blade Itself (The First Law, #1)</td></tr>",
                            "<tr><td>The Arctic Incident (Artemis Fowl, #2)</td></tr>",
                            "<tr><td>The Shipping News</td></tr>",
                            "<tr><td>The Life-Changing Magic of Tidying Up: The Japanese Art of Decluttering and Organizing</td></tr>",
                            "<tr><td>The Alchemyst (The Secrets of the Immortal Nicholas Flamel, #1)</td></tr>",
                            "<tr><td>The Marriage Plot</td></tr>",
                            "<tr><td>The Raven Boys (The Raven Cycle, #1)</td></tr>",
                            "<tr><td>The Edge of Never (The Edge of Never, #1)</td></tr>",
                            "<tr><td>The Hours</td></tr>",
                            "<tr><td>The Kill Order (Maze Runner, #0.5)</td></tr>",
                            "<tr><td>The Fires of Heaven (Wheel of Time, #5)</td></tr>",
                            "<tr><td>The Dark Tower (The Dark Tower, #7)</td></tr>",
                            "<tr><td>The Complete Anne of Green Gables Boxed Set (Anne of Green Gables, #1-8)</td></tr>",
                            "<tr><td>The Gathering Storm (Wheel of Time, #12)</td></tr>",
                            "<tr><td>The Partner</td></tr>",
                            "<tr><td>The Dark Half</td></tr>",
                            "<tr><td>The World Is Flat: A Brief History of the Twenty-first Century</td></tr>",
                            "<tr><td>The Rainbow Fish</td></tr>",
                            "<tr><td>The Happiness Project: Or Why I Spent a Year Trying to Sing in the Morning, Clean My Closets, Fight Right, Read Aristotle, and Generally Have More Fun</td></tr>",
                            "<tr><td>The Man in the High Castle</td></tr>",
                            "<tr><td>The Alienist (Dr. Laszlo Kreizler, #1)</td></tr>",
                            "<tr><td>The Big Short: Inside the Doomsday Machine</td></tr>",
                            "<tr><td>The Girl Who Loved Tom Gordon</td></tr>",
                            "<tr><td>The Day of the Jackal</td></tr>",
                            "<tr><td>The Twilight Saga (Twilight, #1-4)</td></tr>",
                            "<tr><td>The Unbecoming of Mara Dyer (Mara Dyer, #1)</td></tr>",
                            "<tr><td>The Scarlet Pimpernel</td></tr>",
                            "<tr><td>The Monster at the End of this Book</td></tr>",
                            "<tr><td>The Dinner</td></tr>",
                            "<tr><td>The Power of Six (Lorien Legacies, #2)</td></tr>",
                            "<tr><td>The Interestings</td></tr>",
                            "<tr><td>The Essential Calvin and Hobbes: A Calvin and Hobbes Treasury</td></tr>",
                            "<tr><td>The Secret Keeper</td></tr>",
                            "<tr><td>The Surgeon (Rizzoli &amp; Isles, #1)</td></tr>",
                            "<tr><td>The Girl You Left Behind</td></tr>",
                            "<tr><td>The Tale of Despereaux</td></tr>",
                            "<tr><td>The Sweetness at the Bottom of the Pie (Flavia de Luce, #1)</td></tr>",
                            "<tr><td>The Blood of Olympus (The Heroes of Olympus, #5)</td></tr>",
                            "<tr><td>The Art of Fielding</td></tr>",
                            "<tr><td>The Wide Window (A Series of Unfortunate Events, #3)</td></tr>",
                            "<tr><td>The Street Lawyer</td></tr>",
                            "<tr><td>The Idiot</td></tr>",
                            "<tr><td>The One and Only Ivan</td></tr>",
                            "<tr><td>The Perfect Storm: A True Story of Men Against the Sea</td></tr>",
                            "<tr><td>The Knife of Never Letting Go (Chaos Walking, #1)</td></tr>",
                            "<tr><td>The Zombie Survival Guide: Complete Protection from the Living Dead</td></tr>",
                            "<tr><td>The Testament</td></tr>",
                            "<tr><td>The Witch of Blackbird Pond</td></tr>",
                            "<tr><td>The Heir (The Selection, #4)</td></tr>",
                            "<tr><td>The Woman in White</td></tr>",
                            "<tr><td>The Summer I Turned Pretty (Summer, #1)</td></tr>",
                            "<tr><td>The Color of Water: A Black Man's Tribute to His White Mother</td></tr>",
                            "<tr><td>The Sirens of Titan</td></tr>",
                            "<tr><td>The Nest</td></tr>",
                            "<tr><td>The Celestine Prophecy (Celestine Prophecy, #1)</td></tr>",
                            "<tr><td>The Longest Ride</td></tr>",
                            "<tr><td>The Great Divorce</td></tr>",
                            "<tr><td>The Complete Fairy Tales</td></tr>",
                            "<tr><td>The Immortals of Meluha (Shiva Trilogy, #1)</td></tr>",
                            "<tr><td>The Lost World (Jurassic Park, #2)</td></tr>",
                            "<tr><td>The History of the Hobbit, Part One: Mr. Baggins</td></tr>",
                            "<tr><td>The Amityville Horror</td></tr>",
                            "<tr><td>The English Patient</td></tr>",
                            "<tr><td>The Eternity Code (Artemis Fowl, #3)</td></tr>",
                            "<tr><td>The Tommyknockers</td></tr>",
                            "<tr><td>The Psychopath Test: A Journey Through the Madness Industry</td></tr>",
                            "<tr><td>The Time Keeper</td></tr>",
                            "<tr><td>The Amulet of Samarkand (Bartimaeus, #1)</td></tr>",
                            "<tr><td>The One Minute Manager</td></tr>",
                            "<tr><td>The Big Sleep (Philip Marlowe, #1)</td></tr>",
                            "<tr><td>The Miserable Mill (A Series of Unfortunate Events, #4)</td></tr>",
                            "<tr><td>The Snow Child</td></tr>",
                            "<tr><td>The Last Straw (Diary of a Wimpy Kid, #3)</td></tr>",
                            "<tr><td>The Divine Comedy</td></tr>",
                            "<tr><td>The Tao of Pooh</td></tr>",
                            "<tr><td>The Birth of Venus</td></tr>",
                            "<tr><td>The Opal Deception  (Artemis Fowl, #4)</td></tr>",
                            "<tr><td>The Girl in the Spider's Web (Millennium, #4)</td></tr>",
                            "<tr><td>The Girls</td></tr>",
                            "<tr><td>The Goose Girl (The Books of Bayern, #1)</td></tr>",
                            "<tr><td>The Prince and the Pauper</td></tr>",
                            "<tr><td>The Moon is a Harsh Mistress</td></tr>",
                            "<tr><td>The Forty Rules of Love</td></tr>",
                            "<tr><td>The Glass Menagerie</td></tr>",
                            "<tr><td>The 4-Hour Workweek</td></tr>",
                            "<tr><td>The Monk Who Sold His Ferrari: A Fable About Fulfilling Your Dreams  Reaching Your Destiny</td></tr>",
                            "<tr><td>The Round House</td></tr>",
                            "<tr><td>The Alloy of Law (Mistborn, #4)</td></tr>",
                            "<tr><td>The Accidental Tourist</td></tr>",
                            "<tr><td>The Invisible Man</td></tr>",
                            "<tr><td>The Swiss Family Robinson  </td></tr>",
                            "<tr><td>The Marriage Bargain (Marriage to a Billionaire, #1)</td></tr>",
                            "<tr><td>The Little Engine That Could</td></tr>",
                            "<tr><td>The Witching Hour (Lives of the Mayfair Witches, #1)</td></tr>",
                            "<tr><td>The Coincidence of Callie &amp; Kayden (The Coincidence, #1)</td></tr>",
                            "<tr><td>The Foundation Trilogy (Foundation, #1-3)</td></tr>",
                            "<tr><td>The Elegant Universe: Superstrings, Hidden Dimensions, and the Quest for the Ultimate Theory</td></tr>",
                            "<tr><td>The Austere Academy (A Series of Unfortunate Events, #5)</td></tr>",
                            "<tr><td>The Awakening (Darkest Powers, #2)</td></tr>",
                            "<tr><td>The Vile Village (A Series of Unfortunate Events, #7)</td></tr>",
                            "<tr><td>The Shell Seekers</td></tr>",
                            "<tr><td>The Lowland</td></tr>",
                            "<tr><td>The Ruins of Gorlan (Ranger's Apprentice, #1)</td></tr>",
                            "<tr><td>The Brethren</td></tr>",
                            "<tr><td>The Talisman (The Talisman, #1)</td></tr>",
                            "<tr><td>The Path of Daggers (Wheel of Time, #8)</td></tr>",
                            "<tr><td>The Dharma Bums</td></tr>",
                            "<tr><td>The Reckoning (Darkest Powers, #3)</td></tr>",
                            "<tr><td>The House on Mango Street</td></tr>",
                            "<tr><td>The Twits</td></tr>",
                            "<tr><td>The Beach House</td></tr>",
                            "<tr><td>The Eyes of the Dragon</td></tr>",
                            "<tr><td>The Snowy Day</td></tr>",
                            "<tr><td>The Hot Zone: The Terrifying True Story of the Origins of the Ebola Virus</td></tr>",
                            "<tr><td>The Signature of All Things</td></tr>",
                            "<tr><td>The Night Before Christmas</td></tr>",
                            "<tr><td>The Case for Christ</td></tr>",
                            "<tr><td>The Aeneid</td></tr>",
                            "<tr><td>The Long Walk</td></tr>",
                            "<tr><td>The Ersatz Elevator (A Series of Unfortunate Events, #6)</td></tr>",
                            "<tr><td>The Mysterious Benedict Society (The Mysterious Benedict Society, #1)</td></tr>",
                            "<tr><td>The Statistical Probability of Love at First Sight</td></tr>",
                            "<tr><td>The Golem's Eye (Bartimaeus, #2)</td></tr>",
                            "<tr><td>The Broker</td></tr>",
                            "<tr><td>The Road Less Traveled: A New Psychology of Love, Traditional Values, and Spiritual Growth</td></tr>",
                            "<tr><td>The Boxcar Children (The Boxcar Children, #1)</td></tr>",
                            "<tr><td>The Silent Wife</td></tr>",
                            "<tr><td>The Pilot's Wife</td></tr>",
                            "<tr><td>The Origin of Species</td></tr>",
                            "<tr><td>The Story of Edgar Sawtelle</td></tr>",
                            "<tr><td>The Complete Sherlock Holmes, Vol 2</td></tr>",
                            "<tr><td>The Last Unicorn (The Last Unicorn, #1)</td></tr>",
                            "<tr><td>The Likeness (Dublin Murder Squad, #2)</td></tr>",
                            "<tr><td>The Jungle Book</td></tr>",
                            "<tr><td>The Tiger's Wife</td></tr>",
                            "<tr><td>The Book of Mormon: Another Testament of Jesus Christ</td></tr>",
                            "<tr><td>The Mist</td></tr>",
                            "<tr><td>The Light Fantastic (Discworld, #2; Rincewind #2)</td></tr>",
                            "<tr><td>The Blind Side: Evolution of a Game</td></tr>",
                            "<tr><td>The Strange Case of Dr. Jekyll and Mr. Hyde and Other Tales of Terror</td></tr>",
                            "<tr><td>The Hunger Games Tribute Guide</td></tr>",
                            "<tr><td>The Warded Man (Demon Cycle, #1)</td></tr>",
                            "<tr><td>The Pilgrim's Progress</td></tr>",
                            "<tr><td>The Serpent's Shadow (Kane Chronicles, #3)</td></tr>",
                            "<tr><td>The House at Riverton</td></tr>",
                            "<tr><td>The Heart is a Lonely Hunter</td></tr>",
                            "<tr><td>The Infinite Sea (The 5th Wave, #2)</td></tr>",
                            "<tr><td>The Once and Future King (The Once and Future King #1-4)</td></tr>",
                            "<tr><td>The Indian in the Cupboard (The Indian in the Cupboard, #1)</td></tr>",
                            "<tr><td>The Ugly Truth (Diary of a Wimpy Kid, #5)</td></tr>",
                            "<tr><td>The Professor and the Madman: A Tale of Murder, Insanity and the Making of the Oxford English Dictionary</td></tr>",
                            "<tr><td>The Complete Maus (Maus, #1-2)</td></tr>",
                            "<tr><td>The Eyre Affair (Thursday Next, #1)</td></tr>",
                            "<tr><td>The Art of Happiness</td></tr>",
                            "<tr><td>The Bone Clocks</td></tr>",
                            "<tr><td>The Last Juror</td></tr>",
                            "<tr><td>The Miniaturist</td></tr>",
                            "<tr><td>The Lost Colony (Artemis Fowl, #5)</td></tr>",
                            "<tr><td>The Burning Bridge (Ranger's Apprentice, #2)</td></tr>",
                            "<tr><td>The Book of Life (All Souls Trilogy, #3)</td></tr>",
                            "<tr><td>The Artist's Way: A Spiritual Path to Higher Creativity</td></tr>",
                            "<tr><td>The Stinky Cheese Man and Other Fairly Stupid Tales</td></tr>",
                            "<tr><td>The Year of the Flood  (MaddAddam, #2)</td></tr>",
                            "<tr><td>The King of Torts</td></tr>",
                            "<tr><td>The 3 Mistakes of My Life</td></tr>",
                            "<tr><td>The Murder of Roger Ackroyd (Hercule Poirot, #4)</td></tr>",
                            "<tr><td>The Lean Startup: How Today's Entrepreneurs Use Continuous Innovation to Create Radically Successful Businesses</td></tr>",
                            "<tr><td>The Golden Lily (Bloodlines, #2)</td></tr>",
                            "<tr><td>The Stand: Captain Trips</td></tr>",
                            "<tr><td>The Rise and Fall of the Third Reich: A History of Nazi Germany</td></tr>",
                            "<tr><td>The Communist Manifesto</td></tr>",
                            "<tr><td>The Woman in Cabin 10</td></tr>",
                            "<tr><td>The Last of the Mohicans (The Leatherstocking Tales #2)</td></tr>",
                            "<tr><td>The Iron Daughter</td></tr>",
                            "<tr><td>The Prayer of Jabez:  Breaking Through to the Blessed Life</td></tr>",
                            "<tr><td>The Age of Miracles</td></tr>",
                            "<tr><td>The Rosie Effect (Don Tillman, #2)</td></tr>",
                            "<tr><td>The Secret of the Nagas (Shiva Trilogy #2)</td></tr>",
                            "<tr><td>The Walking Dead, Compendium 1</td></tr>",
                            "<tr><td>The Memoirs of Sherlock Holmes</td></tr>",
                            "<tr><td>The Orphan Master's Son</td></tr>",
                            "<tr><td>The Complete Persepolis</td></tr>",
                            "<tr><td>The Chosen</td></tr>",
                            "<tr><td>The Agony and the Ecstasy</td></tr>",
                            "<tr><td>The Angel's Game (The Cemetery of Forgotten Books, #2)</td></tr>",
                            "<tr><td>The Golem and the Jinni (The Golem and the Jinni, #1)</td></tr>",
                            "<tr><td>The Slippery Slope (A Series of Unfortunate Events, #10)</td></tr>",
                            "<tr><td>The Boston Girl</td></tr>",
                            "<tr><td>The Fall of Hyperion (Hyperion Cantos, #2)</td></tr>",
                            "<tr><td>The Black Dahlia (L.A. Quartet, #1)</td></tr>",
                            "<tr><td>The Strain (The Strain Trilogy, #1)</td></tr>",
                            "<tr><td>The Complete Poems of Emily Dickinson</td></tr>",
                            "<tr><td>The Borrowers (The Borrowers, #1)</td></tr>",
                            "<tr><td>The Queen's Fool (The Plantagenet and Tudor Novels, #12)</td></tr>",
                            "<tr><td>The Battle for Skandia (Ranger's Apprentice, #4)</td></tr>",
                            "<tr><td>The Darkest Minds (The Darkest Minds, #1)</td></tr>",
                            "<tr><td>The Zahir</td></tr>",
                            "<tr><td>The Power of Positive Thinking</td></tr>",
                            "<tr><td>The House of Mirth</td></tr>",
                            "<tr><td>The Slow Regard of Silent Things (The Kingkiller Chronicle #2.5)</td></tr>",
                            "<tr><td>The Black Swan: The Impact of the Highly Improbable</td></tr>",
                            "<tr><td>The Twelve (The Passage, #2)</td></tr>",
                            "<tr><td>The Diamond Age: or, A Young Lady's Illustrated Primer</td></tr>",
                            "<tr><td>The Red Badge of Courage</td></tr>",
                            "<tr><td>The Witch Of Portobello</td></tr>",
                            "<tr><td>The Tale of the Body Thief (The Vampire Chronicles, #4)</td></tr>",
                            "<tr><td>The Camel Club (Camel Club, #1)</td></tr>",
                            "<tr><td>The Boleyn Inheritance (The Plantagenet and Tudor Novels, #10)</td></tr>",
                            "<tr><td>The Underground Railroad</td></tr>",
                            "<tr><td>The Iron Queen (The Iron Fey, #3)</td></tr>",
                            "<tr><td>The Racketeer</td></tr>",
                            "<tr><td>The House at Pooh Corner (Winnie-the-Pooh, #2)</td></tr>",
                            "<tr><td>The Black Prism (Lightbringer, #1)</td></tr>",
                            "<tr><td>The Mermaid Chair</td></tr>",
                            "<tr><td>The Carnivorous Carnival (A Series of Unfortunate Events, #9)</td></tr>",
                            "<tr><td>The Killer Angels (The Civil War Trilogy, #2)</td></tr>",
                            "<tr><td>The Island of Dr. Moreau</td></tr>",
                            "<tr><td>The Gift of the Magi</td></tr>",
                            "<tr><td>The Electric Kool-Aid Acid Test</td></tr>",
                            "<tr><td>The Left Hand of Darkness</td></tr>",
                            "<tr><td>The Beach</td></tr>",
                            "<tr><td>The Farthest Shore (Earthsea Cycle, #3)</td></tr>",
                            "<tr><td>The Power of One (The Power of One, #1)</td></tr>",
                            "<tr><td>The Maltese Falcon</td></tr>",
                            "<tr><td>The Story of Ferdinand</td></tr>",
                            "<tr><td>The Poet (Jack McEvoy, #1; Harry Bosch Universe, #5)</td></tr>",
                            "<tr><td>The Shoemaker's Wife</td></tr>",
                            "<tr><td>The Next Always (Inn BoonsBoro, #1)</td></tr>",
                            "<tr><td>The Twilight Saga Complete Collection  (Twilight, #1-4 + 3.5)</td></tr>",
                            "<tr><td>The Tombs of Atuan (Earthsea Cycle, #2)</td></tr>",
                            "<tr><td>The Sign of Four</td></tr>",
                            "<tr><td>The Mitten</td></tr>",
                            "<tr><td>The Magician (The Secrets of the Immortal Nicholas Flamel, #2)</td></tr>",
                            "<tr><td>The True Confessions of Charlotte Doyle</td></tr>",
                            "<tr><td>The Poky Little Puppy (A Little Golden Book)</td></tr>",
                            "<tr><td>The Call of the Wild/White Fang</td></tr>",
                            "<tr><td>The Friday Night Knitting Club (Friday Night Knitting Club, #1)</td></tr>",
                            "<tr><td>The Day of the Triffids</td></tr>",
                            "<tr><td>The Sisters Brothers</td></tr>",
                            "<tr><td>The Book of Ruth</td></tr>",
                            "<tr><td>The House of the Scorpion (Matteo Alacran, #1)</td></tr>",
                            "<tr><td>The Magician King (The Magicians, #2)</td></tr>",
                            "<tr><td>The Richest Man in Babylon</td></tr>",
                            "<tr><td>The Great Dune Trilogy  </td></tr>",
                            "<tr><td>The Jungle Books</td></tr>",
                            "<tr><td>The Dark Tower: The Gunslinger Born</td></tr>",
                            "<tr><td>The Lake House</td></tr>",
                            "<tr><td>The Fall of the House of Usher and Other Tales </td></tr>",
                            "<tr><td>The Paying Guests</td></tr>",
                            "<tr><td>The Kitchen God's Wife</td></tr>",
                            "<tr><td>The Rise of Nine (Lorien Legacies, #3)</td></tr>",
                            "<tr><td>The Second Summer of the Sisterhood (Sisterhood, #2)</td></tr>",
                            "<tr><td>The Wee Free Men (Discworld, #30; Tiffany Aching, #1)</td></tr>",
                            "<tr><td>The Long Dark Tea-Time of the Soul (Dirk Gently, #2)</td></tr>",
                            "<tr><td>The Desert Spear (Demon Cycle, #2)</td></tr>",
                            "<tr><td>The Man in the Brown Suit</td></tr>",
                            "<tr><td>The Summons</td></tr>",
                            "<tr><td>The Bonfire of the Vanities</td></tr>",
                            "<tr><td>The Redbreast (Harry Hole, #3)</td></tr>",
                            "<tr><td>The Love Dare</td></tr>",
                            "<tr><td>The Death and Life of Charlie St. Cloud</td></tr>",
                            "<tr><td>The Mortal Instruments Boxed Set: City of Bones; City of Ashes; City of Glass (The Mortal Instruments, #1-3)</td></tr>",
                            "<tr><td>The Time Paradox (Artemis Fowl, #6)</td></tr>",
                            "<tr><td>The Sky Is Everywhere</td></tr>",
                            "<tr><td>The Tenant of Wildfell Hall</td></tr>",
                            "<tr><td>The Black Stallion (The Black Stallion, #1)</td></tr>",
                            "<tr><td>The Grim Grotto (A Series of Unfortunate Events, #11)</td></tr>",
                            "<tr><td>The Dream Thieves (The Raven Cycle, #2)</td></tr>",
                            "<tr><td>The Portrait of a Lady</td></tr>",
                            "<tr><td>The Raven</td></tr>",
                            "<tr><td>The Yellow Wallpaper and Other Stories</td></tr>",
                            "<tr><td>The Calvin and Hobbes Tenth Anniversary Book</td></tr>",
                            "<tr><td>The Art Forger</td></tr>",
                            "<tr><td>The Running Man</td></tr>",
                            "<tr><td>The Crying of Lot 49</td></tr>",
                            "<tr><td>The Sword of Shannara (The Original Shannara Trilogy, #1)</td></tr>",
                            "<tr><td>The Awakening / The Struggle (The Vampire Diaries, #1-2)</td></tr>",
                            "<tr><td>The Scorpio Races</td></tr>",
                            "<tr><td>The Last Anniversary</td></tr>",
                            "<tr><td>The General's Daughter</td></tr>",
                            "<tr><td>The Hostile Hospital (A Series of Unfortunate Events, #8)</td></tr>",
                            "<tr><td>The Omen</td></tr>",
                            "<tr><td>The Innocent (Will Robie, #1)</td></tr>",
                            "<tr><td>The Hypnotist's Love Story</td></tr>",
                            "<tr><td>The Devil and Miss Prym (On the Seventh Day, #3)</td></tr>",
                            "<tr><td>The Kissing Hand</td></tr>",
                            "<tr><td>The Emperor of All Maladies: A Biography of Cancer</td></tr>",
                            "<tr><td>The Seven Spiritual Laws of Success: A Practical Guide to the Fulfillment of Your Dreams</td></tr>",
                            "<tr><td>The Vacationers</td></tr>",
                            "<tr><td>The Hangman's Daughter (The Hangman's Daughter, #1)</td></tr>",
                            "<tr><td>The Yiddish Policemen's Union</td></tr>",
                            "<tr><td>The Aviator's Wife</td></tr>",
                            "<tr><td>The Affair (Jack Reacher, #16)</td></tr>",
                            "<tr><td>The Elements of Style</td></tr>",
                            "<tr><td>The Turn of the Screw</td></tr>",
                            "<tr><td>The Mote in God's Eye</td></tr>",
                            "<tr><td>The Snowman (Harry Hole, #7)</td></tr>",
                            "<tr><td>The Spirit Catches You and You Fall Down: A Hmong Child, Her American Doctors, and the Collision of Two Cultures</td></tr>",
                            "<tr><td>The Indigo Spell (Bloodlines, #3)</td></tr>",
                            "<tr><td>The Doll's House (The Sandman #2)</td></tr>",
                            "<tr><td>The Lost Boy (Dave Pelzer #2)</td></tr>",
                            "<tr><td>The Associate</td></tr>",
                            "<tr><td>The Sandman: Overture</td></tr>",
                            "<tr><td>The Merry Adventures of Robin Hood</td></tr>",
                            "<tr><td>The Arabian Nights</td></tr>",
                            "<tr><td>The Caves of Steel (Robot #1)</td></tr>",
                            "<tr><td>The Mouse and the Motorcycle (Ralph S. Mouse, #1)</td></tr>",
                            "<tr><td>The Forest of Hands and Teeth (The Forest of Hands and Teeth, #1)</td></tr>",
                            "<tr><td>The Elfstones of Shannara  (The Original Shannara Trilogy, #2)</td></tr>",
                            "<tr><td>The Luminaries</td></tr>",
                            "<tr><td>The Wasp Factory</td></tr>",
                            "<tr><td>The Evolution of Mara Dyer (Mara Dyer, #2)</td></tr>",
                            "<tr><td>The Sword of Summer (Magnus Chase and the Gods of Asgard, #1)</td></tr>",
                            "<tr><td>The Man in the Iron Mask (The D'Artagnan Romances, #3.3)</td></tr>",
                            "<tr><td>The Haunting of Hill House</td></tr>",
                            "<tr><td>The Rum Diary</td></tr>",
                            "<tr><td>The Bourne Ultimatum (Jason Bourne, #3)</td></tr>",
                            "<tr><td>The Young Elites (The Young Elites, #1)</td></tr>",
                            "<tr><td>The Interpretation of Dreams</td></tr>",
                            "<tr><td>The Penultimate Peril (A Series of Unfortunate Events, #12)</td></tr>",
                            "<tr><td>The End (A Series of Unfortunate Events, #13)</td></tr>",
                            "<tr><td>The Liars' Club</td></tr>",
                            "<tr><td>The Illustrated Man</td></tr>",
                            "<tr><td>The Runaway Bunny</td></tr>",
                            "<tr><td>The Grand Design</td></tr>",
                            "<tr><td>The Innocent Man: Murder and Injustice in a Small Town</td></tr>",
                            "<tr><td>The Bachman Books</td></tr>",
                            "<tr><td>The Art of Hearing Heartbeats</td></tr>",
                            "<tr><td>The Magic of Thinking Big</td></tr>",
                            "<tr><td>The Vampire Armand (The Vampire Chronicles, #6)</td></tr>",
                            "<tr><td>The Power of a Praying Wife</td></tr>",
                            "<tr><td>The Hour I First Believed</td></tr>",
                            "<tr><td>The Death of Ivan Ilych</td></tr>",
                            "<tr><td>The Dovekeepers</td></tr>",
                            "<tr><td>The Republic of Thieves (Gentleman Bastard, #3)</td></tr>",
                            "<tr><td>The Thief Lord</td></tr>",
                            "<tr><td>The Bridges of Madison County</td></tr>",
                            "<tr><td>The Sorceress (The Secrets of the Immortal Nicholas Flamel, #3)</td></tr>",
                            "<tr><td>The Maze of Bones  (The 39 Clues, #1)</td></tr>",
                            "<tr><td>The Twilight Collection (Twilight, #1-3)</td></tr>",
                            "<tr><td>The Fall</td></tr>",
                            "<tr><td>The Moonstone</td></tr>",
                            "<tr><td>The Gifts of Imperfection: Let Go of Who You Think You're Supposed to Be and Embrace Who You Are</td></tr>",
                            "<tr><td>The Van Alen Legacy (Blue Bloods, #4)</td></tr>",
                            "<tr><td>The Year of Living Biblically: One Man's Humble Quest to Follow the Bible as Literally as Possible</td></tr>",
                            "<tr><td>The One &amp; Only</td></tr>",
                            "<tr><td>The Valley of Horses (Earth's Children, #2)</td></tr>",
                            "<tr><td>The Oedipus Cycle: Oedipus Rex/Oedipus at Colonus/Antigone (The Theban Plays, #1–3)</td></tr>",
                            "<tr><td>The Woods</td></tr>",
                            "<tr><td>The Litigators</td></tr>",
                            "<tr><td>The Miraculous Journey of Edward Tulane</td></tr>",
                            "<tr><td>The Last Letter from Your Lover</td></tr>",
                            "<tr><td>The House Girl</td></tr>",
                            "<tr><td>The Third Wheel (Diary of a Wimpy Kid, #7)</td></tr>",
                            "<tr><td>The Body Farm (Kay Scarpetta, #5)</td></tr>",
                            "<tr><td>The Boy Next Door (Boy, #1)</td></tr>",
                            "<tr><td>The Epic of Gilgamesh</td></tr>",
                            "<tr><td>The Luxe (Luxe, #1)</td></tr>",
                            "<tr><td>The Complete Tales</td></tr>",
                            "<tr><td>The Qur'an / القرآن الكريم</td></tr>",
                            "<tr><td>The Darkest Night (Lords of the Underworld #1)</td></tr>",
                            "<tr><td>The Lacuna</td></tr>",
                            "<tr><td>The Silver Star</td></tr>",
                            "<tr><td>The Hotel New Hampshire</td></tr>",
                            "<tr><td>The Laughing Corpse (Anita Blake, Vampire Hunter, #2)</td></tr>",
                            "<tr><td>The Stand: Soul Survivors</td></tr>",
                            "<tr><td>The Sneetches and Other Stories</td></tr>",
                            "<tr><td>The Harry Potter Collection 1-4 (Harry Potter, #1-4)</td></tr>",
                            "<tr><td>The Windup Girl</td></tr>",
                            "<tr><td>The Importance of Being Earnest and Other Plays</td></tr>",
                            "<tr><td>The Letters of Vincent van Gogh</td></tr>",
                            "<tr><td>The Lost City of Z: A Tale of Deadly Obsession in the Amazon</td></tr>",
                            "<tr><td>The Magicians' Guild (Black Magician Trilogy, #1)</td></tr>",
                            "<tr><td>The Necromancer  (The Secrets of the Immortal Nicholas Flamel, #4)</td></tr>",
                            "<tr><td>The Book of Three (The Chronicles of Prydain, #1)</td></tr>",
                            "<tr><td>The Goal: A Process of Ongoing Improvement</td></tr>",
                            "<tr><td>The Jane Austen Book Club</td></tr>",
                            "<tr><td>The Children Act</td></tr>",
                            "<tr><td>The Iliad/The Odyssey</td></tr>",
                            "<tr><td>The Wishing Spell (The Land of Stories, #1)</td></tr>",
                            "<tr><td>The 19th Wife</td></tr>",
                            "<tr><td>The Secret of Ella and Micha (The Secret, #1)</td></tr>",
                            "<tr><td>The Yellow Wall-Paper</td></tr>",
                            "<tr><td>The Time Machine/The Invisible Man</td></tr>",
                            "<tr><td>The Blinding Knife (Lightbringer, #2)</td></tr>",
                            "<tr><td>The Icebound Land (Ranger's Apprentice, #3)</td></tr>",
                            "<tr><td>The Grownup</td></tr>",
                            "<tr><td>The Oath of the Vayuputras (Shiva Trilogy, #3)</td></tr>",
                            "<tr><td>The Cat in the Hat and Other Dr. Seuss Favorites</td></tr>",
                            "<tr><td>The Deal (Off-Campus, #1)</td></tr>",
                            "<tr><td>The Crown (The Selection, #5)</td></tr>",
                            "<tr><td>The Six Wives of Henry VIII</td></tr>",
                            "<tr><td>The Ghost Brigades (Old Man's War, #2)</td></tr>",
                            "<tr><td>The Lottery and Other Stories</td></tr>",
                            "<tr><td>The Odessa File</td></tr>",
                            "<tr><td>The Burgess Boys</td></tr>",
                            "<tr><td>The Complete Works</td></tr>",
                            "<tr><td>The Dispossessed</td></tr>",
                            "<tr><td>The Confession</td></tr>",
                            "<tr><td>The Couple Next Door</td></tr>",
                            "<tr><td>The Pillars of Creation (Sword of Truth, #7)</td></tr>",
                            "<tr><td>The Life We Bury</td></tr>",
                            "<tr><td>The Eagle Has Landed (Liam Devlin, #1)</td></tr>",
                            "<tr><td>The Lunatic Cafe (Anita Blake, Vampire Hunter #4)</td></tr>",
                            "<tr><td>The Demon-Haunted World: Science as a Candle in the Dark</td></tr>",
                            "<tr><td>The Black Cauldron (The Chronicles of Prydain #2)</td></tr>",
                            "<tr><td>The First Phone Call from Heaven</td></tr>",
                            "<tr><td>The A.B.C. Murders (Hercule Poirot, #13)</td></tr>",
                            "<tr><td>The Duke and I (Bridgertons, #1)</td></tr>",
                            "<tr><td>The Sum of All Fears (Jack Ryan Universe, #7)</td></tr>",
                            "<tr><td>The Good Neighbor</td></tr>",
                            "<tr><td>The Enemy (Jack Reacher, #8)</td></tr>",
                            "<tr><td>The Diving Bell and the Butterfly</td></tr>",
                            "<tr><td>The Life and Times of the Thunderbolt Kid</td></tr>",
                            "<tr><td>The Last Wish (The Witcher, #1)</td></tr>",
                            "<tr><td>The 5th Horseman (Women's Murder Club, #5)</td></tr>",
                            "<tr><td>The Pursuit of God</td></tr>",
                            "<tr><td>The Iron Knight (The Iron Fey, #4)</td></tr>",
                            "<tr><td>The Millennium Trilogy (Millennium Trilogy, #1-3)</td></tr>",
                            "<tr><td>The Butterfly Garden (The Collector #1)</td></tr>",
                            "<tr><td>The Inheritance of Loss</td></tr>",
                            "<tr><td>The Sorrows of Young Werther</td></tr>",
                            "<tr><td>The Girl of Fire and Thorns (Fire and Thorns, #1)</td></tr>",
                            "<tr><td>The Ask and the Answer (Chaos Walking, #2)</td></tr>",
                            "<tr><td>The Children of Húrin</td></tr>",
                            "<tr><td>The Total Money Makeover: A Proven Plan for Financial Fitness</td></tr>",
                            "<tr><td>The Magician's Land (The Magicians, #3)</td></tr>",
                            "<tr><td>The Trumpet of the Swan</td></tr>",
                            "<tr><td>The Millionaire Next Door: The Surprising Secrets of Americas Wealthy</td></tr>",
                            "<tr><td>The Lost Continent: Travels in Small Town America</td></tr>",
                            "<tr><td>The Player of Games (Culture, #2)</td></tr>",
                            "<tr><td>The Cricket in Times Square</td></tr>",
                            "<tr><td>The Five Dysfunctions of a Team: A Leadership Fable</td></tr>",
                            "<tr><td>The Mighty Storm (The Storm, #1)</td></tr>",
                            "<tr><td>The Song of Achilles</td></tr>",
                            "<tr><td>The Girl with the Lower Back Tattoo</td></tr>",
                            "<tr><td>The Bhagavad Gita</td></tr>",
                            "<tr><td>The New York Trilogy</td></tr>",
                            "<tr><td>The Killing Dance (Anita Blake, Vampire Hunter, #6)</td></tr>",
                            "<tr><td>The Watsons Go to Birmingham - 1963</td></tr>",
                            "<tr><td>The Immortal Rules (Blood of Eden, #1)</td></tr>",
                            "<tr><td>The Chaperone</td></tr>",
                            "<tr><td>The Regulators</td></tr>",
                            "<tr><td>The Botany of Desire: A Plant's-Eye View of the World</td></tr>",
                            "<tr><td>The Distant Hours</td></tr>",
                            "<tr><td>The Vincent Boys (The Vincent Boys, #1)</td></tr>",
                            "<tr><td>The Cask of Amontillado</td></tr>",
                            "<tr><td>The Legend of Sleepy Hollow (Graphic Novel)</td></tr>",
                            "<tr><td>The Witness</td></tr>",
                            "<tr><td>The Final Warning (Maximum Ride, #4)</td></tr>",
                            "<tr><td>The Fifth Witness (Mickey Haller, #5; Harry Bosch Universe, #20)</td></tr>",
                            "<tr><td>The Dragonbone Chair (Memory, Sorrow, and Thorn, #1)</td></tr>",
                            "<tr><td>The Queen of the Tearling (The Queen of the Tearling, #1)</td></tr>",
                            "<tr><td>The Fury / Dark Reunion (The Vampire Diaries, #3-4)</td></tr>",
                            "<tr><td>The Further Adventures of Sherlock Holmes: After Sir Arthur Conan Doyle (Classic Crime)</td></tr>",
                            "<tr><td>The Stranger</td></tr>",
                            "<tr><td>The Mammoth Hunters (Earth's Children, #3)</td></tr>",
                            "<tr><td>The Winds of War (The Henry Family, #1)</td></tr>",
                            "<tr><td>The Wind Through the Keyhole (The Dark Tower, #4.5)</td></tr>",
                            "<tr><td>The Last Kingdom (The Saxon Stories, #1)</td></tr>",
                            "<tr><td>The E-Myth Revisited: Why Most Small Businesses Don't Work and What to Do About It</td></tr>",
                            "<tr><td>The Keeper of Lost Causes (Department Q, #1)</td></tr>",
                            "<tr><td>The Demigod Files (Percy Jackson and the Olympians)</td></tr>",
                            "<tr><td>The Book of Lost Things</td></tr>",
                            "<tr><td>The Satanic Verses</td></tr>",
                            "<tr><td>The Beekeeper's Apprentice (Mary Russell, #1)</td></tr>",
                            "<tr><td>The Story of Babar</td></tr>",
                            "<tr><td>The Warlock (The Secrets of the Immortal Nicholas Flamel, #5)</td></tr>",
                            "<tr><td>The Imperfectionists</td></tr>",
                            "<tr><td>The Sea of Tranquility</td></tr>",
                            "<tr><td>The Transfer (Divergent, #0.1)</td></tr>",
                            "<tr><td>The Reluctant Fundamentalist</td></tr>",
                            "<tr><td>The False Prince (The Ascendance Trilogy #1)</td></tr>",
                            "<tr><td>The Waste Land and Other Poems</td></tr>",
                            "<tr><td>The Pit and the Pendulum</td></tr>",
                            "<tr><td>The Field Guide (The Spiderwick Chronicles, #1)</td></tr>",
                            "<tr><td>The 48 Laws of Power</td></tr>",
                            "<tr><td>The Winter Sea (Slains, #1)</td></tr>",
                            "<tr><td>The Sword Thief (The 39 Clues, #3)</td></tr>",
                            "<tr><td>The Pianist: The Extraordinary Story of One Man's Survival in Warsaw, 1939–45</td></tr>",
                            "<tr><td>The Picture of Dorian Gray: A Graphic Novel</td></tr>",
                            "<tr><td>The Buried Giant</td></tr>",
                            "<tr><td>The Legend of Sleepy Hollow and Other Stories</td></tr>",
                            "<tr><td>The Cross and the Switchblade</td></tr>",
                            "<tr><td>The Last Coyote (Harry Bosch, #4; Harry Bosch Universe, #4)</td></tr>",
                            "<tr><td>The Greatest Show on Earth: The Evidence for Evolution</td></tr>",
                            "<tr><td>The Greatest Salesman in the World</td></tr>",
                            "<tr><td>The Bronze Horseman (The Bronze Horseman, #1)</td></tr>",
                            "<tr><td>The Atlantis Gene (The Origin Mystery, #1)</td></tr>",
                            "<tr><td>The Red Queen (The Plantagenet and Tudor Novels, #3)</td></tr>",
                            "<tr><td>The Dog Stars</td></tr>",
                            "<tr><td>The Spy Who Came In from the Cold</td></tr>",
                            "<tr><td>The Pilgrimage</td></tr>",
                            "<tr><td>The Hard Way (Jack Reacher, #10)</td></tr>",
                            "<tr><td>The Incredible Journey</td></tr>",
                            "<tr><td>The Widow</td></tr>",
                            "<tr><td>The Black Circle (The 39 Clues, #5)</td></tr>",
                            "<tr><td>The Prince (The Selection, #0.5)</td></tr>",
                            "<tr><td>The Winner's Curse (The Winner's Trilogy, #1)</td></tr>",
                            "<tr><td>The Story of a New Name (The Neapolitan Novels #2)</td></tr>",
                            "<tr><td>The Thousand Autumns of Jacob de Zoet</td></tr>",
                            "<tr><td>The Silent Sister (Riley MacPherson, #1)</td></tr>",
                            "<tr><td>The Lost World (Professor Challenger, #1)</td></tr>",
                            "<tr><td>The Long Winter (Little House, #6)</td></tr>",
                            "<tr><td>The 21 Irrefutable Laws of Leadership: Follow Them and People Will Follow You</td></tr>",
                            "<tr><td>The Perfect Game (The Perfect Game, #1)</td></tr>",
                            "<tr><td>The 6th Target (Women's Murder Club, #6)</td></tr>",
                            "<tr><td>The Black Ice (Harry Bosch, #2; Harry Bosch Universe, #2)</td></tr>",
                            "<tr><td>The Sweet Far Thing (Gemma Doyle, #3)</td></tr>",
                            "<tr><td>The Stranger Beside Me: Ted Bundy The Shocking Inside Story</td></tr>",
                            "<tr><td>The Other Side of Midnight (Midnight #1)</td></tr>",
                            "<tr><td>The Reversal (Harry Bosch, #16; Mickey Haller, #4; Harry Bosch Universe, #19)</td></tr>",
                            "<tr><td>The Invisible Bridge</td></tr>",
                            "<tr><td>The Fall of Five (Lorien Legacies, #4)</td></tr>",
                            "<tr><td>The Mayor of Casterbridge</td></tr>",
                            "<tr><td>The Red Pony</td></tr>",
                            "<tr><td>The Devil's Star (Harry Hole, #5)</td></tr>",
                            "<tr><td>The Daylight War (Demon Cycle, #3)</td></tr>",
                            "<tr><td>The Appeal</td></tr>",
                            "<tr><td>The Woman Who Rides Like a Man (Song of the Lioness, #3)</td></tr>",
                            "<tr><td>The Kind Worth Killing</td></tr>",
                            "<tr><td>The Wrath and the Dawn (The Wrath and the Dawn, #1)</td></tr>",
                            "<tr><td>The Assassin's Blade (Throne of Glass, #0.1-0.5)</td></tr>",
                            "<tr><td>The Sparrow (The Sparrow, #1)</td></tr>",
                            "<tr><td>The Paper Magician (The Paper Magician Trilogy, #1)</td></tr>",
                            "<tr><td>The Brass Verdict (Harry Bosch, #14; Mickey Haller, #2; Harry Bosch Universe, #17)</td></tr>",
                            "<tr><td>The Two Princesses of Bamarre</td></tr>",
                            "<tr><td>The World of Winnie-the-Pooh (Winnie-the-Pooh, #1-2)</td></tr>",
                            "<tr><td>The Story of My Experiments With Truth</td></tr>",
                            "<tr><td>The Little Paris Bookshop</td></tr>",
                            "<tr><td>The Three-Body Problem (Remembrance of Earth’s Past, #1)</td></tr>",
                            "<tr><td>The Autobiography of Benjamin Franklin</td></tr>",
                            "<tr><td>The Reason for God: Belief in an Age of Skepticism</td></tr>",
                            "<tr><td>The Sins of the Father (The Clifton Chronicles, #2)</td></tr>",
                            "<tr><td>The Peach Keeper</td></tr>",
                            "<tr><td>The Napping House</td></tr>",
                            "<tr><td>The Short Drop (Gibson Vaughn, #1)</td></tr>",
                            "<tr><td>The Face on the Milk Carton (Janie Johnson, #1)</td></tr>",
                            "<tr><td>The Narrow Road to the Deep North</td></tr>",
                            "<tr><td>The Claiming of Sleeping Beauty (Sleeping Beauty, #1)</td></tr>",
                            "<tr><td>The Midwife: A Memoir of Birth, Joy, and Hard Times</td></tr>",
                            "<tr><td>The Awakening (The Vampire Diaries, #1)</td></tr>",
                            "<tr><td>The Red and the Black</td></tr>",
                            "<tr><td>The Virgin's Lover (The Plantagenet and Tudor Novels, #13)</td></tr>",
                            "<tr><td>The Road to the Dark Tower: Exploring Stephen King's Magnum Opus</td></tr>",
                            "<tr><td>The Fifth Elephant (Discworld, #24; City Watch, #5)</td></tr>",
                            "<tr><td>The Sorcerer in the North (Ranger's Apprentice, #5)</td></tr>",
                            "<tr><td>The Distance Between Us</td></tr>",
                            "<tr><td>The Cardinal of the Kremlin (Jack Ryan Universe, #5)</td></tr>",
                            "<tr><td>The Name of This Book Is Secret (Secret, #1)</td></tr>",
                            "<tr><td>The Husband</td></tr>",
                            "<tr><td>The Particular Sadness of Lemon Cake</td></tr>",
                            "<tr><td>The Big Bad Wolf  (Alex Cross, #9)</td></tr>",
                            "<tr><td>The Gods Themselves</td></tr>",
                            "<tr><td>The Viper's Nest (39 Clues, #7)</td></tr>",
                            "<tr><td>The League of Extraordinary Gentlemen, Vol. 1</td></tr>",
                            "<tr><td>The Demon King (Seven Realms, #1)</td></tr>",
                            "<tr><td>The End of Your Life Book Club</td></tr>",
                            "<tr><td>The Siege of Macindaw (Ranger's Apprentice, #6)</td></tr>",
                            "<tr><td>The Wright Brothers</td></tr>",
                            "<tr><td>The Matarese Circle (Matarese #1)</td></tr>",
                            "<tr><td>The Forgotten (John Puller, #2)</td></tr>",
                            "<tr><td>The Four Loves</td></tr>",
                            "<tr><td>The Lost Wife</td></tr>",
                            "<tr><td>The Testing (The Testing, #1)</td></tr>",
                            "<tr><td>The Boy Who Sneaks in My Bedroom Window</td></tr>",
                            "<tr><td>The Rules of Attraction</td></tr>",
                            "<tr><td>The Good, the Bad, and the Undead (The Hollows, #2)</td></tr>",
                            "<tr><td>The Crystal Shard (Forgotten Realms: Icewind Dale, #1; Legend of Drizzt, #4)</td></tr>",
                            "<tr><td>The Magus</td></tr>",
                            "<tr><td>The Templar Legacy (Cotton Malone, #1)</td></tr>",
                            "<tr><td>The Physick Book of Deliverance Dane</td></tr>",
                            "<tr><td>The Warmth of Other Suns: The Epic Story of America's Great Migration</td></tr>",
                            "<tr><td>The First Fifteen Lives of Harry August</td></tr>",
                            "<tr><td>The Prisoner of Heaven (The Cemetery of Forgotten Books, #3)</td></tr>",
                            "<tr><td>The Guns of August</td></tr>",
                            "<tr><td>The Monuments Men: Allied Heroes, Nazi Thieves, and the Greatest Treasure Hunt in History</td></tr>",
                            "<tr><td>The Girl Who Chased the Moon</td></tr>",
                            "<tr><td>The Secret Life of CeeCee Wilkes</td></tr>",
                            "<tr><td>The Kill Artist (Gabriel Allon, #1)</td></tr>",
                            "<tr><td>The Gashlycrumb Tinies (The Vinegar Works, #1)</td></tr>",
                            "<tr><td>The Long Earth (The Long Earth, #1)</td></tr>",
                            "<tr><td>The War of Art: Break Through the Blocks &amp; Win Your Inner Creative Battles</td></tr>",
                            "<tr><td>The Complete Tales and Poems of Winnie-the-Pooh (Winnie-the-Pooh, #1-4)</td></tr>",
                            "<tr><td>The School for Good and Evil (The School for Good and Evil, #1)</td></tr>",
                            "<tr><td>The Secret Place (Dublin Murder Squad, #5)</td></tr>",
                            "<tr><td>The Coffin Dancer (Lincoln Rhyme, #2)</td></tr>",
                            "<tr><td>The Emperor's Code (The 39 Clues, #8)</td></tr>",
                            "<tr><td>The Complete Adventures of Curious George</td></tr>",
                            "<tr><td>The Drop (Harry Bosch, #17; Harry Bosch Universe, #21)</td></tr>",
                            "<tr><td>The Museum of Extraordinary Things</td></tr>",
                            "<tr><td>The Fifth Mountain</td></tr>",
                            "<tr><td>The Power of Myth</td></tr>",
                            "<tr><td>The Beginning of Everything</td></tr>",
                            "<tr><td>The Seat of the Soul</td></tr>",
                            "<tr><td>The Worst Hard Time: The Untold Story of Those Who Survived the Great American Dust Bowl</td></tr>",
                            "<tr><td>The Last Templar (Templar, #1)</td></tr>",
                            "<tr><td>The Book of Laughter and Forgetting</td></tr>",
                            "<tr><td>The Horse Whisperer</td></tr>",
                            "<tr><td>The Outlaw Demon Wails (The Hollows, #6)</td></tr>",
                            "<tr><td>The Diviners (The Diviners, #1)</td></tr>",
                            "<tr><td>The Spectacular Now</td></tr>",
                            "<tr><td>The Art of Loving</td></tr>",
                            "<tr><td>The Other Side of the Story</td></tr>",
                            "<tr><td>The Kiss of Deception (The Remnant Chronicles, #1)</td></tr>",
                            "<tr><td>The Weird Sisters</td></tr>",
                            "<tr><td>The Truth (Discworld, #25; Industrial Revolution, #2)</td></tr>",
                            "<tr><td>The Leftovers</td></tr>",
                            "<tr><td>The Mill on the Floss</td></tr>",
                            "<tr><td>The Blue Sword (Damar, #1)</td></tr>",
                            "<tr><td>The Poetry of Robert Frost (Collected Poems, Complete &amp; Unabridged)</td></tr>",
                            "<tr><td>The Plains of Passage (Earth's Children, #4)</td></tr>",
                            "<tr><td>The Bookseller of Kabul</td></tr>",
                            "<tr><td>The Merchant of Death (Pendragon, #1)</td></tr>",
                            "<tr><td>The City &amp; the City</td></tr>",
                            "<tr><td>The Last Command</td></tr>",
                            "<tr><td>The Emperor's Soul</td></tr>",
                            "<tr><td>The View from Saturday</td></tr>",
                            "<tr><td>The Secret of the Old Clock (Nancy Drew, #1)</td></tr>",
                            "<tr><td>The Story of Doctor Dolittle (Doctor Dolittle, #1)</td></tr>",
                            "<tr><td>The Lottery</td></tr>",
                            "<tr><td>The Alexandria Link (Cotton Malone, #2)</td></tr>",
                            "<tr><td>The Gathering (Darkness Rising, #1)</td></tr>",
                            "<tr><td>The Fiery Heart (Bloodlines, #4)</td></tr>",
                            "<tr><td>The Japanese Lover</td></tr>",
                            "<tr><td>The Hit (Will Robie, #2)</td></tr>",
                            "<tr><td>The Ice Princess (Patrik Hedström, #1)</td></tr>",
                            "<tr><td>The Last Colony (Old Man's War #3)</td></tr>",
                            "<tr><td>The Hero and the Crown (Damar, #2)</td></tr>",
                            "<tr><td>The Metamorphosis and Other Stories</td></tr>",
                            "<tr><td>The Space Between Us</td></tr>",
                            "<tr><td>The Right Stuff</td></tr>",
                            "<tr><td>The Tell-Tale Heart</td></tr>",
                            "<tr><td>The Moosewood Cookbook: Recipes from Moosewood Restaurant, Ithaca, New York</td></tr>",
                            "<tr><td>The Teachings of Don Juan: A Yaqui Way of Knowledge </td></tr>",
                            "<tr><td>The Sixth Man (Sean King &amp; Michelle Maxwell, #5)</td></tr>",
                            "<tr><td>The Warrior Heir (The Heir Chronicles, #1)</td></tr>",
                            "<tr><td>The Problem of Pain</td></tr>",
                            "<tr><td>The Dark Is Rising (The Dark is Rising, #2)</td></tr>",
                            "<tr><td>The Door to December</td></tr>",
                            "<tr><td>The French Lieutenant's Woman</td></tr>",
                            "<tr><td>The Rime of the Ancient Mariner</td></tr>",
                            "<tr><td>The Paper Bag Princess</td></tr>",
                            "<tr><td>The People of Sparks (Book of Ember, #2)</td></tr>",
                            "<tr><td>The Bone Season (The Bone Season, #1)</td></tr>",
                            "<tr><td>The Source</td></tr>",
                            "<tr><td>The Search</td></tr>",
                            "<tr><td>The Raven and other poems</td></tr>",
                            "<tr><td>The Weight of Silence</td></tr>",
                            "<tr><td>The Quiet American</td></tr>",
                            "<tr><td>The Proposition (The Proposition, #1)</td></tr>",
                            "<tr><td>The High Lord (Black Magician Trilogy, #3)</td></tr>",
                            "<tr><td>The Valley of Amazement</td></tr>",
                            "<tr><td>The High King (The Chronicles of Prydain #5)</td></tr>",
                            "<tr><td>The Complete Short Stories</td></tr>",
                            "<tr><td>The Mummy (Ramses the Damned #1)</td></tr>",
                            "<tr><td>The Collector</td></tr>",
                            "<tr><td>The Orchardist</td></tr>",
                            "<tr><td>The Talismans of Shannara (Heritage of Shannara, #4)</td></tr>",
                            "<tr><td>The Atonement Child</td></tr>",
                            "<tr><td>The Far Pavilions</td></tr>",
                            "<tr><td>The Rithmatist (The Rithmatist, #1)</td></tr>",
                            "<tr><td>The Christmas Shoes (Christmas Hope #1)</td></tr>",
                            "<tr><td>The Snowball: Warren Buffett and the Business of Life</td></tr>",
                            "<tr><td>The Bride (Lairds' Fiancées, #1)</td></tr>",
                            "<tr><td>The Apprentice (Rizzoli &amp; Isles, #2)</td></tr>",
                            "<tr><td>The Quickie</td></tr>",
                            "<tr><td>The Most Dangerous Game</td></tr>",
                            "<tr><td>The Essential Rumi</td></tr>",
                            "<tr><td>The Dead Girls' Dance (The Morganville Vampires, #2)</td></tr>",
                            "<tr><td>The Realms of the Gods (Immortals, #4)</td></tr>",
                            "<tr><td>The Lover's Dictionary</td></tr>",
                            "<tr><td>The Wishsong of Shannara (The Original Shannara Trilogy, #3)</td></tr>",
                            "<tr><td>The Darkest Kiss (Lords of the Underworld #2)</td></tr>",
                            "<tr><td>The Sugar Queen</td></tr>",
                            "<tr><td>The Concrete Blonde (Harry Bosch, #3; Harry Bosch Universe, #3)</td></tr>",
                            "<tr><td>The Warlord Wants Forever (Immortals After Dark #1)</td></tr>",
                            "<tr><td>The Island</td></tr>",
                            "<tr><td>The Devil's Arithmetic</td></tr>",
                            "<tr><td>The World Without Us</td></tr>",
                            "<tr><td>The Rumor</td></tr>",
                            "<tr><td>The Birth House</td></tr>",
                            "<tr><td>The Little Friend</td></tr>",
                            "<tr><td>The Book of Basketball: The NBA According to The Sports Guy</td></tr>",
                            "<tr><td>The Ripper (The Vampire Diaries: Stefan's Diaries, #4)</td></tr>",
                            "<tr><td>The Signal and the Noise: Why So Many Predictions Fail - But Some Don't</td></tr>",
                            "<tr><td>The Body in the Library (Miss Marple, #3)</td></tr>",
                            "<tr><td>The Lord of the Rings: The Art of The Fellowship of the Ring</td></tr>",
                            "<tr><td>The Story About Ping</td></tr>",
                            "<tr><td>The All-Girl Filling Station's Last Reunion</td></tr>",
                            "<tr><td>The Burden of Proof</td></tr>",
                            "<tr><td>The Stars My Destination</td></tr>",
                            "<tr><td>The Rise of Endymion (Hyperion Cantos, #4)</td></tr>",
                            "<tr><td>The Arrival</td></tr>",
                            "<tr><td>The Adventures of Tom Sawyer &amp; Adventures of Huckleberry Finn</td></tr>",
                            "<tr><td>The Woman Upstairs</td></tr>",
                            "<tr><td>The Stupidest Angel: A Heartwarming Tale of Christmas Terror (Pine Cove, #3)</td></tr>",
                            "<tr><td>The Beautiful and Damned</td></tr>",
                            "<tr><td>The Painted Girls</td></tr>",
                            "<tr><td>The Bedwetter: Stories of Courage, Redemption, and Pee</td></tr>",
                            "<tr><td>The Talented Mr. Ripley (Ripley, #1)</td></tr>",
                            "<tr><td>The Shining Girls</td></tr>",
                            "<tr><td>The Zookeeper's Wife</td></tr>",
                            "<tr><td>The Mad Ship (Liveship Traders, #2)</td></tr>",
                            "<tr><td>The Iron Trial (Magisterium, #1)</td></tr>",
                            "<tr><td>The Carrie Diaries (The Carrie Diaries, #1)</td></tr>",
                            "<tr><td>The World of Divergent: The Path to Allegiant (Divergent, #2.5)</td></tr>",
                            "<tr><td>The Exploits of Sherlock Holmes</td></tr>",
                            "<tr><td>The Novice (Black Magician Trilogy, #2)</td></tr>",
                            "<tr><td>The Very Busy Spider</td></tr>",
                            "<tr><td>The River of Doubt: Theodore Roosevelt's Darkest Journey</td></tr>",
                            "<tr><td>The Hundred Secret Senses</td></tr>",
                            "<tr><td>The Gargoyle</td></tr>",
                            "<tr><td>The Fairy-Tale Detectives (The Sisters Grimm, #1)</td></tr>",
                            "<tr><td>The Philosophy of Andy Warhol (From A to B and Back Again)</td></tr>",
                            "<tr><td>The Lady and the Unicorn</td></tr>",
                            "<tr><td>The Shock of the Fall</td></tr>",
                            "<tr><td>The Heart Goes Last</td></tr>",
                            "<tr><td>The Coldest Girl in Coldtown</td></tr>",
                            "<tr><td>The Marriage of Opposites</td></tr>",
                            "<tr><td>The Atlantis Complex (Artemis Fowl, #7)</td></tr>",
                            "<tr><td>The Bands of Mourning (Mistborn, #6)</td></tr>",
                            "<tr><td>The Myth of Sisyphus and Other Essays</td></tr>",
                            "<tr><td>The Road Not Taken and Other Poems</td></tr>",
                            "<tr><td>The Little House</td></tr>",
                            "<tr><td>The Wizard Heir (The Heir Chronicles, #2)</td></tr>",
                            "<tr><td>The Mysterious Island (Extraordinary Voyages, #12)</td></tr>",
                            "<tr><td>The Lady of the Rivers (The Plantagenet and Tudor Novels, #1)</td></tr>",
                            "<tr><td>The Collectors (Camel Club, #2)</td></tr>",
                            "<tr><td>The Hitchhiker's Guide to the Galaxy: A Trilogy in Four Parts</td></tr>",
                            "<tr><td>The Last Continent (Discworld, #22; Rincewind #6)</td></tr>",
                            "<tr><td>The Winner</td></tr>",
                            "<tr><td>The Last Town (Wayward Pines, #3)</td></tr>",
                            "<tr><td>The Twelve Tribes of Hattie</td></tr>",
                            "<tr><td>The Taking</td></tr>",
                            "<tr><td>The Gambler</td></tr>",
                            "<tr><td>The Collected Poems</td></tr>",
                            "<tr><td>The Winter of Our Discontent</td></tr>",
                            "<tr><td>The Halfling's Gem (Forgotten Realms: Icewind Dale, #3; Legend of Drizzt, #6)</td></tr>",
                            "<tr><td>The Kindly Ones (The Sandman #9)</td></tr>",
                            "<tr><td>The Chrysalids</td></tr>",
                            "<tr><td>The Ugly Duckling</td></tr>",
                            "<tr><td>The Mastery of Love: A Practical Guide to the Art of Relationship --Toltec Wisdom Book</td></tr>",
                            "<tr><td>The End of the Affair</td></tr>",
                            "<tr><td>The Lathe of Heaven</td></tr>",
                            "<tr><td>The Histories</td></tr>",
                            "<tr><td>The Dante Club</td></tr>",
                            "<tr><td>The Shelters of Stone (Earth's Children, #5)</td></tr>",
                            "<tr><td>The Winner Stands Alone</td></tr>",
                            "<tr><td>The Body Finder (The Body Finder, #1)</td></tr>",
                            "<tr><td>The Enchantress (The Secrets of the Immortal Nicholas Flamel, #6)</td></tr>",
                            "<tr><td>The Buddha in the Attic</td></tr>",
                            "<tr><td>The Winter People</td></tr>",
                            "<tr><td>The Lying Game (The Lying Game, #1)</td></tr>",
                            "<tr><td>The Opposite of Loneliness: Essays and Stories</td></tr>",
                            "<tr><td>The Solitude of Prime Numbers</td></tr>",
                            "<tr><td>The Fall (The Strain Trilogy, #2)</td></tr>",
                            "<tr><td>The Raven King (The Raven Cycle, #4)</td></tr>",
                            "<tr><td>The Thief (The Queen's Thief, #1)</td></tr>",
                            "<tr><td>The Lake House (When the Wind Blows, #2)</td></tr>",
                            "<tr><td>The Heist (Fox and O'Hare, #1)</td></tr>",
                            "<tr><td>The Railway Children</td></tr>",
                            "<tr><td>The Last Mile (Amos Decker, #2)</td></tr>",
                            "<tr><td>The Doors of Perception &amp; Heaven and Hell</td></tr>",
                            "<tr><td>The Black Box (Harry Bosch, #18; Harry Bosch Universe, #22)</td></tr>",
                            "<tr><td>The Rapture of Canaan</td></tr>",
                            "<tr><td>The Third Option (Mitch Rapp, #4)</td></tr>",
                            "<tr><td>The Stonekeeper (Amulet, #1)</td></tr>",
                            "<tr><td>The Complete Stories</td></tr>",
                            "<tr><td>The Coldest Winter Ever</td></tr>",
                            "<tr><td>The Vegetarian</td></tr>",
                            "<tr><td>The Castle</td></tr>",
                            "<tr><td>The Rise of Theodore Roosevelt</td></tr>",
                            "<tr><td>The Escape (John Puller, #3)</td></tr>",
                            "<tr><td>The Seeress of Kell (The Malloreon, #5)</td></tr>",
                            "<tr><td>The Burning Room (Harry Bosch, #19; Harry Bosch Universe, #24)</td></tr>",
                            "<tr><td>The Natural Way to Draw</td></tr>",
                            "<tr><td>The Known World</td></tr>",
                            "<tr><td>The Gods of Guilt (Mickey Haller, #6; Harry Bosch Universe, #23)</td></tr>",
                            "<tr><td>The Little Mouse, the Red Ripe Strawberry, and the Big Hungry Bear</td></tr>",
                            "<tr><td>The 8th Confession (Women's Murder Club, #8)</td></tr>",
                            "<tr><td>The Secret Diary of Adrian Mole, Aged 13 3/4  (Adrian Mole, #1)</td></tr>",
                            "<tr><td>The Razor's Edge</td></tr>",
                            "<tr><td>The Reason I Jump: The Inner Voice of a Thirteen-Year-Old Boy with Autism</td></tr>",
                            "<tr><td>The Hidden Oracle (The Trials of Apollo, #1)</td></tr>",
                            "<tr><td>The End of Eternity</td></tr>",
                            "<tr><td>The Prodigal Daughter (Kane &amp; Abel, #2)</td></tr>",
                            "<tr><td>The Broken Eye (Lightbringer, #3)</td></tr>",
                            "<tr><td>The Collected Poems of W.B. Yeats</td></tr>",
                            "<tr><td>The Elephant Vanishes</td></tr>",
                            "<tr><td>The Walking Dead, Book One (The Walking Dead #1-12)</td></tr>",
                            "<tr><td>The Miracle Worker</td></tr>",
                            "<tr><td>The Almost Moon</td></tr>",
                            "<tr><td>The Children of Men</td></tr>",
                            "<tr><td>The Thousand-Dollar Tan Line (Veronica Mars, #1)</td></tr>",
                            "<tr><td>The Plot Against America</td></tr>",
                            "<tr><td>The Tender Bar</td></tr>",
                            "<tr><td>The Exiled Queen (Seven Realms, #2)</td></tr>",
                            "<tr><td>The Other Woman</td></tr>",
                            "<tr><td>The Vampire's Assistant (Cirque Du Freak, #2)</td></tr>",
                            "<tr><td>The Ragamuffin Gospel: Good News for the Bedraggled, Beat-Up, and Burnt Out</td></tr>",
                            "<tr><td>The Shock Doctrine: The Rise of Disaster Capitalism</td></tr>",
                            "<tr><td>The Girl Who Saved the King of Sweden</td></tr>",
                            "<tr><td>The Vincent Brothers (The Vincent Boys, #2)</td></tr>",
                            "<tr><td>The Tin Drum</td></tr>",
                            "<tr><td>The Case for Faith: A Journalist Investigates the Toughest Objections to Christianity</td></tr>",
                            "<tr><td>The Return of Sherlock Holmes</td></tr>",
                            "<tr><td>The Checklist Manifesto: How to Get Things Right</td></tr>",
                            "<tr><td>The Nazi Officer's Wife: How One Jewish Woman Survived the Holocaust</td></tr>",
                            "<tr><td>The Pioneer Woman Cooks: Recipes from an Accidental Country Girl</td></tr>",
                            "<tr><td>The Fabric of the Cosmos: Space, Time, and the Texture of Reality</td></tr>",
                            "<tr><td>The 9th Judgment  (Women's Murder Club, #9)</td></tr>",
                            "<tr><td>The End of Faith: Religion, Terror, and the Future of Reason</td></tr>",
                            "<tr><td>The Adoration of Jenna Fox (Jenna Fox Chronicles, #1)</td></tr>",
                            "<tr><td>The Emperor of Nihon-Ja (Ranger's Apprentice, #10)</td></tr>",
                            "<tr><td>The Complete Calvin and Hobbes</td></tr>",
                            "<tr><td>The 101 Dalmatians (The Hundred and One Dalmatians, #1)</td></tr>",
                            "<tr><td>The Curious Case of Benjamin Button</td></tr>",
                            "<tr><td>The Sinner (Rizzoli &amp; Isles, #3)</td></tr>",
                            "<tr><td>The Chocolate War (Chocolate War, #1)</td></tr>",
                            "<tr><td>The Revenant</td></tr>",
                            "<tr><td>The Wake (The Sandman #10)</td></tr>",
                            "<tr><td>The Innovator's Dilemma: The Revolutionary Book that Will Change the Way You Do Business (Collins Business Essentials)</td></tr>",
                            "<tr><td>The Charm School</td></tr>",
                            "<tr><td>The Power of Intention: Learning to Co-create Your World Your Way</td></tr>",
                            "<tr><td>The Gray Wolf Throne (Seven Realms, #3)</td></tr>",
                            "<tr><td>The Disappearing Spoon: And Other True Tales of Madness, Love, and the History of the World from the Periodic Table of the Elements</td></tr>",
                            "<tr><td>The Hellbound Heart</td></tr>",
                            "<tr><td>The Cabinet of Curiosities (Pendergast, #3)</td></tr>",
                            "<tr><td>The Practice of the Presence of God</td></tr>",
                            "<tr><td>The Intelligent Investor (Collins Business Essentials)</td></tr>",
                            "<tr><td>The Universe in a Nutshell</td></tr>",
                            "<tr><td>The Heroes (First Law World, #5)</td></tr>",
                            "<tr><td>The Real Mother Goose</td></tr>",
                            "<tr><td>The Human Stain (The American Trilogy, #3)</td></tr>",
                            "<tr><td>The Bane Chronicles</td></tr>",
                            "<tr><td>The Narrows (Harry Bosch, #10; Harry Bosch Universe, #12)</td></tr>",
                            "<tr><td>The Opportunist (Love Me with Lies, #1)</td></tr>",
                            "<tr><td>The Bourne Legacy (Jason Bourne, #4)</td></tr>",
                            "<tr><td>The Name of the Star (Shades of London, #1)</td></tr>",
                            "<tr><td>The Social Contract</td></tr>",
                            "<tr><td>The Federalist Papers</td></tr>",
                            "<tr><td>The Story of the Lost Child (The Neapolitan Novels, #4)</td></tr>",
                            "<tr><td>The Disreputable History of Frankie Landau-Banks</td></tr>",
                            "<tr><td>The Postmistress</td></tr>",
                            "<tr><td>The Rook (The Checquy Files, #1)</td></tr>",
                            "<tr><td>The Looking Glass Wars (The Looking Glass Wars, #1)</td></tr>",
                            "<tr><td>The Other Queen (The Plantagenet and Tudor Novels, #15)</td></tr>",
                            "<tr><td>The Diary of Frida Kahlo: An Intimate Self-Portrait</td></tr>",
                            "<tr><td>The Darkest Pleasure (Lords of the Underworld #3)</td></tr>",
                            "<tr><td>The Grouchy Ladybug</td></tr>",
                            "<tr><td>The Perfume Collector</td></tr>",
                            "<tr><td>The Naked Sun (Robot #2)</td></tr>",
                            "<tr><td>The Bazaar of Bad Dreams</td></tr>",
                            "<tr><td>The Hypnotist (Joona Linna, #1)</td></tr>",
                            "<tr><td>The Dirt: Confessions of the World's Most Notorious Rock Band</td></tr>",
                            "<tr><td>The Snows of Kilimanjaro and Other Stories</td></tr>",
                            "<tr><td>The Black Company (The Chronicles of the Black Company, #1)</td></tr>",
                            "<tr><td>The Woman in Black</td></tr>",
                            "<tr><td>The Best Christmas Pageant Ever (The Herdmans #1)</td></tr>",
                            "<tr><td>The Fourth Protocol</td></tr>",
                            "<tr><td>The Goddess Test (Goddess Test, #1)</td></tr>",
                            "<tr><td>The Ghost Map: The Story of London's Most Terrifying Epidemic - and How It Changed Science, Cities, and the Modern World</td></tr>",
                            "<tr><td>The Target (Will Robie, #3)</td></tr>",
                            "<tr><td>The Midwife's Apprentice</td></tr>",
                            "<tr><td>The Crimson Petal and the White</td></tr>",
                            "<tr><td>The Legend of Sleepy Hollow</td></tr>",
                            "<tr><td>The Island</td></tr>",
                            "<tr><td>The Good Guy</td></tr>",
                            "<tr><td>The Weed That Strings the Hangman's Bag (Flavia de Luce, #2)</td></tr>",
                            "<tr><td>The Walking Dead, Vol. 02: Miles Behind Us</td></tr>",
                            "<tr><td>The Best of H.P. Lovecraft: Bloodcurdling Tales of Horror and the Macabre</td></tr>",
                            "<tr><td>The Crystal Cave (Arthurian Saga, #1)</td></tr>",
                            "<tr><td>The Call of Cthulhu and Other Weird Stories</td></tr>",
                            "<tr><td>The White Dragon (Pern, #3)</td></tr>",
                            "<tr><td>The Magic Faraway Tree (The Faraway Tree, #2)</td></tr>",
                            "<tr><td>The Robber Bride</td></tr>",
                            "<tr><td>The Shock of the New</td></tr>",
                            "<tr><td>The Midwife's Confession</td></tr>",
                            "<tr><td>The House of Silk (Sherlock Holmes, #1)</td></tr>",
                            "<tr><td>The Lion's Game (John Corey, #2)</td></tr>",
                            "<tr><td>The Boys from Brazil</td></tr>",
                            "<tr><td>The Sandcastle Girls</td></tr>",
                            "<tr><td>The Last Boyfriend (Inn BoonsBoro, #2)</td></tr>",
                            "<tr><td>The Boy in the Suitcase (Nina Borg, #1)</td></tr>",
                            "<tr><td>The Symposium</td></tr>",
                            "<tr><td>The Obsession</td></tr>",
                            "<tr><td>The Last Precinct (Kay Scarpetta, #11)</td></tr>",
                            "<tr><td>The $100 Startup: Reinvent the Way You Make a Living, Do What You Love, and Create a New Future</td></tr>",
                            "<tr><td>The Lust Lizard of Melancholy Cove (Pine Cove, #2)</td></tr>",
                            "<tr><td>The Cay (The Cay, #1)</td></tr>",
                            "<tr><td>The Secret (Highlands' Lairds #1)</td></tr>",
                            "<tr><td>The Stone Diaries</td></tr>",
                            "<tr><td>The Power of a Praying Woman</td></tr>",
                            "<tr><td>The Smoke Jumper</td></tr>",
                            "<tr><td>The Hare With Amber Eyes: A Family's Century of Art and Loss</td></tr>",
                            "<tr><td>The Middle Place</td></tr>",
                            "<tr><td>The Waste Land</td></tr>",
                            "<tr><td>The Royal We</td></tr>",
                            "<tr><td>The Viscount Who Loved Me (Bridgertons, #2)</td></tr>",
                            "<tr><td>The Beach House</td></tr>",
                            "<tr><td>The Physician (Cole Family Trilogy, #1)</td></tr>",
                            "<tr><td>The Icarus Agenda</td></tr>",
                            "<tr><td>The King (Black Dagger Brotherhood, #12)</td></tr>",
                            "<tr><td>The Crossing (The Border Trilogy, #2)</td></tr>",
                            "<tr><td>The Nicomachean Ethics</td></tr>",
                            "<tr><td>The Berenstain Bears and the Messy Room</td></tr>",
                            "<tr><td>The Winter King (The Warlord Chronicles, #1)</td></tr>",
                            "<tr><td>The Mysterious Benedict Society and the Perilous Journey (The Mysterious Benedict Society, #2)</td></tr>",
                            "<tr><td>The Wolf of Wall Street</td></tr>",
                            "<tr><td>The Cost of Discipleship</td></tr>",
                            "<tr><td>The New Jim Crow: Mass Incarceration in the Age of Colorblindness</td></tr>",
                            "<tr><td>The Book of Unknown Americans</td></tr>",
                            "<tr><td>The Joker</td></tr>",
                            "<tr><td>The Great Santini</td></tr>",
                            "<tr><td>The Last Guardian (Artemis Fowl, #8)</td></tr>",
                            "<tr><td>The Whistler</td></tr>",
                            "<tr><td>The Robots of Dawn (Robot #3)</td></tr>",
                            "<tr><td>The Rule of Four</td></tr>",
                            "<tr><td>The Redemption of Callie &amp; Kayden (The Coincidence, #2)</td></tr>",
                            "<tr><td>The Closers (Harry Bosch, #11; Harry Bosch Universe, #13)</td></tr>",
                            "<tr><td>The Darkest Whisper (Lords of the Underworld #4)</td></tr>",
                            "<tr><td>The Things We Wish Were True</td></tr>",
                            "<tr><td>The Dark Elf Trilogy Collector's Edition (Forgotten Realms: Dark Elf Trilogy, #1-3; Legend of Drizzt, #1-3)</td></tr>",
                            "<tr><td>The Harlequin (Anita Blake, Vampire Hunter #15)</td></tr>",
                            "<tr><td>The Basketball Diaries</td></tr>",
                            "<tr><td>The Kings of Clonmel (Ranger's Apprentice, #8)</td></tr>",
                            "<tr><td>The Fireman</td></tr>",
                            "<tr><td>The Revenge of Seven (Lorien Legacies, #5)</td></tr>",
                            "<tr><td>The Girl In The Ice (Detective Erika Foster, #1)</td></tr>",
                            "<tr><td>The Pale Horseman (The Saxon Stories, #2)</td></tr>",
                            "<tr><td>The Future of Us</td></tr>",
                            "<tr><td>The Program (The Program, #1)</td></tr>",
                            "<tr><td>The Son</td></tr>",
                            "<tr><td>The Dream Hunter (Dark-Hunter #10, Dream-Hunter #1)</td></tr>",
                            "<tr><td>The Moon and More</td></tr>",
                            "<tr><td>The Barefoot Contessa Cookbook</td></tr>",
                            "<tr><td>The Simple Truth</td></tr>",
                            "<tr><td>The City of Mirrors (The Passage, #3)</td></tr>",
                            "<tr><td>The Far Side Gallery 3</td></tr>",
                            "<tr><td>The American Heiress</td></tr>",
                            "<tr><td>The Three Little Pigs (Disney Classic)</td></tr>",
                            "<tr><td>The Last Man (Mitch Rapp, #13)</td></tr>",
                            "<tr><td>The Last Star (The 5th Wave, #3)</td></tr>",
                            "<tr><td>The Aeronaut's Windlass (The Cinder Spires, #1)</td></tr>",
                            "<tr><td>The Perfect Husband (Quincy &amp; Rainie, #1)</td></tr>",
                            "<tr><td>The Eight (The Eight #1)</td></tr>",
                            "<tr><td>The Gamble (Colorado Mountain, #1)</td></tr>",
                            "<tr><td>The Great and Secret Show (Book of the Art #1)</td></tr>",
                            "<tr><td>The Mother Tongue: English and How It Got That Way</td></tr>",
                            "<tr><td>The Geography of Bliss: One Grump's Search for the Happiest Places in the World</td></tr>",
                            "<tr><td>The Mistake (Off-Campus, #2)</td></tr>",
                            "<tr><td>The Bad Place</td></tr>",
                            "<tr><td>The Twilight Saga: The Official Illustrated Guide (Twilight, #4.5)</td></tr>",
                            "<tr><td>The Prime of Miss Jean Brodie</td></tr>",
                            "<tr><td>The Next Best Thing</td></tr>",
                            "<tr><td>The Heroin Diaries: A Year In The Life Of A Shattered Rock Star</td></tr>",
                            "<tr><td>The Druid of Shannara (Heritage of Shannara, #2)</td></tr>",
                            "<tr><td>The Trespasser (Dublin Murder Squad #6)</td></tr>",
                            "<tr><td>The Clique (The Clique, #1)</td></tr>",
                            "<tr><td>The Sixth Extinction: An Unnatural History</td></tr>",
                            "<tr><td>The Blind Watchmaker: Why the Evidence of Evolution Reveals a Universe Without Design</td></tr>",
                            "<tr><td>The Dragon Heir (The Heir Chronicles, #3)</td></tr>",
                            "<tr><td>The Wonder</td></tr>",
                            "<tr><td>The Fourth Hand</td></tr>",
                            "<tr><td>The Killing Game (Eve Duncan, #2)</td></tr>",
                            "<tr><td>The Retribution of Mara Dyer (Mara Dyer, #3)</td></tr>",
                            "<tr><td>The Mysteries of Pittsburgh</td></tr>",
                            "<tr><td>The Book of Tomorrow</td></tr>",
                            "<tr><td>The Oresteia  (Ορέστεια, #1-3)</td></tr>",
                            "<tr><td>The Life of Elizabeth I</td></tr>",
                            "<tr><td>The Fill-In Boyfriend</td></tr>",
                            "<tr><td>The Vow: The Kim &amp; Krickitt Carpenter Story</td></tr>",
                            "<tr><td>The Puppet Masters</td></tr>",
                            "<tr><td>The Canterville Ghost</td></tr>",
                            "<tr><td>The Power of Your Subconscious Mind</td></tr>",
                            "<tr><td>The Crown of Embers (Fire and Thorns, #2)</td></tr>",
                            "<tr><td>The Guard (The Selection, #2.5)</td></tr>",
                            "<tr><td>The Motorcycle Diaries: Notes on a Latin American Journey</td></tr>",
                            "<tr><td>The Hundred Thousand Kingdoms (Inheritance Trilogy, #1)</td></tr>",
                            "<tr><td>The Savage Detectives</td></tr>",
                            "<tr><td>The Lion King: A little Golden Book</td></tr>",
                            "<tr><td>The Medusa Plot (39 Clues: Cahills vs. Vespers, #1)</td></tr>",
                            "<tr><td>The Penderwicks: A Summer Tale of Four Sisters, Two Rabbits, and a Very Interesting Boy (The Penderwicks #1)</td></tr>",
                            "<tr><td>The Lion (John Corey, #5)</td></tr>",
                            "<tr><td>The Son</td></tr>",
                            "<tr><td>The Art of Asking; or, How I Learned to Stop Worrying and Let People Help</td></tr>",
                            "<tr><td>The Last Summer (of You and Me)</td></tr>",
                            "<tr><td>The Lord of the Rings: Weapons and Warfare</td></tr>",
                            "<tr><td>The Lost City of Faar (Pendragon, #2)</td></tr>",
                            "<tr><td>The Club Dumas</td></tr>",
                            "<tr><td>The Magician's Assistant</td></tr>",
                            "<tr><td>The Sympathizer</td></tr>",
                            "<tr><td>The Kingmaker's Daughter (The Plantagenet and Tudor Novels, #4)</td></tr>",
                            "<tr><td>The Invasion of the Tearling (The Queen of the Tearling, #2)</td></tr>",
                            "<tr><td>The Painted Veil</td></tr>",
                            "<tr><td>The Kalahari Typing School for Men (No. 1 Ladies' Detective Agency, #4)</td></tr>",
                            "<tr><td>The Wednesday Wars</td></tr>",
                            "<tr><td>The Legacy (Forgotten Realms: Legacy of the Drow, #1; Legend of Drizzt, #7)</td></tr>",
                            "<tr><td>The Science of Getting Rich</td></tr>",
                            "<tr><td>The Last Oracle (Sigma Force, #5)</td></tr>",
                            "<tr><td>The Guilty (Will Robie, #4)</td></tr>",
                            "<tr><td>The Complete Stories and Poems</td></tr>",
                            "<tr><td>The Dead and the Gone (Last Survivors, #2)</td></tr>",
                            "<tr><td>The Darkest Passion (Lords of the Underworld #5)</td></tr>",
                            "<tr><td>The Cruelest Month (Chief Inspector Armand Gamache, #3)</td></tr>",
                            "<tr><td>The Winner's Crime (The Winner's Trilogy, #2)</td></tr>",
                            "<tr><td>The Ladies' Room</td></tr>",
                            "<tr><td>The Little Stranger</td></tr>",
                            "<tr><td>The Walking Dead, Vol. 03: Safety Behind Bars</td></tr>",
                            "<tr><td>The Last Sin Eater</td></tr>",
                            "<tr><td>The Trial and Death of Socrates</td></tr>",
                            "<tr><td>The Red Badge of Courage and Selected Short Fiction  </td></tr>",
                            "<tr><td>The Last Child</td></tr>",
                            "<tr><td>The Price of Salt</td></tr>",
                            "<tr><td>The Undercover Economist</td></tr>",
                            "<tr><td>The Oath</td></tr>",
                            "<tr><td>The Day the Crayons Quit</td></tr>",
                            "<tr><td>The Heretic's Daughter</td></tr>",
                            "<tr><td>The Magic Mountain</td></tr>",
                            "<tr><td>The Reality Dysfunction (Night's Dawn, #1)</td></tr>",
                            "<tr><td>The Sands of Time</td></tr>",
                            "<tr><td>The Paradox of Choice: Why More Is Less</td></tr>",
                            "<tr><td>The Postman</td></tr>",
                            "<tr><td>The Patron Saint of Liars</td></tr>",
                            "<tr><td>The Success Principles: How to Get from Where You Are to Where You Want to Be</td></tr>",
                            "<tr><td>The Swerve: How the World Became Modern</td></tr>",
                            "<tr><td>The Autobiography of Henry VIII: With Notes by His Fool, Will Somers</td></tr>",
                            "<tr><td>The Brain That Changes Itself: Stories of Personal Triumph from the Frontiers of Brain Science</td></tr>",
                            "<tr><td>The Ringworld Engineers (Ringworld #2)</td></tr>",
                            "<tr><td>The Sun Is Also a Star</td></tr>",
                            "<tr><td>The Murder House</td></tr>",
                            "<tr><td>The Dark Divine (The Dark Divine, #1)</td></tr>",
                            "<tr><td>The Long Tail: Why the Future of Business is Selling Less of More</td></tr>",
                            "<tr><td>The Perfect Hope (Inn Boonsboro, #3)</td></tr>",
                            "<tr><td>The 7 Habits of Highly Effective Teens: The Ultimate Teenage Success Guide</td></tr>",
                            "<tr><td>The Strange Case of Origami Yoda (Origami Yoda, #1)</td></tr>",
                            "<tr><td>The Lord of the Rings: The Return of the King: Visual Companion</td></tr>",
                            "<tr><td>The Art of the Start: The Time-Tested, Battle-Hardened Guide for Anyone Starting Anything</td></tr>",
                            "<tr><td>The Other Wes Moore: One Name, Two Fates</td></tr>",
                            "<tr><td>The Upside of Irrationality: The Unexpected Benefits of Defying Logic at Work and at Home</td></tr>",
                            "<tr><td>The Partly Cloudy Patriot</td></tr>",
                            "<tr><td>The Night Eternal (The Strain Trilogy, #3)</td></tr>",
                            "<tr><td>The Guy Not Taken: Stories</td></tr>",
                            "<tr><td>The Walking Dead, Vol. 08: Made to Suffer</td></tr>",
                            "<tr><td>The Decameron</td></tr>",
                            "<tr><td>The Crossing (Harry Bosch, #20; Mickey Haller, #7; Harry Bosch Universe, #25)</td></tr>",
                            "<tr><td>The Aleph and Other Stories </td></tr>",
                            "<tr><td>The Long Goodbye (Philip Marlowe, #6)</td></tr>",
                            "<tr><td>The Castle of Llyr (The Chronicles of Prydain #3)</td></tr>",
                            "<tr><td>The Cat Who Could Read Backwards (Cat Who..., #1)</td></tr>",
                            "<tr><td>The Demigod Diaries</td></tr>",
                            "<tr><td>The Never War (Pendragon, #3)</td></tr>",
                            "<tr><td>The Elf Queen of Shannara (Heritage of Shannara, #3)</td></tr>",
                            "<tr><td>The Emperor's Blades (Chronicle of the Unhewn Throne, #1)</td></tr>",
                            "<tr><td>The Mephisto Club (Rizzoli &amp; Isles, #6)</td></tr>",
                            "<tr><td>The Scarlet Thread </td></tr>",
                            "<tr><td>The Pearl That Broke Its Shell</td></tr>",
                            "<tr><td>The Sociopath Next Door</td></tr>",
                            "<tr><td>The Tea Rose (The Tea Rose, #1)</td></tr>",
                            "<tr><td>The Paris Architect</td></tr>",
                            "<tr><td>The History of Tom Jones, a Foundling</td></tr>",
                            "<tr><td>The Three Stigmata of Palmer Eldritch</td></tr>",
                            "<tr><td>The Strange Library</td></tr>",
                            "<tr><td>The Power (The Secret, #2)</td></tr>",
                            "<tr><td>The Lions of Lucerne (Scot Harvath, #1)</td></tr>",
                            "<tr><td>The Sign of the Beaver</td></tr>",
                            "<tr><td>The Key to Midnight</td></tr>",
                            "<tr><td>The Joke</td></tr>",
                            "<tr><td>The White Princess (The Plantagenet and Tudor Novels, #5)</td></tr>",
                            "<tr><td>The Swan Thieves</td></tr>",
                            "<tr><td>The Lords of Discipline</td></tr>",
                            "<tr><td>The Matchmaker</td></tr>",
                            "<tr><td>The Mark (Left Behind, #8)</td></tr>",
                            "<tr><td>The Darkest Hour (Warriors, #6)</td></tr>",
                            "<tr><td>The Beautiful Mystery (Chief Inspector Armand Gamache, #8)</td></tr>",
                            "<tr><td>The Diamond Throne (The Elenium, #1)</td></tr>",
                            "<tr><td>The Wedding Girl</td></tr>",
                            "<tr><td>The Tortilla Curtain</td></tr>",
                            "<tr><td>The Amazing Maurice and His Educated Rodents (Discworld, #28)</td></tr>",
                            "<tr><td>The Hundred Dresses</td></tr>",
                            "<tr><td>The Last Runaway</td></tr>",
                            "<tr><td>The 100 (The 100, #1)</td></tr>",
                            "<tr><td>The Return of the Native  </td></tr>",
                            "<tr><td>The Overlook (Harry Bosch, #13; Harry Bosch Universe, #15)</td></tr>",
                            "<tr><td>The House of the Seven Gables</td></tr>",
                            "<tr><td>The Brutal Telling (Chief Inspector Armand Gamache, #5)</td></tr>",
                            "<tr><td>The Prisoner of Cell 25 (Michael Vey, #1)</td></tr>",
                            "<tr><td>The Souls of Black Folk</td></tr>",
                            "<tr><td>The Crimson Crown (Seven Realms, #4)</td></tr>",
                            "<tr><td>The Castaways</td></tr>",
                            "<tr><td>The Lover</td></tr>",
                            "<tr><td>The Power and the Glory</td></tr>",
                            "<tr><td>The Scions of Shannara (Heritage of Shannara, #1)</td></tr>",
                            "<tr><td>The Emperor's Children</td></tr>",
                            "<tr><td>The Liar</td></tr>",
                            "<tr><td>The Third Victim (Quincy &amp; Rainie, #2)</td></tr>",
                            "<tr><td>The Wrong Side of Goodbye (Harry Bosch, #21; Harry Bosch Universe, #26)</td></tr>",
                            "<tr><td>The Girl Who Circumnavigated Fairyland in a Ship of Her Own Making (Fairyland, #1)</td></tr>",
                            "<tr><td>The Book of the Dead (Pendergast, #7; Diogenes, #3)</td></tr>",
                            "<tr><td>The Expats</td></tr>",
                            "<tr><td>The Indwelling (Left Behind, #7)</td></tr>",
                            "<tr><td>The Glass Bead Game</td></tr>",
                            "<tr><td>The Yellow Birds</td></tr>",
                            "<tr><td>The Proposal (The Proposition, #2)</td></tr>",
                            "<tr><td>The Body</td></tr>",
                            "<tr><td>The Grey King (The Dark Is Rising, #4)</td></tr>",
                            "<tr><td>The Complete Novels</td></tr>",
                            "<tr><td>The Book of Strange New Things</td></tr>",
                            "<tr><td>The Manchurian Candidate (Movie Tie-In Edition)</td></tr>",
                            "<tr><td>The Irresistible Revolution: Living as an Ordinary Radical</td></tr>",
                            "<tr><td>The Pilgrims of Rayne (Pendragon, #8)</td></tr>",
                            "<tr><td>The Hundred-Foot Journey</td></tr>",
                            "<tr><td>The Melancholy Death of Oyster Boy and Other Stories</td></tr>",
                            "<tr><td>The Scarecrow (Jack McEvoy, #2)</td></tr>",
                            "<tr><td>The Humans</td></tr>",
                            "<tr><td>The Well of Lost Plots (Thursday Next #3)</td></tr>",
                            "<tr><td>The Wealth of Nations</td></tr>",
                            "<tr><td>The Big Over Easy (Nursery Crime, #1)</td></tr>",
                            "<tr><td>The Seeing Stone (The Spiderwick Chronicles, #2)</td></tr>",
                            "<tr><td>The Cellist of Sarajevo</td></tr>",
                            "<tr><td>The Defector (Gabriel Allon, #9)</td></tr>",
                            "<tr><td>The Wisdom of Crowds</td></tr>",
                            "<tr><td>The Fog</td></tr>",
                            "<tr><td>The Long Hard Road Out of Hell</td></tr>",
                            "<tr><td>The Shunning (The Heritage of Lancaster County, #1)</td></tr>",
                            "<tr><td>The Seven-Percent Solution</td></tr>",
                            "<tr><td>The Prodigal God: Recovering the Heart of the Christian Faith</td></tr>",
                            "<tr><td>The Lost Painting</td></tr>",
                            "<tr><td>The Light in the Ruins</td></tr>",
                            "<tr><td>The Little Lady Agency (The Little Lady Agency, #1)</td></tr>",
                            "<tr><td>The Dead Key</td></tr>",
                            "<tr><td>The Wedding Dress</td></tr>",
                            "<tr><td>The Doomsday Conspiracy</td></tr>",
                            "<tr><td>The 4-Hour Body: An Uncommon Guide to Rapid Fat-Loss, Incredible Sex, and Becoming Superhuman</td></tr>",
                            "<tr><td>The Elementary Particles</td></tr>",
                            "<tr><td>The Adventures of Captain Underpants (Captain Underpants, #1)</td></tr>",
                            "<tr><td>The Fountains of Paradise</td></tr>",
                            "<tr><td>The Bastard of Istanbul</td></tr>",
                            "<tr><td>The Doomsday Key (Sigma Force, #6)</td></tr>",
                            "<tr><td>The Ruins</td></tr>",
                            "<tr><td>The Night Angel Trilogy (Night Angel, #1-3)</td></tr>",
                            "<tr><td>The Holy Bible: English Standard Version</td></tr>",
                            "<tr><td>The Lives of the Artists</td></tr>",
                            "<tr><td>The Slap</td></tr>",
                            "<tr><td>The Art Spirit: Notes, Articles, Fragments of Letters and Talks to Students, Bearing on the Concept and Technique of Picture Making, the Study of Art (Icon Editions)</td></tr>",
                            "<tr><td>The Fortress of Solitude</td></tr>",
                            "<tr><td>The Darkest Evening of the Year</td></tr>",
                            "<tr><td>The Wrath of Mulgarath (The Spiderwick Chronicles, #5)</td></tr>",
                            "<tr><td>The Scrapbook of Frankie Pratt</td></tr>",
                            "<tr><td>The Ruby Knight (The Elenium, #2)</td></tr>",
                            "<tr><td>The Thief of Always</td></tr>",
                            "<tr><td>The Keepsake (Rizzoli &amp; Isles, #7)</td></tr>",
                            "<tr><td>The Everything Store: Jeff Bezos and the Age of Amazon</td></tr>",
                            "<tr><td>The Air He Breathes (Elements, #1)</td></tr>",
                            "<tr><td>The Bonehunters (Malazan Book of the Fallen, #6)</td></tr>",
                            "<tr><td>The Glass Magician (The Paper Magician Trilogy, #2)</td></tr>",
                            "<tr><td>The Naked and the Dead</td></tr>",
                            "<tr><td>The Little Mermaid</td></tr>",
                            "<tr><td>The Rembrandt Affair (Gabriel Allon, #10)</td></tr>",
                            "<tr><td>The Call of Cthulhu</td></tr>",
                            "<tr><td>The One That Got Away</td></tr>",
                            "<tr><td>The Ruby Circle (Bloodlines, #6)</td></tr>",
                            "<tr><td>The Know-It-All: One Man's Humble Quest to Become the Smartest Person in the World</td></tr>",
                            "<tr><td>The Double Bind</td></tr>",
                            "<tr><td>The Ice Twins</td></tr>",
                            "<tr><td>The Edge of Always (The Edge of Never, #2)</td></tr>",
                            "<tr><td>The Virgin Blue</td></tr>",
                            "<tr><td>The Einstein Prophecy</td></tr>",
                            "<tr><td>The Spellman Files (The Spellmans, #1)</td></tr>",
                            "<tr><td>The Judas Strain (Sigma Force, #4)</td></tr>",
                            "<tr><td>The Missing Piece</td></tr>",
                            "<tr><td>The Bridge of San Luis Rey</td></tr>",
                            "<tr><td>The Sellout</td></tr>",
                            "<tr><td>The Silent Girl (Rizzoli &amp; Isles, #9)</td></tr>",
                            "<tr><td>The Wolf Gift (The Wolf Gift Chronicles, #1)</td></tr>",
                            "<tr><td>The Little Red Hen (Little Golden Book)</td></tr>",
                            "<tr><td>The Terror</td></tr>",
                            "<tr><td>The Atlantis Plague (The Origin Mystery, #2)</td></tr>",
                            "<tr><td>The Game: Penetrating the Secret Society of Pickup Artists</td></tr>",
                            "<tr><td>The Shop on Blossom Street (Blossom Street, #1)</td></tr>",
                            "<tr><td>The Bourne Objective (Jason Bourne, #8)</td></tr>",
                            "<tr><td>The Score (Off-Campus, #3)</td></tr>",
                            "<tr><td>The Best Laid Plans</td></tr>",
                            "<tr><td>The Egypt Game (Game, #1)</td></tr>",
                            "<tr><td>The Complete Stories</td></tr>",
                            "<tr><td>The Whole Truth (A. Shaw, #1)</td></tr>",
                            "<tr><td>The Hard Thing About Hard Things: Building a Business When There Are No Easy Answers</td></tr>",
                            "<tr><td>The Fallen Star (Fallen Star, #1)</td></tr>",
                            "<tr><td>The Illearth War (The Chronicles of Thomas Covenant the Unbeliever, #2)</td></tr>",
                            "<tr><td>The Fifth Season (The Broken Earth, #1)</td></tr>",
                            "<tr><td>The Zombie Room</td></tr>",
                            "<tr><td>The Analyst</td></tr>",
                            "<tr><td>The Mysterious Benedict Society and the Prisoner's Dilemma (The Mysterious Benedict Society, #3)</td></tr>",
                            "<tr><td>The Family Fang</td></tr>",
                            "<tr><td>The Pursuit of Happyness</td></tr>",
                            "<tr><td>The Moviegoer</td></tr>",
                            "<tr><td>The Cherry Orchard</td></tr>",
                            "<tr><td>The Heart of the Matter</td></tr>",
                            "<tr><td>The Long Haul (Diary of a Wimpy Kid, #9)</td></tr>",
                            "<tr><td>The Sleeper and the Spindle</td></tr>",
                            "<tr><td>The Negotiator (O'Malley, #1)</td></tr>",
                            "<tr><td>The Son of Sobek (Percy Jackson &amp; Kane Chronicles Crossover, #1)</td></tr>",
                            "<tr><td>The Going-To-Bed Book</td></tr>",
                            "<tr><td>The Postman Always Rings Twice</td></tr>",
                            "<tr><td>The Dead-Tossed Waves (The Forest of Hands and Teeth, #2)</td></tr>",
                            "<tr><td>The Glass Palace</td></tr>",
                            "<tr><td>The Eye of Minds (The Mortality Doctrine, #1)</td></tr>",
                            "<tr><td>The Scar (Bas-Lag, #2)</td></tr>",
                            "<tr><td>The Story of Beautiful Girl</td></tr>",
                            "<tr><td>The Monkey Wrench Gang (Monkey Wrench Gang, #1)</td></tr>",
                            "<tr><td>The Dragon Keeper (Rain Wild Chronicles, #1)</td></tr>",
                            "<tr><td>The China Study: The Most Comprehensive Study of Nutrition Ever Conducted And the Startling Implications for Diet, Weight Loss, And Long-term Health</td></tr>",
                            "<tr><td>The Gruffalo</td></tr>",
                            "<tr><td>The Salmon of Doubt (Dirk Gently, #3)</td></tr>",
                            "<tr><td>The City and the Stars</td></tr>",
                            "<tr><td>The Siren</td></tr>",
                            "<tr><td>The Quiet Game</td></tr>",
                            "<tr><td>The Messenger (Gabriel Allon, #6)</td></tr>",
                            "<tr><td>The Sheltering Sky</td></tr>",
                            "<tr><td>The Rest of Us Just Live Here</td></tr>",
                            "<tr><td>The Lady Elizabeth</td></tr>",
                            "<tr><td>The Astronaut Wives Club</td></tr>",
                            "<tr><td>The Man Who Was Thursday: A Nightmare</td></tr>",
                            "<tr><td>The Monster of Florence</td></tr>",
                            "<tr><td>The Weight of Water</td></tr>",
                            "<tr><td>The Last Hero (Discworld, #27; Rincewind #7)</td></tr>",
                            "<tr><td>The Harbinger: The Ancient Mystery that Holds the Secret of America's Future</td></tr>",
                            "<tr><td>The English Girl (Gabriel Allon, #13)</td></tr>",
                            "<tr><td>The Geography of You and Me</td></tr>",
                            "<tr><td>The Black Dagger Brotherhood: An Insider's Guide</td></tr>",
                            "<tr><td>The Secret Adversary (Tommy and Tuppence #1)</td></tr>",
                            "<tr><td>The Girl Who Fell from the Sky</td></tr>",
                            "<tr><td>The Rivers of Zadaa (Pendragon, #6)</td></tr>",
                            "<tr><td>The Brooklyn Follies</td></tr>",
                            "<tr><td>The Ironwood Tree (The Spiderwick Chronicles, #4)</td></tr>",
                            "<tr><td>The Yearling</td></tr>",
                            "<tr><td>The Sex Lives of Cannibals: Adrift in the Equatorial Pacific</td></tr>",
                            "<tr><td>The Vampire Prince (Cirque Du Freak, #6)</td></tr>",
                            "<tr><td>The Sapphire Rose (The Elenium, #3)</td></tr>",
                            "<tr><td>The Gold Coast</td></tr>",
                            "<tr><td>The Collector</td></tr>",
                            "<tr><td>The Hook Up (Game On, #1)</td></tr>",
                            "<tr><td>The Cat's Table</td></tr>",
                            "<tr><td>The Demolished Man</td></tr>",
                            "<tr><td>The Evolution of Calpurnia Tate (Calpurnia Tate, #1)</td></tr>",
                            "<tr><td>The Walking Dead, Vol. 04: The Heart's Desire</td></tr>",
                            "<tr><td>The Stonekeeper's Curse (Amulet, #2)</td></tr>",
                            "<tr><td>The Days Are Just Packed: A Calvin and Hobbes Collection</td></tr>",
                            "<tr><td>The Creative License: Giving Yourself Permission to Be The Artist You Truly Are</td></tr>",
                            "<tr><td>The Archer's Tale (The Grail Quest, #1)</td></tr>",
                            "<tr><td>The Skull Throne (Demon Cycle, #4)</td></tr>",
                            "<tr><td>The Bees</td></tr>",
                            "<tr><td>The Good House</td></tr>",
                            "<tr><td>The Redeemer (Harry Hole, #6)</td></tr>",
                            "<tr><td>The Remnant (Left Behind, #10)</td></tr>",
                            "<tr><td>The Baron in the Trees</td></tr>",
                            "<tr><td>The Great Book of Amber (The Chronicles of Amber, #1-10)</td></tr>",
                            "<tr><td>The Darkest Lie (Lords of the Underworld #6)</td></tr>",
                            "<tr><td>The Dressmaker</td></tr>",
                            "<tr><td>The Edible Woman</td></tr>",
                            "<tr><td>The Ancestor's Tale: A Pilgrimage to the Dawn of Evolution</td></tr>",
                            "<tr><td>The Pigman (The Pigman, #1)</td></tr>",
                            "<tr><td>The Full Cupboard of Life (No. 1 Ladies' Detective Agency, #5)</td></tr>",
                            "<tr><td>The Foot Book: Dr. Seuss's Wacky Book of Opposites (Bright and Early Board Books)</td></tr>",
                            "<tr><td>The Recruit (Cherub, #1)</td></tr>",
                            "<tr><td>The Christmas Box (The Christmas Box, #1)</td></tr>",
                            "<tr><td>The Bloody Chamber and Other Stories</td></tr>",
                            "<tr><td>The Power of Art</td></tr>",
                            "<tr><td>The Hero With a Thousand Faces</td></tr>",
                            "<tr><td>The Lost Gate (Mither Mages, #1)</td></tr>",
                            "<tr><td>The Lace Reader (The Lace Reader, #1)</td></tr>",
                            "<tr><td>The Lone Ranger and Tonto Fistfight in Heaven</td></tr>",
                            "<tr><td>The Chemist</td></tr>",
                            "<tr><td>The Princess and the Goblin  (Princess Irene and Curdie, #1)</td></tr>",
                            "<tr><td>The Preacher (Patrik Hedström, #2)</td></tr>",
                            "<tr><td>The Gatecrasher</td></tr>",
                            "<tr><td>The Confusion (The Baroque Cycle, #2)</td></tr>",
                            "<tr><td>The Valkyries</td></tr>",
                            "<tr><td>The Long Way Home (Chief Inspector Armand Gamache, #10)</td></tr>",
                            "<tr><td>The Struggle (The Vampire Diaries, #2)</td></tr>",
                            "<tr><td>The Dark Highlander (Highlander, #5)</td></tr>",
                            "<tr><td>The Immortal Highlander (Highlander, #6)</td></tr>",
                            "<tr><td>The Second Sex</td></tr>",
                            "<tr><td>The Runaway King (The Ascendance Trilogy, #2)</td></tr>",
                            "<tr><td>The Highly Sensitive Person: How to Thrive When the World Overwhelms You</td></tr>",
                            "<tr><td>The Palace of Illusions</td></tr>",
                            "<tr><td>The First American: The Life and Times of Benjamin Franklin</td></tr>",
                            "<tr><td>The Gift (Witch &amp; Wizard, #2)</td></tr>",
                            "<tr><td>The Terminal Man</td></tr>",
                            "<tr><td>The Land of Painted Caves (Earth's Children, #6)</td></tr>",
                            "<tr><td>The Wimpy Kid Movie Diary (Diary of a Wimpy Kid)</td></tr>",
                            "<tr><td>The Thin Man</td></tr>",
                            "<tr><td>The Uplift War (The Uplift Saga, #3)</td></tr>",
                            "<tr><td>The Rose Society (The Young Elites, #2)</td></tr>",
                            "<tr><td>The Short and Tragic Life of Robert Peace: A Brilliant Young Man Who Left Newark for the Ivy League</td></tr>",
                            "<tr><td>The Neighbor (Detective D.D. Warren, #3)</td></tr>",
                            "<tr><td>The Summer Before the War</td></tr>",
                            "<tr><td>The Scottish Prisoner (Lord John Grey, #3)</td></tr>",
                            "<tr><td>The Secret Diaries of Miss Miranda Cheever (Bevelstoke, #1)</td></tr>",
                            "<tr><td>The Constitution of the United States of America</td></tr>",
                            "<tr><td>The Sea Wolf</td></tr>",
                            "<tr><td>The Dive From Clausen's Pier</td></tr>",
                            "<tr><td>The Tibetan Book of Living and Dying</td></tr>",
                            "<tr><td>The Fall of the House of Usher</td></tr>",
                            "<tr><td>The Soldiers of Halla (Pendragon, #10)</td></tr>",
                            "<tr><td>The Boyfriend List: 15 Guys, 11 Shrink Appointments, 4 Ceramic Frogs and Me, Ruby Oliver (Ruby Oliver, #1)</td></tr>",
                            "<tr><td>The Initiate (Divergent, #0.2)</td></tr>",
                            "<tr><td>The Penelopiad</td></tr>",
                            "<tr><td>The Improbable Adventures of Sherlock Holmes</td></tr>",
                            "<tr><td>The Starter Wife</td></tr>",
                            "<tr><td>The Fire Next Time</td></tr>",
                            "<tr><td>The Coffin Club (Vampire Kisses, #5)</td></tr>",
                            "<tr><td>The Book of Speculation</td></tr>",
                            "<tr><td>The Dragonriders of Pern (Dragonriders of Pern, #1-3)</td></tr>",
                            "<tr><td>The Social Animal: The Hidden Sources of Love, Character, and Achievement</td></tr>",
                            "<tr><td>The Structure of Scientific Revolutions</td></tr>",
                            "<tr><td>The Sky is Falling</td></tr>",
                            "<tr><td>The Fifth Discipline: The Art &amp; Practice of The Learning Organization</td></tr>",
                            "<tr><td>The Perfect Play (Play by Play, #1)</td></tr>",
                            "<tr><td>The Curse of Chalion (World of the Five Gods, #1)</td></tr>",
                            "<tr><td>The Burning Land (The Saxon Stories, #5)</td></tr>",
                            "<tr><td>The Earth, My Butt, and Other Big Round Things</td></tr>",
                            "<tr><td>The Supernaturalist</td></tr>",
                            "<tr><td>The Rent Collector</td></tr>",
                            "<tr><td>The Happiest Baby on the Block: The New Way to Calm Crying and Help Your Newborn Baby Sleep Longer</td></tr>",
                            "<tr><td>The Absent One (Department Q, #2)</td></tr>",
                            "<tr><td>The Good Lord Bird</td></tr>",
                            "<tr><td>The Walking Dead, Vol. 05: The Best Defense</td></tr>",
                            "<tr><td>The Walk (The Walk, #1)</td></tr>",
                            "<tr><td>The Crossover</td></tr>",
                            "<tr><td>The Line of Beauty</td></tr>",
                            "<tr><td>The Rose Garden</td></tr>",
                            "<tr><td>The English Assassin (Gabriel Allon, #2)</td></tr>",
                            "<tr><td>The Effective Executive: The Definitive Guide to Getting the Right Things Done (Harperbusiness Essentials)</td></tr>",
                            "<tr><td>The Wicked + The Divine, Vol. 1: The Faust Act</td></tr>",
                            "<tr><td>The Law of Attraction: The Basics of the Teachings of Abraham</td></tr>",
                            "<tr><td>The Postcard Killers</td></tr>",
                            "<tr><td>The Far Side Gallery</td></tr>",
                            "<tr><td>The Eternity Cure (Blood of Eden, #2)</td></tr>",
                            "<tr><td>The Guest Room</td></tr>",
                            "<tr><td>The Six Sacred Stones (Jack West Jr, #2)</td></tr>",
                            "<tr><td>The Watchman (Elvis Cole, #11; Joe Pike, #1)</td></tr>",
                            "<tr><td>The Blank Slate: The Modern Denial of Human Nature</td></tr>",
                            "<tr><td>The Dreaming Void</td></tr>",
                            "<tr><td>The Feast of the Goat</td></tr>",
                            "<tr><td>The First Bad Man</td></tr>",
                            "<tr><td>The Sea</td></tr>",
                            "<tr><td>The Magic of Recluce (The Saga of Recluce #1)</td></tr>",
                            "<tr><td>The Bastard (Kent Family Chronicles, #1)</td></tr>",
                            "<tr><td>The Last Policeman (The Last Policeman, #1)</td></tr>",
                            "<tr><td>The Colorado Kid (Hard Case Crime #13)</td></tr>",
                            "<tr><td>The Monkey's Paw (Oxford Bookworms)</td></tr>",
                            "<tr><td>The Pursuit of Holiness</td></tr>",
                            "<tr><td>The Nix</td></tr>",
                            "<tr><td>The Calvin and Hobbes Lazy Sunday Book</td></tr>",
                            "<tr><td>The Lifeboat</td></tr>",
                            "<tr><td>The Jewel (The Lone City, #1)</td></tr>",
                            "<tr><td>The Fire Within (The Last Dragon Chronicles, #1)</td></tr>",
                            "<tr><td>The Hollow (Sign of Seven, #2)</td></tr>",
                            "<tr><td>The 8th Habit: From Effectiveness to Greatness</td></tr>",
                            "<tr><td>The Girls</td></tr>",
                            "<tr><td>The Alibi</td></tr>",
                            "<tr><td>The Fifth Woman (Kurt Wallander, #6)</td></tr>",
                            "<tr><td>The Wordy Shipmates</td></tr>",
                            "<tr><td>The Time in Between</td></tr>",
                            "<tr><td>The Best Man (Blue Heron, #1)</td></tr>",
                            "<tr><td>The Poisoner's Handbook: Murder and the Birth of Forensic Medicine in Jazz Age New York</td></tr>",
                            "<tr><td>The Dhammapada</td></tr>",
                            "<tr><td>The Darkest Part of the Forest</td></tr>",
                            "<tr><td>The Samurai's Garden</td></tr>",
                            "<tr><td>The Hating Game</td></tr>",
                            "<tr><td>The Bear and the Dragon (Jack Ryan Universe, #11)</td></tr>",
                            "<tr><td>The Magician's Apprentice (Black Magician, #0.5)</td></tr>",
                            "<tr><td>The Visitation</td></tr>",
                            "<tr><td>The Garden of Rama (Rama, #3)</td></tr>",
                            "<tr><td>The Abyss</td></tr>",
                            "<tr><td>The Witch's Daughter (The Witch's Daughter, #1)</td></tr>",
                            "<tr><td>The Readers of Broken Wheel Recommend</td></tr>",
                            "<tr><td>The Magic of Reality: How We Know What's Really True</td></tr>",
                            "<tr><td>The Power That Preserves (The Chronicles of Thomas Covenant the Unbeliever, #3)</td></tr>",
                            "<tr><td>The Brightest Star in the Sky</td></tr>",
                            "<tr><td>The Last Seven Months of Anne Frank</td></tr>",
                            "<tr><td>The Innovators: How a Group of  Hackers, Geniuses and Geeks Created the Digital Revolution</td></tr>",
                            "<tr><td>The System of the World (The Baroque Cycle, #3)</td></tr>",
                            "<tr><td>The Flamethrowers</td></tr>",
                            "<tr><td>The Selection Stories: The Prince &amp; The Guard (The Selection, #0.5, 2.5)</td></tr>",
                            "<tr><td>The Venetian Betrayal (Cotton Malone, #3)</td></tr>",
                            "<tr><td>The Robe</td></tr>",
                            "<tr><td>The Yonahlossee Riding Camp for Girls</td></tr>",
                            "<tr><td>The Gift of Fear: Survival Signals That Protect Us from Violence</td></tr>",
                            "<tr><td>The Blind Owl</td></tr>",
                            "<tr><td>The Ring of Solomon (Bartimaeus, #0.5)</td></tr>",
                            "<tr><td>The Master Butchers Singing Club</td></tr>",
                            "<tr><td>The Great Train Robbery</td></tr>",
                            "<tr><td>The Things We Do for Love</td></tr>",
                            "<tr><td>The Key to Rebecca</td></tr>",
                            "<tr><td>The Long Way to a Small, Angry Planet (Wayfarers, #1)</td></tr>",
                            "<tr><td>The Russia House</td></tr>",
                            "<tr><td>The Third Chimpanzee: The Evolution and Future of the Human Animal</td></tr>",
                            "<tr><td>The Given Day (Coughlin #1)</td></tr>",
                            "<tr><td>The Walking Dead, Vol. 06: This Sorrowful Life</td></tr>",
                            "<tr><td>The Innocent</td></tr>",
                            "<tr><td>The Dip: A Little Book That Teaches You When to Quit (and When to Stick)</td></tr>",
                            "<tr><td>The Farseer Trilogy (Farseer Trilogy #1-3)</td></tr>",
                            "<tr><td>The Blue Bistro</td></tr>",
                            "<tr><td>The Heart of Betrayal (The Remnant Chronicles, #2)</td></tr>",
                            "<tr><td>The Funhouse</td></tr>",
                            "<tr><td>The Speed of Trust: The One Thing that Changes Everything</td></tr>",
                            "<tr><td>The Killing Hour (Quincy &amp; Rainie, #4)</td></tr>",
                            "<tr><td>The Moral Landscape: How Science Can Determine Human Values</td></tr>",
                            "<tr><td>The Mill River Recluse</td></tr>",
                            "<tr><td>The Secret Hour (Midnighters, #1)</td></tr>",
                            "<tr><td>The Candy Shop War (The Candy Shop War, #1)</td></tr>",
                            "<tr><td>The Farm</td></tr>",
                            "<tr><td>The Prince of Mist (Niebla, #1)</td></tr>",
                            "<tr><td>The First Four Years  (Little House, #9)</td></tr>",
                            "<tr><td>The Elephant Tree</td></tr>",
                            "<tr><td>The Definitive Book of Body Language</td></tr>",
                            "<tr><td>The First Commandment (Scot Harvath, #6)</td></tr>",
                            "<tr><td>The New Best Recipe</td></tr>",
                            "<tr><td>The Rose &amp; the Dagger (The Wrath &amp; the Dawn, #2)</td></tr>",
                            "<tr><td>The Fold</td></tr>",
                            "<tr><td>The Nature of the Beast (Chief Inspector Armand Gamache #11)</td></tr>",
                            "<tr><td>The Proper Care and Feeding of Husbands</td></tr>",
                            "<tr><td>The Crown Tower (The Riyria Chronicles, #1)</td></tr>",
                            "<tr><td>The Museum of Innocence</td></tr>",
                            "<tr><td>The Mothers</td></tr>",
                            "<tr><td>The Woman Warrior</td></tr>",
                            "<tr><td>The Sword of Shannara Trilogy (Shannara, #1-3)</td></tr>",
                            "<tr><td>The Valley of Fear</td></tr>",
                            "<tr><td>The Pagan Stone (Sign of Seven, #3)</td></tr>",
                            "<tr><td>The Bitter Kingdom (Fire and Thorns, #3)</td></tr>",
                            "<tr><td>The Teeth of the Tiger (Jack Ryan Universe, #12)</td></tr>",
                            "<tr><td>The Queen of Attolia (The Queen's Thief, #2)</td></tr>",
                            "<tr><td>The Prophet of Yonwood (Book of Ember, #3)</td></tr>",
                            "<tr><td>The Darkest Surrender  (Lords of the Underworld #8)</td></tr>",
                            "<tr><td>The Vagina Monologues</td></tr>",
                            "<tr><td>The Book of Illusions</td></tr>",
                            "<tr><td>The Debutante Divorcee</td></tr>",
                            "<tr><td>The Wheel of Darkness (Pendergast, #8)</td></tr>",
                            "<tr><td>The Sandman: Endless Nights</td></tr>",
                            "<tr><td>The First Wives Club</td></tr>",
                            "<tr><td>The Vanishing Act of Esme Lennox</td></tr>",
                            "<tr><td>The Night Watch</td></tr>",
                            "<tr><td>The Housekeeper and the Professor</td></tr>",
                            "<tr><td>The Face</td></tr>",
                            "<tr><td>The Ascent of Money: A Financial History of the World</td></tr>",
                            "<tr><td>The Impossible Knife of Memory</td></tr>",
                            "<tr><td>The Girls of Atomic City: The Untold Story of the Women Who Helped Win World War II</td></tr>",
                            "<tr><td>The Quillan Games (Pendragon, #7)</td></tr>",
                            "<tr><td>The Green Mile, Part 1: The Two Dead Girls</td></tr>",
                            "<tr><td>The Bone Garden </td></tr>",
                            "<tr><td>The King's Buccaneer (Krondor's Sons, #2)</td></tr>",
                            "<tr><td>The Wednesday Letters</td></tr>",
                            "<tr><td>The Jesus I Never Knew</td></tr>",
                            "<tr><td>The Unidentified Redhead (Redhead, #1)</td></tr>",
                            "<tr><td>The Adventures of Ook and Gluk, Kung-Fu Cavemen from the Future</td></tr>",
                            "<tr><td>The Informers</td></tr>",
                            "<tr><td>The Queen (The Selection, #0.4)</td></tr>",
                            "<tr><td>The Devil Colony (Sigma Force, #7)</td></tr>",
                            "<tr><td>The Walking Dead, Vol. 12: Life Among Them</td></tr>",
                            "<tr><td>The Gospel According to Jesus Christ</td></tr>",
                            "<tr><td>The Calling (Darkness Rising, #2)</td></tr>",
                            "<tr><td>The Dance Of Anger: A Woman's Guide to Changing the Patterns of Intimate Relationships</td></tr>",
                            "<tr><td>The Apothecary's Daughter</td></tr>",
                            "<tr><td>The Five Chinese Brothers</td></tr>",
                            "<tr><td>The Source of Magic (Xanth, #2)</td></tr>",
                            "<tr><td>The King of Attolia (The Queen's Thief, #3)</td></tr>",
                            "<tr><td>The Honor of the Queen (Honor Harrington, #2)</td></tr>",
                            "<tr><td>The Atlantis World (The Origin Mystery, #3)</td></tr>",
                            "<tr><td>The Complete Poems</td></tr>",
                            "<tr><td>The Untethered Soul: The Journey Beyond Yourself</td></tr>",
                            "<tr><td>The Prize</td></tr>",
                            "<tr><td>The Middlesteins</td></tr>",
                            "<tr><td>The Screaming Staircase (Lockwood &amp; Co., #1)</td></tr>",
                            "<tr><td>The Day of the Locust</td></tr>",
                            "<tr><td>The Morganville Vampires, Volume 1 (The Morganville Vampires, #1-2)</td></tr>",
                            "<tr><td>The Heart of a Woman</td></tr>",
                            "<tr><td>The Call of the Wild, White Fang and Other Stories</td></tr>",
                            "<tr><td>The Rape of Nanking</td></tr>",
                            "<tr><td>The Solitaire Mystery: A Novel About Family and Destiny</td></tr>",
                            "<tr><td>The Mating  (Law of the Lycans, #2)</td></tr>",
                            "<tr><td>The Gates of Rome (Emperor, #1)</td></tr>",
                            "<tr><td>The Fixed Trilogy (Fixed, #1-3)</td></tr>",
                            "<tr><td>The Pigeon Finds a Hot Dog!</td></tr>",
                            "<tr><td>The Baker's Daughter</td></tr>",
                            "<tr><td>The Shadows (Black Dagger Brotherhood, #13)</td></tr>",
                            "<tr><td>The Magic Finger (Young Puffin Developing Reader)</td></tr>",
                            "<tr><td>The Enchanted Wood (The Faraway Tree, #1)</td></tr>",
                            "<tr><td>The Swans of Fifth Avenue</td></tr>",
                            "<tr><td>The Pioneer Woman Cooks: Food from My Frontier </td></tr>",
                            "<tr><td>The Love Affairs of Nathaniel P.</td></tr>",
                            "<tr><td>The Seagull</td></tr>",
                            "<tr><td>The Door Into Summer</td></tr>",
                            "<tr><td>The Stepford Wives</td></tr>",
                            "<tr><td>The Longest Day</td></tr>",
                            "<tr><td>The Reality Bug (Pendragon, #4)</td></tr>",
                            "<tr><td>The Hidden Staircase (Nancy Drew #2)</td></tr>",
                            "<tr><td>The Fallen Angel (Gabriel Allon, #12)</td></tr>",
                            "<tr><td>The Wall of Winnipeg and Me</td></tr>",
                            "<tr><td>The Onion Field</td></tr>",
                            "<tr><td>The Willpower Instinct: How Self-Control Works, Why It Matters, and What You Can Do to Get More of It</td></tr>",
                            "<tr><td>The Art of Travel</td></tr>",
                            "<tr><td>The Summer Garden (The Bronze Horseman, #3)</td></tr>",
                            "<tr><td>The Weight of Blood</td></tr>",
                            "<tr><td>The I Ching or Book of Changes</td></tr>",
                            "<tr><td>The 39 Steps (Richard Hannay, #1)</td></tr>",
                            "<tr><td>The Lake of Souls (Cirque Du Freak, #10)</td></tr>",
                            "<tr><td>The School of Essential Ingredients</td></tr>",
                            "<tr><td>The Complete Clive Barker's The Great And Secret Show</td></tr>",
                            "<tr><td>The Pickwick Papers</td></tr>",
                            "<tr><td>The Romanov Prophecy</td></tr>",
                            "<tr><td>The Uncommon Reader</td></tr>",
                            "<tr><td>The Naked Face</td></tr>",
                            "<tr><td>The Divergent Series 2-Book Collection (Divergent, #1-2)</td></tr>",
                            "<tr><td>The Prague Cemetery</td></tr>",
                            "<tr><td>The Portable Atheist: Essential Readings for the Nonbeliever</td></tr>",
                            "<tr><td>The Tao of Physics: An Exploration of the Parallels between Modern Physics and Eastern Mysticism</td></tr>",
                            "<tr><td>The Girl With No Past</td></tr>",
                            "<tr><td>The Lonely Hearts Club (The Lonely Hearts Club, #1)</td></tr>",
                            "<tr><td>The Big Four (Hercule Poirot, #5)</td></tr>",
                            "<tr><td>The World of the Hunger Games (Hunger Games Trilogy)</td></tr>",
                            "<tr><td>The Magic Strings of Frankie Presto</td></tr>",
                            "<tr><td>The Devotion of Suspect X</td></tr>",
                            "<tr><td>The Unlikely Spy</td></tr>",
                            "<tr><td>The Inner Circle (Culper Ring, #1)</td></tr>",
                            "<tr><td>The Princess Diarist</td></tr>",
                            "<tr><td>The Crippled God (The Malazan Book of the Fallen, #10)</td></tr>",
                            "<tr><td>The Sicilian</td></tr>",
                            "<tr><td>The Copper Beech</td></tr>",
                            "<tr><td>The Compound (The Compound, #1)</td></tr>",
                            "<tr><td>The Covenant</td></tr>",
                            "<tr><td>The Pledge (The Pledge, #1)</td></tr>",
                            "<tr><td>The Villa</td></tr>",
                            "<tr><td>The Enemy (The Enemy, #1)</td></tr>",
                            "<tr><td>The Empty Chair (Lincoln Rhyme, #3)</td></tr>",
                            "<tr><td>The Other</td></tr>",
                            "<tr><td>The English Spy (Gabriel Allon, #15)</td></tr>",
                            "<tr><td>The Cement Garden</td></tr>",
                            "<tr><td>The Bet (The Bet, #1)</td></tr>",
                            "<tr><td>The Descendants</td></tr>",
                            "<tr><td>The Cold Dish (Walt Longmire, #1)</td></tr>",
                            "<tr><td>The Poetry of Pablo Neruda</td></tr>",
                            "<tr><td>The Silver Palate Cookbook</td></tr>",
                            "<tr><td>The Bone People</td></tr>",
                            "<tr><td>The Crimson Campaign (Powder Mage, #2)</td></tr>",
                            "<tr><td>The Universe Versus Alex Woods</td></tr>",
                            "<tr><td>The Murder on the Links (Hercule Poirot, #2)</td></tr>",
                            "<tr><td>The Anti-Christ</td></tr>",
                            "<tr><td>The Looming Tower: Al-Qaeda and the Road to 9/11</td></tr>",
                            "<tr><td>The Cat Who Walks Through Walls (The World As Myth)</td></tr>",
                            "<tr><td>The Waves</td></tr>",
                            "<tr><td>The Nine: Inside the Secret World of the Supreme Court</td></tr>",
                            "<tr><td>The Violets of March</td></tr>",
                            "<tr><td>The Shining Ones (The Tamuli, #2)</td></tr>",
                            "<tr><td>The Cat in the Hat Comes Back</td></tr>",
                            "<tr><td>The Good Husband of Zebra Drive (No. 1 Ladies' Detective Agency, #8)</td></tr>",
                            "<tr><td>The Secret Servant (Gabriel Allon, #7)</td></tr>",
                            "<tr><td>The Forever of Ella and Micha (The Secret, #2)</td></tr>",
                            "<tr><td>The Wall</td></tr>",
                            "<tr><td>The House We Grew Up In</td></tr>",
                            "<tr><td>The Sisterhood</td></tr>",
                            "<tr><td>The Last Nude</td></tr>",
                            "<tr><td>The First Man in Rome (Masters of Rome, #1)</td></tr>",
                            "<tr><td>The Confessor (Gabriel Allon, #3)</td></tr>",
                            "<tr><td>The Wallflower, Vol. 1 (The Wallflower, #1)</td></tr>",
                            "<tr><td>The Thousand Orcs (Forgotten Realms: Hunter's Blades, #1; Legend of Drizzt, #14)</td></tr>",
                            "<tr><td>The Painted Bird</td></tr>",
                            "<tr><td>The Glass Lake</td></tr>",
                            "<tr><td>The Happiness Hypothesis: Finding Modern Truth in Ancient Wisdom</td></tr>",
                            "<tr><td>The Masque of the Red Death</td></tr>",
                            "<tr><td>The Evolutionary Void</td></tr>",
                            "<tr><td>The Forbidden Game (The Forbidden Game, #1-3)</td></tr>",
                            "<tr><td>The Te of Piglet</td></tr>",
                            "<tr><td>The Twelve Chairs</td></tr>",
                            "<tr><td>The Fever</td></tr>",
                            "<tr><td>The Very Quiet Cricket</td></tr>",
                            "<tr><td>The Naming (The Books of Pellinor, #1)</td></tr>",
                            "<tr><td>The Millionaire Mind</td></tr>",
                            "<tr><td>The Stars Shine Down</td></tr>",
                            "<tr><td>The Beatles Anthology</td></tr>",
                            "<tr><td>The Crow Road</td></tr>",
                            "<tr><td>The Book of Joe</td></tr>",
                            "<tr><td>The Game Changer (The Perfect Game, #2)</td></tr>",
                            "<tr><td>The Winter's Tale</td></tr>",
                            "<tr><td>The Temporal Void</td></tr>",
                            "<tr><td>The Rising: Antichrist is Born  (Before They Were Left Behind, #1)</td></tr>",
                            "<tr><td>The Scarpetta Factor (Kay Scarpetta, #17)</td></tr>",
                            "<tr><td>The Winner's Kiss (The Winner's Trilogy, #3)</td></tr>",
                            "<tr><td>The Whipping Boy</td></tr>",
                            "<tr><td>The Last Little Blue Envelope (Little Blue Envelope, #2)</td></tr>",
                            "<tr><td>The Making of the Atomic Bomb</td></tr>",
                            "<tr><td>The Third Twin</td></tr>",
                            "<tr><td>The Butlerian Jihad (Legends of Dune, #1)</td></tr>",
                            "<tr><td>The 80/20 Principle: The Secret to Achieving More with Less</td></tr>",
                            "<tr><td>The Complete Poetry and Prose</td></tr>",
                            "<tr><td>The Sportswriter</td></tr>",
                            "<tr><td>The Road to Little Dribbling: Adventures of an American in Britain</td></tr>",
                            "<tr><td>The Firebird (Slains, #2)</td></tr>",
                            "<tr><td>The Strange Case of Dr. Jekyll and Mr. Hyde and Other Stories </td></tr>",
                            "<tr><td>The Miracle of Forgiveness</td></tr>",
                            "<tr><td>The Darkest Secret (Lords of the Underworld #7)</td></tr>",
                            "<tr><td>The Umbrella Academy, Vol. 1: The Apocalypse Suite</td></tr>",
                            "<tr><td>The Women of Brewster Place</td></tr>",
                            "<tr><td>The Greater Journey: Americans in Paris</td></tr>",
                            "<tr><td>The Hidden City (The Tamuli, #3)</td></tr>",
                            "<tr><td>The Glassblower</td></tr>",
                            "<tr><td>The Broom of the System</td></tr>",
                            "<tr><td>The Dark Hills Divide (The Land of Elyon, #1)</td></tr>",
                            "<tr><td>The Sunne in Splendour</td></tr>",
                            "<tr><td>The Masterharper of Pern (Pern, #15)</td></tr>",
                            "<tr><td>The Drunkard's Walk: How Randomness Rules Our Lives</td></tr>",
                            "<tr><td>The Angel of Darkness (Dr. Laszlo Kreizler, #2)</td></tr>",
                            "<tr><td>The Sword in the Stone (The Once and Future King, #1)</td></tr>",
                            "<tr><td>The Year of Secret Assignments (Ashbury/Brookfield, #2)</td></tr>",
                            "<tr><td>The Blue Castle </td></tr>",
                            "<tr><td>The Gift</td></tr>",
                            "<tr><td>The Immortals Boxed Set (The Immortals, #1-3)</td></tr>",
                            "<tr><td>The Mirror Crack'd from Side to Side (Miss Marple, #9)</td></tr>",
                            "<tr><td>The Hat</td></tr>",
                            "<tr><td>The Dogs of Riga (Kurt Wallander, #2)</td></tr>",
                            "<tr><td>The Water Knife</td></tr>",
                            "<tr><td>The Cove  (FBI Thriller #1)</td></tr>",
                            "<tr><td>The Monkey's Raincoat (Elvis Cole, #1)</td></tr>",
                            "<tr><td>The Caine Mutiny</td></tr>",
                            "<tr><td>The Neon Rain (Dave Robicheaux, #1)</td></tr>",
                            "<tr><td>The Imitation of Christ</td></tr>",
                            "<tr><td>The Initiation / The Captive Part I (The Secret Circle, #1-2)</td></tr>",
                            "<tr><td>The Enchantress Returns (The Land of Stories, #2)</td></tr>",
                            "<tr><td>The Master Magician (The Paper Magician Trilogy, #3)</td></tr>",
                            "<tr><td>The Marriage Trap (Marriage to a Billionaire, #2)</td></tr>",
                            "<tr><td>The Jordan Rules</td></tr>",
                            "<tr><td>The Heretic Queen</td></tr>",
                            "<tr><td>The Piano Teacher</td></tr>",
                            "<tr><td>The Good Soldier</td></tr>",
                            "<tr><td>The Berenstain Bears' Trouble at School</td></tr>",
                            "<tr><td>The Talisman (Volume 1): The Road of Trials</td></tr>",
                            "<tr><td>The Dead of Night (The 39 Clues: Cahills vs. Vespers, #3)</td></tr>",
                            "<tr><td>The League of Extraordinary Gentlemen, Vol. 2</td></tr>",
                            "<tr><td>The Outcasts (Brotherband Chronicles, #1)</td></tr>",
                            "<tr><td>The Abolition of Man</td></tr>",
                            "<tr><td>The King's Curse (The Plantagenet and Tudor Novels, #7)</td></tr>",
                            "<tr><td>The One You Love (Emma Holden Suspense Mystery, #1)</td></tr>",
                            "<tr><td>The Water is Wide: A Memoir</td></tr>",
                            "<tr><td>The Authoritative Calvin and Hobbes: A Calvin and Hobbes Treasury</td></tr>",
                            "<tr><td>The Girl Next Door</td></tr>",
                            "<tr><td>The Courts of Chaos (The Chronicles of Amber #5)</td></tr>",
                            "<tr><td>The Introvert Advantage: How to Thrive in an Extrovert World</td></tr>",
                            "<tr><td>The Rainbow</td></tr>",
                            "<tr><td>The Capture (Guardians of Ga'Hoole, #1)</td></tr>",
                            "<tr><td>The Great Influenza: The Story of the Deadliest Pandemic in History</td></tr>",
                            "<tr><td>The Heavenly Man: The Remarkable True Story of Chinese Christian Brother Yun</td></tr>",
                            "<tr><td>The Miracle of Mindfulness: An Introduction to the Practice of Meditation</td></tr>",
                            "<tr><td>The Face Of Deception (Eve Duncan, #1)</td></tr>",
                            "<tr><td>The Language Instinct: How the Mind Creates Language</td></tr>",
                            "<tr><td>The Yacoubian Building</td></tr>",
                            "<tr><td>The Frog Princess (Tales of the Frog Princess, #1)</td></tr>",
                            "<tr><td>The Pioneer Woman: Black Heels to Tractor Wheels</td></tr>",
                            "<tr><td>The Gathering</td></tr>",
                            "<tr><td>The Righteous Mind: Why Good People are Divided by Politics and Religion</td></tr>",
                            "<tr><td>The Lion and the Mouse</td></tr>",
                            "<tr><td>The Collected Poems</td></tr>",
                            "<tr><td>The Endurance: Shackleton's Legendary Antarctic Expedition</td></tr>",
                            "<tr><td>The Candymakers (The Candymakers, #1)</td></tr>",
                            "<tr><td>The Fury (The Vampire Diaries, #3)</td></tr>",
                            "<tr><td>The Taste of Home Cookbook</td></tr>",
                            "<tr><td>The Metamorphosis, In the Penal Colony, and Other Stories: The Great Short Works of Franz Kafka</td></tr>",
                            "<tr><td>The Dogs of War</td></tr>",
                            "<tr><td>The Wheel of Time: Boxed Set #1 (Wheel of Time, #1-3)</td></tr>",
                            "<tr><td>The Amber Room</td></tr>",
                            "<tr><td>The Omen Machine (Sword of Truth, #12; Richard and Kahlan, #1)</td></tr>",
                            "<tr><td>The Comedy of Errors</td></tr>",
                            "<tr><td>The Constant Gardener</td></tr>",
                            "<tr><td>The Passenger</td></tr>",
                            "<tr><td>The Running Dream</td></tr>",
                            "<tr><td>The Morganville Vampires, Volume 3 (The Morganville Vampires, #5-6)</td></tr>",
                            "<tr><td>The Mixed-Up Chameleon</td></tr>",
                            "<tr><td>The Jester</td></tr>",
                            "<tr><td>The Riddle (The Books of Pellinor, #2)</td></tr>",
                            "<tr><td>The Hedge Knight (The Hedge Knight Graphic Novels, #1)</td></tr>",
                            "<tr><td>The Blackhouse (Lewis Trilogy, #1)</td></tr>",
                            "<tr><td>The Silent Blade (Forgotten Realms: Paths of Darkness, #1; Legend of Drizzt, #11)</td></tr>",
                            "<tr><td>The Dark and Hollow Places (The Forest of Hands and Teeth, #3)</td></tr>",
                            "<tr><td>The Declaration of Independence and The Constitution of the United States</td></tr>",
                            "<tr><td>The River (Brian's Saga, #2)</td></tr>",
                            "<tr><td>The Man From St. Petersburg</td></tr>",
                            "<tr><td>The Wedding (Lairds' Fiancées, #2)</td></tr>",
                            "<tr><td>The Dead in Their Vaulted Arches (Flavia de Luce, #6)</td></tr>",
                            "<tr><td>The Legend of Huma (Dragonlance: Heroes, #1)</td></tr>",
                            "<tr><td>The Dogs of Babel</td></tr>",
                            "<tr><td>The Krishna Key</td></tr>",
                            "<tr><td>The Sweet Gum Tree</td></tr>",
                            "<tr><td>The Honk and Holler Opening Soon</td></tr>",
                            "<tr><td>The Passion</td></tr>",
                            "<tr><td>The Power of the Dog</td></tr>",
                            "<tr><td>The Undead Pool (The Hollows, #12)</td></tr>",
                            "<tr><td>The Human Division (Old Man's War, #5)</td></tr>",
                            "<tr><td>The Fate of Ten (Lorien Legacies, #6)</td></tr>",
                            "<tr><td>The Fourth Bear (Nursery Crime, #2)</td></tr>",
                            "<tr><td>The Unwritten, Vol. 1: Tommy Taylor and the Bogus Identity</td></tr>",
                            "<tr><td>The Enchantress of Florence</td></tr>",
                            "<tr><td>The History of Sexuality, Volume 1: An Introduction</td></tr>",
                            "<tr><td>The Idiot Girls' Action-Adventure Club: True Tales from a Magnificent and Clumsy Life</td></tr>",
                            "<tr><td>The Heist (Gabriel Allon, #14)</td></tr>",
                            "<tr><td>The Judgment of Paris: The Revolutionary Decade That Gave the World Impressionism</td></tr>",
                            "<tr><td>The Three Little Pigs</td></tr>",
                            "<tr><td>The Seventh Gate (The Death Gate Cycle, #7)</td></tr>",
                            "<tr><td>The Unwanteds (Unwanteds, #1)</td></tr>",
                            "<tr><td>The Day Jimmy's Boa Ate the Wash</td></tr>",
                            "<tr><td>The Panther  (John Corey, #6)</td></tr>",
                            "<tr><td>The Unexpected Mrs. Pollifax  (Mrs. Pollifax #1)</td></tr>",
                            "<tr><td>The Innocent Mage (Kingmaker, Kingbreaker, #1)</td></tr>",
                            "<tr><td>The Gun Seller</td></tr>",
                            "<tr><td>The Subtle Art of Not Giving a F*ck: A Counterintuitive Approach to Living a Good Life</td></tr>",
                            "<tr><td>The Dark Monk (The Hangman's Daughter, #2)</td></tr>",
                            "<tr><td>The Bellmaker (Redwall, #7)</td></tr>",
                            "<tr><td>The Code of the Woosters (Jeeves, #7)</td></tr>",
                            "<tr><td>The Bone Bed (Kay Scarpetta, #20)</td></tr>",
                            "<tr><td>The Fry Chronicles (Memoir #2)</td></tr>",
                            "<tr><td>The Shallows: What the Internet is Doing to Our Brains</td></tr>",
                            "<tr><td>The House at Tyneford</td></tr>",
                            "<tr><td>The Autobiography of Martin Luther King, Jr.</td></tr>",
                            "<tr><td>The Knowledge of the Holy</td></tr>",
                            "<tr><td>The Codex</td></tr>",
                            "<tr><td>The Happy Prince</td></tr>",
                            "<tr><td>The Line (Witching Savannah, #1)</td></tr>",
                            "<tr><td>The Diamond of Darkhold (Book of Ember, #4)</td></tr>",
                            "<tr><td>The Aquitaine Progression</td></tr>",
                            "<tr><td>The Forsyte Saga (The Forsyte Chronicles, #1-3)</td></tr>",
                            "<tr><td>The Chase (Fox and O'Hare, #2)</td></tr>",
                            "<tr><td>The Orange Girl</td></tr>",
                            "<tr><td>The House of Thunder</td></tr>",
                            "<tr><td>The Dead of Night (Tomorrow, #2)</td></tr>",
                            "<tr><td>The Indispensable Calvin and Hobbes</td></tr>",
                            "<tr><td>The Shadow of the Torturer (The Book of the New Sun #1)</td></tr>",
                            "<tr><td>The Grand Sophy</td></tr>",
                            "<tr><td>The Road to Serfdom</td></tr>",
                            "<tr><td>The Executioner's Song</td></tr>",
                            "<tr><td>The Twenty-One Balloons</td></tr>",
                            "<tr><td>The Design of Everyday Things</td></tr>",
                            "<tr><td>The Strange and Beautiful Sorrows of Ava Lavender</td></tr>",
                            "<tr><td>The Declaration (The Declaration, #1)</td></tr>",
                            "<tr><td>The Last Patriot (Scot Harvath, #7)</td></tr>",
                            "<tr><td>The Engagements</td></tr>",
                            "<tr><td>The Black Widow (Gabriel Allon, #16)</td></tr>",
                            "<tr><td>The Code Book: The Science of Secrecy from Ancient Egypt to Quantum Cryptography</td></tr>",
                            "<tr><td>The Mind Readers (Mind Readers, #1)</td></tr>",
                            "<tr><td>The Highlander's Touch (Highlander, #3)</td></tr>",
                            "<tr><td>The Smitten Kitchen Cookbook</td></tr>",
                            "<tr><td>The Cross of Lead (Crispin, #1)</td></tr>",
                            "<tr><td>The Mortal Instruments (The Mortal Instruments #1-4)</td></tr>",
                            "<tr><td>The Peacegiver: How Christ Offers to Heal Our Hearts and Homes</td></tr>",
                            "<tr><td>The Hidden Reality: Parallel Universes and the Deep Laws of the Cosmos</td></tr>",
                            "<tr><td>The Feminine Mystique</td></tr>",
                            "<tr><td>The Mystery of the Blue Train (Hercule Poirot, #6)</td></tr>",
                            "<tr><td>The Defining Decade: Why Your Twenties Matter--And How to Make the Most of Them Now</td></tr>",
                            "<tr><td>The Walking Dead, Vol. 07: The Calm Before</td></tr>",
                            "<tr><td>The Little Sisters of Eluria (The Dark Tower, #0.5)</td></tr>",
                            "<tr><td>The First Rule (Elvis Cole, #13; Joe Pike, #2)</td></tr>",
                            "<tr><td>The Magical Worlds of Harry Potter: A Treasury of Myths, Legends, and Fascinating Facts</td></tr>",
                            "<tr><td>The Dot</td></tr>",
                            "<tr><td>The Damnation Game</td></tr>",
                            "<tr><td>The Difference Engine </td></tr>",
                            "<tr><td>The Lone Drow (Forgotten Realms: Hunter's Blades, #2; Legend of Drizzt, #15)</td></tr>",
                            "<tr><td>The Black Cat</td></tr>",
                            "<tr><td>The Brothers Lionheart</td></tr>",
                            "<tr><td>The Ship of Brides</td></tr>",
                            "<tr><td>The Story of Tracy Beaker</td></tr>",
                            "<tr><td>The Servants of Twilight</td></tr>",
                            "<tr><td>The Saving Graces</td></tr>",
                            "<tr><td>The Icewind Dale Trilogy Collector's Edition (Forgotten Realms: Icewind Dale, #1-3; Legend of Drizzt, #4-6)</td></tr>",
                            "<tr><td>The Black Lyon (Montgomery/Taggert, #1)</td></tr>",
                            "<tr><td>The Bloodletter's Daughter: A Novel of Old Bohemia</td></tr>",
                            "<tr><td>The Lives of Christopher Chant (Chrestomanci, #2)</td></tr>",
                            "<tr><td>The Good Luck of Right Now</td></tr>",
                            "<tr><td>The Miracle at Speedy Motors (No.1 Ladies' Detective Agency, #9)</td></tr>",
                            "<tr><td>The Abstinence Teacher</td></tr>",
                            "<tr><td>The Runelords (Runelords #1)</td></tr>",
                            "<tr><td>The Other Typist</td></tr>",
                            "<tr><td>The Sentry (Elvis Cole, #14; Joe Pike, #3)</td></tr>",
                            "<tr><td>The Dragon's Path (The Dagger and the Coin, #1)</td></tr>",
                            "<tr><td>The Taming of the Queen (The Plantagenet and Tudor Novels, #11)</td></tr>",
                            "<tr><td>The Pecan Man</td></tr>",
                            "<tr><td>The Man Who Smiled (Kurt Wallander, #4)</td></tr>",
                            "<tr><td>The Warrior's Apprentice (Vorkosigan Saga, #2)</td></tr>",
                            "<tr><td>The Complete Phantom of the Opera</td></tr>",
                            "<tr><td>The Unusual Suspects (The Sisters Grimm, #2)</td></tr>",
                            "<tr><td>The Ship Who Sang (Brainship, #1)</td></tr>",
                            "<tr><td>The Dark Forest (Remembrance of Earth’s Past, #2)</td></tr>",
                            "<tr><td>The Eyes of Darkness</td></tr>",
                            "<tr><td>The Lost Child of Philomena Lee: A Mother, Her Son and a 50 Year Search</td></tr>",
                            "<tr><td>The Adventures of Augie March</td></tr>",
                            "<tr><td>The Memoirs of Cleopatra</td></tr>",
                            "<tr><td>The Jefferson Key (Cotton Malone, #7)</td></tr>",
                            "<tr><td>The Keep (Adversary Cycle, #1)</td></tr>",
                            "<tr><td>The Google Story: Inside the Hottest Business, Media, and Technology Success of Our Time</td></tr>",
                            "<tr><td>The Cloud Searchers (Amulet, #3)</td></tr>",
                            "<tr><td>The Ice Limit (Ice Limit #1)</td></tr>",
                            "<tr><td>The Inkheart Trilogy: Inkheart, Inkspell, Inkdeath (Inkworld, #1-3)</td></tr>",
                            "<tr><td>The Overcoat</td></tr>",
                            "<tr><td>The Monk</td></tr>",
                            "<tr><td>The Vanished Man (Lincoln Rhyme, #5)</td></tr>",
                            "<tr><td>The Madman’s Daughter (The Madman’s Daughter, #1)</td></tr>",
                            "<tr><td>The Secret Life of Violet Grant</td></tr>",
                            "<tr><td>The Baller: A Down and Dirty Football Novel</td></tr>",
                            "<tr><td>The Providence of Fire (Chronicle of the Unhewn Throne, #2)</td></tr>",
                            "<tr><td>The Little Match Girl</td></tr>",
                            "<tr><td>The Places in Between</td></tr>",
                            "<tr><td>The Necklace and Other Short Stories</td></tr>",
                            "<tr><td>The Forgetting Time</td></tr>",
                            "<tr><td>The Lost Stories (Ranger's Apprentice, #11)</td></tr>",
                            "<tr><td>The Wounded Land (The Second Chronicles of Thomas Covenant, #1)</td></tr>",
                            "<tr><td>The Dry (Aaron Falk, #1)</td></tr>",
                            "<tr><td>The Broken Wings</td></tr>",
                            "<tr><td>The Garden of Eden</td></tr>",
                            "<tr><td>The One Tree (The Second Chronicles of Thomas Covenant, #2)</td></tr>",
                            "<tr><td>The Feast of All Saints</td></tr>",
                            "<tr><td>The Past Through Tomorrow (Future History, #1-21)</td></tr>",
                            "<tr><td>The Wonderful Story of Henry Sugar and Six More</td></tr>",
                            "<tr><td>The Death of Superman</td></tr>",
                            "<tr><td>The Raw Shark Texts</td></tr>",
                            "<tr><td>The Hammer of Thor (Magnus Chase and the Gods of Asgard, #2)</td></tr>",
                            "<tr><td>The Autumn of the Patriarch</td></tr>",
                            "<tr><td>The Murders in the Rue Morgue</td></tr>",
                            "<tr><td>The Summer Tree (The Fionavar Tapestry #1)</td></tr>",
                            "<tr><td>The Monsters of Templeton</td></tr>",
                            "<tr><td>The Lost Prince (The Iron Fey: Call of the Forgotten, #1)</td></tr>",
                            "<tr><td>The Last Don</td></tr>",
                            "<tr><td>The World of Ice &amp; Fire: The Untold History of Westeros and the Game of Thrones</td></tr>",
                            "<tr><td>The War that Saved My Life (The War That Saved My Life #1)</td></tr>",
                            "<tr><td>The Beast (Black Dagger Brotherhood, #14)</td></tr>",
                            "<tr><td>The Soulkeepers (The Soulkeepers, #1)</td></tr>",
                            "<tr><td>The Marriage Mistake (Marriage to a Billionaire, #3)</td></tr>",
                            "<tr><td>The Little Red Caboose (Little Golden Book)</td></tr>",
                            "<tr><td>The Three Pigs</td></tr>",
                            "<tr><td>The Littles</td></tr>",
                            "<tr><td>The Hand of Chaos (The Death Gate Cycle, #5)</td></tr>",
                            "<tr><td>The Guns of Avalon (The Chronicles of Amber #2)</td></tr>",
                            "<tr><td>The Great Gilly Hopkins</td></tr>",
                            "<tr><td>The Mask</td></tr>",
                            "<tr><td>The Emerald Atlas (The Books of Beginning, #1)</td></tr>",
                            "<tr><td>The Peripheral</td></tr>",
                            "<tr><td>The Siren (The Original Sinners, #1)</td></tr>",
                            "<tr><td>The Faceless Ones (Skulduggery Pleasant, #3)</td></tr>",
                            "<tr><td>The Great Railway Bazaar</td></tr>",
                            "<tr><td>The Atrocity Archives (Laundry Files, #1)</td></tr>",
                            "<tr><td>The Pleasure of My Company</td></tr>",
                            "<tr><td>The Assassin and the Pirate Lord (Throne of Glass, #0.1)</td></tr>",
                            "<tr><td>The Naked God (Night's Dawn, #3)</td></tr>",
                            "<tr><td>The List</td></tr>",
                            "<tr><td>The Brothers K</td></tr>",
                            "<tr><td>The Happiness Advantage: The Seven Principles of Positive Psychology That Fuel Success and Performance at Work</td></tr>",
                            "<tr><td>The Meaning of Marriage: Facing the Complexities of Commitment with the Wisdom of God</td></tr>",
                            "<tr><td>The Flanders Panel</td></tr>",
                            "<tr><td>The Princess and the Pea</td></tr>",
                            "<tr><td>The Short Stories</td></tr>",
                            "<tr><td>The Life and Opinions of Tristram Shandy, Gentleman</td></tr>",
                            "<tr><td>The Passion of Artemisia</td></tr>",
                            "<tr><td>The Miseducation of Cameron Post</td></tr>",
                            "<tr><td>The Cartel</td></tr>",
                            "<tr><td>The Perfect Son</td></tr>",
                            "<tr><td>The Seventh Scroll (Ancient Egypt, #2)</td></tr>",
                            "<tr><td>The Troop</td></tr>",
                            "<tr><td>The Neutronium Alchemist (Night's Dawn, #2)</td></tr>",
                            "<tr><td>The Darkest Seduction (Lords of the Underworld #9)</td></tr>",
                            "<tr><td>The Last Time They Met</td></tr>",
                            "<tr><td>The Prisoner of Zenda</td></tr>",
                            "<tr><td>The Spine of the World (Forgotten Realms: Paths of Darkness, #2; Legend of Drizzt, #12)</td></tr>",
                            "<tr><td>The Haunted Mask (Goosebumps, #11)</td></tr>",
                            "<tr><td>The Girl Before</td></tr>",
                            "<tr><td>The Dresden Files:  Storm Front, Volume 1-  The Gathering Storm</td></tr>",
                            "<tr><td>The Long Patrol (Redwall, #10)</td></tr>",
                            "<tr><td>The Better Angels of Our Nature: Why Violence Has Declined</td></tr>",
                            "<tr><td>The Truth Seeker (O'Malley #3)</td></tr>",
                            "<tr><td>The Kept Woman (Will Trent, #8)</td></tr>",
                            "<tr><td>The Magpies</td></tr>",
                            "<tr><td>The Golden Notebook</td></tr>",
                            "<tr><td>The Winter Rose (The Tea Rose, #2)</td></tr>",
                            "<tr><td>The Last Full Measure (The Civil War Trilogy, #3)</td></tr>",
                            "<tr><td>The Belgariad, Vol. 1: Pawn of Prophecy / Queen of Sorcery / Magician's Gambit (The Belgariad, #1-3)</td></tr>",
                            "<tr><td>The Lucifer Effect: Understanding How Good People Turn Evil</td></tr>",
                            "<tr><td>The Scent of Rain and Lightning</td></tr>",
                            "<tr><td>The Hollow Hills (Arthurian Saga, #2)</td></tr>",
                            "<tr><td>The Art of Simple Food: Notes, Lessons, and Recipes from a Delicious Revolution</td></tr>",
                            "<tr><td>The Year of Fog</td></tr>",
                            "<tr><td>The Areas of My Expertise: An Almanac of Complete World Knowledge Compiled with Instructive Annotation and Arranged in Useful Order</td></tr>",
                            "<tr><td>The Garden of Evening Mists</td></tr>",
                            "<tr><td>The Cellar (The Cellar, #1)</td></tr>",
                            "<tr><td>The Gentlemen's Alliance †, Vol. 1</td></tr>",
                            "<tr><td>The Wicked Will Rise (Dorothy Must Die, #2)</td></tr>",
                            "<tr><td>The Magic Thief (Magic Thief, #1)</td></tr>",
                            "<tr><td>The Woman Who Stole My Life</td></tr>",
                            "<tr><td>The Darkness That Comes Before (The Prince of Nothing, #1)</td></tr>",
                            "<tr><td>The Dirty Life: On Farming, Food, and Love</td></tr>",
                            "<tr><td>The Thing Around Your Neck</td></tr>",
                            "<tr><td>The Story of an Hour</td></tr>",
                            "<tr><td>The Fixer Upper</td></tr>",
                            "<tr><td>The Personal MBA: Master the Art of Business</td></tr>",
                            "<tr><td>The Last Original Wife</td></tr>",
                            "<tr><td>The Library at Mount Char</td></tr>",
                            "<tr><td>The Vor Game (Vorkosigan Saga, #6)</td></tr>",
                            "<tr><td>The Unabridged Journals of Sylvia Plath</td></tr>",
                            "<tr><td>The Sweet Potato Queens' Book of Love</td></tr>",
                            "<tr><td>The Madonnas of Leningrad</td></tr>",
                            "<tr><td>The Quantum Thief (Jean le Flambeur, #1)</td></tr>",
                            "<tr><td>The Bully Pulpit: Theodore Roosevelt, William Howard Taft, and the Golden Age of Journalism</td></tr>",
                            "<tr><td>The Short Victorious War (Honor Harrington, #3)</td></tr>",
                            "<tr><td>The Assassin and the Desert (Throne of Glass, #0.3)</td></tr>",
                            "<tr><td>The Long Walk: The True Story of a Trek to Freedom</td></tr>",
                            "<tr><td>The Algebraist</td></tr>",
                            "<tr><td>The Whistling Season</td></tr>",
                            "<tr><td>The List</td></tr>",
                            "<tr><td>The Killer Inside Me</td></tr>",
                            "<tr><td>The Ruby in the Smoke (Sally Lockhart, #1)</td></tr>",
                            "<tr><td>The Weekenders</td></tr>",
                            "<tr><td>The Illuminatus! Trilogy</td></tr>",
                            "<tr><td>The Final Solution</td></tr>",
                            "<tr><td>The Secret Agent</td></tr>",
                            "<tr><td>The Way of Zen</td></tr>",
                            "<tr><td>The Wolf and the Dove</td></tr>",
                            "<tr><td>The Traitor (Divergent, #0.4)</td></tr>",
                            "<tr><td>The Emperor's Tomb (Cotton Malone, #6)</td></tr>",
                            "<tr><td>The Gift</td></tr>",
                            "<tr><td>The Lions of Little Rock</td></tr>",
                            "<tr><td>The Time of My Life</td></tr>",
                            "<tr><td>The Captive Part II / The Power (The Secret Circle, #2-3)</td></tr>",
                            "<tr><td>The Law of Moses (The Law of Moses, #1)</td></tr>",
                            "<tr><td>The Bronze Bow</td></tr>",
                            "<tr><td>The House by the Lake</td></tr>",
                            "<tr><td>The Earthsea Trilogy</td></tr>",
                            "<tr><td>The Suspicions of Mr. Whicher: A Shocking Murder and the Undoing of a Great Victorian Detective</td></tr>",
                            "<tr><td>The Johnstown Flood</td></tr>",
                            "<tr><td>The Christmas Sweater</td></tr>",
                            "<tr><td>The Gate House</td></tr>",
                            "<tr><td>The Two Swords (Forgotten Realms: Hunter's Blades, #3; Legend of Drizzt, #16)</td></tr>",
                            "<tr><td>The Blessing Way (Leaphorn &amp; Chee, #1)</td></tr>",
                            "<tr><td>The Pigeon Wants a Puppy!</td></tr>",
                            "<tr><td>The Road to Character</td></tr>",
                            "<tr><td>The General in His Labyrinth</td></tr>",
                            "<tr><td>The Witness</td></tr>",
                            "<tr><td>The Nanny</td></tr>",
                            "<tr><td>The Faraway Tree Stories (The Faraway Tree #1-3)</td></tr>",
                            "<tr><td>The Pale King</td></tr>",
                            "<tr><td>The Analects</td></tr>",
                            "<tr><td>The Walking Dead, Vol. 09: Here We Remain</td></tr>",
                            "<tr><td>The Leopard</td></tr>",
                            "<tr><td>The Wayfarer Redemption (Wayfarer Redemption, #1)</td></tr>",
                            "<tr><td>The Many Lives &amp; Secret Sorrows of Josephine B. (Josephine Bonaparte, #1)</td></tr>",
                            "<tr><td>The Ambassador's Mission (Traitor Spy Trilogy, #1)</td></tr>",
                            "<tr><td>The Dirty Girls Social Club (Dirty Girls, #1)</td></tr>",
                            "<tr><td>The Dice Man</td></tr>",
                            "<tr><td>The Fire (Witch &amp; Wizard, #3)</td></tr>",
                            "<tr><td>The Daughter of Time (Inspector Alan Grant, #5)</td></tr>",
                            "<tr><td>The Autumn Republic (Powder Mage, #3)</td></tr>",
                            "<tr><td>The Walking Dead, Vol. 11: Fear the Hunters</td></tr>",
                            "<tr><td>The Friend Zone (Game On, #2)</td></tr>",
                            "<tr><td>The Rose and the Thorn (The Riyria Chronicles, #2)</td></tr>",
                            "<tr><td>The Charlemagne Pursuit (Cotton Malone, #4)</td></tr>",
                            "<tr><td>The Moon Is Down</td></tr>",
                            "<tr><td>The Beginner's Goodbye</td></tr>",
                            "<tr><td>The Love Song of J. Alfred Prufrock and Other Poems</td></tr>",
                            "<tr><td>The Witch With No Name (The Hollows, #13)</td></tr>",
                            "<tr><td>The Wings of the Dove</td></tr>",
                            "<tr><td>The Hidden Messages in Water</td></tr>",
                            "<tr><td>The Returned</td></tr>",
                            "<tr><td>The Obstacle Is the Way: The Timeless Art of Turning Trials into Triumph</td></tr>",
                            "<tr><td>The Sight (Warriors: Power of Three, #1)</td></tr>",
                            "<tr><td>The Secret River</td></tr>",
                            "<tr><td>The Little Old Lady Who Was Not Afraid of Anything</td></tr>",
                            "<tr><td>The Apostle (Scot Harvath, #8)</td></tr>",
                            "<tr><td>The Holiness of God</td></tr>",
                            "<tr><td>The Kreutzer Sonata</td></tr>",
                            "<tr><td>The Way to Cook</td></tr>",
                            "<tr><td>The 20th Century Art Book</td></tr>",
                            "<tr><td>The Magic Mirror of M.C. Escher</td></tr>",
                            "<tr><td>The Walking Dead, Compendium 2</td></tr>",
                            "<tr><td>The 22 Immutable Laws of Marketing: Violate Them at Your Own Risk</td></tr>",
                            "<tr><td>The Firm</td></tr>",
                            "<tr><td>The Consolations of Philosophy</td></tr>",
                            "<tr><td>The Acid House</td></tr>",
                            "<tr><td>The Girl Who Came Home</td></tr>",
                            "<tr><td>The One Thing: The Surprisingly Simple Truth Behind Extraordinary Results</td></tr>",
                            "<tr><td>The Little Coffee Shop of Kabul</td></tr>",
                            "<tr><td>The Sandman: King of Dreams</td></tr>",
                            "<tr><td>The Light of the Fireflies</td></tr>",
                            "<tr><td>The Long War (The Long Earth, #2)</td></tr>",
                            "<tr><td>The America's Test Kitchen Family Cookbook</td></tr>",
                            "<tr><td>The Curious Charms of Arthur Pepper</td></tr>",
                            "<tr><td>The Boy Who Harnessed the Wind: Creating Currents of Electricity and Hope</td></tr>",
                            "<tr><td>The Goblin Emperor</td></tr>",
                            "<tr><td>The Sandman: The Dream Hunters</td></tr>",
                            "<tr><td>The Stories of John Cheever</td></tr>",
                            "<tr><td>The Odd Couple</td></tr>",
                            "<tr><td>The Hollow (The Hollow, #1)</td></tr>",
                            "<tr><td>The Akhenaten Adventure (Children of the Lamp, #1)</td></tr>",
                            "<tr><td>The Walking Dead, Vol. 10: What We Become</td></tr>",
                            "<tr><td>The Last Detective (Elvis Cole, #9)</td></tr>",
                            "<tr><td>The Beauty Myth</td></tr>",
                            "<tr><td>The Saggy Baggy Elephant (A Little Golden Book)</td></tr>",
                            "<tr><td>The Submissive (Submissive, #1)</td></tr>",
                            "<tr><td>The Secret History of the Pink Carnation (Pink Carnation, #1)</td></tr>",
                            "<tr><td>The Mapping of Love and Death (Maisie Dobbs, #7)</td></tr>",
                            "<tr><td>The Art of Seduction</td></tr>",
                            "<tr><td>The Hydrogen Sonata (Culture #10)</td></tr>",
                            "<tr><td>The Orenda</td></tr>",
                            "<tr><td>The Julian Chapter (Wonder Story)</td></tr>",
                            "<tr><td>The Five Love Languages of Children</td></tr>",
                            "<tr><td>The Sunday Philosophy Club (Isabel Dalhousie, #1)</td></tr>",
                            "<tr><td>The Red Queen: Sex and the Evolution of Human Nature</td></tr>",
                            "<tr><td>The Finkler Question</td></tr>",
                            "<tr><td>The Book with No Pictures</td></tr>",
                            "<tr><td>The Hungry Tide</td></tr>",
                            "<tr><td>The Breadwinner (The Breadwinner, #1)</td></tr>",
                            "<tr><td>The Wanderer (Thunder Point, #1)</td></tr>",
                            "<tr><td>The Hurricane Sisters</td></tr>",
                            "<tr><td>The Wretched of the Earth</td></tr>",
                            "<tr><td>The Cradle Will Fall</td></tr>",
                            "<tr><td>The Gift of Therapy: An Open Letter to a New Generation of Therapists and Their Patients</td></tr>",
                            "<tr><td>The Misanthrope</td></tr>",
                            "<tr><td>The Belgariad Boxed Set: Pawn of Prophecy / Queen of Sorcery / Magician's Gambit / Castle of Wizardry / Enchanters' End Game (The Belgariad, #1-5)</td></tr>",
                            "<tr><td>The Temple of My Familiar</td></tr>",
                            "<tr><td>The Son (Divergent, #0.3)</td></tr>",
                            "<tr><td>The Problem with Forever</td></tr>",
                            "<tr><td>The Double Helix</td></tr>",
                            "<tr><td>The Lord God Made Them All</td></tr>",
                            "<tr><td>The Frog and Toad Treasury: Frog and Toad are Friends/Frog and Toad Together/Frog and Toad All Year  (Frog and Toad #1-3)</td></tr>",
                            "<tr><td>The Inn at Rose Harbor (Rose Harbor #1)</td></tr>",
                            "<tr><td>The Smartest Guys in the Room: The Amazing Rise and Scandalous Fall of Enron</td></tr>",
                            "<tr><td>The Face of Fear</td></tr>",
                            "<tr><td>The Walking Dead, Vol. 14: No Way Out</td></tr>",
                            "<tr><td>The Walking Dead, Book Two (The Walking Dead #13-24)</td></tr>",
                            "<tr><td>The Return of the Prodigal Son: A Story of Homecoming</td></tr>",
                            "<tr><td>The Lions of Al-Rassan</td></tr>",
                            "<tr><td>The Awakened Mage (Kingmaker, Kingbreaker, #2)</td></tr>",
                            "<tr><td>The 5 Greatest Warriors (Jack West Jr, #3)</td></tr>",
                            "<tr><td>The Tail of Emily Windsnap (Emily Windsnap, #1)</td></tr>",
                            "<tr><td>The Invaders (Brotherband Chronicles, #2)</td></tr>",
                            "<tr><td>The Moon and Sixpence</td></tr>",
                            "<tr><td>The Last Girl (The Dominion Trilogy, #1)</td></tr>",
                            "<tr><td>The Absolute Sandman, Volume One</td></tr>",
                            "<tr><td>The Walking Dead, Book Three (The Walking Dead #25-36)</td></tr>",
                            "<tr><td>The Woman in the Dunes</td></tr>",
                            "<tr><td>The Prettiest One</td></tr>",
                            "<tr><td>The Dry Grass of August</td></tr>",
                            "<tr><td>The Madness of Lord Ian Mackenzie (Mackenzies &amp; McBrides, #1)</td></tr>",
                            "<tr><td>The Mediterranean Caper (Dirk Pitt, #2)</td></tr>",
                            "<tr><td>The Forest House (Avalon, #2)</td></tr>",
                            "<tr><td>The Danish Girl</td></tr>",
                            "<tr><td>The Tiger Rising</td></tr>",
                            "<tr><td>The Hedge Knight (The Tales of Dunk and Egg, #1)</td></tr>",
                            "<tr><td>The Castle of Otranto</td></tr>",
                            "<tr><td>The Great Shark Hunt: Strange Tales from a Strange Time (The Gonzo Papers, #1)</td></tr>",
                            "<tr><td>The Complete Poems</td></tr>",
                            "<tr><td>The Problem Child (The Sisters Grimm, #3)</td></tr>",
                            "<tr><td>The Batman Chronicles, Vol. 1</td></tr>",
                            "<tr><td>The Love Song of Miss Queenie Hennessy (Harold Fry, #2)</td></tr>",
                            "<tr><td>The Last Question</td></tr>",
                            "<tr><td>The Giraffe and the Pelly and Me</td></tr>",
                            "<tr><td>The Death of Kings (Emperor, #2)</td></tr>",
                            "<tr><td>The Uglies Trilogy (Uglies, #1-3)</td></tr>",
                            "<tr><td>The Bone Tree</td></tr>",
                            "<tr><td>The Unwanted Wife (Unwanted, #1)</td></tr>",
                            "<tr><td>The Professor</td></tr>",
                            "<tr><td>The Little Mermaid</td></tr>",
                            "<tr><td>The Subterraneans</td></tr>",
                            "<tr><td>The Tale of Three Trees</td></tr>",
                            "<tr><td>The Moving Finger (Miss Marple, #4)</td></tr>",
                            "<tr><td>The Sacred Romance Drawing Closer To The Heart Of God</td></tr>",
                            "<tr><td>The Woodlanders</td></tr>",
                            "<tr><td>The Book of Disquiet</td></tr>",
                            "<tr><td>The Ipcress File (Secret File, #1)</td></tr>",
                            "<tr><td>The Fannie Farmer Cookbook: Anniversary</td></tr>",
                            "<tr><td>The Third Policeman</td></tr>",
                            "<tr><td>The Blood of Flowers</td></tr>",
                            "<tr><td>The Unexpected Everything</td></tr>",
                            "<tr><td>The Complete Guide to Middle-Earth</td></tr>",
                            "<tr><td>The Orchid House</td></tr>",
                            "<tr><td>The Bird and the Sword (The Bird and the Sword Chronicles, #1)</td></tr>",
                            "<tr><td>The Black Unicorn (Magic Kingdom of Landover, #2)</td></tr>",
                            "<tr><td>The Awakening and Selected Stories</td></tr>",
                            "<tr><td>The Crossing Places (Ruth Galloway, #1)</td></tr>",
                            "<tr><td>The Devil's Alternative</td></tr>",
                            "<tr><td>The Confessions of Nat Turner</td></tr>",
                            "<tr><td>The Android's Dream</td></tr>",
                            "<tr><td>The Stories of Eva Luna</td></tr>",
                            "<tr><td>The Two-Family House</td></tr>",
                            "<tr><td>The Talent Code: Unlocking the Secret of Skill in Sports, Art, Music, Math, and Just About Everything Else</td></tr>",
                            "<tr><td>The Mermaid's Sister</td></tr>",
                            "<tr><td>The Inimitable Jeeves (Jeeves, #2)</td></tr>",
                            "<tr><td>The Secret Speech (Leo Demidov, #2)</td></tr>",
                            "<tr><td>The Enchanted</td></tr>",
                            "<tr><td>The Left Hand of God (The Left Hand of God, #1)</td></tr>",
                            "<tr><td>The Will of the Empress (Circle Reforged, #1)</td></tr>",
                            "<tr><td>The Secret Race: Inside the Hidden World of the Tour de France: Doping, Cover-ups, and Winning at All Costs</td></tr>",
                            "<tr><td>The New Bedside, Bathtub and Armchair Companion to Agatha Christie</td></tr>",
                            "<tr><td>The Lonely Polygamist</td></tr>",
                            "<tr><td>The Darkest Hour (KGI, #1)</td></tr>",
                            "<tr><td>The Devil All the Time</td></tr>",
                            "<tr><td>The Second Assistant: A Tale from the Bottom of the Hollywood Ladder</td></tr>",
                            "<tr><td>The Assassin and the Empire (Throne of Glass, #0.5)</td></tr>",
                            "<tr><td>The Invisible Library (The Invisible Library, #1)</td></tr>",
                            "<tr><td>The Green Mile, Part 4: The Bad Death of Eduard Delacroix</td></tr>",
                            "<tr><td>The White Lioness (Kurt Wallander, #3)</td></tr>",
                            "<tr><td>The Chronicles of Thomas Covenant, the Unbeliever (The Chronicles of Thomas Covenant the Unbeliever, #1-3)</td></tr>",
                            "<tr><td>The Story of Philosophy: The Lives and Opinions of the World's Greatest Philosophers</td></tr>",
                            "<tr><td>The Gnostic Gospels</td></tr>",
                            "<tr><td>The Gods of Mars (Barsoom, #2)</td></tr>",
                            "<tr><td>The Survivor (Mitch Rapp, #14)</td></tr>",
                            "<tr><td>The Accidental Billionaires: The Founding of Facebook, a Tale of Sex, Money, Genius and Betrayal</td></tr>",
                            "<tr><td>The Sleeping Doll (Kathryn Dance, #1)</td></tr>",
                            "<tr><td>The Devil's Punchbowl</td></tr>",
                            "<tr><td>The Red Garden</td></tr>",
                            "<tr><td>The Final Detail (Myron Bolitar #6)</td></tr>",
                            "<tr><td>The Sound of Glass</td></tr>",
                            "<tr><td>The Widow of the South</td></tr>",
                            "<tr><td>The Magician's Elephant</td></tr>",
                            "<tr><td>The Dead</td></tr>",
                            "<tr><td>The Lost Saint (The Dark Divine, #2)</td></tr>",
                            "<tr><td>The Memory of Earth (Homecoming, #1)</td></tr>",
                            "<tr><td>The Missing Piece Meets the Big O </td></tr>",
                            "<tr><td>The Ghost Road (Regeneration, #3)</td></tr>",
                            "<tr><td>The Persian Pickle Club</td></tr>",
                            "<tr><td>The Worst Witch (Worst Witch, #1)</td></tr>",
                            "<tr><td>The Relatives Came</td></tr>",
                            "<tr><td>The Element: How Finding Your Passion Changes Everything</td></tr>",
                            "<tr><td>The Secret Chord</td></tr>",
                            "<tr><td>The Staff of Serapis (Percy Jackson &amp; Kane Chronicles Crossover #2)</td></tr>",
                            "<tr><td>The Residence: Inside the Private World of the White House</td></tr>",
                            "<tr><td>The Life List</td></tr>",
                            "<tr><td>The Rising (Darkness Rising, #3)</td></tr>",
                            "<tr><td>The Christmas Wedding</td></tr>",
                            "<tr><td>The Lost Years (The Lost Years of Merlin, #1)</td></tr>",
                            "<tr><td>The Sea, the Sea</td></tr>",
                            "<tr><td>The House of God</td></tr>",
                            "<tr><td>The Gulag Archipelago 1918-1956</td></tr>",
                            "<tr><td>The Bar Code Tattoo (Bar Code, #1)</td></tr>",
                            "<tr><td>The Fallen and Leviathan (The Fallen, #1-2)</td></tr>",
                            "<tr><td>The Renegades of Pern (Pern, #10)</td></tr>",
                            "<tr><td>The Cake Bible</td></tr>",
                            "<tr><td>The Stone Monkey (Lincoln Rhyme, #4)</td></tr>",
                            "<tr><td>The First Part Last (Heaven, #2)</td></tr>",
                            "<tr><td>The Invisible Gorilla: And Other Ways Our Intuitions Deceive Us</td></tr>",
                            "<tr><td>The Queen's Poisoner (Kingfountain, #1)</td></tr>",
                            "<tr><td>The Naturals (The Naturals, #1)</td></tr>",
                            "<tr><td>The Wretched of Muirwood (Legends of Muirwood, #1)</td></tr>",
                            "<tr><td>The Shepherd's Crown (Discworld, #41; Tiffany Aching, #5)</td></tr>",
                            "<tr><td>The Plum Tree</td></tr>",
                            "<tr><td>The Crown Conspiracy (The Riyria Revelations, #1)</td></tr>",
                            "<tr><td>The Catastrophic History of You and Me</td></tr>",
                            "<tr><td>The Girl Who Was on Fire: Your Favorite Authors on Suzanne Collins' Hunger Games Trilogy</td></tr>",
                            "<tr><td>The Argonauts</td></tr>",
                            "<tr><td>The Last Painting of Sara de Vos</td></tr>",
                            "<tr><td>The Sister</td></tr>",
                            "<tr><td>The Soldier's Wife</td></tr>",
                            "<tr><td>The Shadow Throne (The Ascendance Trilogy, #3)</td></tr>",
                            "<tr><td>The Art of Thinking Clearly</td></tr>",
                            "<tr><td>The Killing (Cherub, #4)</td></tr>",
                            "<tr><td>The Lady of Shalott</td></tr>",
                            "<tr><td>The 13½ Lives of Captain Bluebear (Zamonia, #1)</td></tr>",
                            "<tr><td>The Wives of Henry VIII</td></tr>",
                            "<tr><td>The Snowman</td></tr>",
                            "<tr><td>The Look of Love (San Francisco Sullivans, #1; The Sullivans, #1)</td></tr>",
                            "<tr><td>The Matlock Paper</td></tr>",
                            "<tr><td>The Twelve Caesars</td></tr>",
                            "<tr><td>The Lady in the Lake (Philip Marlowe, #4)</td></tr>",
                            "<tr><td>The Wind Singer (Wind on Fire, #1)</td></tr>",
                            "<tr><td>The End of Mr. Y</td></tr>",
                            "<tr><td>The Death of Bees</td></tr>",
                            "<tr><td>The Country Mouse and the City Mouse; The Fox and the Crow; The Dog and His Bone</td></tr>",
                            "<tr><td>The Assassin and the Underworld (Throne of Glass, #0.4)</td></tr>",
                            "<tr><td>The Rainbow Comes and Goes: A Mother and Son On Life, Love, and Loss</td></tr>",
                            "<tr><td>The Truth According to Us</td></tr>",
                            "<tr><td>The Night Strangers</td></tr>",
                            "<tr><td>The Billionaire's Obsession ~ Simon (The Billionaire's Obsession, #1)</td></tr>",
                            "<tr><td>The King in Yellow and Other Horror Stories</td></tr>",
                            "<tr><td>The Virtue of Selfishness: A New Concept of Egoism</td></tr>",
                            "<tr><td>The Murderer's Daughters</td></tr>",
                            "<tr><td>The Archived (The Archived, #1)</td></tr>",
                            "<tr><td>The Island of the Day Before</td></tr>",
                            "<tr><td>The Sound of Gravel</td></tr>",
                            "<tr><td>The Complete Adventures of Peter Rabbit</td></tr>",
                            "<tr><td>The Case for a Creator: A Journalist Investigates Scientific Evidence That Points Toward God</td></tr>",
                            "<tr><td>The Job (Fox and O'Hare, #3)</td></tr>",
                            "<tr><td>The Skin I'm In</td></tr>",
                            "<tr><td>The Eye of God (Sigma Force #9)</td></tr>",
                            "<tr><td>The Man With a Load of Mischief (Richard Jury, #1)</td></tr>",
                            "<tr><td>The Underworld (Fallen Star, #2)</td></tr>",
                            "<tr><td>The Path Between the Seas: The Creation of the Panama Canal, 1870-1914</td></tr>",
                            "<tr><td>The Black Arrow</td></tr>",
                            "<tr><td>The Burning Wire (Lincoln Rhyme, #9)</td></tr>",
                            "<tr><td>The 158-Pound Marriage</td></tr>",
                            "<tr><td>The Ghost Bride</td></tr>",
                            "<tr><td>The Pact</td></tr>",
                            "<tr><td>The Creative Habit: Learn It and Use It for Life</td></tr>",
                            "<tr><td>The Castle in the Attic (The Castle in the Attic, #1)</td></tr>",
                            "<tr><td>The Sworn Sword (The Tales of Dunk and Egg, #2)</td></tr>",
                            "<tr><td>The Broken Window (Lincoln Rhyme, #8)</td></tr>",
                            "<tr><td>The Complete Works of H.P. Lovecraft</td></tr>",
                            "<tr><td>The Three Sisters</td></tr>",
                            "<tr><td>The Machine Crusade (Legends of Dune, #2)</td></tr>",
                            "<tr><td>The Annotated Sherlock Holmes: The Four Novels and the Fifty-Six Short Stories Complete (2 Volume Set)</td></tr>",
                            "<tr><td>The Keeping (Law of the Lycans, #3)</td></tr>",
                            "<tr><td>The Dangerous Days of Daniel X (Daniel X, #1)</td></tr>",
                            "<tr><td>The Hidden Child (Patrik Hedström, #5)</td></tr>",
                            "<tr><td>The House of the Dead</td></tr>",
                            "<tr><td>The Howling</td></tr>",
                            "<tr><td>The City of Falling Angels</td></tr>",
                            "<tr><td>The Testament of Mary</td></tr>",
                            "<tr><td>The Misremembered Man (Tailorstown #1)</td></tr>",
                            "<tr><td>The Selected Poetry of Rainer Maria Rilke</td></tr>",
                            "<tr><td>The Story of a Shipwrecked Sailor</td></tr>",
                            "<tr><td>The Color of Secrets</td></tr>",
                            "<tr><td>The Green Mile, Part 2: The Mouse on the Mile</td></tr>",
                            "<tr><td>The Three Billy Goats Gruff</td></tr>",
                            "<tr><td>The Moonlit Garden</td></tr>",
                            "<tr><td>The Realm of Possibility</td></tr>",
                            "<tr><td>The Invisible Wall: A Love Story That Broke Barriers</td></tr>",
                            "<tr><td>The Replacement</td></tr>",
                            "<tr><td>The Information: A History, a Theory, a Flood</td></tr>",
                            "<tr><td>The High Window (Philip Marlowe, #3)</td></tr>",
                            "<tr><td>The Mermaids Singing (Tony Hill &amp; Carol Jordan, #1)</td></tr>",
                            "<tr><td>The Weight of Glory</td></tr>",
                            "<tr><td>The Bourbon Kings (The Bourbon Kings, #1)</td></tr>",
                            "<tr><td>The Guns of Navarone</td></tr>",
                            "<tr><td>The Great Brain (Great Brain #1)</td></tr>",
                            "<tr><td>The Fire Eternal (The Last Dragon Chronicles, #4)</td></tr>",
                            "<tr><td>The Commitments</td></tr>",
                            "<tr><td>The Lady &amp; Sons Savannah Country Cookbook</td></tr>",
                            "<tr><td>The Bookseller</td></tr>",
                            "<tr><td>The Climb: Tragic Ambitions on Everest</td></tr>",
                            "<tr><td>The Thousand Names (The Shadow Campaigns, #1)</td></tr>",
                            "<tr><td>The Other Wind (Earthsea Cycle, #6)</td></tr>",
                            "<tr><td>The Paris Vendetta (Cotton Malone, #5)</td></tr>",
                            "<tr><td>The Book on the Taboo Against Knowing Who You Are</td></tr>",
                            "<tr><td>The Blood Mirror (Lightbringer, #4)</td></tr>",
                            "<tr><td>The Faerie Queene </td></tr>",
                            "<tr><td>The Fuck-Up</td></tr>",
                            "<tr><td>The Phoenix Project: A Novel About IT, DevOps, and Helping Your Business Win</td></tr>",
                            "<tr><td>The Chronicles of Harris Burdick: 14 Amazing Authors Tell the Tales</td></tr>",
                            "<tr><td>The Freedom Writers Diary</td></tr>",
                            "<tr><td>The Post-American World</td></tr>",
                            "<tr><td>The Ladies of Grace Adieu and Other Stories</td></tr>",
                            "<tr><td>The Unofficial Harry Potter Cookbook: From Cauldron Cakes to Knickerbocker Glory--More Than 150 Magical Recipes for Wizards and Non-Wizards Alike (Unofficial Cookbook)</td></tr>",
                            "<tr><td>The Automatic Millionaire: A Powerful One-Step Plan to Live and Finish Rich</td></tr>",
                            "<tr><td>The Rest Is Noise: Listening to the Twentieth Century</td></tr>",
                            "<tr><td>The Next Accident (Quincy &amp; Rainie, #3)</td></tr>",
                            "<tr><td>The Divan</td></tr>",
                            "<tr><td>The Ear, the Eye, and the Arm</td></tr>",
                            "<tr><td>The Girl You Lost</td></tr>",
                            "<tr><td>The Sweet Life in Paris: Delicious Adventures in the World's Most Glorious - and Perplexing - City</td></tr>",
                            "<tr><td>The Red House</td></tr>",
                            "<tr><td>The Cold Moon (Lincoln Rhyme, #7)</td></tr>",
                            "<tr><td>The Moor's Last Sigh</td></tr>",
                            "<tr><td>The Dressmaker of Khair Khana: Five Sisters, One Remarkable Family, and the Woman Who Risked Everything to Keep Them Safe</td></tr>",
                            "<tr><td>The Revenge of the Baby-Sat</td></tr>",
                            "<tr><td>The Case-Book of Sherlock Holmes</td></tr>",
                            "<tr><td>The Secret Between Us</td></tr>",
                            "<tr><td>The Blood Gospel (The Order of the Sanguines, #1)</td></tr>",
                            "<tr><td>The Troubled Man (Kurt Wallander, #10)</td></tr>",
                            "<tr><td>The Work of Art in the Age of Its Technological Reproducibility, and Other Writings on Media</td></tr>",
                            "<tr><td>The Cake Mix Doctor</td></tr>",
                            "<tr><td>The Monstrumologist (The Monstrumologist, #1)</td></tr>",
                            "<tr><td>The Path to Power (The Years of Lyndon Johnson, #1)</td></tr>",
                            "<tr><td>The Education of Little Tree</td></tr>",
                            "<tr><td>The Husband's Secret Free Preview</td></tr>",
                            "<tr><td>The Prestige</td></tr>",
                            "<tr><td>The Will (Magdalene, #1)</td></tr>",
                            "<tr><td>The Billionaire Wins the Game (Billionaire Bachelors, #1)</td></tr>",
                            "<tr><td>The Pragmatic Programmer: From Journeyman to Master</td></tr>",
                            "<tr><td>The Painter</td></tr>",
                            "<tr><td>The Berenstain Bears Forget Their Manners</td></tr>",
                            "<tr><td>The Search (Eve Duncan, #3)</td></tr>",
                            "<tr><td>The Infernal Devices: Clockwork Angel (The Infernal Devices: Manga, #1)</td></tr>",
                            "<tr><td>The Royal Ranger (Ranger's Apprentice, #12)</td></tr>",
                            "<tr><td>The Submission</td></tr>",
                            "<tr><td>The Lord of the Rings Sketchbook</td></tr>",
                            "<tr><td>The Tin Roof Blowdown (Dave Robicheaux, #16)</td></tr>",
                            "<tr><td>The Death of Bunny Munro</td></tr>",
                            "<tr><td>The Golden Dynasty (Fantasyland, #2)</td></tr>",
                            "<tr><td>The Ice Queen</td></tr>",
                            "<tr><td>The Folk of the Faraway Tree (The Faraway Tree, #3)</td></tr>",
                            "<tr><td>The Flame and the Flower</td></tr>",
                            "<tr><td>The Last Dragonslayer (The Chronicles of Kazam, #1)</td></tr>",
                            "<tr><td>The Greatest Generation</td></tr>",
                            "<tr><td>The Minority Report</td></tr>",
                            "<tr><td>The Lemonade War (The Lemonade War, #1)</td></tr>",
                            "<tr><td>The Knight at Dawn (Magic Tree House, #2)</td></tr>",
                            "<tr><td>The Arrangement: The Ferro Family (The Arrangement, #1)</td></tr>",
                            "<tr><td>The Lightning Thief: The Graphic Novel (Percy Jackson and the Olympians, #1)</td></tr>",
                            "<tr><td>The Bad Seed</td></tr>",
                            "<tr><td>The Last Wife of Henry VIII</td></tr>",
                            "<tr><td>The Complete Tales and Poems</td></tr>",
                            "<tr><td>The Complete Short Novels</td></tr>",
                            "<tr><td>The Berenstain Bears Go to School</td></tr>",
                            "<tr><td>The Shadowhunter's Codex</td></tr>",
                            "<tr><td>The Way of Kings, Part 1 (The Stormlight Archive #1.1)</td></tr>",
                            "<tr><td>The Christmas List</td></tr>",
                            "<tr><td>The Tenth Justice</td></tr>",
                            "<tr><td>The Green Mile, Part 3: Coffey's Hands</td></tr>",
                            "<tr><td>The Other Daughter</td></tr>",
                            "<tr><td>The Redemption of Althalus</td></tr>",
                            "<tr><td>The Twentieth Wife (Taj Mahal Trilogy, #1)</td></tr>",
                            "<tr><td>The Buddha of Suburbia</td></tr>",
                            "<tr><td>The Voice of the Night</td></tr>",
                            "<tr><td>The Girl from Krakow</td></tr>",
                            "<tr><td>The Post-Birthday World</td></tr>",
                            "<tr><td>The Man Who Walked Between the Towers</td></tr>",
                            "<tr><td>The Double</td></tr>",
                            "<tr><td>The Tale of Mrs. Tiggy-Winkle</td></tr>",
                            "<tr><td>The Third Secret</td></tr>",
                            "<tr><td>The End of Poverty</td></tr>",
                            "<tr><td>The Kindness of Strangers</td></tr>",
                            "<tr><td>The Sculptor</td></tr>",
                            "<tr><td>The Best Nest</td></tr>",
                            "<tr><td>The Cobra Event</td></tr>",
                            "<tr><td>The Hole in Our Gospel: What does God expect of Us? The Answer that Changed my Life and Might Just Change the World</td></tr>",
                            "<tr><td>The Midwich Cuckoos</td></tr>",
                            "<tr><td>The Fourteenth Goldfish</td></tr>",
                            "<tr><td>The Honourable Schoolboy</td></tr>",
                            "<tr><td>The Tenth Insight: Holding the Vision (Celestine Prophecy, #2)</td></tr>",
                            "<tr><td>The Interpretation of Murder (Freud, #1)</td></tr>",
                            "<tr><td>The Mystery Knight (The Tales of Dunk and Egg, #3)</td></tr>",
                            "<tr><td>The Magic (The Secret, #3)</td></tr>",
                            "<tr><td>The Fifth Dominion (Imajica Part #1/2)</td></tr>",
                            "<tr><td>The Pagan Lord (The Saxon Stories, #7)</td></tr>",
                            "<tr><td>The North Water</td></tr>",
                            "<tr><td>The Forge of God (Forge of God, #1)</td></tr>",
                            "<tr><td>The Christmas Train</td></tr>",
                            "<tr><td>The Now Habit: A Strategic Program for Overcoming Procrastination and Enjoying Guilt-Free Play</td></tr>",
                            "<tr><td>The Auschwitz Escape</td></tr>",
                            "<tr><td>The Drama of the Gifted Child: The Search for the True Self</td></tr>",
                            "<tr><td>The Case of Charles Dexter Ward</td></tr>",
                            "<tr><td>The Dark Is Rising Sequence  (The Dark Is Rising #1-5)</td></tr>",
                            "<tr><td>The Flight of Gemma Hardy</td></tr>",
                            "<tr><td>The King's Agent</td></tr>",
                            "<tr><td>The Healer (O'Malley #5)</td></tr>",
                            "<tr><td>The Guardian (O'Malley #2)</td></tr>",
                            "<tr><td>The Noticer: Sometimes, All a Person Needs Is a Little Perspective</td></tr>",
                            "<tr><td>The Goal (Off-Campus, #4)</td></tr>",
                            "<tr><td>The Boyfriend Thief (Stolen Kiss, #1)</td></tr>",
                            "<tr><td>The Lewis Man (The Lewis Trilogy, #2)</td></tr>",
                            "<tr><td>The Elves of Cintra (Genesis of Shannara, #2)</td></tr>",
                            "<tr><td>The Vision (Fallen Star, #3)</td></tr>",
                            "<tr><td>The Gemini Contenders</td></tr>",
                            "<tr><td>The Field of Swords (Emperor, #3)</td></tr>",
                            "<tr><td>The Haunted (The Hollow, #2)</td></tr>",
                            "<tr><td>The Protector (O'Malley #4)</td></tr>",
                            "<tr><td>The It Girl (It Girl, #1)</td></tr>",
                            "<tr><td>The Wheel of Time: Boxed Set  (Wheel of Time, #1-8)</td></tr>",
                            "<tr><td>The Traveler's Gift: Seven Decisions that Determine Personal Success</td></tr>",
                            "<tr><td>The Girl in the Steel Corset (Steampunk Chronicles, #1)</td></tr>",
                            "<tr><td>The Green Mile, Part 6: Coffey on the Mile</td></tr>",
                            "<tr><td>The Gift (Crown's Spies, #3)</td></tr>",
                            "<tr><td>The Lion's Lady (Crown's Spies, #1)</td></tr>",
                            "<tr><td>The Legend of Luke (Redwall, #12)</td></tr>",
                            "<tr><td>The Hand of Oberon (The Chronicles of Amber #4)</td></tr>",
                            "<tr><td>The Dragonslayer (Bone, #4)</td></tr>",
                            "<tr><td>The Secret Scripture</td></tr>",
                            "<tr><td>The Nasty Bits: Collected Varietal Cuts, Usable Trim, Scraps, and Bones</td></tr>",
                            "<tr><td>The Wicked Girls</td></tr>",
                            "<tr><td>The Promise</td></tr>",
                            "<tr><td>The Haj</td></tr>",
                            "<tr><td>The Darkest Road (The Fionavar Tapestry, #3)</td></tr>",
                            "<tr><td>The Midwife's Revolt (The Midwife Series, #1)</td></tr>",
                            "<tr><td>The Boy Who Came Back from Heaven: A Remarkable Account of Miracles, Angels, and Life beyond This World</td></tr>",
                            "<tr><td>The Night Sister</td></tr>",
                            "<tr><td>The Sound of Things Falling</td></tr>",
                            "<tr><td>The Chase (Isaac Bell, #1)</td></tr>",
                            "<tr><td>The Obituary Writer</td></tr>",
                            "<tr><td>The Beatles: The Biography</td></tr>",
                            "<tr><td>The Incredible Hulk: Planet Hulk</td></tr>",
                            "<tr><td>The Single Girl's To-Do List</td></tr>",
                            "<tr><td>The Redhead Revealed (Redhead, #2)</td></tr>",
                            "<tr><td>The Big Nowhere (L.A. Quartet, #2)</td></tr>",
                            "<tr><td>The Old Curiosity Shop</td></tr>",
                            "<tr><td>The Clocks (Hercule Poirot, #34)</td></tr>",
                            "<tr><td>The One I Left Behind</td></tr>",
                            "<tr><td>The Orc King (Forgotten Realms: Transitions, #1; Legend of Drizzt, #17)</td></tr>",
                            "<tr><td>The Dolphins of Pern (Pern, #13)</td></tr>",
                            "<tr><td>The Abduction (Theodore Boone, #2)</td></tr>",
                            "<tr><td>The Beggar King (The Hangman's Daughter, #3)</td></tr>",
                            "<tr><td>The Penderwicks on Gardam Street (The Penderwicks, #2)</td></tr>",
                            "<tr><td>The Nightmare (Joona Linna, #2)</td></tr>",
                            "<tr><td>The Reef</td></tr>",
                            "<tr><td>The Gods of War (Emperor, #4)</td></tr>",
                            "<tr><td>The Last Time We Say Goodbye</td></tr>",
                            "<tr><td>The Secret Art of Dr. Seuss</td></tr>",
                            "<tr><td>The Obelisk Gate (The Broken Earth, #2)</td></tr>",
                            "<tr><td>The Children's Book</td></tr>",
                            "<tr><td>The Shadowy Horses</td></tr>",
                            "<tr><td>The Way the Crow Flies</td></tr>",
                            "<tr><td>The Locket (The Locket, #1)</td></tr>",
                            "<tr><td>The Quiche of Death (Agatha Raisin, #1)</td></tr>",
                            "<tr><td>The Marvelous Land of Oz (Oz, #2)</td></tr>",
                            "<tr><td>The First Confessor (The Legend of Magda Searus, #1)</td></tr>",
                            "<tr><td>The Second Ship (The Rho Agenda, #1)</td></tr>",
                            "<tr><td>The Beet Queen</td></tr>",
                            "<tr><td>The Wave</td></tr>",
                            "<tr><td>The Cinderella Murder (Under Suspicion, #2)</td></tr>",
                            "<tr><td>The Marvels</td></tr>",
                            "<tr><td>The Last Werewolf (The Last Werewolf, #1)</td></tr>",
                            "<tr><td>The Carrot Seed</td></tr>",
                            "<tr><td>The Nose</td></tr>",
                            "<tr><td>The Society of the Spectacle</td></tr>",
                            "<tr><td>The Hate U Give</td></tr>",
                            "<tr><td>The Private Patient (Adam Dalgliesh #14)</td></tr>",
                            "<tr><td>The Medium is the Massage</td></tr>",
                            "<tr><td>The Chronicles of Pern: First Fall (Pern, #12)</td></tr>",
                            "<tr><td>The Autograph Man</td></tr>",
                            "<tr><td>The Rogue (Traitor Spy Trilogy, #2)</td></tr>",
                            "<tr><td>The Seven Storey Mountain</td></tr>",
                            "<tr><td>The Keep</td></tr>",
                            "<tr><td>The Survivors Club</td></tr>",
                            "<tr><td>The Force Awakens (Star Wars)</td></tr>",
                            "<tr><td>The Mane Event (Pride, #1)</td></tr>",
                            "<tr><td>The White Rose (The Chronicles of the Black Company, #3)</td></tr>",
                            "<tr><td>The Charterhouse of Parma</td></tr>",
                            "<tr><td>The Faithful Spy (John Wells, #1)</td></tr>",
                            "<tr><td>The Book of Luke</td></tr>",
                            "<tr><td>The Complete Poems 1927-1979</td></tr>",
                            "<tr><td>The Hand That First Held Mine</td></tr>",
                            "<tr><td>The Fourth Estate</td></tr>",
                            "<tr><td>The Man Who Listens to Horses</td></tr>",
                            "<tr><td>The Calling (Endgame, #1)</td></tr>",
                            "<tr><td>The Sea of Trolls (Sea of Trolls, #1)</td></tr>",
                            "<tr><td>The Man from Beijing</td></tr>",
                            "<tr><td>The Girl in the Red Coat</td></tr>",
                            "<tr><td>The Gate Thief (Mither Mages, #2)</td></tr>",
                            "<tr><td>The Elvenbane (Halfblood Chronicles, #1)</td></tr>",
                            "<tr><td>The Midnight Palace (Niebla, #2)</td></tr>",
                            "<tr><td>The Prefect (Prefect Dreyfus Emergency, #1)</td></tr>",
                            "<tr><td>The Secret of the Unicorn (Tintin, #11)</td></tr>",
                            "<tr><td>The Gay Science</td></tr>",
                            "<tr><td>The Broken Kingdoms (Inheritance, #2)</td></tr>",
                            "<tr><td>The Three (The Three, #1)</td></tr>",
                            "<tr><td>The Night Is for Hunting (Tomorrow, #6)</td></tr>",
                            "<tr><td>The Devil You Know (Felix Castor, #1)</td></tr>",
                            "<tr><td>The Upanishads: Translations from the Sanskrit</td></tr>",
                            "<tr><td>The Law of Nines</td></tr>",
                            "<tr><td>The Places That Scare You: A Guide to Fearlessness in Difficult Times</td></tr>",
                            "<tr><td>The Mistress of Spices</td></tr>",
                            "<tr><td>The House on Tradd Street (Tradd Street, #1)</td></tr>",
                            "<tr><td>The Finding (Law of the Lycans, #5)</td></tr>",
                            "<tr><td>The First 90 Days, Updated and Expanded: Critical Success Strategies for New Leaders at All Levels</td></tr>",
                            "<tr><td>The Pretty Committee Strikes Back (The Clique, #5)</td></tr>",
                            "<tr><td>The Lake (The Lake Trilogy #1)</td></tr>",
                            "<tr><td>The Hunger Pains: A Parody</td></tr>",
                            "<tr><td>The Rats (Rats, #1)</td></tr>",
                            "<tr><td>The Wandering Fire (The Fionavar Tapestry, #2)</td></tr>",
                            "<tr><td>The Wild Ones (The Wild Ones, #1)</td></tr>",
                            "<tr><td>The River Why</td></tr>",
                            "<tr><td>The Invention of Morel</td></tr>",
                            "<tr><td>The Fall of Berlin 1945</td></tr>",
                            "<tr><td>The Water-Method Man</td></tr>",
                            "<tr><td>The Empathy Exams: Essays</td></tr>",
                            "<tr><td>The Duchess War (Brothers Sinister, #1)</td></tr>",
                            "<tr><td>The Walking Dead, Vol. 13: Too Far Gone</td></tr>",
                            "<tr><td>The Story of Ruby Bridges</td></tr>",
                            "<tr><td>The Midwife of Hope River</td></tr>",
                            "<tr><td>The Complete Robot (Robot #0.3)</td></tr>",
                            "<tr><td>The Covenant (Abram's Daughters, #1)</td></tr>",
                            "<tr><td>The Chosen One</td></tr>",
                            "<tr><td>The Negotiator</td></tr>",
                            "<tr><td>The Power of Full Engagement: Managing Energy, Not Time, Is the Key to High Performance and Personal Renewal</td></tr>",
                            "<tr><td>The Decline and Fall of the Roman Empire</td></tr>",
                            "<tr><td>The Summer I Turned Pretty Trilogy: The Summer I Turned Pretty; It's Not Summer Without You; We'll Always Have Summer</td></tr>",
                            "<tr><td>The Amateur Marriage</td></tr>",
                            "<tr><td>The Voyages of Doctor Dolittle (Doctor Dolittle, #2)</td></tr>",
                            "<tr><td>The Remaining (The Remaining, #1)</td></tr>",
                            "<tr><td>The Good Father</td></tr>",
                            "<tr><td>The Story of B: An Adventure of the Mind and Spirit</td></tr>",
                            "<tr><td>The Knockoff</td></tr>",
                            "<tr><td>The Space Between (Outlander, #7.5)</td></tr>",
                            "<tr><td>The Berenstain Bears and Too Much TV</td></tr>",
                            "<tr><td>The Center Cannot Hold: My Journey Through Madness</td></tr>",
                            "<tr><td>The Afghan</td></tr>",
                            "<tr><td>The Bite Before Christmas (Argeneau, #15.5; Night Huntress, #6.5)</td></tr>",
                            "<tr><td>The Lion King (Disney's Wonderful World of Reading)</td></tr>",
                            "<tr><td>The Art of Amy Brown</td></tr>",
                            "<tr><td>The Turner House</td></tr>",
                            "<tr><td>The Map That Changed the World</td></tr>",
                            "<tr><td>The Chronicles of Narnia - The Lion, the Witch, and the Wardrobe Official Illustrated Movie Companion</td></tr>",
                            "<tr><td>The Other Side of Dawn (Tomorrow, #7)</td></tr>",
                            "<tr><td>The Tiger Who Came to Tea</td></tr>",
                            "<tr><td>The Wolves of Willoughby Chase (The Wolves Chronicles, #1)</td></tr>",
                            "<tr><td>The Egg</td></tr>",
                            "<tr><td>The Scarlatti Inheritance</td></tr>",
                            "<tr><td>The Last Days of Dogtown</td></tr>",
                            "<tr><td>The Last Picture Show</td></tr>",
                            "<tr><td>The Stainless Steel Rat (Stainless Steel Rat, #4)</td></tr>",
                            "<tr><td>The Rowan (The Tower and the Hive, #1)</td></tr>",
                            "<tr><td>The Versions of Us</td></tr>",
                            "<tr><td>The Last Council (Amulet, #4)</td></tr>",
                            "<tr><td>The Next Big Thing</td></tr>",
                            "<tr><td>The Honest Truth About Dishonesty: How We Lie to Everyone - Especially Ourselves</td></tr>",
                            "<tr><td>The Illustrated Mum</td></tr>",
                            "<tr><td>The Bookman’s Tale</td></tr>",
                            "<tr><td>The Last Boleyn</td></tr>",
                            "<tr><td>The Vision</td></tr>",
                            "<tr><td>The Discoverers: A History of Man's Search to Know His World and Himself</td></tr>",
                            "<tr><td>The Accident</td></tr>",
                            "<tr><td>The Green Mile, Part 5: Night Journey</td></tr>",
                            "<tr><td>The Bridge Across Forever: A True Love Story</td></tr>",
                            "<tr><td>The Serpent of Venice (The Fool, #2)</td></tr>",
                            "<tr><td>The Men Who Stare at Goats</td></tr>",
                            "<tr><td>The Girl with No Shadow (Chocolat, #2)</td></tr>",
                            "<tr><td>The Pacific</td></tr>",
                            "<tr><td>The Prize Winner of Defiance, Ohio: How My Mother Raised 10 Kids on 25 Words or Less</td></tr>",
                            "<tr><td>The Comfort of Strangers</td></tr>",
                            "<tr><td>The Mime Order (The Bone Season, #2)</td></tr>",
                            "<tr><td>The Ground Beneath Her Feet</td></tr>",
                            "<tr><td>The Story of the Trapp Family Singers</td></tr>",
                            "<tr><td>The Virgin Cure</td></tr>",
                            "<tr><td>The Tycoon's Revenge (Baby for the Billionaire, #1)</td></tr>",
                            "<tr><td>The Seven Principles for Making Marriage Work: A Practical Guide from the Country's Foremost Relationship Expert</td></tr>",
                            "<tr><td>The King Beyond the Gate (The Drenai Saga, #2)</td></tr>",
                            "<tr><td>The Sailor Who Fell from Grace with the Sea</td></tr>",
                            "<tr><td>The Measure of a Lady</td></tr>",
                            "<tr><td>The Twelfth Card (Lincoln Rhyme, #6)</td></tr>",
                            "<tr><td>The Snow Leopard</td></tr>",
                            "<tr><td>The Mambo Kings Play Songs of Love</td></tr>",
                            "<tr><td>The Famished Road</td></tr>",
                            "<tr><td>The Red Knight (The Traitor Son Cycle, #1)</td></tr>",
                            "<tr><td>The Time Traveller's Guide to Medieval England: A Handbook for Visitors to the Fourteenth Century</td></tr>",
                            "<tr><td>The Everafter War (The Sisters Grimm, #7)</td></tr>",
                            "<tr><td>The Mauritius Command</td></tr>",
                            "<tr><td>The First World War</td></tr>",
                            "</table>"
                        ]
                    }
                }
            ],
            "execution_count": 31
        },
        {
            "cell_type": "markdown",
            "source": [
                "4.  How many authors' names _start_ with 'Z'?"
            ],
            "metadata": {
                "azdata_cell_guid": "e0d89eca-410d-4e29-82ca-265b79c73fea"
            },
            "attachments": {}
        },
        {
            "cell_type": "code",
            "source": [
                "-- Code here:\r\n",
                "SELECT TOP 50 COUNT(authors) AS \"Authors with 'Z' Names\"\r\n",
                "FROM BooksDB.dbo.books\r\n",
                "Where authors LIKE 'Z%';"
            ],
            "metadata": {
                "azdata_cell_guid": "850f04c8-458a-4cfb-95c4-4dbb7a3d63d0",
                "language": "sql"
            },
            "outputs": [
                {
                    "output_type": "display_data",
                    "data": {
                        "text/html": "(1 row affected)"
                    },
                    "metadata": {}
                },
                {
                    "output_type": "display_data",
                    "data": {
                        "text/html": "Total execution time: 00:00:00.048"
                    },
                    "metadata": {}
                },
                {
                    "output_type": "execute_result",
                    "metadata": {},
                    "execution_count": 39,
                    "data": {
                        "application/vnd.dataresource+json": {
                            "schema": {
                                "fields": [
                                    {
                                        "name": "Authors with 'Z' Names"
                                    }
                                ]
                            },
                            "data": [
                                {
                                    "0": "11"
                                }
                            ]
                        },
                        "text/html": [
                            "<table>",
                            "<tr><th>Authors with 'Z' Names</th></tr>",
                            "<tr><td>11</td></tr>",
                            "</table>"
                        ]
                    }
                }
            ],
            "execution_count": 39
        },
        {
            "cell_type": "markdown",
            "source": [
                "5\\. How many books have been identified as printed in a language other than English?  There are four language codes for English: 'en', 'eng', 'en-US', and 'en-UK'.  Use LEFT to answer the question.  (Do not use the wildcard)\n",
                "\n",
                "You might want to use one of these [comparison operators](https://docs.microsoft.com/en-us/sql/t-sql/language-elements/comparison-operators-transact-sql?view=sql-server-ver15)."
            ],
            "metadata": {
                "azdata_cell_guid": "7066afeb-79d2-4e7f-b497-cbde17655b19"
            },
            "attachments": {}
        },
        {
            "cell_type": "code",
            "source": [
                "-- Code here:\r\n",
                "SELECT COUNT(id) AS '# of Books not in English'\r\n",
                "FROM BooksDB.dbo.books\r\n",
                "WHERE LEFT(language_code, 2) != 'en'"
            ],
            "metadata": {
                "azdata_cell_guid": "5a85f5ae-dd59-4fa1-828a-c63fa330ff7f",
                "language": "sql",
                "tags": []
            },
            "outputs": [
                {
                    "output_type": "display_data",
                    "data": {
                        "text/html": "(1 row affected)"
                    },
                    "metadata": {}
                },
                {
                    "output_type": "display_data",
                    "data": {
                        "text/html": "Total execution time: 00:00:00.057"
                    },
                    "metadata": {}
                },
                {
                    "output_type": "execute_result",
                    "metadata": {},
                    "execution_count": 44,
                    "data": {
                        "application/vnd.dataresource+json": {
                            "schema": {
                                "fields": [
                                    {
                                        "name": "# of Books not in English"
                                    }
                                ]
                            },
                            "data": [
                                {
                                    "0": "186"
                                }
                            ]
                        },
                        "text/html": [
                            "<table>",
                            "<tr><th># of Books not in English</th></tr>",
                            "<tr><td>186</td></tr>",
                            "</table>"
                        ]
                    }
                }
            ],
            "execution_count": 44
        },
        {
            "cell_type": "markdown",
            "source": [
                "6\\. Retry question 5 using SUBSTRING."
            ],
            "metadata": {
                "azdata_cell_guid": "93153cd1-ecea-4e4b-87f5-2214993a7291"
            },
            "attachments": {}
        },
        {
            "cell_type": "code",
            "source": [
                "-- Code here:\r\n",
                "SELECT COUNT(id) AS \"Non-English Languages\"\r\n",
                "FROM BooksDB.dbo.books\r\n",
                "WHERE SUBSTRING(language_code,1,2) != 'en';"
            ],
            "metadata": {
                "azdata_cell_guid": "7756ae02-4ec2-4456-b3a7-c3604bf07e26",
                "language": "sql"
            },
            "outputs": [
                {
                    "output_type": "display_data",
                    "data": {
                        "text/html": "(1 row affected)"
                    },
                    "metadata": {}
                },
                {
                    "output_type": "display_data",
                    "data": {
                        "text/html": "Total execution time: 00:00:00.051"
                    },
                    "metadata": {}
                },
                {
                    "output_type": "execute_result",
                    "metadata": {},
                    "execution_count": 45,
                    "data": {
                        "application/vnd.dataresource+json": {
                            "schema": {
                                "fields": [
                                    {
                                        "name": "Non-English Languages"
                                    }
                                ]
                            },
                            "data": [
                                {
                                    "0": "186"
                                }
                            ]
                        },
                        "text/html": [
                            "<table>",
                            "<tr><th>Non-English Languages</th></tr>",
                            "<tr><td>186</td></tr>",
                            "</table>"
                        ]
                    }
                }
            ],
            "execution_count": 45
        },
        {
            "cell_type": "markdown",
            "source": [
                "7.  Create a column that returns the title, authors, and language codes.  Concatenate these elements so that they return in the following way: title by authors in language\\_code language.\n",
                "\n",
                "> A.  Check each selected column to see where any values are NULL.  Did any of the columns contain NULL values?  If so, which one? It didn't return any null values. It looks like it just took the nulls out and didn't return anything in that spot.  AKA, Life of Pi for example"
            ],
            "metadata": {
                "azdata_cell_guid": "c8124542-ea76-4153-96ef-f4db908fbd6c"
            },
            "attachments": {}
        },
        {
            "cell_type": "code",
            "source": [
                "-- Code here:\r\n",
                "SELECT TOP 100 CONCAT_WS(' by ', title, CONCAT_WS(' in ', authors, language_code))\r\n",
                "FROM BooksDB.dbo.books;\r\n",
                ""
            ],
            "metadata": {
                "azdata_cell_guid": "26705af1-6191-48b9-b649-7bc93cad102d",
                "language": "sql",
                "tags": []
            },
            "outputs": [
                {
                    "output_type": "display_data",
                    "data": {
                        "text/html": "(100 rows affected)"
                    },
                    "metadata": {}
                },
                {
                    "output_type": "display_data",
                    "data": {
                        "text/html": "Total execution time: 00:00:00.047"
                    },
                    "metadata": {}
                },
                {
                    "output_type": "execute_result",
                    "metadata": {},
                    "execution_count": 71,
                    "data": {
                        "application/vnd.dataresource+json": {
                            "schema": {
                                "fields": [
                                    {
                                        "name": "(No column name)"
                                    }
                                ]
                            },
                            "data": [
                                {
                                    "0": "The Hunger Games (The Hunger Games, #1) by Suzanne Collins in eng"
                                },
                                {
                                    "0": "Harry Potter and the Sorcerer's Stone (Harry Potter, #1) by J.K. Rowling, Mary GrandPré in eng"
                                },
                                {
                                    "0": "Twilight (Twilight, #1) by Stephenie Meyer in en-US"
                                },
                                {
                                    "0": "To Kill a Mockingbird by Harper Lee in eng"
                                },
                                {
                                    "0": "The Great Gatsby by F. Scott Fitzgerald in eng"
                                },
                                {
                                    "0": "The Fault in Our Stars by John Green in eng"
                                },
                                {
                                    "0": "The Hobbit by J.R.R. Tolkien in en-US"
                                },
                                {
                                    "0": "The Catcher in the Rye by J.D. Salinger in eng"
                                },
                                {
                                    "0": "Angels & Demons  (Robert Langdon, #1) by Dan Brown in en-CA"
                                },
                                {
                                    "0": "Pride and Prejudice by Jane Austen in eng"
                                },
                                {
                                    "0": "The Kite Runner by Khaled Hosseini in eng"
                                },
                                {
                                    "0": "Divergent (Divergent, #1) by Veronica Roth in eng"
                                },
                                {
                                    "0": "1984 by George Orwell, Erich Fromm, Celâl Üster in eng"
                                },
                                {
                                    "0": "Animal Farm by George Orwell in eng"
                                },
                                {
                                    "0": "The Diary of a Young Girl by Anne Frank, Eleanor Roosevelt, B.M. Mooyaart-Doubleday in eng"
                                },
                                {
                                    "0": "The Girl with the Dragon Tattoo (Millennium, #1) by Stieg Larsson, Reg Keeland in eng"
                                },
                                {
                                    "0": "Catching Fire (The Hunger Games, #2) by Suzanne Collins in eng"
                                },
                                {
                                    "0": "Harry Potter and the Prisoner of Azkaban (Harry Potter, #3) by J.K. Rowling, Mary GrandPré, Rufus Beck in eng"
                                },
                                {
                                    "0": "The Fellowship of the Ring (The Lord of the Rings, #1) by J.R.R. Tolkien in eng"
                                },
                                {
                                    "0": "Mockingjay (The Hunger Games, #3) by Suzanne Collins in eng"
                                },
                                {
                                    "0": "Harry Potter and the Order of the Phoenix (Harry Potter, #5) by J.K. Rowling, Mary GrandPré in eng"
                                },
                                {
                                    "0": "The Lovely Bones by Alice Sebold in eng"
                                },
                                {
                                    "0": "Harry Potter and the Chamber of Secrets (Harry Potter, #2) by J.K. Rowling, Mary GrandPré in eng"
                                },
                                {
                                    "0": "Harry Potter and the Goblet of Fire (Harry Potter, #4) by J.K. Rowling, Mary GrandPré in eng"
                                },
                                {
                                    "0": "Harry Potter and the Deathly Hallows (Harry Potter, #7) by J.K. Rowling, Mary GrandPré in eng"
                                },
                                {
                                    "0": "The Da Vinci Code (Robert Langdon, #2) by Dan Brown in eng"
                                },
                                {
                                    "0": "Harry Potter and the Half-Blood Prince (Harry Potter, #6) by J.K. Rowling, Mary GrandPré in eng"
                                },
                                {
                                    "0": "Lord of the Flies by William Golding in eng"
                                },
                                {
                                    "0": "Romeo and Juliet by William Shakespeare, Robert           Jackson in eng"
                                },
                                {
                                    "0": "Gone Girl by Gillian Flynn in eng"
                                },
                                {
                                    "0": "The Help by Kathryn Stockett in eng"
                                },
                                {
                                    "0": "Of Mice and Men by John Steinbeck in eng"
                                },
                                {
                                    "0": "Memoirs of a Geisha by Arthur Golden in eng"
                                },
                                {
                                    "0": "Fifty Shades of Grey (Fifty Shades, #1) by E.L. James in eng"
                                },
                                {
                                    "0": "The Alchemist by Paulo Coelho, Alan R. Clarke in eng"
                                },
                                {
                                    "0": "The Giver (The Giver, #1) by Lois Lowry in eng"
                                },
                                {
                                    "0": "The Lion, the Witch, and the Wardrobe (Chronicles of Narnia, #1) by C.S. Lewis in eng"
                                },
                                {
                                    "0": "The Time Traveler's Wife by Audrey Niffenegger in eng"
                                },
                                {
                                    "0": "A Game of Thrones (A Song of Ice and Fire, #1) by George R.R. Martin in eng"
                                },
                                {
                                    "0": "Eat, Pray, Love by Elizabeth Gilbert in eng"
                                },
                                {
                                    "0": "The Lightning Thief (Percy Jackson and the Olympians, #1) by Rick Riordan in eng"
                                },
                                {
                                    "0": "Little Women (Little Women, #1) by Louisa May Alcott in en-US"
                                },
                                {
                                    "0": "Jane Eyre by Charlotte Brontë, Michael Mason in eng"
                                },
                                {
                                    "0": "The Notebook (The Notebook, #1) by Nicholas Sparks in eng"
                                },
                                {
                                    "0": "Life of Pi by Yann Martel"
                                },
                                {
                                    "0": "Water for Elephants by Sara Gruen in eng"
                                },
                                {
                                    "0": "The Book Thief by Markus Zusak in eng"
                                },
                                {
                                    "0": "Fahrenheit 451 by Ray Bradbury in spa"
                                },
                                {
                                    "0": "New Moon (Twilight, #2) by Stephenie Meyer in eng"
                                },
                                {
                                    "0": "Where the Sidewalk Ends by Shel Silverstein in eng"
                                },
                                {
                                    "0": "City of Bones (The Mortal Instruments, #1) by Cassandra Clare in eng"
                                },
                                {
                                    "0": "Eclipse (Twilight, #3) by Stephenie Meyer in en-US"
                                },
                                {
                                    "0": "Eragon (The Inheritance Cycle, #1) by Christopher Paolini in en-US"
                                },
                                {
                                    "0": "The Hitchhiker's Guide to the Galaxy (Hitchhiker's Guide to the Galaxy, #1) by Douglas Adams in en-US"
                                },
                                {
                                    "0": "Brave New World by Aldous Huxley in eng"
                                },
                                {
                                    "0": "Breaking Dawn (Twilight, #4) by Stephenie Meyer in en-US"
                                },
                                {
                                    "0": "The Secret Life of Bees by Sue Monk Kidd in en-US"
                                },
                                {
                                    "0": "The Adventures of Huckleberry Finn by Mark Twain, John Seelye, Guy Cardwell in eng"
                                },
                                {
                                    "0": "Charlotte's Web by E.B. White, Garth Williams, Rosemary Wells in eng"
                                },
                                {
                                    "0": "The Curious Incident of the Dog in the Night-Time by Mark Haddon in eng"
                                },
                                {
                                    "0": "The Girl on the Train by Paula Hawkins in eng"
                                },
                                {
                                    "0": "The Golden Compass (His Dark Materials, #1) by Philip Pullman in eng"
                                },
                                {
                                    "0": "Fangirl by Rainbow Rowell in eng"
                                },
                                {
                                    "0": "Wuthering Heights by Emily Brontë, Richard J. Dunn in eng"
                                },
                                {
                                    "0": "My Sister's Keeper by Jodi Picoult in eng"
                                },
                                {
                                    "0": "Slaughterhouse-Five by Kurt Vonnegut Jr. in eng"
                                },
                                {
                                    "0": "Gone with the Wind by Margaret Mitchell in eng"
                                },
                                {
                                    "0": "A Thousand Splendid Suns by Khaled Hosseini in eng"
                                },
                                {
                                    "0": "The Perks of Being a Wallflower by Stephen Chbosky in eng"
                                },
                                {
                                    "0": "Insurgent (Divergent, #2) by Veronica Roth in eng"
                                },
                                {
                                    "0": "Ender's Game (Ender's Saga, #1) by Orson Scott Card in eng"
                                },
                                {
                                    "0": "Frankenstein by Mary Wollstonecraft Shelley, Percy Bysshe Shelley, Maurice Hindle in eng"
                                },
                                {
                                    "0": "The Shining (The Shining #1) by Stephen King in eng"
                                },
                                {
                                    "0": "The Host (The Host, #1) by Stephenie Meyer in en-US"
                                },
                                {
                                    "0": "Looking for Alaska by John Green in eng"
                                },
                                {
                                    "0": "Bridget Jones's Diary (Bridget Jones, #1) by Helen Fielding in eng"
                                },
                                {
                                    "0": "Sense and Sensibility by Jane Austen, Tony Tanner, Ros Ballaster in eng"
                                },
                                {
                                    "0": "Holes (Holes, #1) by Louis Sachar, Louis Sachar in eng"
                                },
                                {
                                    "0": "Filth by Irvine Welsh in eng"
                                },
                                {
                                    "0": "The Devil Wears Prada (The Devil Wears Prada, #1) by Lauren Weisberger in eng"
                                },
                                {
                                    "0": "The Odyssey by Homer, Robert Fagles, E.V. Rieu, Frédéric Mugler, Bernard Knox in eng"
                                },
                                {
                                    "0": "The Little Prince by Antoine de Saint-Exupéry, Richard Howard, Dom Marcos Barbosa, Melina Karakosta in eng"
                                },
                                {
                                    "0": "The Glass Castle by Jeannette Walls in eng"
                                },
                                {
                                    "0": "Into the Wild by Jon Krakauer in eng"
                                },
                                {
                                    "0": "A Tale of Two Cities by Charles Dickens, Richard Maxwell, Hablot Knight Browne in eng"
                                },
                                {
                                    "0": "Jurassic Park (Jurassic Park, #1) by Michael Crichton in spa"
                                },
                                {
                                    "0": "The Giving Tree by Shel Silverstein in eng"
                                },
                                {
                                    "0": "A Time to Kill by John Grisham in eng"
                                },
                                {
                                    "0": "Night (The Night Trilogy #1) by Elie Wiesel, Marion Wiesel in eng"
                                },
                                {
                                    "0": "Paper Towns by John Green in en-US"
                                },
                                {
                                    "0": "The Princess Bride  by William Goldman in en-US"
                                },
                                {
                                    "0": "The Outsiders by S.E. Hinton in en-US"
                                },
                                {
                                    "0": "The Maze Runner (Maze Runner, #1) by James Dashner in eng"
                                },
                                {
                                    "0": "Freakonomics: A Rogue Economist Explores the Hidden Side of Everything (Freakonomics, #1) by Steven D. Levitt, Stephen J. Dubner in en-US"
                                },
                                {
                                    "0": "The Secret Garden by Frances Hodgson Burnett in eng"
                                },
                                {
                                    "0": "One Hundred Years of Solitude by Gabriel García Márquez, Gregory Rabassa in eng"
                                },
                                {
                                    "0": "The Picture of Dorian Gray by Oscar Wilde, Jeffrey Eugenides in eng"
                                },
                                {
                                    "0": "Fifty Shades Freed (Fifty Shades, #3) by E.L. James in eng"
                                },
                                {
                                    "0": "Dracula by Bram Stoker, Nina Auerbach, David J. Skal in eng"
                                },
                                {
                                    "0": "The Girl Who Played with Fire (Millennium, #2) by Stieg Larsson, Reg Keeland in eng"
                                }
                            ]
                        },
                        "text/html": [
                            "<table>",
                            "<tr><th>(No column name)</th></tr>",
                            "<tr><td>The Hunger Games (The Hunger Games, #1) by Suzanne Collins in eng</td></tr>",
                            "<tr><td>Harry Potter and the Sorcerer's Stone (Harry Potter, #1) by J.K. Rowling, Mary GrandPré in eng</td></tr>",
                            "<tr><td>Twilight (Twilight, #1) by Stephenie Meyer in en-US</td></tr>",
                            "<tr><td>To Kill a Mockingbird by Harper Lee in eng</td></tr>",
                            "<tr><td>The Great Gatsby by F. Scott Fitzgerald in eng</td></tr>",
                            "<tr><td>The Fault in Our Stars by John Green in eng</td></tr>",
                            "<tr><td>The Hobbit by J.R.R. Tolkien in en-US</td></tr>",
                            "<tr><td>The Catcher in the Rye by J.D. Salinger in eng</td></tr>",
                            "<tr><td>Angels &amp; Demons  (Robert Langdon, #1) by Dan Brown in en-CA</td></tr>",
                            "<tr><td>Pride and Prejudice by Jane Austen in eng</td></tr>",
                            "<tr><td>The Kite Runner by Khaled Hosseini in eng</td></tr>",
                            "<tr><td>Divergent (Divergent, #1) by Veronica Roth in eng</td></tr>",
                            "<tr><td>1984 by George Orwell, Erich Fromm, Celâl Üster in eng</td></tr>",
                            "<tr><td>Animal Farm by George Orwell in eng</td></tr>",
                            "<tr><td>The Diary of a Young Girl by Anne Frank, Eleanor Roosevelt, B.M. Mooyaart-Doubleday in eng</td></tr>",
                            "<tr><td>The Girl with the Dragon Tattoo (Millennium, #1) by Stieg Larsson, Reg Keeland in eng</td></tr>",
                            "<tr><td>Catching Fire (The Hunger Games, #2) by Suzanne Collins in eng</td></tr>",
                            "<tr><td>Harry Potter and the Prisoner of Azkaban (Harry Potter, #3) by J.K. Rowling, Mary GrandPré, Rufus Beck in eng</td></tr>",
                            "<tr><td>The Fellowship of the Ring (The Lord of the Rings, #1) by J.R.R. Tolkien in eng</td></tr>",
                            "<tr><td>Mockingjay (The Hunger Games, #3) by Suzanne Collins in eng</td></tr>",
                            "<tr><td>Harry Potter and the Order of the Phoenix (Harry Potter, #5) by J.K. Rowling, Mary GrandPré in eng</td></tr>",
                            "<tr><td>The Lovely Bones by Alice Sebold in eng</td></tr>",
                            "<tr><td>Harry Potter and the Chamber of Secrets (Harry Potter, #2) by J.K. Rowling, Mary GrandPré in eng</td></tr>",
                            "<tr><td>Harry Potter and the Goblet of Fire (Harry Potter, #4) by J.K. Rowling, Mary GrandPré in eng</td></tr>",
                            "<tr><td>Harry Potter and the Deathly Hallows (Harry Potter, #7) by J.K. Rowling, Mary GrandPré in eng</td></tr>",
                            "<tr><td>The Da Vinci Code (Robert Langdon, #2) by Dan Brown in eng</td></tr>",
                            "<tr><td>Harry Potter and the Half-Blood Prince (Harry Potter, #6) by J.K. Rowling, Mary GrandPré in eng</td></tr>",
                            "<tr><td>Lord of the Flies by William Golding in eng</td></tr>",
                            "<tr><td>Romeo and Juliet by William Shakespeare, Robert           Jackson in eng</td></tr>",
                            "<tr><td>Gone Girl by Gillian Flynn in eng</td></tr>",
                            "<tr><td>The Help by Kathryn Stockett in eng</td></tr>",
                            "<tr><td>Of Mice and Men by John Steinbeck in eng</td></tr>",
                            "<tr><td>Memoirs of a Geisha by Arthur Golden in eng</td></tr>",
                            "<tr><td>Fifty Shades of Grey (Fifty Shades, #1) by E.L. James in eng</td></tr>",
                            "<tr><td>The Alchemist by Paulo Coelho, Alan R. Clarke in eng</td></tr>",
                            "<tr><td>The Giver (The Giver, #1) by Lois Lowry in eng</td></tr>",
                            "<tr><td>The Lion, the Witch, and the Wardrobe (Chronicles of Narnia, #1) by C.S. Lewis in eng</td></tr>",
                            "<tr><td>The Time Traveler's Wife by Audrey Niffenegger in eng</td></tr>",
                            "<tr><td>A Game of Thrones (A Song of Ice and Fire, #1) by George R.R. Martin in eng</td></tr>",
                            "<tr><td>Eat, Pray, Love by Elizabeth Gilbert in eng</td></tr>",
                            "<tr><td>The Lightning Thief (Percy Jackson and the Olympians, #1) by Rick Riordan in eng</td></tr>",
                            "<tr><td>Little Women (Little Women, #1) by Louisa May Alcott in en-US</td></tr>",
                            "<tr><td>Jane Eyre by Charlotte Brontë, Michael Mason in eng</td></tr>",
                            "<tr><td>The Notebook (The Notebook, #1) by Nicholas Sparks in eng</td></tr>",
                            "<tr><td>Life of Pi by Yann Martel</td></tr>",
                            "<tr><td>Water for Elephants by Sara Gruen in eng</td></tr>",
                            "<tr><td>The Book Thief by Markus Zusak in eng</td></tr>",
                            "<tr><td>Fahrenheit 451 by Ray Bradbury in spa</td></tr>",
                            "<tr><td>New Moon (Twilight, #2) by Stephenie Meyer in eng</td></tr>",
                            "<tr><td>Where the Sidewalk Ends by Shel Silverstein in eng</td></tr>",
                            "<tr><td>City of Bones (The Mortal Instruments, #1) by Cassandra Clare in eng</td></tr>",
                            "<tr><td>Eclipse (Twilight, #3) by Stephenie Meyer in en-US</td></tr>",
                            "<tr><td>Eragon (The Inheritance Cycle, #1) by Christopher Paolini in en-US</td></tr>",
                            "<tr><td>The Hitchhiker's Guide to the Galaxy (Hitchhiker's Guide to the Galaxy, #1) by Douglas Adams in en-US</td></tr>",
                            "<tr><td>Brave New World by Aldous Huxley in eng</td></tr>",
                            "<tr><td>Breaking Dawn (Twilight, #4) by Stephenie Meyer in en-US</td></tr>",
                            "<tr><td>The Secret Life of Bees by Sue Monk Kidd in en-US</td></tr>",
                            "<tr><td>The Adventures of Huckleberry Finn by Mark Twain, John Seelye, Guy Cardwell in eng</td></tr>",
                            "<tr><td>Charlotte's Web by E.B. White, Garth Williams, Rosemary Wells in eng</td></tr>",
                            "<tr><td>The Curious Incident of the Dog in the Night-Time by Mark Haddon in eng</td></tr>",
                            "<tr><td>The Girl on the Train by Paula Hawkins in eng</td></tr>",
                            "<tr><td>The Golden Compass (His Dark Materials, #1) by Philip Pullman in eng</td></tr>",
                            "<tr><td>Fangirl by Rainbow Rowell in eng</td></tr>",
                            "<tr><td>Wuthering Heights by Emily Brontë, Richard J. Dunn in eng</td></tr>",
                            "<tr><td>My Sister's Keeper by Jodi Picoult in eng</td></tr>",
                            "<tr><td>Slaughterhouse-Five by Kurt Vonnegut Jr. in eng</td></tr>",
                            "<tr><td>Gone with the Wind by Margaret Mitchell in eng</td></tr>",
                            "<tr><td>A Thousand Splendid Suns by Khaled Hosseini in eng</td></tr>",
                            "<tr><td>The Perks of Being a Wallflower by Stephen Chbosky in eng</td></tr>",
                            "<tr><td>Insurgent (Divergent, #2) by Veronica Roth in eng</td></tr>",
                            "<tr><td>Ender's Game (Ender's Saga, #1) by Orson Scott Card in eng</td></tr>",
                            "<tr><td>Frankenstein by Mary Wollstonecraft Shelley, Percy Bysshe Shelley, Maurice Hindle in eng</td></tr>",
                            "<tr><td>The Shining (The Shining #1) by Stephen King in eng</td></tr>",
                            "<tr><td>The Host (The Host, #1) by Stephenie Meyer in en-US</td></tr>",
                            "<tr><td>Looking for Alaska by John Green in eng</td></tr>",
                            "<tr><td>Bridget Jones's Diary (Bridget Jones, #1) by Helen Fielding in eng</td></tr>",
                            "<tr><td>Sense and Sensibility by Jane Austen, Tony Tanner, Ros Ballaster in eng</td></tr>",
                            "<tr><td>Holes (Holes, #1) by Louis Sachar, Louis Sachar in eng</td></tr>",
                            "<tr><td>Filth by Irvine Welsh in eng</td></tr>",
                            "<tr><td>The Devil Wears Prada (The Devil Wears Prada, #1) by Lauren Weisberger in eng</td></tr>",
                            "<tr><td>The Odyssey by Homer, Robert Fagles, E.V. Rieu, Frédéric Mugler, Bernard Knox in eng</td></tr>",
                            "<tr><td>The Little Prince by Antoine de Saint-Exupéry, Richard Howard, Dom Marcos Barbosa, Melina Karakosta in eng</td></tr>",
                            "<tr><td>The Glass Castle by Jeannette Walls in eng</td></tr>",
                            "<tr><td>Into the Wild by Jon Krakauer in eng</td></tr>",
                            "<tr><td>A Tale of Two Cities by Charles Dickens, Richard Maxwell, Hablot Knight Browne in eng</td></tr>",
                            "<tr><td>Jurassic Park (Jurassic Park, #1) by Michael Crichton in spa</td></tr>",
                            "<tr><td>The Giving Tree by Shel Silverstein in eng</td></tr>",
                            "<tr><td>A Time to Kill by John Grisham in eng</td></tr>",
                            "<tr><td>Night (The Night Trilogy #1) by Elie Wiesel, Marion Wiesel in eng</td></tr>",
                            "<tr><td>Paper Towns by John Green in en-US</td></tr>",
                            "<tr><td>The Princess Bride  by William Goldman in en-US</td></tr>",
                            "<tr><td>The Outsiders by S.E. Hinton in en-US</td></tr>",
                            "<tr><td>The Maze Runner (Maze Runner, #1) by James Dashner in eng</td></tr>",
                            "<tr><td>Freakonomics: A Rogue Economist Explores the Hidden Side of Everything (Freakonomics, #1) by Steven D. Levitt, Stephen J. Dubner in en-US</td></tr>",
                            "<tr><td>The Secret Garden by Frances Hodgson Burnett in eng</td></tr>",
                            "<tr><td>One Hundred Years of Solitude by Gabriel García Márquez, Gregory Rabassa in eng</td></tr>",
                            "<tr><td>The Picture of Dorian Gray by Oscar Wilde, Jeffrey Eugenides in eng</td></tr>",
                            "<tr><td>Fifty Shades Freed (Fifty Shades, #3) by E.L. James in eng</td></tr>",
                            "<tr><td>Dracula by Bram Stoker, Nina Auerbach, David J. Skal in eng</td></tr>",
                            "<tr><td>The Girl Who Played with Fire (Millennium, #2) by Stieg Larsson, Reg Keeland in eng</td></tr>",
                            "</table>"
                        ]
                    }
                }
            ],
            "execution_count": 71
        },
        {
            "cell_type": "markdown",
            "source": [
                "8.  Update the query in question 7 using COALESCE to change the language code values from NULL to 'unknown'.\n",
                "\n",
                "> A.  Has this changed the language\\_code  where the values are NULL? Yes, by using the REPLACE() method inside the COALESCE() method."
            ],
            "metadata": {
                "azdata_cell_guid": "17fd76a8-afa7-4d86-a200-2902d7310a2b"
            },
            "attachments": {}
        },
        {
            "cell_type": "code",
            "source": [
                "-- Code here:\r\n",
                "SELECT TOP 100 CONCAT_WS(' by ', title, authors) + ' in ' +  COALESCE(null, language_code, REPLACE('NULL', 'NULL', 'Unknown')) AS 'Language'\r\n",
                "FROM BooksDB.dbo.books\r\n",
                "\r\n",
                "\r\n",
                "\r\n",
                "\r\n",
                ""
            ],
            "metadata": {
                "azdata_cell_guid": "f9694996-4545-48b9-9981-325b5c590570",
                "language": "sql"
            },
            "outputs": [
                {
                    "output_type": "display_data",
                    "data": {
                        "text/html": "(100 rows affected)"
                    },
                    "metadata": {}
                },
                {
                    "output_type": "display_data",
                    "data": {
                        "text/html": "Total execution time: 00:00:00.048"
                    },
                    "metadata": {}
                },
                {
                    "output_type": "execute_result",
                    "metadata": {},
                    "execution_count": 69,
                    "data": {
                        "application/vnd.dataresource+json": {
                            "schema": {
                                "fields": [
                                    {
                                        "name": "Language"
                                    }
                                ]
                            },
                            "data": [
                                {
                                    "0": "The Hunger Games (The Hunger Games, #1) by Suzanne Collins in eng"
                                },
                                {
                                    "0": "Harry Potter and the Sorcerer's Stone (Harry Potter, #1) by J.K. Rowling, Mary GrandPré in eng"
                                },
                                {
                                    "0": "Twilight (Twilight, #1) by Stephenie Meyer in en-US"
                                },
                                {
                                    "0": "To Kill a Mockingbird by Harper Lee in eng"
                                },
                                {
                                    "0": "The Great Gatsby by F. Scott Fitzgerald in eng"
                                },
                                {
                                    "0": "The Fault in Our Stars by John Green in eng"
                                },
                                {
                                    "0": "The Hobbit by J.R.R. Tolkien in en-US"
                                },
                                {
                                    "0": "The Catcher in the Rye by J.D. Salinger in eng"
                                },
                                {
                                    "0": "Angels & Demons  (Robert Langdon, #1) by Dan Brown in en-CA"
                                },
                                {
                                    "0": "Pride and Prejudice by Jane Austen in eng"
                                },
                                {
                                    "0": "The Kite Runner by Khaled Hosseini in eng"
                                },
                                {
                                    "0": "Divergent (Divergent, #1) by Veronica Roth in eng"
                                },
                                {
                                    "0": "1984 by George Orwell, Erich Fromm, Celâl Üster in eng"
                                },
                                {
                                    "0": "Animal Farm by George Orwell in eng"
                                },
                                {
                                    "0": "The Diary of a Young Girl by Anne Frank, Eleanor Roosevelt, B.M. Mooyaart-Doubleday in eng"
                                },
                                {
                                    "0": "The Girl with the Dragon Tattoo (Millennium, #1) by Stieg Larsson, Reg Keeland in eng"
                                },
                                {
                                    "0": "Catching Fire (The Hunger Games, #2) by Suzanne Collins in eng"
                                },
                                {
                                    "0": "Harry Potter and the Prisoner of Azkaban (Harry Potter, #3) by J.K. Rowling, Mary GrandPré, Rufus Beck in eng"
                                },
                                {
                                    "0": "The Fellowship of the Ring (The Lord of the Rings, #1) by J.R.R. Tolkien in eng"
                                },
                                {
                                    "0": "Mockingjay (The Hunger Games, #3) by Suzanne Collins in eng"
                                },
                                {
                                    "0": "Harry Potter and the Order of the Phoenix (Harry Potter, #5) by J.K. Rowling, Mary GrandPré in eng"
                                },
                                {
                                    "0": "The Lovely Bones by Alice Sebold in eng"
                                },
                                {
                                    "0": "Harry Potter and the Chamber of Secrets (Harry Potter, #2) by J.K. Rowling, Mary GrandPré in eng"
                                },
                                {
                                    "0": "Harry Potter and the Goblet of Fire (Harry Potter, #4) by J.K. Rowling, Mary GrandPré in eng"
                                },
                                {
                                    "0": "Harry Potter and the Deathly Hallows (Harry Potter, #7) by J.K. Rowling, Mary GrandPré in eng"
                                },
                                {
                                    "0": "The Da Vinci Code (Robert Langdon, #2) by Dan Brown in eng"
                                },
                                {
                                    "0": "Harry Potter and the Half-Blood Prince (Harry Potter, #6) by J.K. Rowling, Mary GrandPré in eng"
                                },
                                {
                                    "0": "Lord of the Flies by William Golding in eng"
                                },
                                {
                                    "0": "Romeo and Juliet by William Shakespeare, Robert           Jackson in eng"
                                },
                                {
                                    "0": "Gone Girl by Gillian Flynn in eng"
                                },
                                {
                                    "0": "The Help by Kathryn Stockett in eng"
                                },
                                {
                                    "0": "Of Mice and Men by John Steinbeck in eng"
                                },
                                {
                                    "0": "Memoirs of a Geisha by Arthur Golden in eng"
                                },
                                {
                                    "0": "Fifty Shades of Grey (Fifty Shades, #1) by E.L. James in eng"
                                },
                                {
                                    "0": "The Alchemist by Paulo Coelho, Alan R. Clarke in eng"
                                },
                                {
                                    "0": "The Giver (The Giver, #1) by Lois Lowry in eng"
                                },
                                {
                                    "0": "The Lion, the Witch, and the Wardrobe (Chronicles of Narnia, #1) by C.S. Lewis in eng"
                                },
                                {
                                    "0": "The Time Traveler's Wife by Audrey Niffenegger in eng"
                                },
                                {
                                    "0": "A Game of Thrones (A Song of Ice and Fire, #1) by George R.R. Martin in eng"
                                },
                                {
                                    "0": "Eat, Pray, Love by Elizabeth Gilbert in eng"
                                },
                                {
                                    "0": "The Lightning Thief (Percy Jackson and the Olympians, #1) by Rick Riordan in eng"
                                },
                                {
                                    "0": "Little Women (Little Women, #1) by Louisa May Alcott in en-US"
                                },
                                {
                                    "0": "Jane Eyre by Charlotte Brontë, Michael Mason in eng"
                                },
                                {
                                    "0": "The Notebook (The Notebook, #1) by Nicholas Sparks in eng"
                                },
                                {
                                    "0": "Life of Pi by Yann Martel in Unknown"
                                },
                                {
                                    "0": "Water for Elephants by Sara Gruen in eng"
                                },
                                {
                                    "0": "The Book Thief by Markus Zusak in eng"
                                },
                                {
                                    "0": "Fahrenheit 451 by Ray Bradbury in spa"
                                },
                                {
                                    "0": "New Moon (Twilight, #2) by Stephenie Meyer in eng"
                                },
                                {
                                    "0": "Where the Sidewalk Ends by Shel Silverstein in eng"
                                },
                                {
                                    "0": "City of Bones (The Mortal Instruments, #1) by Cassandra Clare in eng"
                                },
                                {
                                    "0": "Eclipse (Twilight, #3) by Stephenie Meyer in en-US"
                                },
                                {
                                    "0": "Eragon (The Inheritance Cycle, #1) by Christopher Paolini in en-US"
                                },
                                {
                                    "0": "The Hitchhiker's Guide to the Galaxy (Hitchhiker's Guide to the Galaxy, #1) by Douglas Adams in en-US"
                                },
                                {
                                    "0": "Brave New World by Aldous Huxley in eng"
                                },
                                {
                                    "0": "Breaking Dawn (Twilight, #4) by Stephenie Meyer in en-US"
                                },
                                {
                                    "0": "The Secret Life of Bees by Sue Monk Kidd in en-US"
                                },
                                {
                                    "0": "The Adventures of Huckleberry Finn by Mark Twain, John Seelye, Guy Cardwell in eng"
                                },
                                {
                                    "0": "Charlotte's Web by E.B. White, Garth Williams, Rosemary Wells in eng"
                                },
                                {
                                    "0": "The Curious Incident of the Dog in the Night-Time by Mark Haddon in eng"
                                },
                                {
                                    "0": "The Girl on the Train by Paula Hawkins in eng"
                                },
                                {
                                    "0": "The Golden Compass (His Dark Materials, #1) by Philip Pullman in eng"
                                },
                                {
                                    "0": "Fangirl by Rainbow Rowell in eng"
                                },
                                {
                                    "0": "Wuthering Heights by Emily Brontë, Richard J. Dunn in eng"
                                },
                                {
                                    "0": "My Sister's Keeper by Jodi Picoult in eng"
                                },
                                {
                                    "0": "Slaughterhouse-Five by Kurt Vonnegut Jr. in eng"
                                },
                                {
                                    "0": "Gone with the Wind by Margaret Mitchell in eng"
                                },
                                {
                                    "0": "A Thousand Splendid Suns by Khaled Hosseini in eng"
                                },
                                {
                                    "0": "The Perks of Being a Wallflower by Stephen Chbosky in eng"
                                },
                                {
                                    "0": "Insurgent (Divergent, #2) by Veronica Roth in eng"
                                },
                                {
                                    "0": "Ender's Game (Ender's Saga, #1) by Orson Scott Card in eng"
                                },
                                {
                                    "0": "Frankenstein by Mary Wollstonecraft Shelley, Percy Bysshe Shelley, Maurice Hindle in eng"
                                },
                                {
                                    "0": "The Shining (The Shining #1) by Stephen King in eng"
                                },
                                {
                                    "0": "The Host (The Host, #1) by Stephenie Meyer in en-US"
                                },
                                {
                                    "0": "Looking for Alaska by John Green in eng"
                                },
                                {
                                    "0": "Bridget Jones's Diary (Bridget Jones, #1) by Helen Fielding in eng"
                                },
                                {
                                    "0": "Sense and Sensibility by Jane Austen, Tony Tanner, Ros Ballaster in eng"
                                },
                                {
                                    "0": "Holes (Holes, #1) by Louis Sachar, Louis Sachar in eng"
                                },
                                {
                                    "0": "Filth by Irvine Welsh in eng"
                                },
                                {
                                    "0": "The Devil Wears Prada (The Devil Wears Prada, #1) by Lauren Weisberger in eng"
                                },
                                {
                                    "0": "The Odyssey by Homer, Robert Fagles, E.V. Rieu, Frédéric Mugler, Bernard Knox in eng"
                                },
                                {
                                    "0": "The Little Prince by Antoine de Saint-Exupéry, Richard Howard, Dom Marcos Barbosa, Melina Karakosta in eng"
                                },
                                {
                                    "0": "The Glass Castle by Jeannette Walls in eng"
                                },
                                {
                                    "0": "Into the Wild by Jon Krakauer in eng"
                                },
                                {
                                    "0": "A Tale of Two Cities by Charles Dickens, Richard Maxwell, Hablot Knight Browne in eng"
                                },
                                {
                                    "0": "Jurassic Park (Jurassic Park, #1) by Michael Crichton in spa"
                                },
                                {
                                    "0": "The Giving Tree by Shel Silverstein in eng"
                                },
                                {
                                    "0": "A Time to Kill by John Grisham in eng"
                                },
                                {
                                    "0": "Night (The Night Trilogy #1) by Elie Wiesel, Marion Wiesel in eng"
                                },
                                {
                                    "0": "Paper Towns by John Green in en-US"
                                },
                                {
                                    "0": "The Princess Bride  by William Goldman in en-US"
                                },
                                {
                                    "0": "The Outsiders by S.E. Hinton in en-US"
                                },
                                {
                                    "0": "The Maze Runner (Maze Runner, #1) by James Dashner in eng"
                                },
                                {
                                    "0": "Freakonomics: A Rogue Economist Explores the Hidden Side of Everything (Freakonomics, #1) by Steven D. Levitt, Stephen J. Dubner in en-US"
                                },
                                {
                                    "0": "The Secret Garden by Frances Hodgson Burnett in eng"
                                },
                                {
                                    "0": "One Hundred Years of Solitude by Gabriel García Márquez, Gregory Rabassa in eng"
                                },
                                {
                                    "0": "The Picture of Dorian Gray by Oscar Wilde, Jeffrey Eugenides in eng"
                                },
                                {
                                    "0": "Fifty Shades Freed (Fifty Shades, #3) by E.L. James in eng"
                                },
                                {
                                    "0": "Dracula by Bram Stoker, Nina Auerbach, David J. Skal in eng"
                                },
                                {
                                    "0": "The Girl Who Played with Fire (Millennium, #2) by Stieg Larsson, Reg Keeland in eng"
                                }
                            ]
                        },
                        "text/html": [
                            "<table>",
                            "<tr><th>Language</th></tr>",
                            "<tr><td>The Hunger Games (The Hunger Games, #1) by Suzanne Collins in eng</td></tr>",
                            "<tr><td>Harry Potter and the Sorcerer's Stone (Harry Potter, #1) by J.K. Rowling, Mary GrandPré in eng</td></tr>",
                            "<tr><td>Twilight (Twilight, #1) by Stephenie Meyer in en-US</td></tr>",
                            "<tr><td>To Kill a Mockingbird by Harper Lee in eng</td></tr>",
                            "<tr><td>The Great Gatsby by F. Scott Fitzgerald in eng</td></tr>",
                            "<tr><td>The Fault in Our Stars by John Green in eng</td></tr>",
                            "<tr><td>The Hobbit by J.R.R. Tolkien in en-US</td></tr>",
                            "<tr><td>The Catcher in the Rye by J.D. Salinger in eng</td></tr>",
                            "<tr><td>Angels &amp; Demons  (Robert Langdon, #1) by Dan Brown in en-CA</td></tr>",
                            "<tr><td>Pride and Prejudice by Jane Austen in eng</td></tr>",
                            "<tr><td>The Kite Runner by Khaled Hosseini in eng</td></tr>",
                            "<tr><td>Divergent (Divergent, #1) by Veronica Roth in eng</td></tr>",
                            "<tr><td>1984 by George Orwell, Erich Fromm, Celâl Üster in eng</td></tr>",
                            "<tr><td>Animal Farm by George Orwell in eng</td></tr>",
                            "<tr><td>The Diary of a Young Girl by Anne Frank, Eleanor Roosevelt, B.M. Mooyaart-Doubleday in eng</td></tr>",
                            "<tr><td>The Girl with the Dragon Tattoo (Millennium, #1) by Stieg Larsson, Reg Keeland in eng</td></tr>",
                            "<tr><td>Catching Fire (The Hunger Games, #2) by Suzanne Collins in eng</td></tr>",
                            "<tr><td>Harry Potter and the Prisoner of Azkaban (Harry Potter, #3) by J.K. Rowling, Mary GrandPré, Rufus Beck in eng</td></tr>",
                            "<tr><td>The Fellowship of the Ring (The Lord of the Rings, #1) by J.R.R. Tolkien in eng</td></tr>",
                            "<tr><td>Mockingjay (The Hunger Games, #3) by Suzanne Collins in eng</td></tr>",
                            "<tr><td>Harry Potter and the Order of the Phoenix (Harry Potter, #5) by J.K. Rowling, Mary GrandPré in eng</td></tr>",
                            "<tr><td>The Lovely Bones by Alice Sebold in eng</td></tr>",
                            "<tr><td>Harry Potter and the Chamber of Secrets (Harry Potter, #2) by J.K. Rowling, Mary GrandPré in eng</td></tr>",
                            "<tr><td>Harry Potter and the Goblet of Fire (Harry Potter, #4) by J.K. Rowling, Mary GrandPré in eng</td></tr>",
                            "<tr><td>Harry Potter and the Deathly Hallows (Harry Potter, #7) by J.K. Rowling, Mary GrandPré in eng</td></tr>",
                            "<tr><td>The Da Vinci Code (Robert Langdon, #2) by Dan Brown in eng</td></tr>",
                            "<tr><td>Harry Potter and the Half-Blood Prince (Harry Potter, #6) by J.K. Rowling, Mary GrandPré in eng</td></tr>",
                            "<tr><td>Lord of the Flies by William Golding in eng</td></tr>",
                            "<tr><td>Romeo and Juliet by William Shakespeare, Robert           Jackson in eng</td></tr>",
                            "<tr><td>Gone Girl by Gillian Flynn in eng</td></tr>",
                            "<tr><td>The Help by Kathryn Stockett in eng</td></tr>",
                            "<tr><td>Of Mice and Men by John Steinbeck in eng</td></tr>",
                            "<tr><td>Memoirs of a Geisha by Arthur Golden in eng</td></tr>",
                            "<tr><td>Fifty Shades of Grey (Fifty Shades, #1) by E.L. James in eng</td></tr>",
                            "<tr><td>The Alchemist by Paulo Coelho, Alan R. Clarke in eng</td></tr>",
                            "<tr><td>The Giver (The Giver, #1) by Lois Lowry in eng</td></tr>",
                            "<tr><td>The Lion, the Witch, and the Wardrobe (Chronicles of Narnia, #1) by C.S. Lewis in eng</td></tr>",
                            "<tr><td>The Time Traveler's Wife by Audrey Niffenegger in eng</td></tr>",
                            "<tr><td>A Game of Thrones (A Song of Ice and Fire, #1) by George R.R. Martin in eng</td></tr>",
                            "<tr><td>Eat, Pray, Love by Elizabeth Gilbert in eng</td></tr>",
                            "<tr><td>The Lightning Thief (Percy Jackson and the Olympians, #1) by Rick Riordan in eng</td></tr>",
                            "<tr><td>Little Women (Little Women, #1) by Louisa May Alcott in en-US</td></tr>",
                            "<tr><td>Jane Eyre by Charlotte Brontë, Michael Mason in eng</td></tr>",
                            "<tr><td>The Notebook (The Notebook, #1) by Nicholas Sparks in eng</td></tr>",
                            "<tr><td>Life of Pi by Yann Martel in Unknown</td></tr>",
                            "<tr><td>Water for Elephants by Sara Gruen in eng</td></tr>",
                            "<tr><td>The Book Thief by Markus Zusak in eng</td></tr>",
                            "<tr><td>Fahrenheit 451 by Ray Bradbury in spa</td></tr>",
                            "<tr><td>New Moon (Twilight, #2) by Stephenie Meyer in eng</td></tr>",
                            "<tr><td>Where the Sidewalk Ends by Shel Silverstein in eng</td></tr>",
                            "<tr><td>City of Bones (The Mortal Instruments, #1) by Cassandra Clare in eng</td></tr>",
                            "<tr><td>Eclipse (Twilight, #3) by Stephenie Meyer in en-US</td></tr>",
                            "<tr><td>Eragon (The Inheritance Cycle, #1) by Christopher Paolini in en-US</td></tr>",
                            "<tr><td>The Hitchhiker's Guide to the Galaxy (Hitchhiker's Guide to the Galaxy, #1) by Douglas Adams in en-US</td></tr>",
                            "<tr><td>Brave New World by Aldous Huxley in eng</td></tr>",
                            "<tr><td>Breaking Dawn (Twilight, #4) by Stephenie Meyer in en-US</td></tr>",
                            "<tr><td>The Secret Life of Bees by Sue Monk Kidd in en-US</td></tr>",
                            "<tr><td>The Adventures of Huckleberry Finn by Mark Twain, John Seelye, Guy Cardwell in eng</td></tr>",
                            "<tr><td>Charlotte's Web by E.B. White, Garth Williams, Rosemary Wells in eng</td></tr>",
                            "<tr><td>The Curious Incident of the Dog in the Night-Time by Mark Haddon in eng</td></tr>",
                            "<tr><td>The Girl on the Train by Paula Hawkins in eng</td></tr>",
                            "<tr><td>The Golden Compass (His Dark Materials, #1) by Philip Pullman in eng</td></tr>",
                            "<tr><td>Fangirl by Rainbow Rowell in eng</td></tr>",
                            "<tr><td>Wuthering Heights by Emily Brontë, Richard J. Dunn in eng</td></tr>",
                            "<tr><td>My Sister's Keeper by Jodi Picoult in eng</td></tr>",
                            "<tr><td>Slaughterhouse-Five by Kurt Vonnegut Jr. in eng</td></tr>",
                            "<tr><td>Gone with the Wind by Margaret Mitchell in eng</td></tr>",
                            "<tr><td>A Thousand Splendid Suns by Khaled Hosseini in eng</td></tr>",
                            "<tr><td>The Perks of Being a Wallflower by Stephen Chbosky in eng</td></tr>",
                            "<tr><td>Insurgent (Divergent, #2) by Veronica Roth in eng</td></tr>",
                            "<tr><td>Ender's Game (Ender's Saga, #1) by Orson Scott Card in eng</td></tr>",
                            "<tr><td>Frankenstein by Mary Wollstonecraft Shelley, Percy Bysshe Shelley, Maurice Hindle in eng</td></tr>",
                            "<tr><td>The Shining (The Shining #1) by Stephen King in eng</td></tr>",
                            "<tr><td>The Host (The Host, #1) by Stephenie Meyer in en-US</td></tr>",
                            "<tr><td>Looking for Alaska by John Green in eng</td></tr>",
                            "<tr><td>Bridget Jones's Diary (Bridget Jones, #1) by Helen Fielding in eng</td></tr>",
                            "<tr><td>Sense and Sensibility by Jane Austen, Tony Tanner, Ros Ballaster in eng</td></tr>",
                            "<tr><td>Holes (Holes, #1) by Louis Sachar, Louis Sachar in eng</td></tr>",
                            "<tr><td>Filth by Irvine Welsh in eng</td></tr>",
                            "<tr><td>The Devil Wears Prada (The Devil Wears Prada, #1) by Lauren Weisberger in eng</td></tr>",
                            "<tr><td>The Odyssey by Homer, Robert Fagles, E.V. Rieu, Frédéric Mugler, Bernard Knox in eng</td></tr>",
                            "<tr><td>The Little Prince by Antoine de Saint-Exupéry, Richard Howard, Dom Marcos Barbosa, Melina Karakosta in eng</td></tr>",
                            "<tr><td>The Glass Castle by Jeannette Walls in eng</td></tr>",
                            "<tr><td>Into the Wild by Jon Krakauer in eng</td></tr>",
                            "<tr><td>A Tale of Two Cities by Charles Dickens, Richard Maxwell, Hablot Knight Browne in eng</td></tr>",
                            "<tr><td>Jurassic Park (Jurassic Park, #1) by Michael Crichton in spa</td></tr>",
                            "<tr><td>The Giving Tree by Shel Silverstein in eng</td></tr>",
                            "<tr><td>A Time to Kill by John Grisham in eng</td></tr>",
                            "<tr><td>Night (The Night Trilogy #1) by Elie Wiesel, Marion Wiesel in eng</td></tr>",
                            "<tr><td>Paper Towns by John Green in en-US</td></tr>",
                            "<tr><td>The Princess Bride  by William Goldman in en-US</td></tr>",
                            "<tr><td>The Outsiders by S.E. Hinton in en-US</td></tr>",
                            "<tr><td>The Maze Runner (Maze Runner, #1) by James Dashner in eng</td></tr>",
                            "<tr><td>Freakonomics: A Rogue Economist Explores the Hidden Side of Everything (Freakonomics, #1) by Steven D. Levitt, Stephen J. Dubner in en-US</td></tr>",
                            "<tr><td>The Secret Garden by Frances Hodgson Burnett in eng</td></tr>",
                            "<tr><td>One Hundred Years of Solitude by Gabriel García Márquez, Gregory Rabassa in eng</td></tr>",
                            "<tr><td>The Picture of Dorian Gray by Oscar Wilde, Jeffrey Eugenides in eng</td></tr>",
                            "<tr><td>Fifty Shades Freed (Fifty Shades, #3) by E.L. James in eng</td></tr>",
                            "<tr><td>Dracula by Bram Stoker, Nina Auerbach, David J. Skal in eng</td></tr>",
                            "<tr><td>The Girl Who Played with Fire (Millennium, #2) by Stieg Larsson, Reg Keeland in eng</td></tr>",
                            "</table>"
                        ]
                    }
                }
            ],
            "execution_count": 69
        },
        {
            "cell_type": "markdown",
            "source": [
                "9\\. Revisit question 7 using ISNULL instead of COALESCE.\n",
                "\n",
                "> A.  Has this changed the language\\_code  where the values are NULL? yes"
            ],
            "metadata": {
                "azdata_cell_guid": "57b87290-135f-478d-bf1c-2262759f8da5"
            },
            "attachments": {}
        },
        {
            "cell_type": "code",
            "source": [
                "-- Code here:\r\n",
                "SELECT  TOP 100 CONCAT_WS(' by ', title, authors) + ' in ' + ISNULL(language_code, 'Unknown')\r\n",
                "FROM BooksDB.dbo.books"
            ],
            "metadata": {
                "azdata_cell_guid": "a9670717-6dc6-4685-9f62-7a588753b4a9",
                "language": "sql"
            },
            "outputs": [
                {
                    "output_type": "display_data",
                    "data": {
                        "text/html": "(100 rows affected)"
                    },
                    "metadata": {}
                },
                {
                    "output_type": "display_data",
                    "data": {
                        "text/html": "Total execution time: 00:00:00.061"
                    },
                    "metadata": {}
                },
                {
                    "output_type": "execute_result",
                    "metadata": {},
                    "execution_count": 70,
                    "data": {
                        "application/vnd.dataresource+json": {
                            "schema": {
                                "fields": [
                                    {
                                        "name": "(No column name)"
                                    }
                                ]
                            },
                            "data": [
                                {
                                    "0": "The Hunger Games (The Hunger Games, #1) by Suzanne Collins in eng"
                                },
                                {
                                    "0": "Harry Potter and the Sorcerer's Stone (Harry Potter, #1) by J.K. Rowling, Mary GrandPré in eng"
                                },
                                {
                                    "0": "Twilight (Twilight, #1) by Stephenie Meyer in en-US"
                                },
                                {
                                    "0": "To Kill a Mockingbird by Harper Lee in eng"
                                },
                                {
                                    "0": "The Great Gatsby by F. Scott Fitzgerald in eng"
                                },
                                {
                                    "0": "The Fault in Our Stars by John Green in eng"
                                },
                                {
                                    "0": "The Hobbit by J.R.R. Tolkien in en-US"
                                },
                                {
                                    "0": "The Catcher in the Rye by J.D. Salinger in eng"
                                },
                                {
                                    "0": "Angels & Demons  (Robert Langdon, #1) by Dan Brown in en-CA"
                                },
                                {
                                    "0": "Pride and Prejudice by Jane Austen in eng"
                                },
                                {
                                    "0": "The Kite Runner by Khaled Hosseini in eng"
                                },
                                {
                                    "0": "Divergent (Divergent, #1) by Veronica Roth in eng"
                                },
                                {
                                    "0": "1984 by George Orwell, Erich Fromm, Celâl Üster in eng"
                                },
                                {
                                    "0": "Animal Farm by George Orwell in eng"
                                },
                                {
                                    "0": "The Diary of a Young Girl by Anne Frank, Eleanor Roosevelt, B.M. Mooyaart-Doubleday in eng"
                                },
                                {
                                    "0": "The Girl with the Dragon Tattoo (Millennium, #1) by Stieg Larsson, Reg Keeland in eng"
                                },
                                {
                                    "0": "Catching Fire (The Hunger Games, #2) by Suzanne Collins in eng"
                                },
                                {
                                    "0": "Harry Potter and the Prisoner of Azkaban (Harry Potter, #3) by J.K. Rowling, Mary GrandPré, Rufus Beck in eng"
                                },
                                {
                                    "0": "The Fellowship of the Ring (The Lord of the Rings, #1) by J.R.R. Tolkien in eng"
                                },
                                {
                                    "0": "Mockingjay (The Hunger Games, #3) by Suzanne Collins in eng"
                                },
                                {
                                    "0": "Harry Potter and the Order of the Phoenix (Harry Potter, #5) by J.K. Rowling, Mary GrandPré in eng"
                                },
                                {
                                    "0": "The Lovely Bones by Alice Sebold in eng"
                                },
                                {
                                    "0": "Harry Potter and the Chamber of Secrets (Harry Potter, #2) by J.K. Rowling, Mary GrandPré in eng"
                                },
                                {
                                    "0": "Harry Potter and the Goblet of Fire (Harry Potter, #4) by J.K. Rowling, Mary GrandPré in eng"
                                },
                                {
                                    "0": "Harry Potter and the Deathly Hallows (Harry Potter, #7) by J.K. Rowling, Mary GrandPré in eng"
                                },
                                {
                                    "0": "The Da Vinci Code (Robert Langdon, #2) by Dan Brown in eng"
                                },
                                {
                                    "0": "Harry Potter and the Half-Blood Prince (Harry Potter, #6) by J.K. Rowling, Mary GrandPré in eng"
                                },
                                {
                                    "0": "Lord of the Flies by William Golding in eng"
                                },
                                {
                                    "0": "Romeo and Juliet by William Shakespeare, Robert           Jackson in eng"
                                },
                                {
                                    "0": "Gone Girl by Gillian Flynn in eng"
                                },
                                {
                                    "0": "The Help by Kathryn Stockett in eng"
                                },
                                {
                                    "0": "Of Mice and Men by John Steinbeck in eng"
                                },
                                {
                                    "0": "Memoirs of a Geisha by Arthur Golden in eng"
                                },
                                {
                                    "0": "Fifty Shades of Grey (Fifty Shades, #1) by E.L. James in eng"
                                },
                                {
                                    "0": "The Alchemist by Paulo Coelho, Alan R. Clarke in eng"
                                },
                                {
                                    "0": "The Giver (The Giver, #1) by Lois Lowry in eng"
                                },
                                {
                                    "0": "The Lion, the Witch, and the Wardrobe (Chronicles of Narnia, #1) by C.S. Lewis in eng"
                                },
                                {
                                    "0": "The Time Traveler's Wife by Audrey Niffenegger in eng"
                                },
                                {
                                    "0": "A Game of Thrones (A Song of Ice and Fire, #1) by George R.R. Martin in eng"
                                },
                                {
                                    "0": "Eat, Pray, Love by Elizabeth Gilbert in eng"
                                },
                                {
                                    "0": "The Lightning Thief (Percy Jackson and the Olympians, #1) by Rick Riordan in eng"
                                },
                                {
                                    "0": "Little Women (Little Women, #1) by Louisa May Alcott in en-US"
                                },
                                {
                                    "0": "Jane Eyre by Charlotte Brontë, Michael Mason in eng"
                                },
                                {
                                    "0": "The Notebook (The Notebook, #1) by Nicholas Sparks in eng"
                                },
                                {
                                    "0": "Life of Pi by Yann Martel in Unknown"
                                },
                                {
                                    "0": "Water for Elephants by Sara Gruen in eng"
                                },
                                {
                                    "0": "The Book Thief by Markus Zusak in eng"
                                },
                                {
                                    "0": "Fahrenheit 451 by Ray Bradbury in spa"
                                },
                                {
                                    "0": "New Moon (Twilight, #2) by Stephenie Meyer in eng"
                                },
                                {
                                    "0": "Where the Sidewalk Ends by Shel Silverstein in eng"
                                },
                                {
                                    "0": "City of Bones (The Mortal Instruments, #1) by Cassandra Clare in eng"
                                },
                                {
                                    "0": "Eclipse (Twilight, #3) by Stephenie Meyer in en-US"
                                },
                                {
                                    "0": "Eragon (The Inheritance Cycle, #1) by Christopher Paolini in en-US"
                                },
                                {
                                    "0": "The Hitchhiker's Guide to the Galaxy (Hitchhiker's Guide to the Galaxy, #1) by Douglas Adams in en-US"
                                },
                                {
                                    "0": "Brave New World by Aldous Huxley in eng"
                                },
                                {
                                    "0": "Breaking Dawn (Twilight, #4) by Stephenie Meyer in en-US"
                                },
                                {
                                    "0": "The Secret Life of Bees by Sue Monk Kidd in en-US"
                                },
                                {
                                    "0": "The Adventures of Huckleberry Finn by Mark Twain, John Seelye, Guy Cardwell in eng"
                                },
                                {
                                    "0": "Charlotte's Web by E.B. White, Garth Williams, Rosemary Wells in eng"
                                },
                                {
                                    "0": "The Curious Incident of the Dog in the Night-Time by Mark Haddon in eng"
                                },
                                {
                                    "0": "The Girl on the Train by Paula Hawkins in eng"
                                },
                                {
                                    "0": "The Golden Compass (His Dark Materials, #1) by Philip Pullman in eng"
                                },
                                {
                                    "0": "Fangirl by Rainbow Rowell in eng"
                                },
                                {
                                    "0": "Wuthering Heights by Emily Brontë, Richard J. Dunn in eng"
                                },
                                {
                                    "0": "My Sister's Keeper by Jodi Picoult in eng"
                                },
                                {
                                    "0": "Slaughterhouse-Five by Kurt Vonnegut Jr. in eng"
                                },
                                {
                                    "0": "Gone with the Wind by Margaret Mitchell in eng"
                                },
                                {
                                    "0": "A Thousand Splendid Suns by Khaled Hosseini in eng"
                                },
                                {
                                    "0": "The Perks of Being a Wallflower by Stephen Chbosky in eng"
                                },
                                {
                                    "0": "Insurgent (Divergent, #2) by Veronica Roth in eng"
                                },
                                {
                                    "0": "Ender's Game (Ender's Saga, #1) by Orson Scott Card in eng"
                                },
                                {
                                    "0": "Frankenstein by Mary Wollstonecraft Shelley, Percy Bysshe Shelley, Maurice Hindle in eng"
                                },
                                {
                                    "0": "The Shining (The Shining #1) by Stephen King in eng"
                                },
                                {
                                    "0": "The Host (The Host, #1) by Stephenie Meyer in en-US"
                                },
                                {
                                    "0": "Looking for Alaska by John Green in eng"
                                },
                                {
                                    "0": "Bridget Jones's Diary (Bridget Jones, #1) by Helen Fielding in eng"
                                },
                                {
                                    "0": "Sense and Sensibility by Jane Austen, Tony Tanner, Ros Ballaster in eng"
                                },
                                {
                                    "0": "Holes (Holes, #1) by Louis Sachar, Louis Sachar in eng"
                                },
                                {
                                    "0": "Filth by Irvine Welsh in eng"
                                },
                                {
                                    "0": "The Devil Wears Prada (The Devil Wears Prada, #1) by Lauren Weisberger in eng"
                                },
                                {
                                    "0": "The Odyssey by Homer, Robert Fagles, E.V. Rieu, Frédéric Mugler, Bernard Knox in eng"
                                },
                                {
                                    "0": "The Little Prince by Antoine de Saint-Exupéry, Richard Howard, Dom Marcos Barbosa, Melina Karakosta in eng"
                                },
                                {
                                    "0": "The Glass Castle by Jeannette Walls in eng"
                                },
                                {
                                    "0": "Into the Wild by Jon Krakauer in eng"
                                },
                                {
                                    "0": "A Tale of Two Cities by Charles Dickens, Richard Maxwell, Hablot Knight Browne in eng"
                                },
                                {
                                    "0": "Jurassic Park (Jurassic Park, #1) by Michael Crichton in spa"
                                },
                                {
                                    "0": "The Giving Tree by Shel Silverstein in eng"
                                },
                                {
                                    "0": "A Time to Kill by John Grisham in eng"
                                },
                                {
                                    "0": "Night (The Night Trilogy #1) by Elie Wiesel, Marion Wiesel in eng"
                                },
                                {
                                    "0": "Paper Towns by John Green in en-US"
                                },
                                {
                                    "0": "The Princess Bride  by William Goldman in en-US"
                                },
                                {
                                    "0": "The Outsiders by S.E. Hinton in en-US"
                                },
                                {
                                    "0": "The Maze Runner (Maze Runner, #1) by James Dashner in eng"
                                },
                                {
                                    "0": "Freakonomics: A Rogue Economist Explores the Hidden Side of Everything (Freakonomics, #1) by Steven D. Levitt, Stephen J. Dubner in en-US"
                                },
                                {
                                    "0": "The Secret Garden by Frances Hodgson Burnett in eng"
                                },
                                {
                                    "0": "One Hundred Years of Solitude by Gabriel García Márquez, Gregory Rabassa in eng"
                                },
                                {
                                    "0": "The Picture of Dorian Gray by Oscar Wilde, Jeffrey Eugenides in eng"
                                },
                                {
                                    "0": "Fifty Shades Freed (Fifty Shades, #3) by E.L. James in eng"
                                },
                                {
                                    "0": "Dracula by Bram Stoker, Nina Auerbach, David J. Skal in eng"
                                },
                                {
                                    "0": "The Girl Who Played with Fire (Millennium, #2) by Stieg Larsson, Reg Keeland in eng"
                                }
                            ]
                        },
                        "text/html": [
                            "<table>",
                            "<tr><th>(No column name)</th></tr>",
                            "<tr><td>The Hunger Games (The Hunger Games, #1) by Suzanne Collins in eng</td></tr>",
                            "<tr><td>Harry Potter and the Sorcerer's Stone (Harry Potter, #1) by J.K. Rowling, Mary GrandPré in eng</td></tr>",
                            "<tr><td>Twilight (Twilight, #1) by Stephenie Meyer in en-US</td></tr>",
                            "<tr><td>To Kill a Mockingbird by Harper Lee in eng</td></tr>",
                            "<tr><td>The Great Gatsby by F. Scott Fitzgerald in eng</td></tr>",
                            "<tr><td>The Fault in Our Stars by John Green in eng</td></tr>",
                            "<tr><td>The Hobbit by J.R.R. Tolkien in en-US</td></tr>",
                            "<tr><td>The Catcher in the Rye by J.D. Salinger in eng</td></tr>",
                            "<tr><td>Angels &amp; Demons  (Robert Langdon, #1) by Dan Brown in en-CA</td></tr>",
                            "<tr><td>Pride and Prejudice by Jane Austen in eng</td></tr>",
                            "<tr><td>The Kite Runner by Khaled Hosseini in eng</td></tr>",
                            "<tr><td>Divergent (Divergent, #1) by Veronica Roth in eng</td></tr>",
                            "<tr><td>1984 by George Orwell, Erich Fromm, Celâl Üster in eng</td></tr>",
                            "<tr><td>Animal Farm by George Orwell in eng</td></tr>",
                            "<tr><td>The Diary of a Young Girl by Anne Frank, Eleanor Roosevelt, B.M. Mooyaart-Doubleday in eng</td></tr>",
                            "<tr><td>The Girl with the Dragon Tattoo (Millennium, #1) by Stieg Larsson, Reg Keeland in eng</td></tr>",
                            "<tr><td>Catching Fire (The Hunger Games, #2) by Suzanne Collins in eng</td></tr>",
                            "<tr><td>Harry Potter and the Prisoner of Azkaban (Harry Potter, #3) by J.K. Rowling, Mary GrandPré, Rufus Beck in eng</td></tr>",
                            "<tr><td>The Fellowship of the Ring (The Lord of the Rings, #1) by J.R.R. Tolkien in eng</td></tr>",
                            "<tr><td>Mockingjay (The Hunger Games, #3) by Suzanne Collins in eng</td></tr>",
                            "<tr><td>Harry Potter and the Order of the Phoenix (Harry Potter, #5) by J.K. Rowling, Mary GrandPré in eng</td></tr>",
                            "<tr><td>The Lovely Bones by Alice Sebold in eng</td></tr>",
                            "<tr><td>Harry Potter and the Chamber of Secrets (Harry Potter, #2) by J.K. Rowling, Mary GrandPré in eng</td></tr>",
                            "<tr><td>Harry Potter and the Goblet of Fire (Harry Potter, #4) by J.K. Rowling, Mary GrandPré in eng</td></tr>",
                            "<tr><td>Harry Potter and the Deathly Hallows (Harry Potter, #7) by J.K. Rowling, Mary GrandPré in eng</td></tr>",
                            "<tr><td>The Da Vinci Code (Robert Langdon, #2) by Dan Brown in eng</td></tr>",
                            "<tr><td>Harry Potter and the Half-Blood Prince (Harry Potter, #6) by J.K. Rowling, Mary GrandPré in eng</td></tr>",
                            "<tr><td>Lord of the Flies by William Golding in eng</td></tr>",
                            "<tr><td>Romeo and Juliet by William Shakespeare, Robert           Jackson in eng</td></tr>",
                            "<tr><td>Gone Girl by Gillian Flynn in eng</td></tr>",
                            "<tr><td>The Help by Kathryn Stockett in eng</td></tr>",
                            "<tr><td>Of Mice and Men by John Steinbeck in eng</td></tr>",
                            "<tr><td>Memoirs of a Geisha by Arthur Golden in eng</td></tr>",
                            "<tr><td>Fifty Shades of Grey (Fifty Shades, #1) by E.L. James in eng</td></tr>",
                            "<tr><td>The Alchemist by Paulo Coelho, Alan R. Clarke in eng</td></tr>",
                            "<tr><td>The Giver (The Giver, #1) by Lois Lowry in eng</td></tr>",
                            "<tr><td>The Lion, the Witch, and the Wardrobe (Chronicles of Narnia, #1) by C.S. Lewis in eng</td></tr>",
                            "<tr><td>The Time Traveler's Wife by Audrey Niffenegger in eng</td></tr>",
                            "<tr><td>A Game of Thrones (A Song of Ice and Fire, #1) by George R.R. Martin in eng</td></tr>",
                            "<tr><td>Eat, Pray, Love by Elizabeth Gilbert in eng</td></tr>",
                            "<tr><td>The Lightning Thief (Percy Jackson and the Olympians, #1) by Rick Riordan in eng</td></tr>",
                            "<tr><td>Little Women (Little Women, #1) by Louisa May Alcott in en-US</td></tr>",
                            "<tr><td>Jane Eyre by Charlotte Brontë, Michael Mason in eng</td></tr>",
                            "<tr><td>The Notebook (The Notebook, #1) by Nicholas Sparks in eng</td></tr>",
                            "<tr><td>Life of Pi by Yann Martel in Unknown</td></tr>",
                            "<tr><td>Water for Elephants by Sara Gruen in eng</td></tr>",
                            "<tr><td>The Book Thief by Markus Zusak in eng</td></tr>",
                            "<tr><td>Fahrenheit 451 by Ray Bradbury in spa</td></tr>",
                            "<tr><td>New Moon (Twilight, #2) by Stephenie Meyer in eng</td></tr>",
                            "<tr><td>Where the Sidewalk Ends by Shel Silverstein in eng</td></tr>",
                            "<tr><td>City of Bones (The Mortal Instruments, #1) by Cassandra Clare in eng</td></tr>",
                            "<tr><td>Eclipse (Twilight, #3) by Stephenie Meyer in en-US</td></tr>",
                            "<tr><td>Eragon (The Inheritance Cycle, #1) by Christopher Paolini in en-US</td></tr>",
                            "<tr><td>The Hitchhiker's Guide to the Galaxy (Hitchhiker's Guide to the Galaxy, #1) by Douglas Adams in en-US</td></tr>",
                            "<tr><td>Brave New World by Aldous Huxley in eng</td></tr>",
                            "<tr><td>Breaking Dawn (Twilight, #4) by Stephenie Meyer in en-US</td></tr>",
                            "<tr><td>The Secret Life of Bees by Sue Monk Kidd in en-US</td></tr>",
                            "<tr><td>The Adventures of Huckleberry Finn by Mark Twain, John Seelye, Guy Cardwell in eng</td></tr>",
                            "<tr><td>Charlotte's Web by E.B. White, Garth Williams, Rosemary Wells in eng</td></tr>",
                            "<tr><td>The Curious Incident of the Dog in the Night-Time by Mark Haddon in eng</td></tr>",
                            "<tr><td>The Girl on the Train by Paula Hawkins in eng</td></tr>",
                            "<tr><td>The Golden Compass (His Dark Materials, #1) by Philip Pullman in eng</td></tr>",
                            "<tr><td>Fangirl by Rainbow Rowell in eng</td></tr>",
                            "<tr><td>Wuthering Heights by Emily Brontë, Richard J. Dunn in eng</td></tr>",
                            "<tr><td>My Sister's Keeper by Jodi Picoult in eng</td></tr>",
                            "<tr><td>Slaughterhouse-Five by Kurt Vonnegut Jr. in eng</td></tr>",
                            "<tr><td>Gone with the Wind by Margaret Mitchell in eng</td></tr>",
                            "<tr><td>A Thousand Splendid Suns by Khaled Hosseini in eng</td></tr>",
                            "<tr><td>The Perks of Being a Wallflower by Stephen Chbosky in eng</td></tr>",
                            "<tr><td>Insurgent (Divergent, #2) by Veronica Roth in eng</td></tr>",
                            "<tr><td>Ender's Game (Ender's Saga, #1) by Orson Scott Card in eng</td></tr>",
                            "<tr><td>Frankenstein by Mary Wollstonecraft Shelley, Percy Bysshe Shelley, Maurice Hindle in eng</td></tr>",
                            "<tr><td>The Shining (The Shining #1) by Stephen King in eng</td></tr>",
                            "<tr><td>The Host (The Host, #1) by Stephenie Meyer in en-US</td></tr>",
                            "<tr><td>Looking for Alaska by John Green in eng</td></tr>",
                            "<tr><td>Bridget Jones's Diary (Bridget Jones, #1) by Helen Fielding in eng</td></tr>",
                            "<tr><td>Sense and Sensibility by Jane Austen, Tony Tanner, Ros Ballaster in eng</td></tr>",
                            "<tr><td>Holes (Holes, #1) by Louis Sachar, Louis Sachar in eng</td></tr>",
                            "<tr><td>Filth by Irvine Welsh in eng</td></tr>",
                            "<tr><td>The Devil Wears Prada (The Devil Wears Prada, #1) by Lauren Weisberger in eng</td></tr>",
                            "<tr><td>The Odyssey by Homer, Robert Fagles, E.V. Rieu, Frédéric Mugler, Bernard Knox in eng</td></tr>",
                            "<tr><td>The Little Prince by Antoine de Saint-Exupéry, Richard Howard, Dom Marcos Barbosa, Melina Karakosta in eng</td></tr>",
                            "<tr><td>The Glass Castle by Jeannette Walls in eng</td></tr>",
                            "<tr><td>Into the Wild by Jon Krakauer in eng</td></tr>",
                            "<tr><td>A Tale of Two Cities by Charles Dickens, Richard Maxwell, Hablot Knight Browne in eng</td></tr>",
                            "<tr><td>Jurassic Park (Jurassic Park, #1) by Michael Crichton in spa</td></tr>",
                            "<tr><td>The Giving Tree by Shel Silverstein in eng</td></tr>",
                            "<tr><td>A Time to Kill by John Grisham in eng</td></tr>",
                            "<tr><td>Night (The Night Trilogy #1) by Elie Wiesel, Marion Wiesel in eng</td></tr>",
                            "<tr><td>Paper Towns by John Green in en-US</td></tr>",
                            "<tr><td>The Princess Bride  by William Goldman in en-US</td></tr>",
                            "<tr><td>The Outsiders by S.E. Hinton in en-US</td></tr>",
                            "<tr><td>The Maze Runner (Maze Runner, #1) by James Dashner in eng</td></tr>",
                            "<tr><td>Freakonomics: A Rogue Economist Explores the Hidden Side of Everything (Freakonomics, #1) by Steven D. Levitt, Stephen J. Dubner in en-US</td></tr>",
                            "<tr><td>The Secret Garden by Frances Hodgson Burnett in eng</td></tr>",
                            "<tr><td>One Hundred Years of Solitude by Gabriel García Márquez, Gregory Rabassa in eng</td></tr>",
                            "<tr><td>The Picture of Dorian Gray by Oscar Wilde, Jeffrey Eugenides in eng</td></tr>",
                            "<tr><td>Fifty Shades Freed (Fifty Shades, #3) by E.L. James in eng</td></tr>",
                            "<tr><td>Dracula by Bram Stoker, Nina Auerbach, David J. Skal in eng</td></tr>",
                            "<tr><td>The Girl Who Played with Fire (Millennium, #2) by Stieg Larsson, Reg Keeland in eng</td></tr>",
                            "</table>"
                        ]
                    }
                }
            ],
            "execution_count": 70
        }
    ]
}